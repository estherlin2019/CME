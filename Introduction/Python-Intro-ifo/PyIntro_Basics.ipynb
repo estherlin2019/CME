{
 "cells": [
  {
   "cell_type": "markdown",
   "metadata": {},
   "source": [
    "# Introduction to Python - Basics"
   ]
  },
  {
   "cell_type": "code",
   "execution_count": 1,
   "metadata": {},
   "outputs": [
    {
     "name": "stdout",
     "output_type": "stream",
     "text": [
      "Last update: 2019-08-04 17:17:11.355682\n"
     ]
    }
   ],
   "source": [
    "# Author: Alex Schmitt (schmitt@ifo.de)\n",
    "\n",
    "import datetime\n",
    "print('Last update: ' + str(datetime.datetime.today()))"
   ]
  },
  {
   "cell_type": "markdown",
   "metadata": {},
   "source": [
    "## Documentation"
   ]
  },
  {
   "cell_type": "markdown",
   "metadata": {},
   "source": [
    "Documentation for the Python 3 standard library can be found here (to execute a code cell in Jupyter, press *Shift + Enter* or click the *Play* button in the toolbar above):"
   ]
  },
  {
   "cell_type": "code",
   "execution_count": 2,
   "metadata": {},
   "outputs": [
    {
     "data": {
      "text/plain": [
       "True"
      ]
     },
     "execution_count": 2,
     "metadata": {},
     "output_type": "execute_result"
    }
   ],
   "source": [
    "import webbrowser\n",
    "url = 'https://docs.python.org/3/library/'\n",
    "webbrowser.open(url)"
   ]
  },
  {
   "cell_type": "markdown",
   "metadata": {},
   "source": [
    "Documentation for external packages such as Numpy or Matplotlib is separate, but can be found easily by googling the name of the package. In general, most (if not all) problems you may run into when programming in Python have already been encountered by someone else, so Google should be the first place to go when you are stuck somewhere. \n",
    "\n",
    "In case you want to apply and practice your Python skills in other areas, MOOC (*massive open online courses*) sites like Coursera or Udacity have great free-of-charge courses on Python, both for beginners and more advanced programmers. "
   ]
  },
  {
   "cell_type": "markdown",
   "metadata": {},
   "source": [
    "## Jupyter Notebook\n",
    "This environment is a *Jupyter notebook*. It basically provides a *browser-based* interface to Python, allowing you to run all your Python code and get the output from your code in a browser window. What's more, you can add text cells like this one, and even include mathematical formulas (as you will see below), based on the Latex syntax. In addition, you can also incoporate images. This not only makes a notebook a great tool for *writing and documenting code*, it is also great for teaching. That's why we will make heavy use of Jupyter notebooks in this course.  \n",
    "\n",
    "Moreover, note that you don't even have to have Python and Jupyter installed on your computer to read the notebooks that I have created for this course. Jupyter notebooks that are stored on Github can be viewed through the website nbviewer.jupyter.org. Run the following piece of code to see what notebooks are available for this course (if it does not work, make sure to run the code above that imports the webbrowser module):"
   ]
  },
  {
   "cell_type": "code",
   "execution_count": 3,
   "metadata": {},
   "outputs": [
    {
     "data": {
      "text/plain": [
       "True"
      ]
     },
     "execution_count": 3,
     "metadata": {},
     "output_type": "execute_result"
    }
   ],
   "source": [
    "url = 'http://nbviewer.jupyter.org/github/Moony2D/Python-Intro-Ifo'\n",
    "webbrowser.open(url)"
   ]
  },
  {
   "cell_type": "markdown",
   "metadata": {},
   "source": [
    "To start a Jupyter notebook, open up a terminal and type \"jupyter notebook\". This should open up a new window on your default browser (recommended: Chrome or Firefox). You should see the Jupyter dashboard, which contains a list of all files in your current directory. If there is a Jupyter notebook in your directory (with suffix .ipynb), you can open it by clicking on it. Otherwise, you can open an empty notebook by clicking on *New* at top right and select Python 3.\n",
    "\n",
    "As you may have already realized, a Jupyter notebook has two types of cells. A cell can be made into a *text cell* like this one by choosing \"Markdown\" in the drop-down menu above in the toolbar (*Markdown* is a type of text format). A new cell is by a default a *code cell*. In contrast to a text cell, it has some blue writing (\"In [ ]:\") to the left of it. Once you run it, a number appears in the bracket. You can run any cell by either clicking the *Play* button in the toolbar above or by pressing *Shift + Enter*. Running a cell processes its output: for a text cell, it just formats the text. For a code cell, it executes the code and prints the output below. Jupyter then either creates a new code cell below or (if already there) jumps to the next cell.     "
   ]
  },
  {
   "cell_type": "markdown",
   "metadata": {},
   "source": [
    "## \"Vanilla Python\"\n",
    "\n",
    "The core package (or \"Vanilla Python\") contains the Python Standard Library, a collection of many basic *built-in* modules and functions. In other words, it comprises all the functionalities in Python that you can use without installing any external packages (more on that in the next lecture).\n",
    "\n",
    "Functions in Python are used by calling their name and their argument(s) in parenthesis. A frequently used function from the Standard Library is **print()**. As the name indicates, it displays output on screen, in Jupyter below a code cell: "
   ]
  },
  {
   "cell_type": "code",
   "execution_count": 4,
   "metadata": {},
   "outputs": [
    {
     "name": "stdout",
     "output_type": "stream",
     "text": [
      "Hello ifo\n"
     ]
    }
   ],
   "source": [
    "print(\"Hello ifo\")"
   ]
  },
  {
   "cell_type": "code",
   "execution_count": 5,
   "metadata": {},
   "outputs": [
    {
     "name": "stdout",
     "output_type": "stream",
     "text": [
      "4\n"
     ]
    }
   ],
   "source": [
    "print(2 + 2)"
   ]
  },
  {
   "cell_type": "markdown",
   "metadata": {},
   "source": [
    "Note that Jupyter also displays output from the last line in a code cell. Compare the following examples:"
   ]
  },
  {
   "cell_type": "code",
   "execution_count": 6,
   "metadata": {},
   "outputs": [
    {
     "name": "stdout",
     "output_type": "stream",
     "text": [
      "Hello Westeros\n"
     ]
    },
    {
     "data": {
      "text/plain": [
       "'Westeros'"
      ]
     },
     "execution_count": 6,
     "metadata": {},
     "output_type": "execute_result"
    }
   ],
   "source": [
    "\"Hello\"\n",
    "print(\"Hello Westeros\")\n",
    "\"Westeros\""
   ]
  },
  {
   "cell_type": "code",
   "execution_count": 7,
   "metadata": {},
   "outputs": [
    {
     "name": "stdout",
     "output_type": "stream",
     "text": [
      "4\n"
     ]
    },
    {
     "data": {
      "text/plain": [
       "6"
      ]
     },
     "execution_count": 7,
     "metadata": {},
     "output_type": "execute_result"
    }
   ],
   "source": [
    "1 + 1\n",
    "print(2 + 2)\n",
    "3 + 3"
   ]
  },
  {
   "cell_type": "markdown",
   "metadata": {},
   "source": [
    "As a general rule, use **print** whenever you wanna see some output shown on screen. "
   ]
  },
  {
   "cell_type": "markdown",
   "metadata": {},
   "source": [
    "## Assigning a name to an object\n",
    "\n",
    "Since we don't just want to use Python as a glorified calculator that prints calculations to the screen, we typically work with *variables* when using programming languages. A variable in Python is essentially a *name* or a *label* that refers to an *object*. An object in Python is a collection of data stored in computer memory that consists of\n",
    "- a type\n",
    "- some content (*value*)\n",
    "- a unique identity\n",
    "- (zero or more methods)\n",
    "\n",
    "To be more concrete, let's look at an example:"
   ]
  },
  {
   "cell_type": "code",
   "execution_count": 8,
   "metadata": {
    "collapsed": true
   },
   "outputs": [],
   "source": [
    "S = \"Hello ifo\""
   ]
  },
  {
   "cell_type": "markdown",
   "metadata": {},
   "source": [
    "In this statement, we assign the name **S** to the object **\"Hello ifo\"**. This object is a *string* -- a sequence of letters --, which is its type. The content of the object is a sequence of nine characters (note that spaces also count as characters). Its identity is just an internal index that Python uses to access the object in computer memory. It can be checked using the **id** function: "
   ]
  },
  {
   "cell_type": "code",
   "execution_count": 9,
   "metadata": {},
   "outputs": [
    {
     "name": "stdout",
     "output_type": "stream",
     "text": [
      "4485542512\n"
     ]
    }
   ],
   "source": [
    "print(id(S))"
   ]
  },
  {
   "cell_type": "markdown",
   "metadata": {},
   "source": [
    "Consider another example. Below I assign the name **A** to the *integer* 2. Whenever I call **A** later on, it will refer to this object."
   ]
  },
  {
   "cell_type": "code",
   "execution_count": 10,
   "metadata": {},
   "outputs": [
    {
     "name": "stdout",
     "output_type": "stream",
     "text": [
      "2\n",
      "4439116352\n"
     ]
    }
   ],
   "source": [
    "A = 2\n",
    "print(A)\n",
    "print(id(A))"
   ]
  },
  {
   "cell_type": "markdown",
   "metadata": {},
   "source": [
    "Note that you can also use assignment statements that update the value assigned to a variable. In other words, the variable is used on the right hand side of the statement:"
   ]
  },
  {
   "cell_type": "code",
   "execution_count": 11,
   "metadata": {},
   "outputs": [
    {
     "name": "stdout",
     "output_type": "stream",
     "text": [
      "3\n",
      "4439116384\n"
     ]
    }
   ],
   "source": [
    "A = 2\n",
    "A = A + 1\n",
    "## equivalent: A += 1\n",
    "print(A)\n",
    "print(id(A))"
   ]
  },
  {
   "cell_type": "markdown",
   "metadata": {},
   "source": [
    "A side note about choosing variable names: as you will see throughout this lecture, there are a number of so-called \"keywords\" in Python that are reserved for some in-built functionality. **print** and **id** are examples. These should be avoided to use for variables. Conveniently, Jupyter prints keywords in green in code cells, indicating their special status."
   ]
  },
  {
   "cell_type": "markdown",
   "metadata": {},
   "source": [
    "#### Objects and Identity\n",
    "\n",
    "Internally, Python uses some type of registry, where it keeps track of the names we have defined and the objects they point to. Note that more than one name can point to the same object. In the following, I assign the name **B** to the object that is already referred to by the name **A** (\"aliasing\"). Hence, calling **B** prints out the same value; moreover, we can use the **id** function to verify that they really refer to the same object:"
   ]
  },
  {
   "cell_type": "code",
   "execution_count": 12,
   "metadata": {},
   "outputs": [
    {
     "name": "stdout",
     "output_type": "stream",
     "text": [
      "3\n",
      "4439116384\n",
      "4439116384\n"
     ]
    }
   ],
   "source": [
    "B = A\n",
    "print(B)\n",
    "print(id(A))\n",
    "print(id(B))"
   ]
  },
  {
   "cell_type": "markdown",
   "metadata": {},
   "source": [
    "It is straightforward to reassign a name to another object, as seen below. **A** now refers to a different object -- the integer 3 -- while **B** still points to the same object - the integer 2 - as before:"
   ]
  },
  {
   "cell_type": "code",
   "execution_count": 13,
   "metadata": {},
   "outputs": [
    {
     "name": "stdout",
     "output_type": "stream",
     "text": [
      "3\n",
      "3\n",
      "4439116384\n",
      "4439116384\n"
     ]
    }
   ],
   "source": [
    "A = 3\n",
    "print(A)\n",
    "print(B)\n",
    "print(id(A))\n",
    "print(id(B))"
   ]
  },
  {
   "cell_type": "markdown",
   "metadata": {},
   "source": [
    "Finally, note that you can assign names not only to integers and strings, but to various types of objects. The next section will go through the most important ones."
   ]
  },
  {
   "cell_type": "markdown",
   "metadata": {},
   "source": [
    "## Object Types\n",
    "\n",
    "The most important data types in Vanilla Python are:\n",
    "- integers ('int') and floating point numbers/floats ('float') for numbers\n",
    "- strings ('str') for text\n",
    "- booleans, which can have two values, **True** or **False**\n",
    "- arrays or containers or sequences, such as lists, sets, and dictionaries\n",
    "In addition, external packages (such as Pandas and Numpy which we will use later on) often use their own object types.\n",
    "\n",
    "To check the type of an object, you can use the **type()** function: "
   ]
  },
  {
   "cell_type": "code",
   "execution_count": 3,
   "metadata": {},
   "outputs": [
    {
     "name": "stdout",
     "output_type": "stream",
     "text": [
      "<class 'int'>\n"
     ]
    }
   ],
   "source": [
    "a = 2\n",
    "print(type(a))"
   ]
  },
  {
   "cell_type": "markdown",
   "metadata": {},
   "source": [
    "The type of an object matters for what operations can be used with that type. If you try to use an operation on a type for which it is not defined, Python will return an error message. For example, you can use the standard arithmetic operations (+, -, *, /) on integers and floats. Trying to use division on strings, however, will not work. Moreover, some operations do different things for different types. Adding two numbers returns the sum, while adding two strings concatenates them. "
   ]
  },
  {
   "cell_type": "markdown",
   "metadata": {},
   "source": [
    "### Integers and Floats"
   ]
  },
  {
   "cell_type": "code",
   "execution_count": 4,
   "metadata": {
    "scrolled": true
   },
   "outputs": [
    {
     "name": "stdout",
     "output_type": "stream",
     "text": [
      "<class 'int'>\n",
      "<class 'float'>\n"
     ]
    }
   ],
   "source": [
    "a = 2\n",
    "b = 1.5\n",
    "print(type(a))\n",
    "print(type(b))"
   ]
  },
  {
   "cell_type": "markdown",
   "metadata": {},
   "source": [
    "You can use the standard arithmetic operations on integers and floats and assign a new name to the result:"
   ]
  },
  {
   "cell_type": "code",
   "execution_count": 5,
   "metadata": {},
   "outputs": [
    {
     "name": "stdout",
     "output_type": "stream",
     "text": [
      "3.5\n",
      "3.0\n",
      "1.3333333333333333\n",
      "2.25\n"
     ]
    }
   ],
   "source": [
    "c = a + b\n",
    "print(c)\n",
    "print(a * b)\n",
    "print(a / b)\n",
    "# to take b to the power of a, use '**\"\n",
    "print(b**a)"
   ]
  },
  {
   "cell_type": "markdown",
   "metadata": {},
   "source": [
    "Note: if you use Python 2.7 (rather than Python 3.5), division of two *integers* returns only the integer part! "
   ]
  },
  {
   "cell_type": "code",
   "execution_count": 6,
   "metadata": {},
   "outputs": [
    {
     "name": "stdout",
     "output_type": "stream",
     "text": [
      "1.5\n"
     ]
    }
   ],
   "source": [
    "## in Python 2.7, the following would return 1 instead of 1.5\n",
    "print(3 / 2)"
   ]
  },
  {
   "cell_type": "markdown",
   "metadata": {},
   "source": [
    "### Strings\n",
    "\n",
    "A *string* is a sequence of characters. To distinguish strings from assigned object names, they must be set in quotation marks, either single or double:"
   ]
  },
  {
   "cell_type": "code",
   "execution_count": 7,
   "metadata": {},
   "outputs": [
    {
     "name": "stdout",
     "output_type": "stream",
     "text": [
      "<class 'str'>\n"
     ]
    }
   ],
   "source": [
    "# strings\n",
    "c = \"T\"\n",
    "d = 'yrion'\n",
    "print(type(c))"
   ]
  },
  {
   "cell_type": "markdown",
   "metadata": {},
   "source": [
    "Using '+' on two strings concatenates them to a new string. Multiplying a string with an integer **n** copies the string n times:"
   ]
  },
  {
   "cell_type": "code",
   "execution_count": 9,
   "metadata": {},
   "outputs": [
    {
     "name": "stdout",
     "output_type": "stream",
     "text": [
      "Tyrion\n",
      "<class 'str'>\n",
      "TTT\n",
      "<class 'str'>\n"
     ]
    }
   ],
   "source": [
    "print(c + d)\n",
    "print(type(c + d))\n",
    "\n",
    "print(c * 3) \n",
    "# 3 * c 和 c * 3 是一样的\n",
    "print(type(3 * c))"
   ]
  },
  {
   "cell_type": "markdown",
   "metadata": {},
   "source": [
    "Multiplication, subtraction and division on two strings (or a number and a string for the latter two) throws an error:"
   ]
  },
  {
   "cell_type": "code",
   "execution_count": 10,
   "metadata": {},
   "outputs": [],
   "source": [
    "# print(c / d)"
   ]
  },
  {
   "cell_type": "markdown",
   "metadata": {},
   "source": [
    "Distinguish between an integer (or float) and the corresponding string. You can use the in-built *type conversion* functions **int()** and **float()** to convert a numerical string to an integer or float, respectively, and the function **str()** to convert a number to a string:"
   ]
  },
  {
   "cell_type": "code",
   "execution_count": 11,
   "metadata": {},
   "outputs": [
    {
     "name": "stdout",
     "output_type": "stream",
     "text": [
      "<class 'int'>\n",
      "<class 'str'>\n",
      "<class 'int'>\n",
      "<class 'float'>\n",
      "<class 'str'>\n"
     ]
    }
   ],
   "source": [
    "## integer\n",
    "print(type(3))\n",
    "## string\n",
    "print(type('3'))\n",
    "\n",
    "## convert string to int\n",
    "print( type( int('3') ) )\n",
    "## convert string to float\n",
    "print( type( float('3') ) )\n",
    "## convert int to string\n",
    "print( type( str(3) ) )"
   ]
  },
  {
   "cell_type": "markdown",
   "metadata": {},
   "source": [
    "These functions are particularly useful in connection with **input()**. This function prompts the user to enter some input (in Jupyter notebook below the code cell), which is *stored as a string* and can be converted to a number using **int()** or **float()**. This can be used to write more interactive programs: "
   ]
  },
  {
   "cell_type": "code",
   "execution_count": 12,
   "metadata": {},
   "outputs": [
    {
     "name": "stdout",
     "output_type": "stream",
     "text": [
      "Enter a number:2\n",
      "Its square root is 4\n"
     ]
    }
   ],
   "source": [
    "x = input(\"Enter a number:\")\n",
    "print('Its square root is', int(x)**2)"
   ]
  },
  {
   "cell_type": "markdown",
   "metadata": {},
   "source": [
    "### Booleans\n",
    "\n",
    "A boolean can have one of two values, **True** or **False**. They are not strings! "
   ]
  },
  {
   "cell_type": "code",
   "execution_count": 23,
   "metadata": {},
   "outputs": [
    {
     "name": "stdout",
     "output_type": "stream",
     "text": [
      "<class 'bool'>\n"
     ]
    }
   ],
   "source": [
    "x = True\n",
    "print( type(x) )"
   ]
  },
  {
   "cell_type": "markdown",
   "metadata": {},
   "source": [
    "Usually, booleans are defined using a *comparison* operator: **==** (equal), **!=** (not equal), **>**, **<**, **>=**, **<=**. You can also compare more than two objects."
   ]
  },
  {
   "cell_type": "code",
   "execution_count": 24,
   "metadata": {},
   "outputs": [
    {
     "name": "stdout",
     "output_type": "stream",
     "text": [
      "True\n",
      "False\n",
      "False\n",
      "<class 'bool'>\n",
      "True\n",
      "True\n"
     ]
    }
   ],
   "source": [
    "## evaluate boolean directly\n",
    "print(4 > 3)\n",
    "print(4 > 5)\n",
    "\n",
    "## assign boolean to name\n",
    "e = (4 == 5)\n",
    "f = (6 >= 5)\n",
    "print(e)\n",
    "print(type(e))\n",
    "print(f)\n",
    "\n",
    "## chain inequalities \n",
    "print(1 < 2 < 3)"
   ]
  },
  {
   "cell_type": "markdown",
   "metadata": {},
   "source": [
    "The comparison operators **is** and **is not** compare the identity of two objects. **x is y** is essentially a shorter way to write **id(x) == id(y)**. "
   ]
  },
  {
   "cell_type": "code",
   "execution_count": 25,
   "metadata": {},
   "outputs": [
    {
     "name": "stdout",
     "output_type": "stream",
     "text": [
      "4459129784\n",
      "4459130024\n",
      "True\n",
      "False\n"
     ]
    }
   ],
   "source": [
    "x = 2.0\n",
    "print(id(x))\n",
    "y = 2.0\n",
    "print(id(y))\n",
    "\n",
    "print(x == y)\n",
    "print(x is y)"
   ]
  },
  {
   "cell_type": "markdown",
   "metadata": {},
   "source": [
    "What is the difference between **x == y** and **x is y**? In the example above, the variables **x** and **y** are *equivalent* (**x == y** evaluates to **True**), meaning that they have the same *content*. However, they are not identical (**x is y** evaluates to **False**), since they refer to distinct objects in memory. \n",
    "\n",
    "As an aside: in most cases, equivalent variables are not identical (as above). An exception are integers in the range from -5 to 256:"
   ]
  },
  {
   "cell_type": "code",
   "execution_count": 26,
   "metadata": {},
   "outputs": [
    {
     "name": "stdout",
     "output_type": "stream",
     "text": [
      "True\n",
      "True\n",
      "True\n",
      "False\n"
     ]
    }
   ],
   "source": [
    "## ints are identical for a certain range of numbers\n",
    "x = 256\n",
    "y = 256\n",
    "print(x == y)\n",
    "print(x is y)\n",
    "\n",
    "x = 257\n",
    "y = 257\n",
    "print(x == y)\n",
    "print(x is y)"
   ]
  },
  {
   "cell_type": "markdown",
   "metadata": {},
   "source": [
    "Note that you can use arithmetic operations on two booleans, in which case **True** is treated as 1 and **False** as 0."
   ]
  },
  {
   "cell_type": "code",
   "execution_count": 27,
   "metadata": {},
   "outputs": [
    {
     "name": "stdout",
     "output_type": "stream",
     "text": [
      "1\n",
      "0\n",
      "<class 'int'>\n"
     ]
    }
   ],
   "source": [
    "# using arithmetic operations on two booleans treats True as 1 and False as 0\n",
    "print(e + f)\n",
    "g = e * f\n",
    "print(g)\n",
    "print(type(g))"
   ]
  },
  {
   "cell_type": "markdown",
   "metadata": {},
   "source": [
    "You can combine comparisons or booleans by using *logical operators* **and** and **or**. Expressions linked by **and** will only be evaluated as **True** if *all* operands are true. Note that Python does a so-called \"lazy evaluation\" (\"short-circuit evaluation\"): if the first operand is **False**, the expression is evaluated **False** and the second operand is not evaluated. "
   ]
  },
  {
   "cell_type": "code",
   "execution_count": 28,
   "metadata": {},
   "outputs": [
    {
     "name": "stdout",
     "output_type": "stream",
     "text": [
      "False\n",
      "True\n",
      "False\n"
     ]
    }
   ],
   "source": [
    "print(4 == 5 and 5 < 6)  # False, since first expression is False\n",
    "\n",
    "A = True  # boolean       \n",
    "print(A and 5 < 6)    # True, since both expressions are True   \n",
    "\n",
    "## example for lazy evaluation\n",
    "x = -1\n",
    "y = 0\n",
    "print(x > 0 and (x/y) > 1) # no error, since second expression is not evaluated!\n"
   ]
  },
  {
   "cell_type": "markdown",
   "metadata": {},
   "source": [
    "Expressions linked by **or** will be evaluated as **True** if at least one comparison is **True**:"
   ]
  },
  {
   "cell_type": "code",
   "execution_count": 29,
   "metadata": {},
   "outputs": [
    {
     "name": "stdout",
     "output_type": "stream",
     "text": [
      "True\n",
      "True\n"
     ]
    }
   ],
   "source": [
    "print(4 == 5 or 5 < 6)   # True, since second expression is True\n",
    "\n",
    "B = False\n",
    "print(A or B)         # True, since A is True   "
   ]
  },
  {
   "cell_type": "markdown",
   "metadata": {},
   "source": [
    "Finally, the logical operator **not** negates a boolean expression:"
   ]
  },
  {
   "cell_type": "code",
   "execution_count": 30,
   "metadata": {},
   "outputs": [
    {
     "name": "stdout",
     "output_type": "stream",
     "text": [
      "False\n",
      "True\n"
     ]
    }
   ],
   "source": [
    "print(not 5 > 4)\n",
    "print(not B)"
   ]
  },
  {
   "cell_type": "markdown",
   "metadata": {},
   "source": [
    "### Lists\n",
    "Vanilla Python has different types of arrays or \"containers\". The most important are probably lists, sets and dictionaries (we will get to the latter two in the next lecture). Lists are defined similar to row vectors in Matlab. However, note that they behave differently. In particular, vectorized operations (e.g. elementwise summation) does not work with lists (we will see a different type of array which you can use for vectorized operations later on). \n",
    "\n",
    "Lists are sequences of objects, referred to as *elements*. They are characterized by *square brackets* - parentheses and curly brackets are reserved for other types of arrays. Note that the elements in a list do not have to have the same type."
   ]
  },
  {
   "cell_type": "code",
   "execution_count": 31,
   "metadata": {},
   "outputs": [
    {
     "name": "stdout",
     "output_type": "stream",
     "text": [
      "[1, 2, 3, 4, 5]\n",
      "<class 'list'>\n",
      "[6, 'Seven', [8, 9]]\n"
     ]
    }
   ],
   "source": [
    "a = [1,2,3,4,5]\n",
    "print(a)\n",
    "print(type(a))\n",
    "\n",
    "b = [6, 'Seven', [8, 9]]\n",
    "print(b)"
   ]
  },
  {
   "cell_type": "markdown",
   "metadata": {},
   "source": [
    "\"Summing up\" two lists will not do piecewise summation of the elements (as you may expect if you're a Matlab user), but will concatenate the lists:"
   ]
  },
  {
   "cell_type": "code",
   "execution_count": 32,
   "metadata": {},
   "outputs": [
    {
     "name": "stdout",
     "output_type": "stream",
     "text": [
      "[1, 2, 3, 4, 5, 6, 'Seven', [8, 9]]\n"
     ]
    }
   ],
   "source": [
    "print(a + b)"
   ]
  },
  {
   "cell_type": "markdown",
   "metadata": {},
   "source": [
    "An empty list can be defined in two ways:"
   ]
  },
  {
   "cell_type": "code",
   "execution_count": 33,
   "metadata": {},
   "outputs": [
    {
     "name": "stdout",
     "output_type": "stream",
     "text": [
      "[] []\n"
     ]
    }
   ],
   "source": [
    "lst1 = []\n",
    "lst2 = list()\n",
    "print(lst1, lst2)"
   ]
  },
  {
   "cell_type": "markdown",
   "metadata": {},
   "source": [
    "As with most object types in Python, arrays can be equivalent (i.e. the same sequence of values), but are not identical:"
   ]
  },
  {
   "cell_type": "code",
   "execution_count": 34,
   "metadata": {},
   "outputs": [
    {
     "name": "stdout",
     "output_type": "stream",
     "text": [
      "4485567112\n",
      "4485567688\n",
      "True\n",
      "False\n"
     ]
    }
   ],
   "source": [
    "x = [1,2,3]\n",
    "print(id(x))\n",
    "y = [1,2,3]\n",
    "print(id(y))\n",
    "\n",
    "print(x == y)\n",
    "print(x is y)"
   ]
  },
  {
   "cell_type": "markdown",
   "metadata": {},
   "source": [
    "#### Indexing\n",
    "\n",
    "Indexing works different from Matlab in two ways. First, it starts at zero; in other words, the first element of a list **L** is **L[0]**. Second, when you want to access multiple elements, say the second element (indexed by [1]) and the third (indexed by [2]), the notation would be **L[1:3]**. The semi-colon here stands for \"from 1 to 3, but excluding 3\". In other words, the range starts at the first element and stops at the index of the first element *which is not included*. This notation is sometimes referred to as *slicing* a list. "
   ]
  },
  {
   "cell_type": "code",
   "execution_count": 35,
   "metadata": {},
   "outputs": [
    {
     "name": "stdout",
     "output_type": "stream",
     "text": [
      "[1, 2, 3, 4, 5]\n",
      "1\n",
      "[2, 3]\n"
     ]
    }
   ],
   "source": [
    "print(a)\n",
    "print(a[0])   # accesses the first element of list a\n",
    "print(a[1:3]) # indexes the second and third element of list"
   ]
  },
  {
   "cell_type": "markdown",
   "metadata": {},
   "source": [
    "Omitting the first index (e.g. **L[:3]**) starts the slice at the beginning of the list, i.e. returns the elements from index 0 to index 2. Omitting the second index (e.g. **L[1:]**) returns the elements from index 1 to the end of the list. If you omit both, the slice is a copy of the list."
   ]
  },
  {
   "cell_type": "code",
   "execution_count": 36,
   "metadata": {},
   "outputs": [
    {
     "name": "stdout",
     "output_type": "stream",
     "text": [
      "[1, 2, 3]\n",
      "[2, 3, 4, 5]\n",
      "[1, 2, 3, 4, 5]\n"
     ]
    }
   ],
   "source": [
    "print(a[:3])  # indexes all elements starting up to the third\n",
    "print(a[1:])  # indexes all elements starting with the second\n",
    "print(a[:])   # indexes all elements"
   ]
  },
  {
   "cell_type": "markdown",
   "metadata": {},
   "source": [
    "Using *negative* indices starts at the end of the list and counts backwards. For example, the index [-1] is used for the last element in an array, the index [-2] for the second-to-last, etc. "
   ]
  },
  {
   "cell_type": "code",
   "execution_count": 37,
   "metadata": {},
   "outputs": [
    {
     "name": "stdout",
     "output_type": "stream",
     "text": [
      "4\n",
      "[1, 2, 3, 4]\n"
     ]
    }
   ],
   "source": [
    "print(a[-2]) # indexes the second-to-last element\n",
    "print(a[:-1]) # indexes all elements except the last"
   ]
  },
  {
   "cell_type": "markdown",
   "metadata": {},
   "source": [
    "Adding a third index to the slicing notation -- e.g. **L[1:-1:2]** gives the step size with which the list is traversed. Here only every second element is indexed."
   ]
  },
  {
   "cell_type": "code",
   "execution_count": 38,
   "metadata": {},
   "outputs": [
    {
     "name": "stdout",
     "output_type": "stream",
     "text": [
      "[2, 4]\n",
      "[5, 4, 3, 2, 1]\n"
     ]
    }
   ],
   "source": [
    "print(a[1:-1:2]) # indexes every second element, starting with the second \n",
    "print(a[::-1])   # indexes all elements in backwards order"
   ]
  },
  {
   "cell_type": "markdown",
   "metadata": {},
   "source": [
    "#### Functions \n",
    "\n",
    "There are a number of handy built-in functions that can be used on lists (and in some cases on other arrays). All types of arrays can be used with the **len()** function, that gives the length of the array:"
   ]
  },
  {
   "cell_type": "code",
   "execution_count": 39,
   "metadata": {},
   "outputs": [
    {
     "name": "stdout",
     "output_type": "stream",
     "text": [
      "5\n"
     ]
    }
   ],
   "source": [
    "print(len(a))"
   ]
  },
  {
   "cell_type": "markdown",
   "metadata": {},
   "source": [
    "For lists whose elements are comparable, **max()** and **min()** return the largest and smallest element, respectively. For strings, the comparison is made alphabetically with respect to the first character of each string."
   ]
  },
  {
   "cell_type": "code",
   "execution_count": 40,
   "metadata": {},
   "outputs": [
    {
     "name": "stdout",
     "output_type": "stream",
     "text": [
      "5\n",
      "Alex\n"
     ]
    }
   ],
   "source": [
    "print(max(a))\n",
    "\n",
    "c = ['Alex', 'bb', 'c']\n",
    "print(min(c))\n",
    "\n",
    "## max() and min() do not work on lists whose elements are not comparable (e.g. numbers and strings)\n",
    "# print(max(b)) # would throw an error"
   ]
  },
  {
   "cell_type": "markdown",
   "metadata": {},
   "source": [
    "When all list elements are numbers, **sum()** can be used to sum them up."
   ]
  },
  {
   "cell_type": "code",
   "execution_count": 41,
   "metadata": {},
   "outputs": [
    {
     "name": "stdout",
     "output_type": "stream",
     "text": [
      "15\n"
     ]
    }
   ],
   "source": [
    "print(sum(a))"
   ]
  },
  {
   "cell_type": "markdown",
   "metadata": {},
   "source": [
    "To get a list of integers, you can also use the *list* and the *range* functions. *list(range(x))* creates a list of all integers from 0 to x-1, hence again excluding the last element x. *list(range(x,y))* creates a list of all integers from x to y-1."
   ]
  },
  {
   "cell_type": "code",
   "execution_count": 42,
   "metadata": {},
   "outputs": [
    {
     "name": "stdout",
     "output_type": "stream",
     "text": [
      "[0, 1, 2, 3, 4, 5, 6, 7, 8, 9]\n",
      "[1, 2, 3, 4, 5, 6, 7, 8, 9]\n",
      "[10, 9, 8, 7, 6, 5, 4, 3, 2]\n"
     ]
    }
   ],
   "source": [
    "print(list(range(10)))   # list from 0 to 9\n",
    "print(list(range(1,10))) # list from 1 to 9\n",
    "print(list(range(10,1,-1))) # list from 10 to 2 (going backwards)"
   ]
  },
  {
   "cell_type": "markdown",
   "metadata": {},
   "source": [
    "The **list()** function can also be used to convert a string to a list:"
   ]
  },
  {
   "cell_type": "code",
   "execution_count": 43,
   "metadata": {},
   "outputs": [
    {
     "name": "stdout",
     "output_type": "stream",
     "text": [
      "['i', 'f', 'o']\n"
     ]
    }
   ],
   "source": [
    "S = 'ifo'\n",
    "print(list(S))"
   ]
  },
  {
   "cell_type": "markdown",
   "metadata": {},
   "source": [
    "#### List Methods\n",
    "\n",
    "We will talk in more detail about methods (hopefully) later in the course in the context of object-oriented programming - for now, it suffices to say that methods are very similar to functions, apart from their syntax being slightly different. They are used after an object, separated by a \".\": \n",
    "\n",
    "*variable_name.method_name(arguments)*.  \n",
    "\n",
    "As an example, consider the **append()** method for lists. It adds an element to the end of an existing list:"
   ]
  },
  {
   "cell_type": "code",
   "execution_count": 44,
   "metadata": {},
   "outputs": [
    {
     "name": "stdout",
     "output_type": "stream",
     "text": [
      "[1, 2, 3, 4, 5]\n",
      "[1, 2, 3, 4, 5, 6]\n"
     ]
    }
   ],
   "source": [
    "print(a)\n",
    "## add an element to a list\n",
    "a.append(6)\n",
    "print(a)"
   ]
  },
  {
   "cell_type": "code",
   "execution_count": 45,
   "metadata": {},
   "outputs": [
    {
     "name": "stdout",
     "output_type": "stream",
     "text": [
      "['Daenerys', 'Tyrion', 'Arya', 'Samwell', 'Jon', 'Jaime']\n"
     ]
    }
   ],
   "source": [
    "## example with a list of strings\n",
    "names = ['Daenerys', 'Tyrion', 'Arya', 'Samwell'] \n",
    "names.append('Jon')\n",
    "names.append('Jaime')\n",
    "\n",
    "print(names)"
   ]
  },
  {
   "cell_type": "markdown",
   "metadata": {},
   "source": [
    "Different object types have different methods. In other words, **append** works only on lists, but would not work e.g. with strings (strings have their own methods). \n",
    "\n",
    "An important characteristic about list methods is that they change a list *in-place*, i.e. you do not have to assign the outcome to a new variable in order to implement the change: "
   ]
  },
  {
   "cell_type": "code",
   "execution_count": 46,
   "metadata": {},
   "outputs": [
    {
     "name": "stdout",
     "output_type": "stream",
     "text": [
      "[1, 2, 3]\n",
      "[1, 2, 3, 4]\n",
      "[1, 2, 3, 4]\n"
     ]
    }
   ],
   "source": [
    "x = [1,2,3]\n",
    "## using a plus operator does not change the list x, unless it is assigned to the name\n",
    "x + [4]\n",
    "print(x)\n",
    "x = x + [4]\n",
    "print(x)\n",
    "\n",
    "## using a list method does change the list x in-place\n",
    "x = [1,2,3]\n",
    "x.append(4)\n",
    "print(x)"
   ]
  },
  {
   "cell_type": "markdown",
   "metadata": {},
   "source": [
    "Other important list methods are:\n",
    "- **list.pop(index)**: erases the element with the given index from a list and returns it; if no index is given, the last element is \"popped\" and returned\n",
    "- **list1.extend(list2)**: concatenates list1 and list2 (note that list2 remains unchanged!)\n",
    "- **list.remove(element)**: removes an element from the list; if the element occurs more than once in the list, the first occurrence is removed"
   ]
  },
  {
   "cell_type": "code",
   "execution_count": 47,
   "metadata": {},
   "outputs": [
    {
     "name": "stdout",
     "output_type": "stream",
     "text": [
      "3\n",
      "5\n",
      "[1, 2, 4]\n"
     ]
    }
   ],
   "source": [
    "lst = [1,2,3,4,5]\n",
    "## Example: pop\n",
    "print(lst.pop(2))\n",
    "print(lst.pop())\n",
    "print(lst)"
   ]
  },
  {
   "cell_type": "code",
   "execution_count": 48,
   "metadata": {},
   "outputs": [
    {
     "name": "stdout",
     "output_type": "stream",
     "text": [
      "[1, 2, 3, 4, 5, 6, 7, 8]\n"
     ]
    }
   ],
   "source": [
    "lst = [1,2,3,4,5]\n",
    "## Example: extend\n",
    "lst.extend([6,7,8])\n",
    "print(lst)"
   ]
  },
  {
   "cell_type": "code",
   "execution_count": 49,
   "metadata": {},
   "outputs": [
    {
     "name": "stdout",
     "output_type": "stream",
     "text": [
      "[2, 1, 1, 2]\n",
      "[1, 1, 2]\n"
     ]
    }
   ],
   "source": [
    "lst = [2,1,1,2,3]\n",
    "## Example: remove\n",
    "lst.remove(3)\n",
    "print(lst)\n",
    "\n",
    "lst.remove(2)\n",
    "print(lst)"
   ]
  },
  {
   "cell_type": "markdown",
   "metadata": {},
   "source": [
    "#### Mutability\n",
    "\n",
    "Note that lists are \"mutable\", which means they can be changed. This feature distinguishes lists from other array types like tuples or sets. Consider the following example:"
   ]
  },
  {
   "cell_type": "code",
   "execution_count": 50,
   "metadata": {},
   "outputs": [
    {
     "name": "stdout",
     "output_type": "stream",
     "text": [
      "[0, 2, 3, 4]\n",
      "[0, 0, 0, 4]\n"
     ]
    }
   ],
   "source": [
    "a = [1,2,3,4]\n",
    "a[0] = 0\n",
    "print(a)\n",
    "a[1:3] = [0,0]\n",
    "print(a)"
   ]
  },
  {
   "cell_type": "markdown",
   "metadata": {},
   "source": [
    "One issue in the context of mutability comes from the way Python stores objects, as discussed above. In particular, different variables or names can refer to the same object (\"aliasing\"):"
   ]
  },
  {
   "cell_type": "code",
   "execution_count": 51,
   "metadata": {},
   "outputs": [
    {
     "name": "stdout",
     "output_type": "stream",
     "text": [
      "[6, 7, 8]\n",
      "True\n"
     ]
    }
   ],
   "source": [
    "b = [6,7,8]\n",
    "c = b\n",
    "print(c)\n",
    "print(id(b) == id(c))"
   ]
  },
  {
   "cell_type": "markdown",
   "metadata": {},
   "source": [
    "When the list that the name **b** refers to is mutated, calling **c** reflects this change, since it refers to the exact same object: "
   ]
  },
  {
   "cell_type": "code",
   "execution_count": 52,
   "metadata": {},
   "outputs": [
    {
     "name": "stdout",
     "output_type": "stream",
     "text": [
      "[9, 7, 8]\n",
      "True\n"
     ]
    }
   ],
   "source": [
    "b[0] = 9\n",
    "print(c)\n",
    "print(id(b) == id(c))"
   ]
  },
  {
   "cell_type": "markdown",
   "metadata": {},
   "source": [
    "Hence, in the context of mutable objects such as lists, aliasing should be avoided. If you need a *copy* of a list, you can use the slicing notation **[:]**:"
   ]
  },
  {
   "cell_type": "code",
   "execution_count": 53,
   "metadata": {},
   "outputs": [
    {
     "name": "stdout",
     "output_type": "stream",
     "text": [
      "False\n",
      "[6, 7, 8]\n"
     ]
    }
   ],
   "source": [
    "b = [6,7,8]\n",
    "c = b[:]\n",
    "print(id(b) == id(c))\n",
    "b[0] = 9\n",
    "print(c)"
   ]
  },
  {
   "cell_type": "markdown",
   "metadata": {},
   "source": [
    "This feature in Python is less of a problem for *immutable* object types such as tuples. "
   ]
  },
  {
   "cell_type": "markdown",
   "metadata": {},
   "source": [
    "### Tuples\n",
    "\n",
    "The immutable equivalent to lists are called *tuples*. We can use the same index notation as for lists in order to access its elements. However, trying to assign a new value to them throws an error."
   ]
  },
  {
   "cell_type": "code",
   "execution_count": 54,
   "metadata": {},
   "outputs": [
    {
     "name": "stdout",
     "output_type": "stream",
     "text": [
      "3\n",
      "9\n"
     ]
    }
   ],
   "source": [
    "d = (9, 10, 11)\n",
    "print(len(d)) \n",
    "print(d[0])  # accesses the first element of d\n",
    "# d[0] = 12  # will throw an error"
   ]
  },
  {
   "cell_type": "markdown",
   "metadata": {},
   "source": [
    "A side note: a string behaves similar to a tuple of text, in the sense that you can access each letter by an index and that it is immutable."
   ]
  },
  {
   "cell_type": "code",
   "execution_count": 55,
   "metadata": {},
   "outputs": [
    {
     "name": "stdout",
     "output_type": "stream",
     "text": [
      "y\n",
      "6\n"
     ]
    }
   ],
   "source": [
    "string = 'Tyrion'\n",
    "print(string[1])  # accesses the second letter of string\n",
    "print(len(string))\n",
    "# string[1] = 'x'  # will throw an error"
   ]
  },
  {
   "cell_type": "markdown",
   "metadata": {},
   "source": [
    "## Loops\n",
    "Iteration - applying the same task repetitively to a sequence of data - is an extremely important task in computation, as \"*repeating identical or similar tasks without making errors is something that computers do well and people do poorly*\". Therefore, *loops* are an essential feature of every programming language. \n",
    "\n",
    "### For Loops\n",
    "\n",
    "In Python, there are two types of loops. If we have a sequence of things that we want to loop through, we use a **for** loop (also called a \"definite\" loop):"
   ]
  },
  {
   "cell_type": "code",
   "execution_count": 56,
   "metadata": {},
   "outputs": [
    {
     "name": "stdout",
     "output_type": "stream",
     "text": [
      "Daenerys\n",
      "Tyrion\n",
      "Bran\n"
     ]
    }
   ],
   "source": [
    "# iterating over a list of strings\n",
    "text = ['Daenerys', 'Tyrion', 'Bran']\n",
    "for item in text:\n",
    "    print(item)  "
   ]
  },
  {
   "cell_type": "code",
   "execution_count": 57,
   "metadata": {},
   "outputs": [
    {
     "name": "stdout",
     "output_type": "stream",
     "text": [
      "1\n",
      "4\n",
      "9\n",
      "16\n",
      "1\n",
      "4\n",
      "9\n",
      "16\n"
     ]
    }
   ],
   "source": [
    "# iterating over a list of integers\n",
    "values = list(range(1,5))\n",
    "for item in values:\n",
    "    print(item**2)\n",
    "\n",
    "# alternative: use range function (cp. above)  \n",
    "for index in range(1,5):\n",
    "    A = index**2\n",
    "    print(A)"
   ]
  },
  {
   "cell_type": "markdown",
   "metadata": {},
   "source": [
    "Some comments about the syntax of a for-loop:\n",
    "1. A for-loop starts with the keyword **for**, followed by the name for the *iteration variable*. This is followed by **in** and a *sequence of data*. Often, this sequence is a list or another type of array. \n",
    "2. The first line ends with a colon (**:**). This is mandatory and will cause an error message if omitted. In case you are used to other programming languages like MATLAB which do not use semi-colons in analogous expressions, expect this to happen often in the beginning :).\n",
    "3. The line(s) following the colon comprise the *code block* that we are executing in each iteration. As you can see above, these lines are *indented*. This is very important, since Python knows the extent of the code block only from indentation, unlike other languages like MATLAB, which mark the end of a code block by an \"end\" statement. If you do not indent the lines in a for-loop or if the number of lines you indent is not the same for all the lines in a code block, you will get an error message. \n",
    "\n",
    "#### Indentation\n",
    "\n",
    "Note the following about indentation:\n",
    "- It is a convention among Python programmers to indent lines in a code block by 4 spaces. In fact, many programs used to write Python code (such as Jupyter or many text editors) will automatically indent the line by 4 spaces when you press Enter after a colon. Moreover, in Jupyter you can also use the *tab key* to indent by 4 spaces.\n",
    "- If you have a code block within a code block, you need to indent by 8 spaces etc (see example below). In other words, indent 4 spaces after every colon. \n",
    "- Indentation will show up again and again when using Python, not only in the context of loops, but also in conditional statements (see below) and functions.\n",
    "- Why using indentation? While it can take some time to get used to (in particular when you have experience in languages which do not use this concept), clean and consistent indentation improves readability and avoids clutter, such as the brackets or end statements used in other languages. \n",
    "\n",
    "A side note: in Python, \"readability\" of code is extremely important and a dominant principle that guides both the design of the language and the way Python programmers should write code. There are countless style guides and guidelines that I encourage you to read. Just as an illustration of the philosophy underlying Python, you can read the \"Zen of Python\":  "
   ]
  },
  {
   "cell_type": "code",
   "execution_count": 58,
   "metadata": {},
   "outputs": [],
   "source": [
    "# import this"
   ]
  },
  {
   "cell_type": "markdown",
   "metadata": {},
   "source": [
    "Two useful functions when iterating in Python are *enumerate()* and *zip()*. *enumerate()* loops through a list while returning an index for each element. *zip()* is useful when stepping through pairs from two sequences of equal length."
   ]
  },
  {
   "cell_type": "code",
   "execution_count": 59,
   "metadata": {},
   "outputs": [
    {
     "name": "stdout",
     "output_type": "stream",
     "text": [
      "letter_list[0] = 'a'\n",
      "letter_list[1] = 'b'\n",
      "letter_list[2] = 'c'\n"
     ]
    }
   ],
   "source": [
    "## example for enumerate\n",
    "letter_list = ['a', 'b', 'c']\n",
    "for index, letter in enumerate(letter_list):\n",
    "    print(\"letter_list[{}] = '{}'\".format(index, letter))"
   ]
  },
  {
   "cell_type": "code",
   "execution_count": 60,
   "metadata": {},
   "outputs": [
    {
     "name": "stdout",
     "output_type": "stream",
     "text": [
      "letter_list[0] = 'a'\n",
      "letter_list[1] = 'b'\n",
      "letter_list[2] = 'c'\n"
     ]
    }
   ],
   "source": [
    "## example for enumerate\n",
    "letter_list = ['a', 'b', 'c']\n",
    "index_list = [0, 1, 2]\n",
    "for index, letter in zip(index_list, letter_list):\n",
    "    print(\"letter_list[{}] = '{}'\".format(index, letter))"
   ]
  },
  {
   "cell_type": "markdown",
   "metadata": {},
   "source": [
    "#### List Comprehensions\n",
    "\n",
    "Suppose you want to fill a list using a loop. Instead of using the syntax above, you can also write a *list comprehension*, which is essentially a concise one-line version of a loop.  "
   ]
  },
  {
   "cell_type": "code",
   "execution_count": 61,
   "metadata": {},
   "outputs": [
    {
     "name": "stdout",
     "output_type": "stream",
     "text": [
      "285\n",
      "285\n"
     ]
    }
   ],
   "source": [
    "lst = []\n",
    "for num in range(10):\n",
    "    lst.append( num**2 )\n",
    "\n",
    "print( sum(lst) )\n",
    "\n",
    "## in one line\n",
    "print( sum( [x**2 for x in range(10)] ) )"
   ]
  },
  {
   "cell_type": "markdown",
   "metadata": {},
   "source": [
    "### While Loops\n",
    "\n",
    "The second type of loop in Python uses a **while** statement. It is also referred to as an \"indefinite\" loop, since it runs until a condition is no longer satisfied (i.e., a boolean evaluates to **False**) and hence we don't usually know how many iterations that takes. Consider the following example:"
   ]
  },
  {
   "cell_type": "code",
   "execution_count": 62,
   "metadata": {},
   "outputs": [
    {
     "name": "stdout",
     "output_type": "stream",
     "text": [
      "10\n",
      "9\n",
      "8\n",
      "7\n",
      "6\n",
      "5\n",
      "4\n",
      "3\n",
      "2\n",
      "1\n",
      "Liftoff!\n"
     ]
    }
   ],
   "source": [
    "countdown = 10\n",
    "while countdown > 0:\n",
    "    print(countdown)\n",
    "    countdown = countdown - 1\n",
    "print(\"Liftoff!\")    "
   ]
  },
  {
   "cell_type": "markdown",
   "metadata": {},
   "source": [
    "The condition after the **while** keyword is initially **False** (otherwise the **while** statement would just be ignored). After every iteration, Python checks whether this is still the case. If so, it executes the code block again. \n",
    "\n",
    "It is easy to see how a **while** loop can turn into an *infinite* loop (usually as the result of a programming error or *bug*): if the condition never becomes **False**, the loop runs forever. Below, the iteration variable countdown is incremented in each iteration rather than reduced, and hence the condition will always be satisfied. In this case, you have to manually interrupt the computation  by using the *Stop* button in Jupyter's taskbar. In other Python environments, you can interrupt by pressing the key combination *Strg + C*."
   ]
  },
  {
   "cell_type": "code",
   "execution_count": 64,
   "metadata": {},
   "outputs": [],
   "source": [
    "## the code below will produce an infinite loop!\n",
    "# countdown = 10\n",
    "# while countdown > 0:\n",
    "#     countdown = countdown + 1\n",
    "# print(\"Liftoff!\")"
   ]
  },
  {
   "cell_type": "markdown",
   "metadata": {},
   "source": [
    "## Conditional Statements\n",
    "\n",
    "Comparisons and Booleans are frequently used for *conditional statements* aka *if-statements*. The idea is that a code block is executed only if a given statement is evaluated as **True**. This *condition* can consist of one or more comparisons or a Boolean - in other words, of anything that can be evaluated as **True** or **False**. If the condition is **False**, the code block is ignored."
   ]
  },
  {
   "cell_type": "code",
   "execution_count": 65,
   "metadata": {},
   "outputs": [
    {
     "name": "stdout",
     "output_type": "stream",
     "text": [
      "x is positive\n"
     ]
    }
   ],
   "source": [
    "x = 3\n",
    "if x > 0:                   # condition using a comparison (here True)\n",
    "    print('x is positive')  # code block that is executed only if the condition is met  \n",
    "\n",
    "B = False    \n",
    "if B:                                # condition using a comparison (here False)\n",
    "    print('Programming is boring!')  # code block will not be executed if B is False"
   ]
  },
  {
   "cell_type": "markdown",
   "metadata": {},
   "source": [
    "As it was the case for for-loops, the first line of an if-statement ends with a semi-colon and the code block must be indented. That being said, sometimes if-statements can also be expressed in one line.\n",
    "\n",
    "You can also specify code to be implemented if the condition does not hold, using **else** (\"alternative execution\"). If there more than two alternatives, you can distinguish the different cases with **elif** (\"chained execution\"):"
   ]
  },
  {
   "cell_type": "code",
   "execution_count": 66,
   "metadata": {},
   "outputs": [
    {
     "name": "stdout",
     "output_type": "stream",
     "text": [
      "x is negative\n",
      "s is not a (real) number\n"
     ]
    }
   ],
   "source": [
    "## two alternatives\n",
    "x = - 5\n",
    "if x > 0:                   # condition\n",
    "    print('x is positive')  # code block that is executed only if the condition is met\n",
    "else:\n",
    "    print('x is negative')  # code block that is executed only if the condition is not met\n",
    "\n",
    "## three alternatives  \n",
    "s = 'Arya'\n",
    "if type(s) == int:\n",
    "    print('s is an integer')\n",
    "elif type(s) == float:\n",
    "    print('s is a float')\n",
    "else:\n",
    "    print('s is not a (real) number')"
   ]
  },
  {
   "cell_type": "markdown",
   "metadata": {},
   "source": [
    "The last expression could have been written without the **elif** part, by combining the two conditions using **or**. Moreover, it could have been implemented using nested conditions, i.e. combining several if/else statements. Since this approach hampers readibility, it should usually be avoided."
   ]
  },
  {
   "cell_type": "code",
   "execution_count": 67,
   "metadata": {},
   "outputs": [
    {
     "name": "stdout",
     "output_type": "stream",
     "text": [
      "s is an integer\n",
      "s is not a (real) number\n"
     ]
    }
   ],
   "source": [
    "s = 4\n",
    "if (type(s) == int) or (type(s) == float):\n",
    "    print('s is an integer')\n",
    "else:\n",
    "    print('s is not a (real) number')\n",
    "    \n",
    "## nested conditional statement\n",
    "s = 'Arya'\n",
    "if type(s) == int:\n",
    "    print('s is an integer')\n",
    "else: \n",
    "    if type(s) == float:\n",
    "        print('s is a float')\n",
    "    else:\n",
    "        print('s is not a (real) number')"
   ]
  },
  {
   "cell_type": "markdown",
   "metadata": {},
   "source": [
    "#### break and continue in loops\n",
    "\n",
    "Conditional statements can be used to further refine loops, in particular in indefinite ones, with **continue** and **break** statements. **continue** interrupts the current iteration (and jumps to the beginning of the code block to execute the next iteration), while **break** exits the loop completely. Consider the following example that prompts the user to enter some text and prints it out in upper cases, unless the user types '#' -- then the programs skips the rest of the code block -- or 'done', in which case the loop ends. "
   ]
  },
  {
   "cell_type": "code",
   "execution_count": 68,
   "metadata": {},
   "outputs": [
    {
     "name": "stdout",
     "output_type": "stream",
     "text": [
      ">Alex\n",
      "ALEX\n",
      "># Matthias\n",
      ">done\n",
      "Done!\n"
     ]
    }
   ],
   "source": [
    "while True:\n",
    "    line = input('>')\n",
    "    if line[0] == '#':\n",
    "        continue\n",
    "    if line == 'done':\n",
    "        break\n",
    "    print(line.upper())\n",
    "    \n",
    "print('Done!')    \n",
    "    "
   ]
  },
  {
   "cell_type": "markdown",
   "metadata": {},
   "source": [
    "### try/except\n",
    "\n",
    "A particular type of conditional statement is **try/except**. It tells Python what to do conditional on an error being detected. For example, the following code would throw an error message, since you cannot use division on a string:"
   ]
  },
  {
   "cell_type": "code",
   "execution_count": 69,
   "metadata": {},
   "outputs": [
    {
     "ename": "TypeError",
     "evalue": "unsupported operand type(s) for /: 'str' and 'int'",
     "output_type": "error",
     "traceback": [
      "\u001b[0;31m---------------------------------------------------------------------------\u001b[0m",
      "\u001b[0;31mTypeError\u001b[0m                                 Traceback (most recent call last)",
      "\u001b[0;32m<ipython-input-69-eb453d3594d9>\u001b[0m in \u001b[0;36m<module>\u001b[0;34m()\u001b[0m\n\u001b[1;32m      1\u001b[0m \u001b[0mx\u001b[0m \u001b[0;34m=\u001b[0m \u001b[0;34m'ifo'\u001b[0m\u001b[0;34m\u001b[0m\u001b[0m\n\u001b[0;32m----> 2\u001b[0;31m \u001b[0mprint\u001b[0m\u001b[0;34m(\u001b[0m\u001b[0mx\u001b[0m \u001b[0;34m/\u001b[0m \u001b[0;36m3\u001b[0m\u001b[0;34m)\u001b[0m\u001b[0;34m\u001b[0m\u001b[0m\n\u001b[0m",
      "\u001b[0;31mTypeError\u001b[0m: unsupported operand type(s) for /: 'str' and 'int'"
     ]
    }
   ],
   "source": [
    "x = 'ifo'\n",
    "print(x / 3)"
   ]
  },
  {
   "cell_type": "markdown",
   "metadata": {},
   "source": [
    "A **try/except** statement checks if evaluating the code in the **try** part would throw an error. If not, it is executed. If an error is detected, instead of stopping the program, it executes the **except** part:"
   ]
  },
  {
   "cell_type": "code",
   "execution_count": 70,
   "metadata": {},
   "outputs": [
    {
     "name": "stdout",
     "output_type": "stream",
     "text": [
      "x is not a number!\n"
     ]
    }
   ],
   "source": [
    "try:\n",
    "    print(x / 3)\n",
    "except:\n",
    "    print('x is not a number!')"
   ]
  },
  {
   "cell_type": "markdown",
   "metadata": {},
   "source": [
    "This is helpful for debugging, but also particularly useful if the programmer cannot guarantee which type of data is used when the program is run. For example, someone else could enter data using the **input()** statement. **try/except** are like an insurance against a wrong data type: in connection with a **while**-loop, it gives the user the chance to reenter the correct data type, instead of the program breaking down due to an error. "
   ]
  },
  {
   "cell_type": "code",
   "execution_count": 71,
   "metadata": {},
   "outputs": [
    {
     "name": "stdout",
     "output_type": "stream",
     "text": [
      "Enter a number:ftfutf\n",
      "Please make sure to enter a NUMBER:456\n",
      "207936\n"
     ]
    }
   ],
   "source": [
    "x = input(\"Enter a number:\")\n",
    "\n",
    "while True:\n",
    "    try:\n",
    "        print( int(x)**2 )\n",
    "        break\n",
    "    except:\n",
    "        x = input(\"Please make sure to enter a NUMBER:\")"
   ]
  }
 ],
 "metadata": {
  "anaconda-cloud": {},
  "kernelspec": {
   "display_name": "Python 3",
   "language": "python",
   "name": "python3"
  },
  "language_info": {
   "codemirror_mode": {
    "name": "ipython",
    "version": 3
   },
   "file_extension": ".py",
   "mimetype": "text/x-python",
   "name": "python",
   "nbconvert_exporter": "python",
   "pygments_lexer": "ipython3",
   "version": "3.7.3"
  }
 },
 "nbformat": 4,
 "nbformat_minor": 1
}
