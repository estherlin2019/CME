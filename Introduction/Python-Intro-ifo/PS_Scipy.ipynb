{
 "cells": [
  {
   "cell_type": "markdown",
   "metadata": {},
   "source": [
    "# Introduction to Python - Matplotlib/Scipy\n",
    "## Problem Set"
   ]
  },
  {
   "cell_type": "code",
   "execution_count": 1,
   "metadata": {
    "collapsed": false
   },
   "outputs": [
    {
     "name": "stdout",
     "output_type": "stream",
     "text": [
      "Last update: 2017-05-17 16:40:38.650814\n"
     ]
    }
   ],
   "source": [
    "# Authors: Matthias Huber (huber@ifo.de), Alex Schmitt (schmitt@ifo.de)\n",
    "\n",
    "import datetime\n",
    "print('Last update: ' + str(datetime.datetime.today()))"
   ]
  },
  {
   "cell_type": "markdown",
   "metadata": {},
   "source": [
    "## Exercise 1\n",
    "(a) Draw the function $y=log(x)$ on the interval from 1 to 10\n",
    "\n",
    "(b) Draw the function $y=x^3$ on the interval from -10 to 10. Compile the plot once with N=5 and with N=100 individual values for the x-axis, both in the same figure. Set two different colors for the to lines.\n"
   ]
  },
  {
   "cell_type": "code",
   "execution_count": null,
   "metadata": {
    "collapsed": true
   },
   "outputs": [],
   "source": []
  },
  {
   "cell_type": "markdown",
   "metadata": {},
   "source": [
    "## Exercise 2\n",
    "Consider the utility function $U(B,C)=B^{\\alpha} C^{(1-\\alpha)}$ of a Oktoberfest visitor consuming beer (B) and chicken (C).\n",
    "\n",
    "(a) Write a function that returns the utilily depending on the amount of consumed chicken and beers\n",
    "\n",
    "(b) Plot the utility as a function of the amount of beer with $\\alpha=0.7$ and $C=2$. The range of beers should be from 0 to 10.\n",
    "\n",
    "(C) Plot the isoquants of the same utility for all combination of C and B in the range from 0 to 10.\n",
    "\n",
    "(d) Consider now the prices of $p_B=10 €$ and $p_C=10€$ and a budget of 55€. Draw the budgetline in the graph from question (c) and guess what the optimal consumption might be. You can set the limits of the x and the y axis by **ax.set_xlim([xlim,xmax])** and **ax.set_ylim([ylim,ymax])**."
   ]
  },
  {
   "cell_type": "code",
   "execution_count": null,
   "metadata": {
    "collapsed": true
   },
   "outputs": [],
   "source": []
  },
  {
   "cell_type": "markdown",
   "metadata": {},
   "source": [
    "## Exercise 3\n",
    "\n",
    "The file *Capacities.csv* contains country-level data on electricity generation capacity, and more specifically on capacity of \"clean\" (i.e. non-carbon emitting) technologies. It consists of three columns: the first columns contains the combined capacity for hydro and nuclear power plants, while the second columns contains the combined capacity for wind and solar installations (all in TW). The third columns contains the overall *capacity factor*, that is, the share of potential electricity that is actually produced. In other words, a capacity factor of 50% would imply that the a plant runs half of the time. In this question, we are interested in how the capacity factor depends on how wind and solar capacity are in the system.\n",
    "\n",
    "(a) Each column consists of 600 *country-year* observations (30 OECD countries over 20 years). Use Numpy's **loadtxt** function to load the data as a 600-by-3 array. (A side note: there are better ways to work with this kind of data in Python than a Numpy array, as we will see in next lecture).\n",
    "\n",
    "(b) Visualize the data using a scatter plot, where each axis corresponds to a capacity measure, while the color (or the size) of the markers is determined by the level of the capacity factor.\n",
    "\n",
    "(c) If you are not interested in absolute capacity levels, an alternative is to plot the capacity factor against the *relative* capacity of wind and solar, i.e. their share in total renewable capacity. Use Matplotlib's **plot** method, but with markers instead of lines. Also, include only those observations that have a wind & solar share of more than 1 percent (Hint: use a logical Numpy array)."
   ]
  },
  {
   "cell_type": "code",
   "execution_count": null,
   "metadata": {
    "collapsed": true
   },
   "outputs": [],
   "source": []
  },
  {
   "cell_type": "markdown",
   "metadata": {},
   "source": [
    "## Exercise 4\n",
    "\n",
    "In this exercise, we will conduct some analysis on the market value of football players in the German Bundesliga, using the same data set as in the lecture (run the cell below to get a description of what the individual columns of the data set contain). \n",
    "\n",
    "(a) Load the data using Numpy **loadtxt** function. Restrict the data to information on market value, age, goals, shots per game and the position code of players. \n",
    "\n",
    "(b) First, we want to analyze what type of players (strikers, defenders, midfielders) score and attempt to score goals . Draw a scatter plot that has goals on the x-axis and shots per game on the y-axis; the \"bubbles\" should be colored according to the position code of a player, while their size should reflect the value of the players. Play around with scaling the size until you get a nice plot.\n",
    "\n",
    "(b) Draw a histogram of both the age and the values of the players. Are they both normally distributed?\n",
    "\n",
    "(c) Set up a regression model where the value of players is explained by the number of goals only. Compute $\\beta_0$ and $\\beta_1$ and use them to calculate the coefficient of determination $R^2$.\n",
    "\n",
    "(d) Run the same model again but with strikers only (position code = 2) and check whether the marginal effect of goals ($\\beta_1$) and the significance of the model ($R^2$) increase in this case (as we would expect)."
   ]
  },
  {
   "cell_type": "code",
   "execution_count": 2,
   "metadata": {
    "collapsed": false
   },
   "outputs": [
    {
     "name": "stdout",
     "output_type": "stream",
     "text": [
      "[(0, 'name'), (1, 'position'), (2, 'value'), (3, 'valuemax'), (4, 'age'), (5, 'goals'), (6, 'assists'), (7, 'yellow'), (8, 'red'), (9, 'shotspergame'), (10, 'passsuccess'), (11, 'aerialswon'), (12, 'rating'), (13, 'positioncode'), (14, '\\n')]\n"
     ]
    }
   ],
   "source": [
    "## load the description of the data\n",
    "fh = open(\"BundesligaData.txt\")\n",
    "data = fh.readlines()\n",
    "fh.close\n",
    "lines = data[0].split(';')\n",
    "description = []\n",
    "for i in range(len(lines)):\n",
    "    description.append((i,lines[i]))\n",
    "print(description)"
   ]
  },
  {
   "cell_type": "code",
   "execution_count": null,
   "metadata": {
    "collapsed": true
   },
   "outputs": [],
   "source": []
  },
  {
   "cell_type": "markdown",
   "metadata": {},
   "source": [
    "## Exercise 5\n",
    "\n",
    "(a) Write two functions **demand** and **supply** that both take three arguments, quantity **x** and two function-specific parameters, and capture inverse demand and supply:\n",
    "\\begin{align}\n",
    "    p^d &= a - b x \\\\\n",
    "    p^s &= c + d x\n",
    "\\end{align}\n",
    "\n",
    "(b) Use a root-finding algorithm to solve for the market-clearing price $p^*$. It may be helpful to define a third function, **excess_demand**, that makes use of the two functions above. Find $p^*$ for $a = 5$, $b = 0.4$, $c = 0$ and $d = 0.3$. \n",
    "\n",
    "(c) Import **matplotlib.pyplot** and **seaborn**. Use your functions to replicate the following figure, including all the labels. The parameter values used to generate the graph are the same as in question (b). \n"
   ]
  },
  {
   "cell_type": "code",
   "execution_count": 3,
   "metadata": {
    "collapsed": false
   },
   "outputs": [
    {
     "data": {
      "image/jpeg": "[encoded data removed]",
      "text/plain": [
       "<IPython.core.display.Image object>"
      ]
     },
     "execution_count": 3,
     "metadata": {},
     "output_type": "execute_result"
    }
   ],
   "source": [
    "# from IPython.display import Image\n",
    "# Image('marketprice.jpg')"
   ]
  },
  {
   "cell_type": "code",
   "execution_count": null,
   "metadata": {
    "collapsed": true
   },
   "outputs": [],
   "source": []
  },
  {
   "cell_type": "markdown",
   "metadata": {},
   "source": [
    "## Exercise 6\n",
    "\n",
    "In one of the previous problem sets (Week 3 - Strings, question 7), we coded a simple version of the Battleship game. In this question, we use **matplotlib.pyplot** to improve on one dimension of this implementation, the graphical output. If you haven't solved the previous question, feel free to use the code provided in the suggested solutions for that week.\n",
    "\n",
    "Recall that in our implementation of Battleship, we represented the board (i.e. the ocean) as a list of lists. A tile (i.e., a square of the ocean) was represented by a string, an **\"O\"** if the tile had not been uncovered yet and an **\"X\"** if it had been uncovered but without finding the ship. Now, we are going to represent the board as a Numpy array of 0's and 1's, with **0** representing not yet uncovered tiles and **1** representing tiles that have been unsuccessfully checked.\n",
    "\n",
    "(a) Import **numpy**, **matplotlib.pyplot** and (as before) the **random** module. In addition, run the following import statement: **from IPython import display**.\n",
    "\n",
    "(b) Modify the **generate_board** function from the previous versions such that it still takes the arguments **x_b** and **y_b**, but returns a *Numpy array* of dimension **x_b**-by-**y_b**, filled with zeros.\n",
    "\n",
    "(c) Below, we have provided a new version of the **print_board** function. Run the cell below *after you have finished question (b)*. You should get a figure that consists of a blue square.\n",
    "\n",
    "(d) In the **run_game** function, make the following modifications:\n",
    "\n",
    "1. Add the lines **fig, ax = plt.subplots()** and **ax.grid()** at the beginning of the function.\n",
    "2. **print_board** now takes three arguments, instead of one argument as in the previous implementation. Add the arguments **fig** and **ax** to every occurrence of **print_board**.\n",
    "3. Finally, modify your code so it properly updates tiles on your board from 0 to 1. Hint: In the previous version, the **run_game** function updated tiles from \"O\" to \"X\". In addition to replacing \"X\"s with 1's in your code, there is one small adjustment you have to make - recall that indexing for two-dimensional Numpy arrays works differently than for lists of lists!\n",
    "\n",
    "(e) Test your implementation for a 5-by-5 board.\n"
   ]
  },
  {
   "cell_type": "code",
   "execution_count": 4,
   "metadata": {
    "collapsed": false
   },
   "outputs": [],
   "source": [
    "## Run this after completing question (b) \n",
    "\n",
    "# def print_board(board, fig, ax):\n",
    "#     ax.matshow(board, cmap='bwr')\n",
    "#     display.display(fig)\n",
    "\n",
    "# fig, ax = plt.subplots()\n",
    "# ax.grid()    \n",
    "# board = generate_board(5, 5)\n",
    "# print_board(board, fig, ax)\n"
   ]
  },
  {
   "cell_type": "code",
   "execution_count": null,
   "metadata": {
    "collapsed": true
   },
   "outputs": [],
   "source": []
  },
  {
   "cell_type": "markdown",
   "metadata": {
    "collapsed": true
   },
   "source": [
    "## Exercise 7 (ADVANCED)\n",
    "\n",
    "Consider a two-period \"cake-eating problem\": a social planner needs to decide how to distribute the use of an exhaustible resource over two periods. As an example, you could think of a given, finite stock of oil, but also of a (binding) limit on greenhouse gas emissions.\n",
    "\n",
    "The resource is used as an input in a Cobb-Douglas production function, together with capital. Production in period $t$ is given by\n",
    "\\begin{equation*}\n",
    "\tF(K_t, E_t) = K_t^\\alpha E_t^{1 - \\alpha},\\ \\ t = 1,2,\n",
    "\\end{equation*}\n",
    "where $E_t$ denotes the amount of the resource used in period $t$. We have the following constraint:\n",
    "\\begin{equation*}\n",
    "E_1 + E_2 = R\n",
    "\\end{equation*}\n",
    "where $R$ is the stock of the finite resource. \n",
    "\n",
    "Other than that, this is a standard neoclassical growth model. The planner maximizes lifetime (here two periods) utility of a representative household, with per-period utility as a function of consumption $C_t$:\n",
    "\\begin{equation*}\n",
    "    \\max u(C_1) + \\beta u(C_2)\n",
    "\\end{equation*}\n",
    "As a functional form for $u$, assume a *constant intertemporal elasticity of substitution*:\n",
    "\\begin{equation*}\n",
    "    u(C) = \\frac{C^{1 - \\nu}}{1 - \\nu}\n",
    "\\end{equation*}\n",
    "\n",
    "The planner's constraints are given by\n",
    "\\begin{align*}\n",
    "\tC_1 + K_2 &= K_1^{\\alpha} E_1^{1-\\alpha} + (1 - \\delta) K_1 \\\\ \n",
    "\tC_2 &= K_2^{\\alpha} E_2^{1-\\alpha} + (1 - \\delta) K_2 \\\\ \n",
    "    E_1 + E_2 &= R\n",
    "\\end{align*}\n",
    "where $\\delta$ denotes the depreciation rate and the initial capital stock $K_1$ is given.\n",
    "\n",
    "\n",
    "Aside: with log utility ($u(C) = \\log(C)$) and full depreciation ($\\delta = 1$), it would be straightforward to solve this model analytically.\n",
    "\n",
    "\n",
    "(a) Define functions **u** and **F** that implement the utility and the production function given above. In addition, write a function that captures the objective function $u(C_1) + \\beta u(C_2)$.\n",
    "\n",
    "(b) Use Scipy's minimization routine (**scipy.optimize.minimize**) to solve the model for the set of parameter values given below. \n",
    "\n"
   ]
  },
  {
   "cell_type": "code",
   "execution_count": 5,
   "metadata": {
    "collapsed": true
   },
   "outputs": [],
   "source": [
    "## Model parameters\n",
    "alpha = 0.6\n",
    "beta = 0.98\n",
    "R = 1\n",
    "K1 = 1\n",
    "nu = 2\n",
    "delta = 0.9"
   ]
  },
  {
   "cell_type": "code",
   "execution_count": null,
   "metadata": {
    "collapsed": true
   },
   "outputs": [],
   "source": []
  }
 ],
 "metadata": {
  "anaconda-cloud": {},
  "kernelspec": {
   "display_name": "Python 3",
   "language": "python",
   "name": "python3"
  },
  "language_info": {
   "codemirror_mode": {
    "name": "ipython",
    "version": 3
   },
   "file_extension": ".py",
   "mimetype": "text/x-python",
   "name": "python",
   "nbconvert_exporter": "python",
   "pygments_lexer": "ipython3",
   "version": "3.5.3"
  }
 },
 "nbformat": 4,
 "nbformat_minor": 1
}
