{
 "cells": [
  {
   "cell_type": "markdown",
   "metadata": {},
   "source": [
    "# Introduction to Python - Strings, Text Files and Regular Expressions"
   ]
  },
  {
   "cell_type": "code",
   "execution_count": 1,
   "metadata": {
    "collapsed": false
   },
   "outputs": [
    {
     "name": "stdout",
     "output_type": "stream",
     "text": [
      "Last update: 2017-05-03 13:15:20.508153\n"
     ]
    }
   ],
   "source": [
    "# Author: Alex Schmitt (schmitt@ifo.de)\n",
    "\n",
    "import datetime\n",
    "print('Last update: ' + str(datetime.datetime.today()))"
   ]
  },
  {
   "cell_type": "markdown",
   "metadata": {},
   "source": [
    "## Documentation: help() and dir()\n",
    "\n",
    "Say you know the name of a built-in function and want to get information on what it does. Googling is always an option (and usually gives you the most information), but you can also get a description of the function in Python, using either the **help()** function or a question mark **?**."
   ]
  },
  {
   "cell_type": "code",
   "execution_count": 2,
   "metadata": {
    "collapsed": false
   },
   "outputs": [
    {
     "name": "stdout",
     "output_type": "stream",
     "text": [
      "Help on built-in function len in module builtins:\n",
      "\n",
      "len(obj, /)\n",
      "    Return the number of items in a container.\n",
      "\n"
     ]
    }
   ],
   "source": [
    "help(len)"
   ]
  },
  {
   "cell_type": "code",
   "execution_count": 1,
   "metadata": {
    "collapsed": true
   },
   "outputs": [],
   "source": [
    "len?"
   ]
  },
  {
   "cell_type": "markdown",
   "metadata": {},
   "source": [
    "Using **help()** on an object (rather than a function) gives you an overview of all the methods available for this object type. This works both with using the name of the object or the corresponding Python keyword (e.g. **str**, **list**, **dict** etc.; this is also the name of the corresponding type-conversion function)."
   ]
  },
  {
   "cell_type": "code",
   "execution_count": 4,
   "metadata": {
    "collapsed": false
   },
   "outputs": [
    {
     "name": "stdout",
     "output_type": "stream",
     "text": [
      "<class 'list'>\n",
      "Help on list object:\n",
      "\n",
      "class list(object)\n",
      " |  list() -> new empty list\n",
      " |  list(iterable) -> new list initialized from iterable's items\n",
      " |  \n",
      " |  Methods defined here:\n",
      " |  \n",
      " |  __add__(self, value, /)\n",
      " |      Return self+value.\n",
      " |  \n",
      " |  __contains__(self, key, /)\n",
      " |      Return key in self.\n",
      " |  \n",
      " |  __delitem__(self, key, /)\n",
      " |      Delete self[key].\n",
      " |  \n",
      " |  __eq__(self, value, /)\n",
      " |      Return self==value.\n",
      " |  \n",
      " |  __ge__(self, value, /)\n",
      " |      Return self>=value.\n",
      " |  \n",
      " |  __getattribute__(self, name, /)\n",
      " |      Return getattr(self, name).\n",
      " |  \n",
      " |  __getitem__(...)\n",
      " |      x.__getitem__(y) <==> x[y]\n",
      " |  \n",
      " |  __gt__(self, value, /)\n",
      " |      Return self>value.\n",
      " |  \n",
      " |  __iadd__(self, value, /)\n",
      " |      Implement self+=value.\n",
      " |  \n",
      " |  __imul__(self, value, /)\n",
      " |      Implement self*=value.\n",
      " |  \n",
      " |  __init__(self, /, *args, **kwargs)\n",
      " |      Initialize self.  See help(type(self)) for accurate signature.\n",
      " |  \n",
      " |  __iter__(self, /)\n",
      " |      Implement iter(self).\n",
      " |  \n",
      " |  __le__(self, value, /)\n",
      " |      Return self<=value.\n",
      " |  \n",
      " |  __len__(self, /)\n",
      " |      Return len(self).\n",
      " |  \n",
      " |  __lt__(self, value, /)\n",
      " |      Return self<value.\n",
      " |  \n",
      " |  __mul__(self, value, /)\n",
      " |      Return self*value.n\n",
      " |  \n",
      " |  __ne__(self, value, /)\n",
      " |      Return self!=value.\n",
      " |  \n",
      " |  __new__(*args, **kwargs) from builtins.type\n",
      " |      Create and return a new object.  See help(type) for accurate signature.\n",
      " |  \n",
      " |  __repr__(self, /)\n",
      " |      Return repr(self).\n",
      " |  \n",
      " |  __reversed__(...)\n",
      " |      L.__reversed__() -- return a reverse iterator over the list\n",
      " |  \n",
      " |  __rmul__(self, value, /)\n",
      " |      Return self*value.\n",
      " |  \n",
      " |  __setitem__(self, key, value, /)\n",
      " |      Set self[key] to value.\n",
      " |  \n",
      " |  __sizeof__(...)\n",
      " |      L.__sizeof__() -- size of L in memory, in bytes\n",
      " |  \n",
      " |  append(...)\n",
      " |      L.append(object) -> None -- append object to end\n",
      " |  \n",
      " |  clear(...)\n",
      " |      L.clear() -> None -- remove all items from L\n",
      " |  \n",
      " |  copy(...)\n",
      " |      L.copy() -> list -- a shallow copy of L\n",
      " |  \n",
      " |  count(...)\n",
      " |      L.count(value) -> integer -- return number of occurrences of value\n",
      " |  \n",
      " |  extend(...)\n",
      " |      L.extend(iterable) -> None -- extend list by appending elements from the iterable\n",
      " |  \n",
      " |  index(...)\n",
      " |      L.index(value, [start, [stop]]) -> integer -- return first index of value.\n",
      " |      Raises ValueError if the value is not present.\n",
      " |  \n",
      " |  insert(...)\n",
      " |      L.insert(index, object) -- insert object before index\n",
      " |  \n",
      " |  pop(...)\n",
      " |      L.pop([index]) -> item -- remove and return item at index (default last).\n",
      " |      Raises IndexError if list is empty or index is out of range.\n",
      " |  \n",
      " |  remove(...)\n",
      " |      L.remove(value) -> None -- remove first occurrence of value.\n",
      " |      Raises ValueError if the value is not present.\n",
      " |  \n",
      " |  reverse(...)\n",
      " |      L.reverse() -- reverse *IN PLACE*\n",
      " |  \n",
      " |  sort(...)\n",
      " |      L.sort(key=None, reverse=False) -> None -- stable sort *IN PLACE*\n",
      " |  \n",
      " |  ----------------------------------------------------------------------\n",
      " |  Data and other attributes defined here:\n",
      " |  \n",
      " |  __hash__ = None\n",
      "\n"
     ]
    }
   ],
   "source": [
    "A = [1,2,3]\n",
    "print(type(A))\n",
    "help(A)\n",
    "## help(list) "
   ]
  },
  {
   "cell_type": "markdown",
   "metadata": {},
   "source": [
    "If you want to have information on only one method, use **help()** on the method name following the object name:"
   ]
  },
  {
   "cell_type": "code",
   "execution_count": 5,
   "metadata": {
    "collapsed": false
   },
   "outputs": [
    {
     "name": "stdout",
     "output_type": "stream",
     "text": [
      "Help on built-in function append:\n",
      "\n",
      "append(...) method of builtins.list instance\n",
      "    L.append(object) -> None -- append object to end\n",
      "\n"
     ]
    }
   ],
   "source": [
    "help(A.append)"
   ]
  },
  {
   "cell_type": "markdown",
   "metadata": {},
   "source": [
    "Finally, if you wanna see all the methods of an object type without descriptions, use **dir()**:"
   ]
  },
  {
   "cell_type": "code",
   "execution_count": 6,
   "metadata": {
    "collapsed": false
   },
   "outputs": [
    {
     "data": {
      "text/plain": [
       "['__add__',\n",
       " '__class__',\n",
       " '__contains__',\n",
       " '__delattr__',\n",
       " '__dir__',\n",
       " '__doc__',\n",
       " '__eq__',\n",
       " '__format__',\n",
       " '__ge__',\n",
       " '__getattribute__',\n",
       " '__getitem__',\n",
       " '__getnewargs__',\n",
       " '__gt__',\n",
       " '__hash__',\n",
       " '__init__',\n",
       " '__init_subclass__',\n",
       " '__iter__',\n",
       " '__le__',\n",
       " '__len__',\n",
       " '__lt__',\n",
       " '__mod__',\n",
       " '__mul__',\n",
       " '__ne__',\n",
       " '__new__',\n",
       " '__reduce__',\n",
       " '__reduce_ex__',\n",
       " '__repr__',\n",
       " '__rmod__',\n",
       " '__rmul__',\n",
       " '__setattr__',\n",
       " '__sizeof__',\n",
       " '__str__',\n",
       " '__subclasshook__',\n",
       " 'capitalize',\n",
       " 'casefold',\n",
       " 'center',\n",
       " 'count',\n",
       " 'encode',\n",
       " 'endswith',\n",
       " 'expandtabs',\n",
       " 'find',\n",
       " 'format',\n",
       " 'format_map',\n",
       " 'index',\n",
       " 'isalnum',\n",
       " 'isalpha',\n",
       " 'isdecimal',\n",
       " 'isdigit',\n",
       " 'isidentifier',\n",
       " 'islower',\n",
       " 'isnumeric',\n",
       " 'isprintable',\n",
       " 'isspace',\n",
       " 'istitle',\n",
       " 'isupper',\n",
       " 'join',\n",
       " 'ljust',\n",
       " 'lower',\n",
       " 'lstrip',\n",
       " 'maketrans',\n",
       " 'partition',\n",
       " 'replace',\n",
       " 'rfind',\n",
       " 'rindex',\n",
       " 'rjust',\n",
       " 'rpartition',\n",
       " 'rsplit',\n",
       " 'rstrip',\n",
       " 'split',\n",
       " 'splitlines',\n",
       " 'startswith',\n",
       " 'strip',\n",
       " 'swapcase',\n",
       " 'title',\n",
       " 'translate',\n",
       " 'upper',\n",
       " 'zfill']"
      ]
     },
     "execution_count": 6,
     "metadata": {},
     "output_type": "execute_result"
    }
   ],
   "source": [
    "S = 'ifo'\n",
    "dir(S)\n",
    "# dir(list)"
   ]
  },
  {
   "cell_type": "markdown",
   "metadata": {},
   "source": [
    "## Review: Strings\n",
    "\n",
    "We have already encountered strings in the first lecture. To recap, a string is a sequence of characters which is characterized by single or double quotation marks. In some sense, a string can be compared to a tuple: it is an *ordered* sequence, which is *immutable* - you cannot change, say, a single letter in a given string. What you can do instead is creating a new string and store it under a different or even the same name: "
   ]
  },
  {
   "cell_type": "code",
   "execution_count": 4,
   "metadata": {
    "collapsed": false
   },
   "outputs": [
    {
     "name": "stdout",
     "output_type": "stream",
     "text": [
      "Ifo\n"
     ]
    }
   ],
   "source": [
    "S = 'ifo'\n",
    "# S[0] = 'I' ## this line would throw an error!\n",
    "S2 = 'I' + S[1:]\n",
    "print(S2)"
   ]
  },
  {
   "cell_type": "markdown",
   "metadata": {},
   "source": [
    "We also saw that we can concatenate two strings using '+':"
   ]
  },
  {
   "cell_type": "code",
   "execution_count": 8,
   "metadata": {
    "collapsed": false
   },
   "outputs": [
    {
     "name": "stdout",
     "output_type": "stream",
     "text": [
      "CESifo\n"
     ]
    }
   ],
   "source": [
    "S3 = 'CES' + S\n",
    "print(S3)"
   ]
  },
  {
   "cell_type": "markdown",
   "metadata": {},
   "source": [
    "Here are some more useful things to know about strings. You can access the characters of a string with indices in brackets, either for a single character or using the slicing notation that we also saw for lists for several characters (a segment) of the string:"
   ]
  },
  {
   "cell_type": "code",
   "execution_count": 9,
   "metadata": {
    "collapsed": false
   },
   "outputs": [
    {
     "name": "stdout",
     "output_type": "stream",
     "text": [
      "C\n",
      "fo\n"
     ]
    }
   ],
   "source": [
    "letter = S3[0]\n",
    "print(letter)\n",
    "print(S2[1:4])"
   ]
  },
  {
   "cell_type": "markdown",
   "metadata": {},
   "source": [
    "An empty string can be defined by two quotation marks, *without a space between them* (recall that a space also counts as a character)."
   ]
  },
  {
   "cell_type": "code",
   "execution_count": 10,
   "metadata": {
    "collapsed": false
   },
   "outputs": [
    {
     "name": "stdout",
     "output_type": "stream",
     "text": [
      "0\n",
      "1\n"
     ]
    }
   ],
   "source": [
    "## empty string\n",
    "s = \"\"\n",
    "print(len(s))\n",
    "\n",
    "## string of length one\n",
    "s = \" \"\n",
    "print(len(s))"
   ]
  },
  {
   "cell_type": "markdown",
   "metadata": {},
   "source": [
    "Strings can converted to an array (list, set, tuple etc.) using the corresponding type conversion functions:"
   ]
  },
  {
   "cell_type": "code",
   "execution_count": 6,
   "metadata": {
    "collapsed": false
   },
   "outputs": [
    {
     "name": "stdout",
     "output_type": "stream",
     "text": [
      "['A', 'l', 'e', 'x']\n",
      "{'A', 'e', 'x', 'l'}\n",
      "('A', 'l', 'e', 'x')\n"
     ]
    }
   ],
   "source": [
    "s = 'Alex'\n",
    "print( list(s) )\n",
    "print( set(s) )\n",
    "print( tuple(s) )\n",
    "## that doesn't work a dictionary!\n",
    "# print( dict(s) ) ## this line would throw an error!"
   ]
  },
  {
   "cell_type": "markdown",
   "metadata": {},
   "source": [
    "When comparing two strings, they are put in alphabetical order, with uppercase letters coming before lowercase letters:"
   ]
  },
  {
   "cell_type": "code",
   "execution_count": 12,
   "metadata": {
    "collapsed": false
   },
   "outputs": [
    {
     "name": "stdout",
     "output_type": "stream",
     "text": [
      "True\n",
      "False\n",
      "True\n"
     ]
    }
   ],
   "source": [
    "print('alex' < 'banana')\n",
    "print('alex' < 'Alex')\n",
    "print('Matthias' < 'banana')"
   ]
  },
  {
   "cell_type": "markdown",
   "metadata": {},
   "source": [
    "In the following, we will work with strings that we read from text files."
   ]
  },
  {
   "cell_type": "markdown",
   "metadata": {},
   "source": [
    "## Handles and Reading Files\n",
    "\n",
    "\"Reading\" data from a text file consists of two steps. First, you *open a file handle* with the in-built **open()** function, using the file name (and possibly its path if it's not in the same directory) as argument. Then, you use a method (applicable on file handles) to extract the data. A frequently used method is **read()**."
   ]
  },
  {
   "cell_type": "code",
   "execution_count": 7,
   "metadata": {
    "collapsed": false
   },
   "outputs": [
    {
     "name": "stdout",
     "output_type": "stream",
     "text": [
      "<class '_io.TextIOWrapper'>\n"
     ]
    }
   ],
   "source": [
    "fname = 'email.txt'\n",
    "fh = open(fname)\n",
    "print( type(fh) )\n",
    "text_all = fh.read()"
   ]
  },
  {
   "cell_type": "markdown",
   "metadata": {},
   "source": [
    "**read()** stores the contents of the text file as one large string, here called **text_all**:"
   ]
  },
  {
   "cell_type": "code",
   "execution_count": 8,
   "metadata": {
    "collapsed": false
   },
   "outputs": [
    {
     "name": "stdout",
     "output_type": "stream",
     "text": [
      "<class 'str'>\n",
      "The text consists of 1680 characters.\n"
     ]
    }
   ],
   "source": [
    "print(type(text_all))\n",
    "print('The text consists of {} characters.'.format(len(text_all)))"
   ]
  },
  {
   "cell_type": "markdown",
   "metadata": {},
   "source": [
    "Sometimes it is more convenient to have a list of strings instead, where *each element of the list represents a line* in the text (as so often, which one the better alternative is depends on what problem you wanna solve). This is achieved by the **readlines** method:"
   ]
  },
  {
   "cell_type": "code",
   "execution_count": 10,
   "metadata": {
    "collapsed": false
   },
   "outputs": [
    {
     "name": "stdout",
     "output_type": "stream",
     "text": [
      "<class 'list'>\n",
      "35\n"
     ]
    }
   ],
   "source": [
    "fh = open(fname)\n",
    "text = fh.readlines()\n",
    "print(type(text))\n",
    "print(len(text))"
   ]
  },
  {
   "cell_type": "code",
   "execution_count": 11,
   "metadata": {
    "collapsed": false
   },
   "outputs": [
    {
     "name": "stdout",
     "output_type": "stream",
     "text": [
      "Received: from Exchange03.ifo.local (192.168.0.103) by Exchange03.ifo.local\n",
      "\n",
      "The first line consists of 76 characters.\n",
      "The text consists of 1680 characters.\n"
     ]
    }
   ],
   "source": [
    "print(text[0])\n",
    "print('The first line consists of {} characters.'.format( len(text[0])) )  \n",
    "print('The text consists of {} characters.'.format( sum([len(x) for x in text]) ) ) "
   ]
  },
  {
   "cell_type": "markdown",
   "metadata": {},
   "source": [
    "How does Python know where a line ends? Looking at the string representation of the complete text, we see that line breaks are represented by **\\n**. This is a special character also called the *newline* character. Note that it counts as one character.\n",
    "\n",
    "Hence, when parsing the text, the **readlines()** method adds a new element to the list whenever it gets to a **\\n** character. Note that the newline character is not eliminated. "
   ]
  },
  {
   "cell_type": "code",
   "execution_count": 17,
   "metadata": {
    "collapsed": false
   },
   "outputs": [
    {
     "data": {
      "text/plain": [
       "'Received: from Exchange03.ifo.local (192.168.0.103) by Exchange03.ifo.local\\n (192.168.0.103) with Microsoft SMTP Server (version=TLS1_2,\\n cipher=TLS_ECDHE_RSA_WITH_AES_256_CBC_SHA384_P384) id 15.1.544.27 via Mailbox\\n Transport; Tue, 28 Mar 2017 11:45:05 +0200\\nReceived: from Exchange03.ifo.local (192.168.0.103) by Exchange03.ifo.local\\n (192.168.0.103) with Microsoft SMTP Server (version=TLS1_2,\\n cipher=TLS_ECDHE_RSA_WITH_AES_256_CBC_SHA384_P384) id 15.1.544.27; Tue, 28\\n Mar 2017 11:45:05 +0200\\nReceived: from Exchange03.ifo.local ([fe80::10a8:53dd:646d:ffef]) by\\n Exchange03.ifo.local ([fe80::10a8:53dd:646d:ffef%15]) with mapi id\\n 15.01.0544.030; Tue, 28 Mar 2017 11:45:05 +0200\\nContent-Type: application/ms-tnef; name=\"winmail.dat\"\\nContent-Transfer-Encoding: binary\\nFrom: \"Huber, Matthias\" <Huber@ifo.de>\\nTo: \"Schmitt, Alex\" <Schmitt@ifo.de>\\nSubject: github\\nThread-Topic: github\\nThread-Index: AdKnp+iim5JkRbqhQa2A4bgYK6U1jQ==\\nDate: Tue, 28 Mar 2017 11:45:05 +0200\\nMessage-ID: <23211122c2f5403e81a78feb4d32a00e@ifo.de>\\nAccept-Language: de-DE, en-US\\nContent-Language: de-DE\\nX-MS-Has-Attach: yes\\nX-MS-Exchange-Organization-SCL: -1\\nX-MS-TNEF-Correlator: <23211122c2f5403e81a78feb4d32a00e@ifo.de>\\nMIME-Version: 1.0\\nX-MS-Exchange-Organization-MessageDirectionality: Originating\\nX-MS-Exchange-Organization-AuthSource: Exchange03.ifo.local\\nX-MS-Exchange-Organization-AuthAs: Internal\\nX-MS-Exchange-Organization-AuthMechanism: 04\\nX-Originating-IP: [192.168.2.216]\\nX-MS-Exchange-Organization-Network-Message-Id: c78661f8-a17c-409c-1497-08d475bf1d23\\nReturn-Path: Huber@ifo.de\\nX-MS-Exchange-Organization-AVStamp-Enterprise: 1.0\\nX-MS-Exchange-Transport-EndToEndLatency: 00:00:00.2656386\\n'"
      ]
     },
     "execution_count": 17,
     "metadata": {},
     "output_type": "execute_result"
    }
   ],
   "source": [
    "text_all"
   ]
  },
  {
   "cell_type": "markdown",
   "metadata": {},
   "source": [
    "## String Methods\n",
    "\n",
    "As other object types, strings have specific *methods* that only work on them. Here is a (incomplete) list of the most important methods for a string, for which we will see examples below:\n",
    "- **text.split(char)** -> list: returns a list with the elements of string, split at char (or a space by default)\n",
    "- **text.find(string)**, **text.index(string)** -> int: returns the position (index) of the first occurrence of string\n",
    "- **text.count(string)** -> int: returns number of occurrences of string in text\n",
    "- **text.startswith(string)** -> boolean: returns True whether text starts with string\n",
    "- **text.strip()**: modifies text (not in place!) by eliminating leading and trailing whitespaces\n",
    "- **text.upper()**, **text.lower()**: modifies text (not in place!) by making all characters upper (lower) cases\n",
    "- **text.capitalize**: modifies text (not in place!) by capitalizing the first character\n",
    "- **text{}.format(num)** -> str: inserts num in text\n",
    "\n",
    "As mentioned above, you can use **help()** or **dir()** to get a complete list of methods."
   ]
  },
  {
   "cell_type": "markdown",
   "metadata": {},
   "source": [
    "#### Methods don't work \"in-place\"\n",
    "\n",
    "An important property of string methods is that they do not change a string *in-place* (unlike e.g. list methods!). As an example, consider the **split()** method, which takes a string and returns a list with its elements, split at each occurrence of a given character or a space by default. Running the code below does not change the string **line**: "
   ]
  },
  {
   "cell_type": "code",
   "execution_count": 12,
   "metadata": {
    "collapsed": false
   },
   "outputs": [
    {
     "name": "stdout",
     "output_type": "stream",
     "text": [
      "Received: from Exchange03.ifo.local (192.168.0.103) by Exchange03.ifo.local\n",
      "\n",
      "Received: from Exchange03.ifo.local (192.168.0.103) by Exchange03.ifo.local\n",
      "\n"
     ]
    }
   ],
   "source": [
    "line = text[0]\n",
    "print(line)\n",
    "\n",
    "line.split()\n",
    "print( line )"
   ]
  },
  {
   "cell_type": "markdown",
   "metadata": {},
   "source": [
    "To make the operation performed by **split()** effective, we need to store it to a name (which could be the same of a different name):"
   ]
  },
  {
   "cell_type": "code",
   "execution_count": 13,
   "metadata": {
    "collapsed": false
   },
   "outputs": [
    {
     "name": "stdout",
     "output_type": "stream",
     "text": [
      "<class 'list'>\n",
      "['Received:', 'from', 'Exchange03.ifo.local', '(192.168.0.103)', 'by', 'Exchange03.ifo.local']\n"
     ]
    }
   ],
   "source": [
    "line = line.split()\n",
    "print( type(line) )\n",
    "print(line)"
   ]
  },
  {
   "cell_type": "markdown",
   "metadata": {},
   "source": [
    "The same applies to other strings methods, for example **upper()**, **lower()** and **capitalize()** which affect upper and lower cases in a string.\n",
    "\n",
    "This behavior of string methods is consistent with the fact that strings are immutable. Lists on the other hand are mutable, hence their methods work in-place."
   ]
  },
  {
   "cell_type": "markdown",
   "metadata": {},
   "source": [
    "For **split()**, you can use any character as the \"splitting points\". Note that the occurrences of this character will not be part of the resulting list:"
   ]
  },
  {
   "cell_type": "code",
   "execution_count": 20,
   "metadata": {
    "collapsed": false
   },
   "outputs": [
    {
     "name": "stdout",
     "output_type": "stream",
     "text": [
      "['Al', 'xand', 'r']\n"
     ]
    }
   ],
   "source": [
    "S = 'Alexander'\n",
    "print( S.split('e') )"
   ]
  },
  {
   "cell_type": "markdown",
   "metadata": {},
   "source": [
    "Another important method is **strip()**. Without an argument, it eliminates \"whitespace\" (spaces, newline characters, tabs) at both ends of the string. Moreover, **lstrip()** eliminates \"leading\" whitespace (at the beginning of a string), while **rstrip()** eliminates \"trailing\" whitespace. With an argument (a character), it eliminates the character instead."
   ]
  },
  {
   "cell_type": "code",
   "execution_count": 21,
   "metadata": {
    "collapsed": false
   },
   "outputs": [
    {
     "name": "stdout",
     "output_type": "stream",
     "text": [
      "Help on built-in function rstrip:\n",
      "\n",
      "rstrip(...) method of builtins.str instance\n",
      "    S.rstrip([chars]) -> str\n",
      "    \n",
      "    Return a copy of the string S with trailing whitespace removed.\n",
      "    If chars is given and not None, remove characters in chars instead.\n",
      "\n"
     ]
    }
   ],
   "source": [
    "help(S.rstrip)"
   ]
  },
  {
   "cell_type": "code",
   "execution_count": 14,
   "metadata": {
    "collapsed": false
   },
   "outputs": [
    {
     "name": "stdout",
     "output_type": "stream",
     "text": [
      "[' ', 'i', 'f', 'o', ' ']\n",
      "['i', 'f', 'o', ' ']\n",
      "['i', 'f', 'o']\n"
     ]
    }
   ],
   "source": [
    "S = ' ifo '\n",
    "print( list(S) )\n",
    "print( list(S.lstrip()) )\n",
    "print( list(S.strip()) )"
   ]
  },
  {
   "cell_type": "code",
   "execution_count": 15,
   "metadata": {
    "collapsed": false
   },
   "outputs": [
    {
     "name": "stdout",
     "output_type": "stream",
     "text": [
      "['i', 'f', 'o', ' ', 'M', 'u', 'n', 'i', 'c', 'h']\n",
      "['f', 'o', ' ', 'M', 'u', 'n', 'i', 'c', 'h', '\\n']\n"
     ]
    }
   ],
   "source": [
    "S = 'ifo Munich\\n'\n",
    "print( list(S.rstrip()) )\n",
    "print( list(S.strip('i')) )"
   ]
  },
  {
   "cell_type": "markdown",
   "metadata": {},
   "source": [
    "Note that I have converted the string to lists in these examples in order to make clear which characters are eliminated when using **strip()**."
   ]
  },
  {
   "cell_type": "markdown",
   "metadata": {},
   "source": [
    "#### Parsing a string\n",
    "\n",
    "You can parse strings and check if they contain a certain substring by using the **find** and **index** methods. They return the position (index) of the *first* occurrence of the substring. Note that if the substring is not in the text, **find** will return -1 while **index** will throw an error."
   ]
  },
  {
   "cell_type": "code",
   "execution_count": 16,
   "metadata": {
    "collapsed": false
   },
   "outputs": [
    {
     "name": "stdout",
     "output_type": "stream",
     "text": [
      "816\n"
     ]
    }
   ],
   "source": [
    "pos = text_all.find('Schmitt')\n",
    "print(pos)"
   ]
  },
  {
   "cell_type": "code",
   "execution_count": 17,
   "metadata": {
    "collapsed": false
   },
   "outputs": [
    {
     "name": "stdout",
     "output_type": "stream",
     "text": [
      "Schmitt\n",
      "SCHMITT schmitt\n",
      "Chmitt\n"
     ]
    }
   ],
   "source": [
    "print(text_all[pos : pos + 7])\n",
    "print(text_all[pos : pos + 7].upper(), text_all[pos : pos + 7].lower())\n",
    "print(text_all[pos + 1 : pos + 7].capitalize())"
   ]
  },
  {
   "cell_type": "code",
   "execution_count": 20,
   "metadata": {
    "collapsed": false
   },
   "outputs": [
    {
     "name": "stdout",
     "output_type": "stream",
     "text": [
      "817\n",
      "-1\n"
     ]
    }
   ],
   "source": [
    "print(text_all.index('chmitt'))\n",
    "print(text_all.find('SCHMITT'))\n",
    "# print(text_all.index('Chmitt')) #-> throws an error!"
   ]
  },
  {
   "cell_type": "markdown",
   "metadata": {},
   "source": [
    "If you are not interested in where a substring is contained in a string, but how often, use the **count** method:"
   ]
  },
  {
   "cell_type": "code",
   "execution_count": 27,
   "metadata": {
    "collapsed": false
   },
   "outputs": [
    {
     "data": {
      "text/plain": [
       "12"
      ]
     },
     "execution_count": 27,
     "metadata": {},
     "output_type": "execute_result"
    }
   ],
   "source": [
    "text_all.count('ifo')"
   ]
  },
  {
   "cell_type": "markdown",
   "metadata": {},
   "source": [
    "#### The format method\n",
    "\n",
    "I have used the **format()** method already a few times in some of the PS solutions. It is especially useful in connection with **print()**, since it allows you to substitute arguments (typically numbers) into a string. To indicate the position where the argument should be inserted, use curly brackets **{}**:"
   ]
  },
  {
   "cell_type": "code",
   "execution_count": 22,
   "metadata": {
    "collapsed": false
   },
   "outputs": [
    {
     "name": "stdout",
     "output_type": "stream",
     "text": [
      "What is Pi? 3.141592653589793, of course!\n"
     ]
    }
   ],
   "source": [
    "import math\n",
    "\n",
    "print('What is Pi? {}, of course!'.format(math.pi))"
   ]
  },
  {
   "cell_type": "markdown",
   "metadata": {},
   "source": [
    "Alternatively, one could use a concatenation of different strings - which is much more tedious:"
   ]
  },
  {
   "cell_type": "code",
   "execution_count": 29,
   "metadata": {
    "collapsed": false
   },
   "outputs": [
    {
     "name": "stdout",
     "output_type": "stream",
     "text": [
      "What is Pi? 3.141592653589793, of course!\n"
     ]
    }
   ],
   "source": [
    "print('What is Pi? ' + str(math.pi) + ', of course!')"
   ]
  },
  {
   "cell_type": "markdown",
   "metadata": {},
   "source": [
    "A second advantage of **format()** is that you can choose the format, i.e. the number of digits printed:"
   ]
  },
  {
   "cell_type": "code",
   "execution_count": 30,
   "metadata": {
    "collapsed": false
   },
   "outputs": [
    {
     "name": "stdout",
     "output_type": "stream",
     "text": [
      "What is Pi? 3.1415926535897931, of course!\n",
      "What is Pi? 3.141592653589793, of course!\n"
     ]
    }
   ],
   "source": [
    "print('What is Pi? {:.17}, of course!'.format(math.pi))\n",
    "print('What is Pi? {:17}, of course!'.format(math.pi))"
   ]
  },
  {
   "cell_type": "markdown",
   "metadata": {},
   "source": [
    "You can also substitute in multiple arguments:"
   ]
  },
  {
   "cell_type": "code",
   "execution_count": 23,
   "metadata": {
    "collapsed": false
   },
   "outputs": [
    {
     "name": "stdout",
     "output_type": "stream",
     "text": [
      "What is Pi up to the 16th digit? 3.1415926535897931, of course!\n"
     ]
    }
   ],
   "source": [
    "A = 17\n",
    "print('What is Pi up to the {}th digit? {:.17}, of course!'.format(A - 1, math.pi))"
   ]
  },
  {
   "cell_type": "markdown",
   "metadata": {},
   "source": [
    "## Iterating over a file handle"
   ]
  },
  {
   "cell_type": "markdown",
   "metadata": {},
   "source": [
    "In many cases, you may not be interested in the complete text, but only in certain parts of it or looking for specific information contained in the text. In these cases, it's not necessary to read all the data using **read()** or **readlines()**. Instead, you can use the file handle as an iterator in a **for** loop and go through the text line by line. This is particularly useful if the file is very large, so reading it in its entirety would occupy a lot of your computer's memory.\n",
    "\n",
    "For example, assume you want to extract all email addresses in the text. One way to do this would is to store all lines that contain a '@' in a list: "
   ]
  },
  {
   "cell_type": "code",
   "execution_count": 32,
   "metadata": {
    "collapsed": false
   },
   "outputs": [
    {
     "name": "stdout",
     "output_type": "stream",
     "text": [
      "['From: \"Huber, Matthias\" <Huber@ifo.de>\\n', 'To: \"Schmitt, Alex\" <Schmitt@ifo.de>\\n', 'Message-ID: <23211122c2f5403e81a78feb4d32a00e@ifo.de>\\n', 'X-MS-TNEF-Correlator: <23211122c2f5403e81a78feb4d32a00e@ifo.de>\\n', 'Return-Path: Huber@ifo.de\\n']\n"
     ]
    }
   ],
   "source": [
    "fh = open(fname)\n",
    "## define an empty list\n",
    "addresses = []\n",
    "\n",
    "## loop through the file handle\n",
    "for line in fh:\n",
    "    if line.find('@') > 0:\n",
    "        addresses.append(line)\n",
    "    \n",
    "print(addresses)  "
   ]
  },
  {
   "cell_type": "markdown",
   "metadata": {},
   "source": [
    "Note that this works even though the file handle is not a sequence like lists or strings that we used so far for iterating through. However, in connection with a **for** loop, the file handle works pretty much like *a sequence of lines*.  \n",
    "\n",
    "The **for** loop above reduces a potentially long text to those lines that may contain relevant information. Closer inspection of the resulting list shows that there are two email addresses in lines that start with 'From: ' and with 'To: '. We can use this information to parse the text again, this time making our query more preciseby  using the **startswith()** method (which returns a boolean). Note that I also use **strip()** to get rid of the newline characters:"
   ]
  },
  {
   "cell_type": "code",
   "execution_count": 33,
   "metadata": {
    "collapsed": false
   },
   "outputs": [
    {
     "name": "stdout",
     "output_type": "stream",
     "text": [
      "['From: \"Huber, Matthias\" <Huber@ifo.de>', 'To: \"Schmitt, Alex\" <Schmitt@ifo.de>']\n"
     ]
    }
   ],
   "source": [
    "fh = open(fname)\n",
    "\n",
    "addresses = []\n",
    "for line in fh:\n",
    "    if line.startswith('From') or line.startswith('To'):\n",
    "        addresses.append(line.strip())\n",
    "    \n",
    "print(addresses) "
   ]
  },
  {
   "cell_type": "markdown",
   "metadata": {},
   "source": [
    "Note that there are better ways to parse a text for specific characters, as we will see in a bit. \n",
    "\n",
    "Often it is not necessary to parse the whole text. For example, if you are only interested in the subject of an email, you can stop the loop after the relevant line, using a **break** statement:"
   ]
  },
  {
   "cell_type": "code",
   "execution_count": 34,
   "metadata": {
    "collapsed": false
   },
   "outputs": [
    {
     "name": "stdout",
     "output_type": "stream",
     "text": [
      "github\n",
      "\n"
     ]
    }
   ],
   "source": [
    "fh = open(fname)\n",
    "\n",
    "addresses = []\n",
    "for line in fh:\n",
    "    if line.startswith('Subject'):\n",
    "        print(line[9:])\n",
    "        break\n"
   ]
  },
  {
   "cell_type": "markdown",
   "metadata": {},
   "source": [
    "## Writing to Text Files\n",
    "\n",
    "So far, we have focused on how to read data from text files. We can also use Python to write data a new text file. Again, you need to create a file handle first by using the **open** function. Here, you give the name of the file that you wanna write to. Moreover, **open()** now needs a second argument, **'w'**, indicating that you want to use the file for writing."
   ]
  },
  {
   "cell_type": "code",
   "execution_count": 27,
   "metadata": {
    "collapsed": true
   },
   "outputs": [],
   "source": [
    "fh_write = open('print_addresses.txt', 'w')"
   ]
  },
  {
   "cell_type": "markdown",
   "metadata": {},
   "source": [
    "Note that if the file already exists, its content will be *overwritten*, so be careful. If it doesn't exist, a new file is created.\n",
    "\n",
    "As an example, let's go through our email file from above again and look for senders and receivers. But this time, rather than printing the corresponding email addresses to the screen, we write them to a text file **print_addresses.txt**:"
   ]
  },
  {
   "cell_type": "code",
   "execution_count": 28,
   "metadata": {
    "collapsed": false
   },
   "outputs": [],
   "source": [
    "fh = open(fname)\n",
    "\n",
    "for line in fh:\n",
    "    if line.startswith('From') or line.startswith('To'):\n",
    "        fh_write.write(line.strip() + '\\n')      "
   ]
  },
  {
   "cell_type": "markdown",
   "metadata": {},
   "source": [
    "Importantly, in order to save the content of the new text file, you need to close its file handle:"
   ]
  },
  {
   "cell_type": "code",
   "execution_count": 29,
   "metadata": {
    "collapsed": true
   },
   "outputs": [],
   "source": [
    "fh_write.close()  "
   ]
  },
  {
   "cell_type": "markdown",
   "metadata": {},
   "source": [
    "Note that you could also close the file handles that you use for reading files, but that's not strictly necessary.\n",
    "\n",
    "You don't have to write to *txt* files. Other formats like *csv* are also possible. But note that for writing numerical data to *csv* files, there are more efficient ways that we will see in the section on Numpy."
   ]
  },
  {
   "cell_type": "markdown",
   "metadata": {},
   "source": [
    "## Regular Expressions\n",
    "\n",
    "Regular Expressions (\"regex\") are an idea that exist in many programming language, not only in Python. In Python, we need to import the module **re** in order to use them."
   ]
  },
  {
   "cell_type": "code",
   "execution_count": 30,
   "metadata": {
    "collapsed": true
   },
   "outputs": [],
   "source": [
    "import re"
   ]
  },
  {
   "cell_type": "markdown",
   "metadata": {},
   "source": [
    "Wikipedia defines Regular Expressions as \"a sequence of characters that define a search pattern\" in a string. They are a somewhat advanced topic that require a bit of getting used to, but are extremely useful in the context of parsing through a text or a web page.\n",
    "\n",
    "#### Extracting strings with findall\n",
    "\n",
    "A frequently used function in the **re** package is **findall**. It takes a regular expression and parses through a string (here **text_all**), returning a list of all the occurrence of the expression:"
   ]
  },
  {
   "cell_type": "code",
   "execution_count": 31,
   "metadata": {
    "collapsed": false
   },
   "outputs": [
    {
     "name": "stdout",
     "output_type": "stream",
     "text": [
      "['ifo', 'ifo', 'ifo', 'ifo', 'ifo', 'ifo', 'ifo', 'ifo', 'ifo', 'ifo', 'ifo', 'ifo']\n",
      "12\n"
     ]
    }
   ],
   "source": [
    "print( re.findall('ifo', text_all) )\n",
    "print( len(re.findall('ifo', text_all)) )"
   ]
  },
  {
   "cell_type": "markdown",
   "metadata": {},
   "source": [
    "In this simple example, the regular expression is just a string, **'ifo'**. This example is not terribly impressive; after all, we could simply use **count** if we were only interested in how often appears a given string in a text. The real power of regular expressions is illustrated in the next example: "
   ]
  },
  {
   "cell_type": "code",
   "execution_count": 32,
   "metadata": {
    "collapsed": false
   },
   "outputs": [
    {
     "data": {
      "text/plain": [
       "['Huber@ifo.de', 'Schmitt@ifo.de', 'e@ifo.de', 'e@ifo.de', 'Huber@ifo.de']"
      ]
     },
     "execution_count": 32,
     "metadata": {},
     "output_type": "execute_result"
    }
   ],
   "source": [
    "re.findall('[A-Za-z]+@[a-z.]+', text_all)"
   ]
  },
  {
   "cell_type": "markdown",
   "metadata": {},
   "source": [
    "Here, the regular expression (the first argument in the **findall** function) looks rather strange. What it does is obvious though: it parses through **text_all** and extracts all strings that look like an email address. We will get back to how it does it. \n",
    "\n",
    "Let us consider a simpler example of a regular expression first. Suppose you want to find all strings that start with a certain sequence of characters, e.g. **Schm**, and then continue with an arbitrary sequence of characters until it hits a space. The regular expression **'Schm\\S+'** does just that: "
   ]
  },
  {
   "cell_type": "code",
   "execution_count": 36,
   "metadata": {
    "collapsed": false
   },
   "outputs": [
    {
     "data": {
      "text/plain": [
       "['Schmitt,', 'Schmitt@ifo.de>']"
      ]
     },
     "execution_count": 36,
     "metadata": {},
     "output_type": "execute_result"
    }
   ],
   "source": [
    "re.findall('Schm\\S+', text_all)"
   ]
  },
  {
   "cell_type": "markdown",
   "metadata": {},
   "source": [
    "In other words, you find all strings in **text_all** (here two strings) that *match the pattern captured by the regular expression*.\n",
    "\n",
    "**\\S** and **+** are special characters in regular expressions. **\\S** is a *wildcard* or a *placeholder* for non-whitespace characters and **+** represents a sequence of one or more characters. In other words, the combination **\\S+** in a regular expression means *a sequence of one or more non-whitespace characters*. \n",
    "\n",
    "There are a few other important combinations (compare also the cheatsheet):\n",
    "- **.+**: a sequence of one or more characters (i.e., any character)\n",
    "- **\\S* **: a sequence of zero or more non-whitespace characters\n",
    "- **\\s+**:  a sequence of one or more whitespace character\n",
    "- **\\S+?**: a *non-greedy* sequence of one or more non-whitespace characters (that stops as soon as possible)\n",
    "\n",
    "Consider an example with any character:"
   ]
  },
  {
   "cell_type": "code",
   "execution_count": 37,
   "metadata": {
    "collapsed": false
   },
   "outputs": [
    {
     "data": {
      "text/plain": [
       "['Tue, 28 Mar 2017 11:45:05 +0200',\n",
       " 'Tue, 28',\n",
       " 'Tue, 28 Mar 2017 11:45:05 +0200',\n",
       " 'Tue, 28 Mar 2017 11:45:05 +0200']"
      ]
     },
     "execution_count": 37,
     "metadata": {},
     "output_type": "execute_result"
    }
   ],
   "source": [
    "re.findall('Tue.+', text_all)"
   ]
  },
  {
   "cell_type": "markdown",
   "metadata": {},
   "source": [
    "Note that regular expressions stop at the newline character, unless they are *non-greedy*, then they stop as soon as possible:"
   ]
  },
  {
   "cell_type": "code",
   "execution_count": 38,
   "metadata": {
    "collapsed": false
   },
   "outputs": [
    {
     "data": {
      "text/plain": [
       "['Tue,', 'Tue,', 'Tue,', 'Tue,']"
      ]
     },
     "execution_count": 38,
     "metadata": {},
     "output_type": "execute_result"
    }
   ],
   "source": [
    "re.findall('Tue.+?', text_all)"
   ]
  },
  {
   "cell_type": "markdown",
   "metadata": {},
   "source": [
    "Suppose you want to find a string that contains a special regex character, e.g. '+'. You can use a backslash to indicate that a \"normal\" use of a special character."
   ]
  },
  {
   "cell_type": "code",
   "execution_count": 39,
   "metadata": {
    "collapsed": false
   },
   "outputs": [
    {
     "data": {
      "text/plain": [
       "['+', '+', '+', '+', '+']"
      ]
     },
     "execution_count": 39,
     "metadata": {},
     "output_type": "execute_result"
    }
   ],
   "source": [
    "re.findall('\\+', text_all)"
   ]
  },
  {
   "cell_type": "markdown",
   "metadata": {},
   "source": [
    "Square brackets can be used to indicate a set of characters that should be matched, rather than any character or any white-space character:\n",
    "\n",
    "- [abc]: a character that is either an 'a', a 'b' or a 'c'\n",
    "- [aeiou]+: a sequence of one or more vowels\n",
    "- [a-z]+: a sequence of one or more lowercase letters\n",
    "- [A-Za-z]+: a sequence of one or more letters\n",
    "- [0-9.]+: a sequence of one or more numbers OR a dot \n",
    "\n",
    "Note that inside square brackets, special regex characters (e.g. **.**) are treated like normal characters.\n",
    "\n",
    "The following example extracts all numbers, including numbers with decimals and IP addresses:"
   ]
  },
  {
   "cell_type": "code",
   "execution_count": 42,
   "metadata": {
    "collapsed": false
   },
   "outputs": [
    {
     "data": {
      "text/plain": [
       "['03.',\n",
       " '.',\n",
       " '192.168.0.103',\n",
       " '03.',\n",
       " '.',\n",
       " '192.168.0.103',\n",
       " '1',\n",
       " '2',\n",
       " '256',\n",
       " '384',\n",
       " '384',\n",
       " '15.1.544.27',\n",
       " '28',\n",
       " '2017',\n",
       " '11',\n",
       " '45',\n",
       " '05',\n",
       " '0200',\n",
       " '03.',\n",
       " '.',\n",
       " '192.168.0.103',\n",
       " '03.',\n",
       " '.',\n",
       " '192.168.0.103',\n",
       " '1',\n",
       " '2',\n",
       " '256',\n",
       " '384',\n",
       " '384',\n",
       " '15.1.544.27',\n",
       " '28',\n",
       " '2017',\n",
       " '11',\n",
       " '45',\n",
       " '05',\n",
       " '0200',\n",
       " '03.',\n",
       " '.',\n",
       " '80',\n",
       " '10',\n",
       " '8',\n",
       " '53',\n",
       " '646',\n",
       " '03.',\n",
       " '.',\n",
       " '80',\n",
       " '10',\n",
       " '8',\n",
       " '53',\n",
       " '646',\n",
       " '15',\n",
       " '15.01.0544.030',\n",
       " '28',\n",
       " '2017',\n",
       " '11',\n",
       " '45',\n",
       " '05',\n",
       " '0200',\n",
       " '.',\n",
       " '.',\n",
       " '.',\n",
       " '5',\n",
       " '2',\n",
       " '4',\n",
       " '6',\n",
       " '1',\n",
       " '28',\n",
       " '2017',\n",
       " '11',\n",
       " '45',\n",
       " '05',\n",
       " '0200',\n",
       " '23211122',\n",
       " '2',\n",
       " '5403',\n",
       " '81',\n",
       " '78',\n",
       " '4',\n",
       " '32',\n",
       " '00',\n",
       " '.',\n",
       " '1',\n",
       " '23211122',\n",
       " '2',\n",
       " '5403',\n",
       " '81',\n",
       " '78',\n",
       " '4',\n",
       " '32',\n",
       " '00',\n",
       " '.',\n",
       " '1.0',\n",
       " '03.',\n",
       " '.',\n",
       " '04',\n",
       " '192.168.2.216',\n",
       " '78661',\n",
       " '8',\n",
       " '17',\n",
       " '409',\n",
       " '1497',\n",
       " '08',\n",
       " '475',\n",
       " '1',\n",
       " '23',\n",
       " '.',\n",
       " '1.0',\n",
       " '00',\n",
       " '00',\n",
       " '00.2656386']"
      ]
     },
     "execution_count": 42,
     "metadata": {},
     "output_type": "execute_result"
    }
   ],
   "source": [
    "re.findall('[0-9.]+', text_all)"
   ]
  },
  {
   "cell_type": "markdown",
   "metadata": {},
   "source": [
    "At this point, we can also look at our initial example from above that extracts all email addresses (or what looks like an email address):"
   ]
  },
  {
   "cell_type": "code",
   "execution_count": 46,
   "metadata": {
    "collapsed": false
   },
   "outputs": [
    {
     "data": {
      "text/plain": [
       "['Huber@ifo.de', 'Schmitt@ifo.de', 'e@ifo.de', 'e@ifo.de', 'Huber@ifo.de']"
      ]
     },
     "execution_count": 46,
     "metadata": {},
     "output_type": "execute_result"
    }
   ],
   "source": [
    "re.findall('[A-Za-z]+@[a-z.]+', text_all)"
   ]
  },
  {
   "cell_type": "markdown",
   "metadata": {},
   "source": [
    "The regular expression here works in the following way: extract all strings that consist of a **@**, with a sequence of one or more upper- or lowercase letters in front of it, and a sequence of one or more lowercase letters or dots behind it. \n",
    "\n",
    "Using parentheses in regular expressions allow you to extract only a specific part of a string matching the regular expression - the part inside the parentheses - even though the regular expression can be longer:"
   ]
  },
  {
   "cell_type": "code",
   "execution_count": 47,
   "metadata": {
    "collapsed": false
   },
   "outputs": [
    {
     "data": {
      "text/plain": [
       "['Tue, 28 Mar 2017 11:45:05 +0200']"
      ]
     },
     "execution_count": 47,
     "metadata": {},
     "output_type": "execute_result"
    }
   ],
   "source": [
    "re.findall('Date: (.+)', text_all)"
   ]
  },
  {
   "cell_type": "markdown",
   "metadata": {},
   "source": [
    "Finally, **^** and **$** indicate the beginning and the end of a string. "
   ]
  },
  {
   "cell_type": "code",
   "execution_count": 48,
   "metadata": {
    "collapsed": false
   },
   "outputs": [
    {
     "data": {
      "text/plain": [
       "['Received']"
      ]
     },
     "execution_count": 48,
     "metadata": {},
     "output_type": "execute_result"
    }
   ],
   "source": [
    "re.findall('^[A-Za-z]+', text_all)"
   ]
  },
  {
   "cell_type": "markdown",
   "metadata": {},
   "source": [
    "#### Other regex functions\n",
    "\n",
    "So far, we have used the **findall** functions to parse a text and extract strings that match our regular expression. If you are not interested in extracting strings, but only want to check if a string matching a regex is contained in the text, you can use **search**. Note that **search** does not return a boolean, but can be used in an equivalent way:"
   ]
  },
  {
   "cell_type": "code",
   "execution_count": 49,
   "metadata": {
    "collapsed": false
   },
   "outputs": [
    {
     "name": "stdout",
     "output_type": "stream",
     "text": [
      "Found!\n"
     ]
    }
   ],
   "source": [
    "if re.search('Schm\\S+', text_all):\n",
    "    print('Found!')"
   ]
  },
  {
   "cell_type": "markdown",
   "metadata": {},
   "source": [
    "Another useful function is **sub**, which lets you replace strings that match a regex by another string. Recall that the resulting string must be stored under a new variable name:"
   ]
  },
  {
   "cell_type": "code",
   "execution_count": 50,
   "metadata": {
    "collapsed": false
   },
   "outputs": [
    {
     "name": "stdout",
     "output_type": "stream",
     "text": [
      "From: \"Huber, Matthias\" <Huber@ifo.de>\n",
      "\n",
      "From: \"Meier, Matthias\" <Meier@ifo.de>\n",
      "\n"
     ]
    }
   ],
   "source": [
    "print(text[13])\n",
    "new = re.sub('H[a-z]+', 'Meier', text[13])\n",
    "print(new)"
   ]
  },
  {
   "cell_type": "markdown",
   "metadata": {
    "collapsed": true
   },
   "source": [
    "## Application: parsing a scientific text for numeric data"
   ]
  },
  {
   "cell_type": "markdown",
   "metadata": {},
   "source": [
    "The text file **jeem.txt** contains a journal article on the EU Emission Trading System (EU ETS). Suppose we are interested in parsing the text and extracting all sentences that contain numerical values. The following steps show you to achieve this.\n",
    "\n",
    "First, we need to open the file and read the text. Parsing the text with **readlines** works, but actually returns a list of paragraphs, rather than sentences, simply because the newline characters are set at the end of paragraphs. "
   ]
  },
  {
   "cell_type": "code",
   "execution_count": 44,
   "metadata": {
    "collapsed": false
   },
   "outputs": [
    {
     "name": "stdout",
     "output_type": "stream",
     "text": [
      "The text consists of 16808 characters.\n"
     ]
    }
   ],
   "source": [
    "fname = 'jeem.txt'\n",
    "fh = open(fname, encoding='utf8')\n",
    "text = fh.readlines()\n",
    "\n",
    "print('The text consists of {} characters.'.format( sum([len(x) for x in text]) ) ) "
   ]
  },
  {
   "cell_type": "markdown",
   "metadata": {},
   "source": [
    "In order to obtain a list with sentences rather than paragraphs, we can loop though the file handle and convert the object in each iteration -- a paragraph -- to a list of lines, using the **split** methods. We use '. ' (i.e. a period followed by a space) as the argument at which to split. We can then add the contents of this list to a list called **text** which contains all the previous lines. Before this step, I clean the paragraph of leading and trailing white space using **strip**. Note that I also need to make a few substitutions:\n",
    "- since I use the period char '.' as the splitting point, I need to make sure that it marks the end of the sentence. In scientific papers, a common occurrence of '.' is in 'et al.'. Below, I use the **sub** function for regular expressions to replace 'et al.' by 'et al'.\n",
    "- while I want to extract numerical values, I'm not interested in citations that contain years. Hence, I perform a couple of substitutions that are meant to catch years in citations and effectively erase them."
   ]
  },
  {
   "cell_type": "code",
   "execution_count": 57,
   "metadata": {
    "collapsed": false
   },
   "outputs": [
    {
     "name": "stdout",
     "output_type": "stream",
     "text": [
      "<class 'list'>\n",
      "<class 'str'>\n",
      "16439\n"
     ]
    }
   ],
   "source": [
    "fh = open(fname, encoding='utf8')\n",
    "\n",
    "text = []\n",
    "for item in fh:\n",
    "    ## eliminate whitespace\n",
    "    paragraph = item.strip()\n",
    "    \n",
    "    ## substitutions\n",
    "    paragraph = re.sub('et al.', 'et al', paragraph)\n",
    "    paragraph = re.sub('[0-9]+\\)', ')', paragraph)\n",
    "    paragraph = re.sub('[0-9]+;', ';', paragraph)\n",
    "    paragraph = re.sub('[0-9]+ ;', ';', paragraph)\n",
    "\n",
    "    ## use split on paragraph and add the resulting list it to the text list\n",
    "    text = text + paragraph.split('. ')\n",
    "print(type(text))\n",
    "print(type(text_all))\n",
    "print(sum([len(line) for line in text])) "
   ]
  },
  {
   "cell_type": "markdown",
   "metadata": {},
   "source": [
    "Let's display the first ten items of the **text** list to check if it worked. Recall that now one item in this list should correspond to a sentence in the original text."
   ]
  },
  {
   "cell_type": "code",
   "execution_count": 58,
   "metadata": {
    "collapsed": false
   },
   "outputs": [
    {
     "data": {
      "text/plain": [
       "['Introduction',\n",
       " 'The European Union Emissions Trading System (EU ETS) is currently the largest carbon trading system in the world, unless and until it is overtaken by the Chinese national carbon trading scheme planned for introduction in 2017 (Jotzo and Löschel, ;  Zhang et al, )',\n",
       " 'Although the EU ETS is meeting its core objective – EU emissions covered by the scheme remain below the total emissions cap – it is sometimes described as having ‘failed’ because prices are too low to incentivise substantial short-run emissions reductions and too volatile to provide adequate long-run incentives for investments in clean technologies.',\n",
       " '',\n",
       " 'European Allowances (EUAs) – the unit of compliance – have traded below €10 from 2013 onwards (EEX )',\n",
       " 'The price is below most estimates of the social cost of carbon for example as used in US government regulatory analysis (Greenstone et al, ; Goulder and Williams, ; United States Interagency Group, )',\n",
       " 'It is also low relative to the implicit price used internally by many companies when making their investment decisions',\n",
       " 'For instance, several multinational oil companies use internal screening prices of US $40/€35 or more (Kossoy et al, ), even though they operate in jurisdictions that are, on the whole, subject to lighter carbon regulation than in Europe.',\n",
       " '',\n",
       " 'There are various reasons for the low EUA prices']"
      ]
     },
     "execution_count": 58,
     "metadata": {},
     "output_type": "execute_result"
    }
   ],
   "source": [
    "text[:10]"
   ]
  },
  {
   "cell_type": "markdown",
   "metadata": {},
   "source": [
    "As the final step, we can loop through the **text** list and check for each sentence if it has a numerical value. If so, we add it to a new list, **text_num**, and also print it to the screen. Alternatively, we could have also written it to a text file. "
   ]
  },
  {
   "cell_type": "code",
   "execution_count": 59,
   "metadata": {
    "collapsed": false
   },
   "outputs": [
    {
     "name": "stdout",
     "output_type": "stream",
     "text": [
      "The European Union Emissions Trading System (EU ETS) is currently the largest carbon trading system in the world, unless and until it is overtaken by the Chinese national carbon trading scheme planned for introduction in 2017 (Jotzo and Löschel, ;  Zhang et al, )\n",
      "European Allowances (EUAs) – the unit of compliance – have traded below €10 from 2013 onwards (EEX )\n",
      "For instance, several multinational oil companies use internal screening prices of US $40/€35 or more (Kossoy et al, ), even though they operate in jurisdictions that are, on the whole, subject to lighter carbon regulation than in Europe.\n",
      "Emissions allowances issued each year began to exceed actual annual emissions in 2009 (Redman and Convery, ) and a large surplus has been built up through banking\n",
      "The 2030 Climate and Energy Reform Package (European Council, ) decided that the annual (linear) reduction factor for the EU ETS will be increased from 1.74 to 2.2 percent per annum from 2021-2030\n",
      "In November 2012, the European Commission released a paper on the “The state of the European carbon market in 2012” and proposed several structural measures to reform the EU ETS (European Commission, ) outside of the usual review cycle\n",
      "The first policy proposal was to “backload” – postpone the issuance of – 900 million allowances from 2014-2016 auctions to 2019-2020 auctions\n",
      "This idea was put into legislation in early 2014, but it had limited impact on prices\n",
      "The MSR might be described as a quantity-based rule aimed at balancing supply and demand (European Union, ),1 operating as follows\n",
      "If the total number of allowances in circulation2 is\n",
      "less than 400 m, then the MSR releases 100 m allowances into circulation unless the MSR is empty;\n",
      "between 400 m and 833 m, then the market functions without intervention;\n",
      "greater than 833 m, then the MSR absorbs 12 per cent of allowances in circulation each year by deducting them from future auctions.\n",
      "One motivation for this was to avoid the MSR being perceived to be “primarily of a fiscal nature” under article 192 §2 of the Lisbon Treaty (European Union, ) requiring unanimity of EU members for adoption\n",
      "Led by the German Institute for Economic Research (DIW Berlin), an international research consortium was formed in 2014 to support the European Commission by considering the design options using different models and different methodological approaches – theoretical and experimental\n",
      "Consortium members were drawn from a dozen different institutions in the EU, USA, and Australia.3\n",
      "Given the timing of the European policy agenda – with the Climate and Energy package in October 2014 and final decisions on the MSR to be made in 2015 – papers were presented and discussed at a September 2014 Workshop at DIW Berlin, and at a special policy session at the European Association of Environmental and Resource Economics conference in Helsinki in June 2015\n",
      "The legal and political issues specific to the EU were among the main motivations for selecting this category of intervention, given the political constraints of reforming a scheme operating in 28 European countries.\n",
      "In the event, the recommendation of Neuhoff et al () appears to have been adopted and the first review is required in 2021.\n",
      "In summary, has the MSR given the EU ETS the shot in the arm as intended? As of 2016, it might seem not\n",
      "Longer-term expectations about evolving 2030 policy and the impact of a possible “Brexit” enhance regulatory risks\n",
      "However, the full impacts of the MSR may only be observed once it commences operation in 2019 and is filled with allowances, likely in the early 2020s\n"
     ]
    }
   ],
   "source": [
    "text_num = []\n",
    "for item in text:\n",
    "    if re.search('[0-9]+', item):\n",
    "        text_num.append(item)\n",
    "        print(item)"
   ]
  },
  {
   "cell_type": "code",
   "execution_count": null,
   "metadata": {
    "collapsed": true
   },
   "outputs": [],
   "source": []
  }
 ],
 "metadata": {
  "kernelspec": {
   "display_name": "Python 3",
   "language": "python",
   "name": "python3"
  },
  "language_info": {
   "codemirror_mode": {
    "name": "ipython",
    "version": 3
   },
   "file_extension": ".py",
   "mimetype": "text/x-python",
   "name": "python",
   "nbconvert_exporter": "python",
   "pygments_lexer": "ipython3",
   "version": "3.6.0"
  }
 },
 "nbformat": 4,
 "nbformat_minor": 0
}
