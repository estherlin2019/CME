{
 "cells": [
  {
   "cell_type": "markdown",
   "metadata": {},
   "source": [
    "# Introduction to Python - Data Types II, Functions, Modules\n",
    "\n",
    "## Problem Set"
   ]
  },
  {
   "cell_type": "code",
   "execution_count": 1,
   "metadata": {
    "collapsed": false
   },
   "outputs": [
    {
     "name": "stdout",
     "output_type": "stream",
     "text": [
      "Last update: 2017-04-28 08:52:52.485805\n"
     ]
    }
   ],
   "source": [
    "# Author: Alex Schmitt (schmitt@ifo.de)\n",
    "\n",
    "import datetime\n",
    "print('Last update: ' + str(datetime.datetime.today()))"
   ]
  },
  {
   "cell_type": "markdown",
   "metadata": {},
   "source": [
    "## Question 1\n",
    "\n",
    "Recall that $n!$ is read as *n factorial* and defined as\n",
    "\\begin{equation}\n",
    "    n!=n×(n−1)×⋯×2×1n!=n×(n−1)×⋯×2×1\n",
    "\\end{equation}\n",
    "There are functions to compute this in various packages, but let’s write our own version as an exercise. In particular, write a function **factorial** such that **factorial(n)** returns $n!$ for any positive integer n. (Source: quantecon.org, An Introductory Example, Exercise 1)"
   ]
  },
  {
   "cell_type": "code",
   "execution_count": 2,
   "metadata": {
    "collapsed": false
   },
   "outputs": [
    {
     "name": "stdout",
     "output_type": "stream",
     "text": [
      "The factorial of 3 is 6.\n"
     ]
    }
   ],
   "source": [
    "def factorial(n):\n",
    "    prod = 1\n",
    "    for i in range(1,n+1):\n",
    "        prod *= i\n",
    "    return prod\n",
    "\n",
    "n = 3\n",
    "print('The factorial of {} is {}.'.format(n, factorial(n)) )"
   ]
  },
  {
   "cell_type": "markdown",
   "metadata": {},
   "source": [
    "## Question 2\n",
    "\n",
    "Write a function **removes_duplicates** that takes a list (with elements of any type) and removes all duplicates, i.e. returns a list in which each element appears only once. For example, inputting **[1,1,2,2]** should return **([1,2])**. Try to solve this problem in *two different ways*.\n",
    "\n",
    "Hint: For this question, useful functions and methods are **.append()** (for lists) and the functions **set()** and **list()**."
   ]
  },
  {
   "cell_type": "code",
   "execution_count": 3,
   "metadata": {
    "collapsed": false
   },
   "outputs": [
    {
     "name": "stdout",
     "output_type": "stream",
     "text": [
      "[1, 2]\n",
      "[1, 2]\n"
     ]
    }
   ],
   "source": [
    "def remove_duplicates(lst):    \n",
    "    # approach 1: \n",
    "    # initialize empty list\n",
    "    new = []\n",
    "    # loop through lst and check if element x already in new; if not, add it\n",
    "    for item in lst:\n",
    "        if item not in new:\n",
    "            new.append(item)\n",
    "        \n",
    "    return new   \n",
    "\n",
    "def remove_duplicates2(lst): \n",
    "    # approach 2: convert lst to set and recall that sets cannot have duplicates!\n",
    "    # in other words, when converting a list to a set, duplicates are eliminated automatically\n",
    "    S = set(lst)\n",
    "    return list(S)\n",
    "    \n",
    "lst = remove_duplicates([1,1,2,2])   \n",
    "print(lst)\n",
    "lst = remove_duplicates2([1,1,2,2])   \n",
    "print(lst)"
   ]
  },
  {
   "cell_type": "markdown",
   "metadata": {},
   "source": [
    "## Question 3\n",
    "\n",
    "Write a function **is_subarray** that takes two sequences **seq_a** and **seq_b** as arguments and returns **True** if every element in seq_a is also an element of seq_b, else False. By “sequence” we mean a list, a tuple or a string. (Source: quantecon.org, Python Essentials, Exercise 4)"
   ]
  },
  {
   "cell_type": "code",
   "execution_count": 4,
   "metadata": {
    "collapsed": false
   },
   "outputs": [
    {
     "name": "stdout",
     "output_type": "stream",
     "text": [
      "True\n",
      "False\n"
     ]
    }
   ],
   "source": [
    "def is_subarray(seq_a, seq_b):\n",
    "    ## loop through the first array\n",
    "    for a in seq_a:\n",
    "        ## check if the element is in the second array -> if not, the function must return False\n",
    "        if a not in seq_b:\n",
    "            return False\n",
    "    return True\n",
    "## or\n",
    "# def f(seq_a, seq_b):\n",
    "#     return set(seq_a).issubset(set(seq_b))\n",
    "\n",
    "print(is_subarray( [1,2,3], [1,2,3,4,5] ) )\n",
    "print(is_subarray( (1,2,3), (1,3,5,7,9) ) )"
   ]
  },
  {
   "cell_type": "markdown",
   "metadata": {},
   "source": [
    "## Question 4\n",
    "\n",
    "Consider the polynomial\n",
    "\n",
    "\\begin{equation}\n",
    "p(x)\n",
    "= a_0 + a_1 x + a_2 x^2 + \\cdots a_n x^n\n",
    "= \\sum_{i=0}^n a_i x^i\n",
    "\\end{equation}\n",
    "\n",
    "Write a function **p** such that **p(x, coeff)** that computes the value above given a point **x** and a list of coefficients **coeff**. Try to use **enumerate()** in your loop. (Source: quantecon.org, Python Essentials, Exercise 2)"
   ]
  },
  {
   "cell_type": "code",
   "execution_count": 5,
   "metadata": {
    "collapsed": false
   },
   "outputs": [
    {
     "name": "stdout",
     "output_type": "stream",
     "text": [
      "26\n"
     ]
    }
   ],
   "source": [
    "def p(x, coeff):\n",
    "    return sum([c * x**i for i,c in enumerate(coeff)])\n",
    "\n",
    "coefs = [2,2,1]\n",
    "x = 4 \n",
    "print(p(x,coefs))"
   ]
  },
  {
   "cell_type": "markdown",
   "metadata": {},
   "source": [
    "## Question 5\n",
    "\n",
    "(a) Write a function **get_divisors** that takes two arguments, an integer **num** and a list **L** of integers, and return all elements of **L** that are divisors of **num**, i.e. if you divide **num** by a divisor, there is no remainder.\n",
    "\n",
    "(b) Include some test cases in the function's docstring and use the doctest module to check if the tests clear.\n",
    "\n",
    "(Source: Coursera, Learn to Program: Crafting Quality Code, Week 2)"
   ]
  },
  {
   "cell_type": "code",
   "execution_count": 6,
   "metadata": {
    "collapsed": true
   },
   "outputs": [],
   "source": [
    "def get_divisors(num, possible_divisors):\n",
    "    ''' (int, list of int) -> list of int\n",
    "\n",
    "    Return a list of the values from possible_divisors\n",
    "    that are divisors of num.\n",
    "\n",
    "    >>> get_divisors(8, [1, 2, 3])\n",
    "    [1, 2]\n",
    "    >>> get_divisors(4, [-2, 0, 2])\n",
    "    [-2, 2]\n",
    "    '''\n",
    "\n",
    "    divisors = []\n",
    "    for item in possible_divisors:\n",
    "        ## note that 0 can be in possible_divisors -> we can make use of the lazy evaluation of the AND statement \n",
    "        if item != 0 and num % item == 0:\n",
    "            divisors.append(item)\n",
    "\n",
    "    return divisors"
   ]
  },
  {
   "cell_type": "code",
   "execution_count": 7,
   "metadata": {
    "collapsed": false
   },
   "outputs": [
    {
     "data": {
      "text/plain": [
       "TestResults(failed=0, attempted=2)"
      ]
     },
     "execution_count": 7,
     "metadata": {},
     "output_type": "execute_result"
    }
   ],
   "source": [
    "import doctest\n",
    "doctest.testmod()"
   ]
  },
  {
   "cell_type": "markdown",
   "metadata": {},
   "source": [
    "## Question 6\n",
    "\n",
    "In this question, we are going to work with the **math** module that allows you to use some basic mathematical operatios like taking the logarithm or the square root. Note that we won't use the **math** module often later on, since all of its functions are also included in the **numpy** package, which we will get to know in a later session.\n",
    "\n",
    "(a) Import the math module.\n",
    "\n",
    "(b) Write a function **pythagoras** that take two numbers (ints or floats) representing the lengths of two smaller sides of a right triangle and returns the length of the hypotenuse, according to the Pythagorean theorem. Hint: Use the **sqrt** function of the **math** module.\n",
    "\n",
    "(c) You may recall that the *sine* of $x \\pi$ is zero, for all integers $x$. Suppose you have forgotten what values  the *cosine* of $x \\pi$ takes. Write a loop over the integers -10 to 10 that computes the *absolute value* of the different between $\\sin(x \\pi)$ and $\\cos(x \\pi)$.\n",
    "\n",
    "(d) Recall that from a first-order Taylor approximation, \n",
    "\\begin{equation}\n",
    "\\log(1 + x) \\approx \\log(1) + (x - 1) * \\frac{1}{1} = x\n",
    "\\end{equation}\n",
    "This approximation is closer to the true value the smaller $x$ is. Suppose you would like to know the first value for $x > 0$, for which the approximation error is greater than $tol$, i.e.\n",
    "\\begin{equation}\n",
    "\\left|\\frac{\\log(1 + x) - x}{x}\\right| > tol.\n",
    "\\end{equation}\n",
    "Write a function **find_threshold** that takes an error level **tol** as an argument and returns the corresponding threshold level. Use a **while** loop that starts at $x = 0.001 = 1e-3$ and increases $x$ by $1e-3$ in every iteration of the loop.\n"
   ]
  },
  {
   "cell_type": "code",
   "execution_count": 8,
   "metadata": {
    "collapsed": false
   },
   "outputs": [
    {
     "name": "stdout",
     "output_type": "stream",
     "text": [
      "5.0\n",
      "0.9999999999999988\n",
      "0.9999999999999989\n",
      "0.999999999999999\n",
      "0.9999999999999991\n",
      "0.9999999999999992\n",
      "0.9999999999999993\n",
      "0.9999999999999996\n",
      "0.9999999999999997\n",
      "0.9999999999999998\n",
      "0.9999999999999999\n",
      "1.0\n",
      "1.0000000000000002\n",
      "1.0000000000000002\n",
      "1.0000000000000004\n",
      "1.0000000000000004\n",
      "1.0000000000000007\n",
      "1.0000000000000007\n",
      "1.0000000000000009\n",
      "1.0000000000000009\n",
      "1.000000000000001\n"
     ]
    }
   ],
   "source": [
    "## question (a)\n",
    "import math\n",
    "\n",
    "## question (b)\n",
    "def pythagoras(a, b):\n",
    "    return math.sqrt(a**2 + b**2)\n",
    "\n",
    "print(pythagoras(3,4))\n",
    "\n",
    "## question (c)\n",
    "for num in range(-10, 10):\n",
    "    print( abs(math.sin(num * math.pi) - math.cos(num * math.pi)) )\n"
   ]
  },
  {
   "cell_type": "code",
   "execution_count": 9,
   "metadata": {
    "collapsed": false
   },
   "outputs": [
    {
     "name": "stdout",
     "output_type": "stream",
     "text": [
      "The approximation error exceeds 10% starting at x = 0.231.\n"
     ]
    }
   ],
   "source": [
    "## question (d)\n",
    "\n",
    "def find_threshold(tol):\n",
    "    ## initialize x and diff\n",
    "    x = 1e-3\n",
    "    diff = 0\n",
    "    ## while loop\n",
    "    while diff < tol:\n",
    "        x += 1e-3\n",
    "        diff = abs( math.log(1 + x)/x - 1 )\n",
    "        \n",
    "    return x    \n",
    "\n",
    "tol = 0.1        \n",
    "x = find_threshold(tol)        \n",
    "print(\"The approximation error exceeds {}% starting at x = {:.3}.\".format(int(tol * 100), x))   "
   ]
  },
  {
   "cell_type": "markdown",
   "metadata": {},
   "source": [
    "## Question 7\n",
    "\n",
    "Suppose you're a teacher and use Python dictionaries to keep track of your students' grades. Each student corresponds to a dictionary with the following key-value pairs:\n",
    "- \"name\": the student's name (a string)\n",
    "- \"homework\": a list of arbitrary length, containing the homework grades (floats)\n",
    "- \"quizzes\": a list of arbitrary length, containing the grades from quizzes (floats)\n",
    "- \"tests\": a list of arbitrary length, containing the grades from tests (floats)\n",
    "\n",
    "\n",
    "(a) The student Alice has the following grades:\n",
    "- homework: 100.0, 92.0, 98.0, 100.0\n",
    "- quizzes: 82.0, 83.0, 91.0\n",
    "- tests: 89.0, 97.0\n",
    "Write a dictionary (as defined above) that keeps track of these grades.\n",
    "\n",
    "(b) Write a function **average** that takes a list of numbers and return the average. Use it to compute Alice's average grade for homework.\n",
    "\n",
    "(c) Write a function **student_average** that computes the overall average grade for a student across all exam types. It takes a student dictionary (as defined above) and a two-item tuple **weights**$ = (w_1, w_2)$ that contains the weights for homework and quizzes. The total average is given by:\n",
    "\\begin{equation}\n",
    "    \\text{Average}_{\\text{total}} = w_1 \\cdot \\text{Average}_{\\text{HW}} + w_2 \\cdot \\text{Average}_{\\text{QU}} + (1 - w_1 - w_2) \\cdot \\text{Average}_{\\text{TE}} \n",
    "\\end{equation}\n",
    "Compute Alice's overal average for weights $(0.2, 0.3)$.\n",
    "\n",
    "(d) Write a function **class_average** that a lists of student dictionaries and the weights tuple and computes the grade average over all students. Let there be two more students with the following grades:\n",
    "\n",
    "Michael:\n",
    "- homework: 90.0, 97.0, 75.0, 92.0\n",
    "- quizzes: 88.0, 40.0, 94.0\n",
    "- tests: 75.0, 90.0\n",
    "\n",
    "Tyler:\n",
    "- homework: 0.0, 87.0, 75.0, 22.0\n",
    "- quizzes: 0.0, 75.0, 78.0\n",
    "- tests: 100.0, 100.0\n",
    "\n",
    "Compute the grade average for the three students.\n",
    "\n",
    "(e) Suppose that in the last exam of the year, Alice scored 85.0, Michael 88.0 and Tyler 97.0. How does the class average change?\n"
   ]
  },
  {
   "cell_type": "code",
   "execution_count": 10,
   "metadata": {
    "collapsed": false
   },
   "outputs": [
    {
     "name": "stdout",
     "output_type": "stream",
     "text": [
      "Alice got an average of 97.5 for homework.\n",
      "Alice got a total average of 91.6.\n",
      "Michael got a total average of 81.15.\n",
      "Tyler got a total average of 74.5.\n",
      "The class average is 82.416667.\n",
      "The new class average is 82.111111.\n"
     ]
    }
   ],
   "source": [
    "## Question (a)\n",
    "alice = {\n",
    "    \"name\": \"Alice\",\n",
    "    \"homework\": [100.0, 92.0, 98.0, 100.0],\n",
    "    \"quizzes\": [82.0, 83.0, 91.0],\n",
    "    \"tests\": [89.0, 97.0]\n",
    "}\n",
    "\n",
    "## Question (b)\n",
    "def average(lst):\n",
    "    ave = sum(lst)/len(lst)\n",
    "    ## alternative:    \n",
    "#     summ = 0\n",
    "#     for i in lst[0:len(lst)]:\n",
    "#         summ += i\n",
    "#     ave = summ/len(lst)\n",
    "\n",
    "    return ave \n",
    "\n",
    "ave_hw = average(alice['homework'])\n",
    "print(\"Alice got an average of {} for homework.\".format(ave_hw) )\n",
    "\n",
    "## Question (c)\n",
    "\n",
    "def student_average(student, weights):\n",
    "    total = weights[0] * average(student[\"homework\"]) + weights[1] * average(student[\"quizzes\"]) + \\\n",
    "        (1 - weights[0] - weights[1]) * average(student[\"tests\"])\n",
    "    return total\n",
    "\n",
    "weights = (0.2, 0.3)\n",
    "ave_total = student_average(alice, weights)\n",
    "print(\"Alice got a total average of {}.\".format(ave_total) )\n",
    "\n",
    "## Question (d)\n",
    "\n",
    "michael = {\n",
    "    \"name\": \"Michael\",\n",
    "    \"homework\": [90.0, 97.0, 75.0, 92.0],\n",
    "    \"quizzes\": [88.0, 40.0, 94.0],\n",
    "    \"tests\": [75.0, 90.0]\n",
    "}\n",
    "tyler = {\n",
    "    \"name\": \"Tyler\",\n",
    "    \"homework\": [0.0, 87.0, 75.0, 22.0],\n",
    "    \"quizzes\": [0.0, 75.0, 78.0],\n",
    "    \"tests\": [100.0, 100.0]\n",
    "}\n",
    "\n",
    "def class_average(students, weights):\n",
    "    total = 0\n",
    "    for student in students:\n",
    "        total += student_average(student, weights)\n",
    "    return total/len(students)\n",
    "\n",
    "print(\"Michael got a total average of {}.\".format(student_average(michael, weights)) )\n",
    "print(\"Tyler got a total average of {}.\".format(student_average(tyler, weights) ) )\n",
    "\n",
    "students = [alice, michael, tyler]\n",
    "class_ave = class_average(students, weights)\n",
    "print(\"The class average is {:f}.\".format( class_ave ) )\n",
    "\n",
    "## Question (e)\n",
    "\n",
    "alice['tests'].append(85.0)\n",
    "michael['tests'].append(88.0)\n",
    "tyler['tests'].append(97.0)\n",
    "class_ave_new = class_average(students, weights)\n",
    "print(\"The new class average is {:f}.\".format( class_ave_new ) )"
   ]
  },
  {
   "cell_type": "markdown",
   "metadata": {},
   "source": [
    "## Question 8\n",
    "\n",
    "Using **range**, write a comprehension whose value is a dictionary. The keys should be the integers from 0 to 99 and the value corresponding to a key should be the square of the key."
   ]
  },
  {
   "cell_type": "code",
   "execution_count": 11,
   "metadata": {
    "collapsed": false
   },
   "outputs": [
    {
     "name": "stdout",
     "output_type": "stream",
     "text": [
      "{0: 0, 1: 1, 2: 4, 3: 9, 4: 16, 5: 25, 6: 36, 7: 49, 8: 64, 9: 81, 10: 100, 11: 121, 12: 144, 13: 169, 14: 196, 15: 225, 16: 256, 17: 289, 18: 324, 19: 361, 20: 400, 21: 441, 22: 484, 23: 529, 24: 576, 25: 625, 26: 676, 27: 729, 28: 784, 29: 841, 30: 900, 31: 961, 32: 1024, 33: 1089, 34: 1156, 35: 1225, 36: 1296, 37: 1369, 38: 1444, 39: 1521, 40: 1600, 41: 1681, 42: 1764, 43: 1849, 44: 1936, 45: 2025, 46: 2116, 47: 2209, 48: 2304, 49: 2401, 50: 2500, 51: 2601, 52: 2704, 53: 2809, 54: 2916, 55: 3025, 56: 3136, 57: 3249, 58: 3364, 59: 3481, 60: 3600, 61: 3721, 62: 3844, 63: 3969, 64: 4096, 65: 4225, 66: 4356, 67: 4489, 68: 4624, 69: 4761, 70: 4900, 71: 5041, 72: 5184, 73: 5329, 74: 5476, 75: 5625, 76: 5776, 77: 5929, 78: 6084, 79: 6241, 80: 6400, 81: 6561, 82: 6724, 83: 6889, 84: 7056, 85: 7225, 86: 7396, 87: 7569, 88: 7744, 89: 7921, 90: 8100, 91: 8281, 92: 8464, 93: 8649, 94: 8836, 95: 9025, 96: 9216, 97: 9409, 98: 9604}\n"
     ]
    }
   ],
   "source": [
    "D = {num : num**2 for num in range(99)}\n",
    "print(D)"
   ]
  },
  {
   "cell_type": "markdown",
   "metadata": {
    "collapsed": true
   },
   "source": [
    "## Question 9\n",
    "\n",
    "Write a program that prints one realization of the following random device:\n",
    "- Flip an unbiased coin **n** times\n",
    "- If 3 consecutive heads occur one or more times within this sequence, pay one dollar\n",
    "- If not, pay nothing\n",
    "\n",
    "Use no import besides **from random import uniform**."
   ]
  },
  {
   "cell_type": "code",
   "execution_count": 12,
   "metadata": {
    "collapsed": true
   },
   "outputs": [],
   "source": [
    "import random"
   ]
  },
  {
   "cell_type": "code",
   "execution_count": 13,
   "metadata": {
    "collapsed": false
   },
   "outputs": [
    {
     "name": "stdout",
     "output_type": "stream",
     "text": [
      "Pay nothing.\n"
     ]
    }
   ],
   "source": [
    "## fastest solution\n",
    "n = 10\n",
    "count = 0\n",
    "\n",
    "for i in range(n):\n",
    "    ## random draw between 0 and 1\n",
    "    U = random.uniform(0, 1)\n",
    "    if U < 0.5:\n",
    "        count = count + 1  \n",
    "    ## reset count\n",
    "    else:\n",
    "        count = 0\n",
    "    \n",
    "    ## check if count == 3 and stop loop\n",
    "    if count == 3:\n",
    "        print('Pay one dollar.')\n",
    "        break\n",
    "if count < 3:\n",
    "    print('Pay nothing.')"
   ]
  },
  {
   "cell_type": "code",
   "execution_count": 14,
   "metadata": {
    "collapsed": false
   },
   "outputs": [
    {
     "name": "stdout",
     "output_type": "stream",
     "text": [
      "Pay nothing.\n",
      "[1, 0, 0, 0, 1, 0, 0, 0, 1, 0]\n"
     ]
    }
   ],
   "source": [
    "## alternative solution if you want to also report the outcome of the 10 draws\n",
    "\n",
    "# step 1: write function that flips coin n times and reports 1 when head\n",
    "def flip(n):\n",
    "    lst = []\n",
    "    count = 0\n",
    "    for i in range(n):\n",
    "        if random.uniform(0,1) < 0.5:\n",
    "            lst.append(1)\n",
    "            count = count + 1 \n",
    "        else:\n",
    "            lst.append(0)\n",
    "            ## reset count only if it hasn't reached 3 yet\n",
    "            if count < 3:\n",
    "                count = 0\n",
    "\n",
    "    ## check if count >= 3    \n",
    "    if count >= 3:\n",
    "        print('Pay one dollar.')\n",
    "    else:\n",
    "        print('Pay nothing.')\n",
    "            \n",
    "    return lst\n",
    "\n",
    "print(flip(10))\n"
   ]
  },
  {
   "cell_type": "markdown",
   "metadata": {},
   "source": [
    "## Question 10\n",
    "\n",
    "As a hard-working PhD student or post doc, you should take a break from your work every now and then. Write a Python program that opens a web page (e.g. a YouTube video if you wanna spend your break listening to music or a news page if you wanna read up on current events) at regular intervals (say, every hour). \n",
    "\n",
    "Hint 1: The packages **time** and **webbrowser** have useful functions for implementing this program. Look them up in the Python documentation (google!) to find the functions you wanna use.\n",
    "\n",
    "Hint 2: You will probably want to use a **while** loop for this exercise. You can make the loop infinite (and interrupt it manually) if you're done for the day. You can also think about ways to stop the loop within the program, for example after a certain number of iterations."
   ]
  },
  {
   "cell_type": "code",
   "execution_count": 15,
   "metadata": {
    "collapsed": false
   },
   "outputs": [
    {
     "ename": "KeyboardInterrupt",
     "evalue": "",
     "output_type": "error",
     "traceback": [
      "\u001b[0;31m---------------------------------------------------------------------------\u001b[0m",
      "\u001b[0;31mKeyboardInterrupt\u001b[0m                         Traceback (most recent call last)",
      "\u001b[0;32m<ipython-input-15-57ad1c4e2286>\u001b[0m in \u001b[0;36m<module>\u001b[0;34m()\u001b[0m\n\u001b[1;32m     12\u001b[0m \u001b[0mit\u001b[0m \u001b[0;34m=\u001b[0m \u001b[0;36m0\u001b[0m\u001b[0;34m\u001b[0m\u001b[0m\n\u001b[1;32m     13\u001b[0m \u001b[0;32mwhile\u001b[0m \u001b[0mit\u001b[0m \u001b[0;34m<\u001b[0m \u001b[0mN\u001b[0m\u001b[0;34m:\u001b[0m\u001b[0;34m\u001b[0m\u001b[0m\n\u001b[0;32m---> 14\u001b[0;31m     \u001b[0mtime\u001b[0m\u001b[0;34m.\u001b[0m\u001b[0msleep\u001b[0m\u001b[0;34m(\u001b[0m\u001b[0;36m600\u001b[0m\u001b[0;34m)\u001b[0m\u001b[0;34m\u001b[0m\u001b[0m\n\u001b[0m\u001b[1;32m     15\u001b[0m     \u001b[0mprint\u001b[0m\u001b[0;34m(\u001b[0m\u001b[0;34m'Take a break!'\u001b[0m\u001b[0;34m)\u001b[0m\u001b[0;34m\u001b[0m\u001b[0m\n\u001b[1;32m     16\u001b[0m     \u001b[0mwebbrowser\u001b[0m\u001b[0;34m.\u001b[0m\u001b[0mopen\u001b[0m\u001b[0;34m(\u001b[0m\u001b[0;34m\"https://www.youtube.com/watch?v=ack4cJry0as&index=3&list=PLZzI4nElzA51i7_UXd8N0rj_0sDagszI-\"\u001b[0m\u001b[0;34m)\u001b[0m\u001b[0;34m\u001b[0m\u001b[0m\n",
      "\u001b[0;31mKeyboardInterrupt\u001b[0m: "
     ]
    }
   ],
   "source": [
    "import time\n",
    "import webbrowser\n",
    "\n",
    "## infinite loop\n",
    "# while True:\n",
    "#     time.sleep(600)\n",
    "#     print('Take a break!')\n",
    "#     webbrowser.open(\"https://www.youtube.com/watch?v=ack4cJry0as&index=3&list=PLZzI4nElzA51i7_UXd8N0rj_0sDagszI-\")\n",
    "\n",
    "## loop that stops after N iterations\n",
    "N = 8\n",
    "it = 0\n",
    "while it < N:\n",
    "    time.sleep(600)\n",
    "    print('Take a break!')\n",
    "    webbrowser.open(\"https://www.youtube.com/watch?v=ack4cJry0as&index=3&list=PLZzI4nElzA51i7_UXd8N0rj_0sDagszI-\")\n",
    "    it += 1"
   ]
  },
  {
   "cell_type": "code",
   "execution_count": null,
   "metadata": {
    "collapsed": true
   },
   "outputs": [],
   "source": []
  }
 ],
 "metadata": {
  "anaconda-cloud": {},
  "kernelspec": {
   "display_name": "Python 3",
   "language": "python",
   "name": "python3"
  },
  "language_info": {
   "codemirror_mode": {
    "name": "ipython",
    "version": 3
   },
   "file_extension": ".py",
   "mimetype": "text/x-python",
   "name": "python",
   "nbconvert_exporter": "python",
   "pygments_lexer": "ipython3",
   "version": "3.5.3"
  }
 },
 "nbformat": 4,
 "nbformat_minor": 0
}
