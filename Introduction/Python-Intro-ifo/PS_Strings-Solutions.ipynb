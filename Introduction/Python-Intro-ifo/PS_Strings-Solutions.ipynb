{
 "cells": [
  {
   "cell_type": "markdown",
   "metadata": {},
   "source": [
    "# Introduction to Python - Strings\n",
    "\n",
    "## Problem Set - Suggested Solutions"
   ]
  },
  {
   "cell_type": "code",
   "execution_count": 1,
   "metadata": {
    "collapsed": false
   },
   "outputs": [
    {
     "name": "stdout",
     "output_type": "stream",
     "text": [
      "Last update: 2017-05-08 10:15:08.697876\n"
     ]
    }
   ],
   "source": [
    "# Author: Alex Schmitt (schmitt@ifo.de)\n",
    "\n",
    "import datetime\n",
    "print('Last update: ' + str(datetime.datetime.today()))"
   ]
  },
  {
   "cell_type": "markdown",
   "metadata": {},
   "source": [
    "## Question 1\n",
    "\n",
    "Write a function **date_and_time()** that does not take any arguments and that prints the current date and time to the screen like this: \n",
    "\n",
    "Date: 2.5.2017\n",
    "\n",
    "Time: 14:30:09\n",
    "\n",
    "There are different ways to do this. One way involves the module **datetime** in the Python standard library and its **datetime** object type with the methods **now()** or **today()** (see the first cell in this notebook!). Use the standard library documentation to find out more. \n",
    "\n",
    "- Hint 1: An object created by datetime.datetime.now() has certain properties that can be accessed almost like methods (but without parentheses!), as seen below. Use the standard library documentation or the **dir()** functions to find out which properties are useful here.\n",
    " "
   ]
  },
  {
   "cell_type": "code",
   "execution_count": 2,
   "metadata": {
    "collapsed": false
   },
   "outputs": [
    {
     "data": {
      "text/plain": [
       "2017"
      ]
     },
     "execution_count": 2,
     "metadata": {},
     "output_type": "execute_result"
    }
   ],
   "source": [
    "import datetime\n",
    "A = datetime.datetime.now()\n",
    "A.year"
   ]
  },
  {
   "cell_type": "markdown",
   "metadata": {},
   "source": [
    "- Hint 2: When printing the information obtained from datetime.datetime.now(), you may run into the problem that certain zeros are missing. Conditional statements may be a way to solve this."
   ]
  },
  {
   "cell_type": "code",
   "execution_count": 3,
   "metadata": {
    "collapsed": false
   },
   "outputs": [
    {
     "name": "stdout",
     "output_type": "stream",
     "text": [
      "Date: 8.5.2017\n",
      "Time: 10:15:08\n"
     ]
    }
   ],
   "source": [
    "## import module datetime from the Python standard library (if not done before)\n",
    "# import datetime\n",
    "\n",
    "## define function\n",
    "def date_and_time():\n",
    "    \n",
    "    ## use method .now() to get current time and date\n",
    "    current = datetime.datetime.now()\n",
    "    \n",
    "    ## an object that is generated with the .now() method has methods to access year, month, day, hour, minute, second\n",
    "    ## minutes and seconds will be printed without LEADING zeros -> conditional statements to fix this\n",
    "    if current.second < 10:\n",
    "        second = '0' + str(current.second)\n",
    "    else:\n",
    "        second = str(current.second)\n",
    "    \n",
    "    if current.minute < 10:\n",
    "        minute = '0' + str(current.minute)\n",
    "    else:\n",
    "        minute = str(current.minute)\n",
    "    \n",
    "    \n",
    "    # I print them using the str() function and combining different strings using \"+\" \n",
    "    print('Date: ' + str(current.day) + '.' + str(current.month) + '.' + str(current.year) + '\\n' + \\\n",
    "          'Time: ' + str(current.hour) + ':' + minute + ':' + second ) \n",
    "\n",
    "    # NB: a long line in Python can be written on two lines using \"\\\"\n",
    "    \n",
    "date_and_time()"
   ]
  },
  {
   "cell_type": "markdown",
   "metadata": {},
   "source": [
    "## Question 2\n",
    "\n",
    "(a) Write a function **reverse** that takes a string as an argument and returns it in reverse order. Use a boolean as a second argument that determines whether the returned string starts with a capital letter. For example, **reverse('Tyrion', True)** should return **Noiryt**, while **reverse('Tyrion', False)** should return **noiryt**. Use a doctest to check these examples. \n",
    "\n",
    "(b) Use your **reverse** function to write a function **is_palindrome** that takes a string and checks if the string is a palindrome, returning **True** if it is. Think of a couple of test cases and test them using doctest. As a challenge, try to implement the function in a way that it makes the smallest possible number of comparisons or evaluations. \n",
    "\n"
   ]
  },
  {
   "cell_type": "code",
   "execution_count": 4,
   "metadata": {
    "collapsed": false
   },
   "outputs": [
    {
     "data": {
      "text/plain": [
       "TestResults(failed=0, attempted=2)"
      ]
     },
     "execution_count": 4,
     "metadata": {},
     "output_type": "execute_result"
    }
   ],
   "source": [
    "## question (a)\n",
    "\n",
    "import doctest\n",
    "\n",
    "def reverse(text, capital):\n",
    "    \"\"\"\n",
    "    (str, bool) -> str\n",
    "    \n",
    "    Takes a string and returns it in reverse order, starting with a capital letter if capitalize == True.\n",
    "    \n",
    "    >>> reverse('Tyrion', True)\n",
    "    'Noiryt'\n",
    "    \n",
    "    >>> reverse('Tyrion', False)\n",
    "    'noiryt'\n",
    "       \n",
    "    \n",
    "    \"\"\"\n",
    "    \n",
    "    \n",
    "    # initialize empty string\n",
    "    s = \"\"\n",
    "    # loop through string in reverse order, starting at the last element (index: len(text)-1) \n",
    "    for i in range(len(text)-1,-1,-1):\n",
    "        # add the lower case equivalent of text[i] to new string s\n",
    "        s = s + text[i].lower()\n",
    "    \n",
    "    # the first letter in s should be returned as upper case if capital == True, hence use upper() before returning\n",
    "    if capital:\n",
    "        return s.capitalize()\n",
    "    else:\n",
    "        return s\n",
    "\n",
    "doctest.testmod()"
   ]
  },
  {
   "cell_type": "code",
   "execution_count": 5,
   "metadata": {
    "collapsed": false
   },
   "outputs": [
    {
     "data": {
      "text/plain": [
       "TestResults(failed=0, attempted=6)"
      ]
     },
     "execution_count": 5,
     "metadata": {},
     "output_type": "execute_result"
    }
   ],
   "source": [
    "## question (b)\n",
    "\n",
    "def is_palindrome(s):\n",
    "    \"\"\" (str) -> bool\n",
    "\n",
    "    Return True if and only if s is a palindrome.\n",
    "\n",
    "\n",
    "    >>> is_palindrome('racecar')\n",
    "    True\n",
    "    >>> is_palindrome('Ana')\n",
    "    True\n",
    "    >>> is_palindrome('Anna')\n",
    "    True\n",
    "    >>> is_palindrome('institute')\n",
    "    False\n",
    "    \"\"\"\n",
    "\n",
    "    ## easy solution; if string has length n, there are 2*n operations \n",
    "    ## - n iterations in the loop in reverse\n",
    "    ## - n comparisons here\n",
    "#     return s.lower() == reverse(s, False)\n",
    "    \n",
    "    ## alternative solution\n",
    "    ## get the length of s\n",
    "    n = len(s)\n",
    "    \n",
    "    ## Compare the first half of s to the reverse of the second half (omit the middle character of an odd-length string)\n",
    "    ## - n/2 iterations in the loop in reverse\n",
    "    ## - n/2 comparisons here\n",
    "    return s[:n // 2].lower() == reverse(s[n - n // 2:], False)\n",
    "\n",
    "    ## Note: The // operator divides two numbers and returns only the integer part of the result, \n",
    "    ## e.g. 5 // 2 = 2, 10 // 3 = 3  \n",
    "    ## x // y == int(x / y)\n",
    "\n",
    "\n",
    "doctest.testmod()"
   ]
  },
  {
   "cell_type": "markdown",
   "metadata": {},
   "source": [
    "## Question 3\n",
    "\n",
    "Write a function **scrabble_score()** that takes a word (string) and computes the score you would get in the game Scrabble. Each letter in the alphabet is assigned a value: \n",
    "a - 1,\n",
    "b - 3,\n",
    "c - 3,\n",
    "d - 2,\n",
    "e - 1,\n",
    "f - 4,\n",
    "g - 2,\n",
    "h - 4,\n",
    "i - 1,\n",
    "j - 8,\n",
    "k - 5,\n",
    "l - 1,\n",
    "m - 3,\n",
    "n - 1,\n",
    "o - 1,\n",
    "p - 3,\n",
    "q - 10,\n",
    "r - 1,\n",
    "s - 1,\n",
    "t - 1,\n",
    "u - 1,\n",
    "v - 4,\n",
    "w - 4,\n",
    "x - 8,\n",
    "y - 4,\n",
    "z - 10\n",
    "\n",
    "For example, **scrabble_score(\"Arya\")** returns the score 7.\n",
    "\n",
    "Hint: A dictionary can be very useful here. "
   ]
  },
  {
   "cell_type": "code",
   "execution_count": 6,
   "metadata": {
    "collapsed": false
   },
   "outputs": [
    {
     "name": "stdout",
     "output_type": "stream",
     "text": [
      "7\n"
     ]
    }
   ],
   "source": [
    "def scrabble_score(word, score):\n",
    "    \"\"\"\n",
    "    str, dict -> int\n",
    "    \n",
    "    Evaluates the \"scrabble score\" of a string, with the points stored in a dictionary.\n",
    "    \"\"\"\n",
    "    # initialize variable 'total' equal to zero\n",
    "    total = 0\n",
    "    # convert word to all lower cases\n",
    "    word = word.lower()\n",
    "    # loop through word, find score in the dictionary and add it to total\n",
    "    for i in word:\n",
    "        total = total + score[i]\n",
    "    return total\n",
    "\n",
    "# define a dictionary containing the scores\n",
    "score = {\"a\": 1, \"c\": 3, \"b\": 3, \"e\": 1, \"d\": 2, \"g\": 2, \n",
    "         \"f\": 4, \"i\": 1, \"h\": 4, \"k\": 5, \"j\": 8, \"m\": 3, \n",
    "         \"l\": 1, \"o\": 1, \"n\": 1, \"q\": 10, \"p\": 3, \"s\": 1, \n",
    "         \"r\": 1, \"u\": 1, \"t\": 1, \"w\": 4, \"v\": 4, \"y\": 4, \n",
    "         \"x\": 8, \"z\": 10}\n",
    "\n",
    "print(scrabble_score(\"Arya\", score))"
   ]
  },
  {
   "cell_type": "markdown",
   "metadata": {},
   "source": [
    "## Question 4\n",
    "\n",
    "Suppose we have a text file **numbers.txt** containing the following lines:\n",
    "\n",
    "*prices\n",
    "3\n",
    "8\n",
    "\n",
    "7\n",
    "21*\n",
    "\n",
    "Using **try/except**, write a program to read in the contents of the file and sum the numbers, ignoring lines without numbers. (Source: quantecon.org, More Language Features, Exercise 3)"
   ]
  },
  {
   "cell_type": "code",
   "execution_count": 7,
   "metadata": {
    "collapsed": false
   },
   "outputs": [
    {
     "name": "stdout",
     "output_type": "stream",
     "text": [
      "39.0\n"
     ]
    }
   ],
   "source": [
    "fh = open('data/numbers.txt')\n",
    "lst = []\n",
    "for line in fh:\n",
    "    try:\n",
    "        lst.append( float(line) )\n",
    "    except:\n",
    "        continue\n",
    "\n",
    "print(sum(lst))        "
   ]
  },
  {
   "cell_type": "markdown",
   "metadata": {},
   "source": [
    "## Question 5\n",
    "\n",
    "Recall that in question 8 of PS 1, we wrote a program that prompted the user to enter integers or floats and then computed the sum of these numbers. Here, rather than finding the sum, we modify the program to make it write the entries to a text file called **test.txt**. The other features of the program should be the same as before: if the user enters a string that cannot be converted to a number, it is ignored. If the user enters the string **'done'**, the program stops. \n",
    "\n",
    "Hint: You can still use the same **try/except** structure as before. However, make sure that the program doesn't write all entries (i.e. including non-numerical strings) to the text file. Using type conversion functions repeatedly may help here.\n"
   ]
  },
  {
   "cell_type": "code",
   "execution_count": 8,
   "metadata": {
    "collapsed": false
   },
   "outputs": [
    {
     "name": "stdout",
     "output_type": "stream",
     "text": [
      "Enter a number: 7\n",
      "Enter a number: 77\n",
      "Enter a number: 777\n",
      "Enter a number: done\n"
     ]
    }
   ],
   "source": [
    "fh = open('data/test.txt', 'w')\n",
    "\n",
    "while True:\n",
    "    num = input(\"Enter a number: \")\n",
    "    \n",
    "    try: \n",
    "        fh.write( str(float(num)) + '\\n')\n",
    "    \n",
    "    except:\n",
    "        if num == \"done\" : break\n",
    "        else:\n",
    "            print(\"Invalid input\")\n",
    "            continue\n",
    "\n",
    "fh.close()            "
   ]
  },
  {
   "cell_type": "markdown",
   "metadata": {},
   "source": [
    "## Question 6\n",
    "\n",
    "The file **ifo.txt** contains ifo's presentation from the home page. \n",
    "\n",
    "(a) Open the text in Python. Store the whole text as a string. How many characters does it contain?\n",
    "\n",
    "(b) Open the text again, but this time store it as a list of lines. How many lines does it contain? How many characters does the first line contain?\n",
    "\n",
    "(c) How often does the text contain the string 'ifo'? How often the string 'Ifo'? \n",
    "\n",
    "(d) How often does the text contain the last name of our president ('Fuest')? In which line does it appear for the first time?\n",
    "\n",
    "(e) The text contains several numbers (mainly years). Use a regular expression to parse the text and compute the sum of all these number. If you want a particular challenge, you can write the solution to this question in one line. \n"
   ]
  },
  {
   "cell_type": "code",
   "execution_count": 9,
   "metadata": {
    "collapsed": true
   },
   "outputs": [],
   "source": [
    "## import regular expressions module\n",
    "import re\n",
    "fname = \"ifo.txt\""
   ]
  },
  {
   "cell_type": "code",
   "execution_count": 10,
   "metadata": {
    "collapsed": false
   },
   "outputs": [
    {
     "name": "stdout",
     "output_type": "stream",
     "text": [
      "The text consists of 5102 characters.\n"
     ]
    }
   ],
   "source": [
    "## question (a)\n",
    "fh = open(fname)\n",
    "text_all = fh.read()\n",
    "print('The text consists of {} characters.'.format(len(text_all)) )"
   ]
  },
  {
   "cell_type": "code",
   "execution_count": 11,
   "metadata": {
    "collapsed": false
   },
   "outputs": [
    {
     "name": "stdout",
     "output_type": "stream",
     "text": [
      "The text consists of 42 lines.\n",
      "The text consists of 5102 characters.\n",
      "The first line consists of 84 characters.\n"
     ]
    }
   ],
   "source": [
    "## question (b)\n",
    "fh = open(fname)\n",
    "\n",
    "text = []\n",
    "for line in fh:\n",
    "    text.append(line)\n",
    "\n",
    "print(\"The text consists of {} lines.\".format(len(text)))\n",
    "## confirming the result of (a)\n",
    "print(\"The text consists of {} characters.\".format(sum([len(line) for line in text])) )\n",
    "\n",
    "## single line\n",
    "line = text[0]\n",
    "print(\"The first line consists of {} characters.\".format(len(line)))"
   ]
  },
  {
   "cell_type": "code",
   "execution_count": 12,
   "metadata": {
    "collapsed": false
   },
   "outputs": [
    {
     "name": "stdout",
     "output_type": "stream",
     "text": [
      "The text contains the term ifo 5 times.\n",
      "The text contains the term Ifo 24 times.\n"
     ]
    }
   ],
   "source": [
    "## question (c)\n",
    "word = 'ifo'\n",
    "print('The text contains the term {} {} times.'.format(word, text_all.count(word) ) )\n",
    "\n",
    "word = 'Ifo'\n",
    "print('The text contains the term {} {} times.'.format(word, text_all.count(word) ) ) "
   ]
  },
  {
   "cell_type": "code",
   "execution_count": 13,
   "metadata": {
    "collapsed": false
   },
   "outputs": [
    {
     "name": "stdout",
     "output_type": "stream",
     "text": [
      "The text contains the name Fuest 1 times.\n",
      "It appears for the first time on line 29.\n",
      "It appears for the first time on line 29.\n"
     ]
    }
   ],
   "source": [
    "## question (c)\n",
    "word = 'Fuest'\n",
    "print('The text contains the name {} {} times.'.format(word, text_all.count(word)  ) )\n",
    "\n",
    "## Option 1: regular expression \n",
    "fh = open(fname)\n",
    "count = 0\n",
    "for line in fh:\n",
    "    count += 1\n",
    "    if re.search(word, line):\n",
    "        first_app = count\n",
    "        break\n",
    "print('It appears for the first time on line {}.'.format(first_app) )\n",
    "        \n",
    "## Option 2: find method\n",
    "fh = open(fname)\n",
    "count = 0\n",
    "for line in fh:\n",
    "    count += 1\n",
    "    if line.find(word) >= 0:\n",
    "        first_app2 = count\n",
    "        break\n",
    "        \n",
    "print('It appears for the first time on line {}.'.format(first_app2) )"
   ]
  },
  {
   "cell_type": "code",
   "execution_count": 14,
   "metadata": {
    "collapsed": false
   },
   "outputs": [
    {
     "name": "stdout",
     "output_type": "stream",
     "text": [
      "The sum of the numbers in the text is 22983.\n",
      "The sum of the numbers in the text is 22983.\n"
     ]
    }
   ],
   "source": [
    "## question (e)\n",
    "\n",
    "## Option 1: loop\n",
    "def count_nums(fname):\n",
    "    fh = open(fname)\n",
    "\n",
    "    total = 0\n",
    "\n",
    "    for line in fh:\n",
    "        total += sum([int(item) for item in re.findall('[0-9]+', line)])\n",
    "    return total    \n",
    "       \n",
    "print('The sum of the numbers in the text is {}.'.format(count_nums(fname)) )\n",
    "\n",
    "## Option 2: list comprehension\n",
    "total = sum([int(item) for item in re.findall('[0-9]+', open(\"ifo.txt\", 'r').read())])    \n",
    "print('The sum of the numbers in the text is {}.'.format(total) )   "
   ]
  },
  {
   "cell_type": "markdown",
   "metadata": {},
   "source": [
    "## Question 7: Battleship\n",
    "\n",
    "This question serves as a review for the material covered in the course so far. You will implement a very simple version of the game *Battleships* (*Schiffe versenken!*) which lets the user try to find the computer's single ship. Along the way, you will write functions and import packages, and use lists, strings, loops and conditional expressions. Note that this is by no means an efficient implementation - the learning experience is more important. \n",
    "\n",
    "(a) The first step is defining the board. We will use **print**-statements to simulate a rectangular board, where 'O's mark tiles (i.e. spots in the ocean) which have not been uncovered yet, and 'X' denote tiles which have been checked for the ship. Initially, all tiles consists of 'O's.\n",
    "\n",
    "Write a function **generate_board** that takes two argument, **x_b** and **y_b** and returns a list of list, i.e. a list with **y_b** elements, each of which a list with **x_b** 'O's. In other words, **x_b** corresponds to the number of rows and **y_b** to the number of columns. The function **print_board** provided below should take such a list of list generated by your function and print the board. Test it with a few different input combinations.\n",
    "\n",
    "(b) Next, we write a function **random_pos** to determine the random position of the ship. Import the **random** package and use the function **randint** in a function that takes **x_b** and **y_b** as inputs and returns a tuple where the first element corresponds to the row and the second element to the column of the ship.\n",
    "\n",
    "(c) Finally, write a function **run_game** that contains the main logic of the game. It takes three arguments,  **x_b**, **y_b** and **max_turn**. The first thing it is supposed to do is to use **generate_board** to define the board (as in question (a)) and to use **random_pos** to determine the position of the computer's ship (as in question (b)). \n",
    "\n",
    "Then, it runs a loop with **max_turn** iterations. In each iteration of the loop, it does the following:\n",
    "- print the current turn (starting at 1 and increasing by 1 in every iteration)\n",
    "- prompt the user to enter a tile (i.e. a row and a column) to check for the ship\n",
    "- if the tile equals the position of the ship, print a corresponding statement to the screen and stop the loop\n",
    "- if the tile does not equal the position of the ship, there are three cases, which should be indicated by suitable **print** statements:\n",
    "(1) the entered tile is outside of the board\n",
    "(2) the entered tile has already been checked\n",
    "(3) the entered tile has not been checked; in this case, replace the \"O\" on the board by an \"X\"\n",
    "No matter which case applies, print the board.\n",
    "- if the last turn has been reached, print a corresponding statement \n",
    "\n",
    "Hint: When writing the code, you can also include a **print** statement that indicates the position of the ship. This makes it easier to test if detecting the ship works properly.\n",
    "\n",
    "(d) Choose some values for **x_b**, **y_b** and **max_turn** and run the game.\n"
   ]
  },
  {
   "cell_type": "code",
   "execution_count": 15,
   "metadata": {
    "collapsed": false
   },
   "outputs": [
    {
     "name": "stdout",
     "output_type": "stream",
     "text": [
      "O O O O O\n",
      "O O O O O\n",
      "O O O O O\n",
      "O O O O O\n",
      "O O O O O\n"
     ]
    }
   ],
   "source": [
    "## (a) generate board\n",
    "def generate_board(x_b, y_b):\n",
    "    board = []\n",
    "    for x in range(y_b):\n",
    "        board.append([\"O\"] * x_b)\n",
    "    return board    \n",
    "\n",
    "## PROVIDE THIS ONE IN THE QUESTION!\n",
    "def print_board(board):\n",
    "    for row in board:\n",
    "        print(\" \".join(row)) \n",
    "        \n",
    "board = generate_board(5,5)\n",
    "print_board(board)\n",
    "        "
   ]
  },
  {
   "cell_type": "code",
   "execution_count": 16,
   "metadata": {
    "collapsed": false
   },
   "outputs": [
    {
     "name": "stdout",
     "output_type": "stream",
     "text": [
      "(2, 4)\n"
     ]
    }
   ],
   "source": [
    "## (b) \n",
    "from random import randint\n",
    "\n",
    "def random_pos(x_b, y_b):\n",
    "    return (randint(0, x_b - 1), randint(0, y_b - 1))\n",
    "\n",
    "ship_pos = random_pos(5, 5)\n",
    "print(ship_pos)\n"
   ]
  },
  {
   "cell_type": "code",
   "execution_count": 18,
   "metadata": {
    "collapsed": false
   },
   "outputs": [
    {
     "name": "stdout",
     "output_type": "stream",
     "text": [
      "O O O O O\n",
      "O O O O O\n",
      "O O O O O\n",
      "O O O O O\n",
      "O O O O O\n",
      "(4, 0)\n",
      "Current turn: 1\n",
      "Guess Row:3\n",
      "Guess Col:3\n",
      "You missed my battleship!\n",
      "O O O O O\n",
      "O O O O O\n",
      "O O O O O\n",
      "O O O X O\n",
      "O O O O O\n",
      "Current turn: 2\n",
      "Guess Row:2\n",
      "Guess Col:1\n",
      "You missed my battleship!\n",
      "O O O O O\n",
      "O O O O O\n",
      "O X O O O\n",
      "O O O X O\n",
      "O O O O O\n",
      "Current turn: 3\n",
      "Guess Row:6\n",
      "Guess Col:6\n",
      "Oops, that's not even in the ocean.\n",
      "O O O O O\n",
      "O O O O O\n",
      "O X O O O\n",
      "O O O X O\n",
      "O O O O O\n",
      "Game Over\n"
     ]
    }
   ],
   "source": [
    "## (c)\n",
    "def run_game(x_b, y_b, max_turn):\n",
    "    \n",
    "    board = generate_board(x_b, y_b)\n",
    "    print_board(board)\n",
    "    ship_pos = random_pos(x_b, y_b)\n",
    "    print(ship_pos)\n",
    "    \n",
    "    for turn in range(max_turn):\n",
    "        print('Current turn: {}'.format(turn + 1))\n",
    "        guess_row = int(input(\"Guess Row:\"))\n",
    "        guess_col = int(input(\"Guess Col:\"))\n",
    "    \n",
    "        if guess_row == ship_pos[0] and guess_col == ship_pos[1]:\n",
    "            print(\"Congratulations! You sunk my battleship! You win!\")\n",
    "            break\n",
    "        else:\n",
    "            if (guess_row < 0 or guess_row > x_b - 1) or (guess_col < 0 or guess_col > y_b - 1):\n",
    "                print(\"Oops, that's not even in the ocean.\")\n",
    "            elif(board[guess_row][guess_col] == \"X\"):\n",
    "                print(\"You guessed that one already.\")\n",
    "            else:\n",
    "                print(\"You missed my battleship!\")\n",
    "                board[guess_row][guess_col] = \"X\"\n",
    "            \n",
    "            print_board(board)\n",
    "            if turn + 1 == 3:\n",
    "                print(\"Game Over\")\n",
    "\n",
    "\n",
    "## (d)\n",
    "x_b, y_b = 5, 5\n",
    "max_turn = 3\n",
    "run_game(x_b, y_b, max_turn)\n",
    "    "
   ]
  },
  {
   "cell_type": "code",
   "execution_count": null,
   "metadata": {
    "collapsed": true
   },
   "outputs": [],
   "source": []
  }
 ],
 "metadata": {
  "kernelspec": {
   "display_name": "Python 3",
   "language": "python",
   "name": "python3"
  },
  "language_info": {
   "codemirror_mode": {
    "name": "ipython",
    "version": 3
   },
   "file_extension": ".py",
   "mimetype": "text/x-python",
   "name": "python",
   "nbconvert_exporter": "python",
   "pygments_lexer": "ipython3",
   "version": "3.5.3"
  }
 },
 "nbformat": 4,
 "nbformat_minor": 0
}
