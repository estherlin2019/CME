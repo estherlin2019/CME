{
 "cells": [
  {
   "cell_type": "markdown",
   "metadata": {},
   "source": [
    "# Introduction to Python - Data Types II, Functions and Packages"
   ]
  },
  {
   "cell_type": "code",
   "execution_count": 1,
   "metadata": {
    "collapsed": false
   },
   "outputs": [
    {
     "name": "stdout",
     "output_type": "stream",
     "text": [
      "Last update: 2017-04-26 08:59:12.504311\n"
     ]
    }
   ],
   "source": [
    "# Authors: Matthias Huber (huber@ifo.de), Alex Schmitt (schmitt@ifo.de)\n",
    "\n",
    "import datetime\n",
    "print('Last update: ' + str(datetime.datetime.today()))"
   ]
  },
  {
   "cell_type": "markdown",
   "metadata": {},
   "source": [
    "## Sets\n",
    "\n",
    "*Sets* are similar to tuples in that they are immutable. However, elements are not in a particular order, hence you cannot use indices for sets. Additionally, there are not duplicates, so they can be called an \"Unordered collections of unique elements\" "
   ]
  },
  {
   "cell_type": "code",
   "execution_count": 2,
   "metadata": {
    "collapsed": false
   },
   "outputs": [
    {
     "name": "stdout",
     "output_type": "stream",
     "text": [
      "{4, 5, 6}\n"
     ]
    }
   ],
   "source": [
    "# set\n",
    "B = {4,5,6}\n",
    "print (B)"
   ]
  },
  {
   "cell_type": "code",
   "execution_count": 3,
   "metadata": {
    "collapsed": false
   },
   "outputs": [],
   "source": [
    "#print(b[0])  # will throw an error!"
   ]
  },
  {
   "cell_type": "markdown",
   "metadata": {},
   "source": [
    "As for arrays, the length (number of items) can be measured with the function len()"
   ]
  },
  {
   "cell_type": "code",
   "execution_count": 4,
   "metadata": {
    "collapsed": false
   },
   "outputs": [
    {
     "name": "stdout",
     "output_type": "stream",
     "text": [
      "3\n"
     ]
    }
   ],
   "source": [
    "print (len(B))"
   ]
  },
  {
   "cell_type": "markdown",
   "metadata": {},
   "source": [
    "### Methods for Sets\n",
    "\n",
    "The equivalent to the **append()** method for sets is the **add()** method. Unsurprisingly, adding an element to a set which is already in there will not change the set."
   ]
  },
  {
   "cell_type": "code",
   "execution_count": 5,
   "metadata": {
    "collapsed": false
   },
   "outputs": [
    {
     "name": "stdout",
     "output_type": "stream",
     "text": [
      "{3, 4, 5, 6}\n",
      "{3, 4, 5, 6}\n"
     ]
    }
   ],
   "source": [
    "B.add(3)\n",
    "print(B)\n",
    "# BTW: adding an element to a set whic/h is already in there will change the set\n",
    "B.add(4)\n",
    "print(B)"
   ]
  },
  {
   "cell_type": "markdown",
   "metadata": {
    "collapsed": false
   },
   "source": [
    "Further methods of sets are the major mathematical/logical operations. Important ones are:\n",
    "* **intersection:** $A \\cap B$\n",
    "* **union:** $A \\cup B$\n",
    "* **issubset:** $A \\subseteq B$\n",
    "* **issuperset:**$A\t\\supseteq B$\n",
    "* **difference:** $A \\setminus B$"
   ]
  },
  {
   "cell_type": "code",
   "execution_count": 6,
   "metadata": {
    "collapsed": false
   },
   "outputs": [
    {
     "name": "stdout",
     "output_type": "stream",
     "text": [
      "{1, 2, 3, 4}\n",
      "{3, 4, 5, 6}\n",
      "{3, 4}\n",
      "{1, 2, 3, 4, 5, 6}\n"
     ]
    }
   ],
   "source": [
    "# Define a second set, \"A\"\n",
    "A={1,2,3,4}\n",
    "print (A)\n",
    "print (B)\n",
    "# Intersect and union A with B\n",
    "print (A.intersection(B))\n",
    "print (A.union(B))"
   ]
  },
  {
   "cell_type": "code",
   "execution_count": 7,
   "metadata": {
    "collapsed": false
   },
   "outputs": [
    {
     "name": "stdout",
     "output_type": "stream",
     "text": [
      "False\n",
      "False\n"
     ]
    }
   ],
   "source": [
    "# Test whether A is subset or superset of B\n",
    "print (A.issubset(B))\n",
    "print (A.issuperset(B))"
   ]
  },
  {
   "cell_type": "code",
   "execution_count": 8,
   "metadata": {
    "collapsed": false
   },
   "outputs": [
    {
     "name": "stdout",
     "output_type": "stream",
     "text": [
      "{1, 2}\n",
      "{5, 6}\n"
     ]
    }
   ],
   "source": [
    "# Compute the differences of the sets\n",
    "print (A.difference(B))\n",
    "print (B.difference(A))"
   ]
  },
  {
   "cell_type": "markdown",
   "metadata": {},
   "source": [
    "We can also define a new set that is built by an operation of two existing sets, e.g. $C=A \\cup B$"
   ]
  },
  {
   "cell_type": "code",
   "execution_count": 9,
   "metadata": {
    "collapsed": false
   },
   "outputs": [
    {
     "name": "stdout",
     "output_type": "stream",
     "text": [
      "{1, 2, 3, 4, 5, 6}\n"
     ]
    }
   ],
   "source": [
    "C=A.union(B)\n",
    "print (C)"
   ]
  },
  {
   "cell_type": "code",
   "execution_count": 10,
   "metadata": {
    "collapsed": false
   },
   "outputs": [
    {
     "name": "stdout",
     "output_type": "stream",
     "text": [
      "True\n",
      "False\n",
      "True\n"
     ]
    }
   ],
   "source": [
    "# The union of the sets A and B is a superset of B/A now and B/A are subsets of the new set C \n",
    "print (C.issuperset(B))\n",
    "print (C.issubset(B))\n",
    "print (B.issubset(C))"
   ]
  },
  {
   "cell_type": "markdown",
   "metadata": {},
   "source": [
    "## Dictionaries\n",
    "\n",
    "A very important and useful type of arrays are *dictionaries*. Dictionaries are similar to lists, but its entries (*values*) are indexed by names (*keys*) rather than numbers. In other words, dictionaries are *key-value mappings*: they map a key (e.g. 'name') to a value (e.g. the string 'Alex'). Note that both the keys and the values in a dictionary can be of different types (integers, floats, strings, booleans, arrays etc.)."
   ]
  },
  {
   "cell_type": "code",
   "execution_count": 11,
   "metadata": {
    "collapsed": false
   },
   "outputs": [
    {
     "name": "stdout",
     "output_type": "stream",
     "text": [
      "{'age': 34, 'interests': ['Python', 'Economics', 'Game of Thrones'], 'likes_football': True, 'name': 'Alex'}\n",
      "Alex\n",
      "34\n",
      "True\n",
      "['Python', 'Economics', 'Game of Thrones']\n"
     ]
    }
   ],
   "source": [
    "# dictionary\n",
    "info = {'name': 'Alex', 'age': 34, 'likes_football': True, 'interests': ['Python', 'Economics', 'Game of Thrones']}\n",
    "\n",
    "print(info)\n",
    "print(info['name'])\n",
    "print(info['age'])\n",
    "print(info['likes_football'])\n",
    "print(info['interests'])"
   ]
  },
  {
   "cell_type": "markdown",
   "metadata": {},
   "source": [
    "You can add new key-value pairs to an existing (or an empty) dictionary. "
   ]
  },
  {
   "cell_type": "code",
   "execution_count": 12,
   "metadata": {
    "collapsed": false
   },
   "outputs": [
    {
     "name": "stdout",
     "output_type": "stream",
     "text": [
      "{'age': 34, 'interests': ['Python', 'Economics', 'Game of Thrones'], 'likes_football': True, 'height': 1.82, 'name': 'Alex'}\n",
      "{'Berlin': 3500000.0, 'London': 8500000.0, 'Munich': 1500000.0}\n"
     ]
    }
   ],
   "source": [
    "# add a new entry to an existing dictionary\n",
    "info['height'] = 1.82\n",
    "print(info)\n",
    "\n",
    "# create an empty dictionary and fill it \n",
    "residents = dict()\n",
    "residents['Munich'] = 1.5e+6\n",
    "residents['Berlin'] = 3.5e+6\n",
    "residents['London'] = 8.5e+6\n",
    "\n",
    "print(residents)"
   ]
  },
  {
   "cell_type": "markdown",
   "metadata": {},
   "source": [
    "As a list, a dictionary is mutable, i.e. the value its entries can be changed:"
   ]
  },
  {
   "cell_type": "code",
   "execution_count": 13,
   "metadata": {
    "collapsed": false
   },
   "outputs": [
    {
     "name": "stdout",
     "output_type": "stream",
     "text": [
      "{'Berlin': 3500000.0, 'London': 7650000.0, 'Munich': 1600000.0}\n"
     ]
    }
   ],
   "source": [
    "residents['Munich'] += 100000\n",
    "residents['London'] = residents['London'] * 0.9\n",
    "print(residents)"
   ]
  },
  {
   "cell_type": "markdown",
   "metadata": {},
   "source": [
    "Like for all Python arrays, **len()** can also be used to determine the lengths (number of key-value pairs) of a dictionary."
   ]
  },
  {
   "cell_type": "code",
   "execution_count": 14,
   "metadata": {
    "collapsed": false
   },
   "outputs": [
    {
     "name": "stdout",
     "output_type": "stream",
     "text": [
      "3\n"
     ]
    }
   ],
   "source": [
    "print(len(residents))"
   ]
  },
  {
   "cell_type": "markdown",
   "metadata": {},
   "source": [
    "You can also define a new dictionary using a *dictionary comprehension* (i.e. a compact version of a loop). They work similar as list comprehensions. You can iterate through one list, two lists or a list of arrays:"
   ]
  },
  {
   "cell_type": "code",
   "execution_count": 15,
   "metadata": {
    "collapsed": false
   },
   "outputs": [
    {
     "name": "stdout",
     "output_type": "stream",
     "text": [
      "{0: 0, 1: 1, 2: 2, 3: 3, 4: 4, 5: 5, 6: 6, 7: 7, 8: 8, 9: 9, -2: 2, -10: 10, -9: 9, -8: 8, -7: 7, -6: 6, -5: 5, -4: 4, -3: 3, -1: 1}\n"
     ]
    }
   ],
   "source": [
    "D1 = { x:abs(x) for x in range(-10, 10) }\n",
    "print(D1)"
   ]
  },
  {
   "cell_type": "code",
   "execution_count": 16,
   "metadata": {
    "collapsed": false
   },
   "outputs": [
    {
     "name": "stdout",
     "output_type": "stream",
     "text": [
      "{(1, 2): 2, (3, 2): 6, (1, 3): 3, (2, 3): 6, (3, 3): 9, (2, 2): 4, (3, 1): 3, (1, 1): 1, (2, 1): 2}\n"
     ]
    }
   ],
   "source": [
    "D2 = { (x,y):x*y for x in [1,2,3] for y in [1,2,3] }\n",
    "print(D2)"
   ]
  },
  {
   "cell_type": "code",
   "execution_count": 17,
   "metadata": {
    "collapsed": false
   },
   "outputs": [
    {
     "name": "stdout",
     "output_type": "stream",
     "text": [
      "{100: 1, 3: 2, 4: 0}\n"
     ]
    }
   ],
   "source": [
    "D3 = { k:v for (k,v) in [(3,2),(4,0),(100,1)] }\n",
    "print(D3)"
   ]
  },
  {
   "cell_type": "markdown",
   "metadata": {},
   "source": [
    "With the **zip** function, you don't even need a comprehension to define a dictionary:"
   ]
  },
  {
   "cell_type": "code",
   "execution_count": 18,
   "metadata": {
    "collapsed": false
   },
   "outputs": [
    {
     "name": "stdout",
     "output_type": "stream",
     "text": [
      "{'Arya': 'Stark', 'Daenerys': 'Targaryen', 'Samwell': 'Tarly', 'Tyrion': 'Lannister'}\n",
      "{'Arya': 'Stark', 'Daenerys': 'Targaryen', 'Samwell': 'Tarly', 'Tyrion': 'Lannister'}\n"
     ]
    }
   ],
   "source": [
    "names = ['Daenerys', 'Tyrion', 'Arya', 'Samwell']\n",
    "houses = ['Targaryen', 'Lannister', 'Stark', 'Tarly']\n",
    "\n",
    "D4 = {name: house for (name, house) in zip(names, houses)}\n",
    "print(D4)    \n",
    "\n",
    "D5 = dict(zip(names, houses))\n",
    "print(D5)"
   ]
  },
  {
   "cell_type": "markdown",
   "metadata": {},
   "source": [
    "### Methods for Dictionaries\n",
    "\n",
    "Both the complete list of keys and of values of a dictionary can accessed by using the **.keys()** and **.values()** methods, respectively:"
   ]
  },
  {
   "cell_type": "code",
   "execution_count": 19,
   "metadata": {
    "collapsed": false
   },
   "outputs": [
    {
     "name": "stdout",
     "output_type": "stream",
     "text": [
      "{'age': 34, 'interests': ['Python', 'Economics', 'Game of Thrones'], 'likes_football': True, 'height': 1.82, 'name': 'Alex'}\n",
      "dict_keys(['age', 'interests', 'likes_football', 'height', 'name'])\n",
      "dict_values([34, ['Python', 'Economics', 'Game of Thrones'], True, 1.82, 'Alex'])\n"
     ]
    }
   ],
   "source": [
    "print(info)\n",
    "\n",
    "print(info.keys())\n",
    "print(info.values())"
   ]
  },
  {
   "cell_type": "markdown",
   "metadata": {},
   "source": [
    "Another helpful method for dictionaries is **.update(other)**. It is used to extend (update) an existing dictionary with another dictionary or an array of two-item tuples."
   ]
  },
  {
   "cell_type": "code",
   "execution_count": 20,
   "metadata": {
    "collapsed": false
   },
   "outputs": [
    {
     "name": "stdout",
     "output_type": "stream",
     "text": [
      "{'blau': 'blue', 'grün': 'green'}\n",
      "{'blau': 'blue', 'grün': 'green', 'rot': 'red', 'gelb': 'yello'}\n",
      "{'blau': 'newblue', 'grün': 'green', 'rot': 'red', 'schwarz': 'black', 'gelb': 'yello'}\n"
     ]
    }
   ],
   "source": [
    "de_en={'blau':'blue','grün':'green'}\n",
    "de_en_add={'rot':'red','gelb':'yello'}\n",
    "print(de_en)\n",
    "de_en.update(de_en_add)\n",
    "print(de_en)\n",
    "de_en.update([('blau', 'newblue'),('schwarz','black')])\n",
    "print (de_en)"
   ]
  },
  {
   "cell_type": "code",
   "execution_count": 21,
   "metadata": {
    "collapsed": false
   },
   "outputs": [
    {
     "name": "stdout",
     "output_type": "stream",
     "text": [
      "black\n"
     ]
    }
   ],
   "source": [
    "print(de_en['schwarz'])"
   ]
  },
  {
   "cell_type": "markdown",
   "metadata": {},
   "source": [
    "## Writing Functions"
   ]
  },
  {
   "cell_type": "markdown",
   "metadata": {
    "collapsed": true
   },
   "source": [
    "In order to get an intuition behind the idea of a function in Python (or in any other programming language), recall what a function in Math does, for example $y = f(x) = x^2$: it is a mapping that takes a number $x$, performs some operation on it -- here multiplies it with itself -- and then returns the result as \"output\" $y$. A function in programming does pretty much the same, with the difference that inputs and outputs can be anything, not just numbers. More formally, a function is a *named sequence of statements* that are executed *when the function is called*. We say that a function *takes* one or more arguments (of any type) and *returns* some kind of output. \n",
    "\n",
    "Functions come in two varieties: built-in functions are contained in the Standard Library or some package, and be used right away (if they are part of a module, this has to be imported first, see below). We already encountered some functions, namely **print()**, **type()**, **len()** and **range()**. The full list of built-in functions can be found here: "
   ]
  },
  {
   "cell_type": "code",
   "execution_count": 22,
   "metadata": {
    "collapsed": false
   },
   "outputs": [
    {
     "data": {
      "text/plain": [
       "True"
      ]
     },
     "execution_count": 22,
     "metadata": {},
     "output_type": "execute_result"
    }
   ],
   "source": [
    "import webbrowser     \n",
    "url = 'https://docs.python.org/3/library/functions.html'\n",
    "webbrowser.open(url)"
   ]
  },
  {
   "cell_type": "markdown",
   "metadata": {},
   "source": [
    "In addition, you can (and should) write your own functions. Here are three examples. The first one, called **sum_squared** translates the math function $ f(x,y) = x^2 + y^2$ into Python code: it takes two numbers (**int** or **float**) as inputs and returns the sum of its squares. The second function, **reverse_order**, takes a list and returns it in reverse order. The third example just prints a string, and hence does not return anything:"
   ]
  },
  {
   "cell_type": "code",
   "execution_count": 23,
   "metadata": {
    "collapsed": false
   },
   "outputs": [],
   "source": [
    "def sum_squared(x, y):\n",
    "    return x**2 + y**2\n",
    "\n",
    "def reverse_order(ls):\n",
    "    return ls[::-1]\n",
    "\n",
    "def all_men_must_die():\n",
    "    print(\"Valar Morghulis!\")\n"
   ]
  },
  {
   "cell_type": "code",
   "execution_count": 24,
   "metadata": {
    "collapsed": false
   },
   "outputs": [
    {
     "name": "stdout",
     "output_type": "stream",
     "text": [
      "73\n"
     ]
    }
   ],
   "source": [
    "print(sum_squared(8, 3))"
   ]
  },
  {
   "cell_type": "code",
   "execution_count": 25,
   "metadata": {
    "collapsed": false
   },
   "outputs": [
    {
     "name": "stdout",
     "output_type": "stream",
     "text": [
      "['Daenerys', 'Tyrion', 'Arya', 'Samwell']\n",
      "['Samwell', 'Arya', 'Tyrion', 'Daenerys']\n"
     ]
    }
   ],
   "source": [
    "names = ['Daenerys', 'Tyrion', 'Arya', 'Samwell']\n",
    "names_reverse = reverse_order(names)\n",
    "print(names)\n",
    "print(names_reverse)"
   ]
  },
  {
   "cell_type": "code",
   "execution_count": 26,
   "metadata": {
    "collapsed": false
   },
   "outputs": [
    {
     "name": "stdout",
     "output_type": "stream",
     "text": [
      "Valar Morghulis!\n",
      "Valar Morghulis!\n",
      "None\n",
      "<class 'NoneType'>\n"
     ]
    }
   ],
   "source": [
    "all_men_must_die()\n",
    "\n",
    "## Note: the return value of this function is None (a special type of object)\n",
    "x = all_men_must_die()\n",
    "print(x)\n",
    "print(type(x))"
   ]
  },
  {
   "cell_type": "markdown",
   "metadata": {},
   "source": [
    "Note that functions are treated by Python another type of object, i.e. the name of a function refers to an object in memory:"
   ]
  },
  {
   "cell_type": "code",
   "execution_count": 27,
   "metadata": {
    "collapsed": false
   },
   "outputs": [
    {
     "name": "stdout",
     "output_type": "stream",
     "text": [
      "<class 'function'>\n"
     ]
    }
   ],
   "source": [
    "print(type(all_men_must_die))"
   ]
  },
  {
   "cell_type": "markdown",
   "metadata": {},
   "source": [
    "#### Function syntax\n",
    "\n",
    "Some comments about the syntax for writing functions. The *header* of a function consists of the following elements:\n",
    "1. A function always starts with the keyword **def** (for define or definition). This is followed by the *function name*, which is the choice of the programmer and can be virtually anything - be careful though not to use names that are *already used for built-in functions*!\n",
    "2. The function name is followed by *parentheses* containing the names for the inputs into the function. Sometimes functions may not take inputs, in which cases the parentheses are left empty (as seen in the third example above).\n",
    "3. As it is the case with loops and if-statement, the function definition is concluded with a colon (**:**).\n",
    "\n",
    "The *body* or code block of a function is a sequence of statements that the function should perform. The rules about *indentation* that we discussed in the context of loops above apply here as well. The code block can consist of a single return statement or many lines of code. \n",
    "\n",
    "The output that a function gives is determined by the **return** statement. If there is no return statement, the function returns **None**. Note that a function can have arbitrarily many return statements; execution of the function terminates when the first return is hit:"
   ]
  },
  {
   "cell_type": "code",
   "execution_count": 28,
   "metadata": {
    "collapsed": false
   },
   "outputs": [
    {
     "name": "stdout",
     "output_type": "stream",
     "text": [
      "negative\n"
     ]
    }
   ],
   "source": [
    "def f(x):\n",
    "    if x < 0:\n",
    "        return 'negative'\n",
    "    return 'nonnegative'\n",
    "\n",
    "print(f(-3))"
   ]
  },
  {
   "cell_type": "markdown",
   "metadata": {},
   "source": [
    "#### Why use functions?\n",
    "\n",
    "Functions are an extremely important tool in computing. User-defined functions help improving the clarity and readability of your code (and make it easier to debug!) by\n",
    "- separating different strands of logic\n",
    "- eliminating repetitive code, which makes the program smaller and if you have to make a change, you just have to make it in one place;\n",
    "- facilitating code reuse across several programs/scripts\n",
    "\n",
    "In other words, very often a (large) computational problem is broken up into smaller subproblems, which are coded up as functions. The main program then coordinates these functions, calling them to do their job at the appropriate time.\n",
    "\n",
    "#### docstrings\n",
    "\n",
    "In order to increase the clarity of your code, it is good practice to include a description about what the function does. Inserting regular comments using \"#\" would do the trick, but a better way is using *docstrings*, as in the following example. In contrast to regular code, they are written within three quotation marks (**\"\"\"**). The great advantage is that you can access the description without actually opening the function (this is very useful when your function is stored in a different file or in an imported package): "
   ]
  },
  {
   "cell_type": "code",
   "execution_count": 29,
   "metadata": {
    "collapsed": false
   },
   "outputs": [],
   "source": [
    "def reverse_order(ls):\n",
    "    \"\"\"\n",
    "    Takes a list and returns it in reverse order\n",
    "    \"\"\"\n",
    "    return ls[::-1]\n",
    "\n",
    "## get information about the function\n",
    "reverse_order?"
   ]
  },
  {
   "cell_type": "markdown",
   "metadata": {},
   "source": [
    "As a side note, using the question mark in connection with a function name to access its docstring also works for in-built Python function. This is useful if you want to check on what a function does and what input arguments it requires."
   ]
  },
  {
   "cell_type": "code",
   "execution_count": 30,
   "metadata": {
    "collapsed": true
   },
   "outputs": [],
   "source": [
    "?len"
   ]
  },
  {
   "cell_type": "markdown",
   "metadata": {},
   "source": [
    "Note that for more complex functions, it is often considered good practice to include not only a description of the function, but also some information about the input(s) and output(s). For example:"
   ]
  },
  {
   "cell_type": "code",
   "execution_count": 31,
   "metadata": {
    "collapsed": true
   },
   "outputs": [],
   "source": [
    "def sum_squared(x, y):\n",
    "    \"\"\"\n",
    "    (float, float) -> float\n",
    "    \n",
    "    Returns the sum of two squared numbers.\n",
    "    \"\"\"\n",
    "    \n",
    "    return x**2 + y**2"
   ]
  },
  {
   "cell_type": "markdown",
   "metadata": {},
   "source": [
    "### Testing a function using doctest\n",
    "\n",
    "Suppose you write a function and want to check if it does what it is supposed to do, using some test input. An easy way to do this would be to include a few **print** statements after the function definition. A more elegant way is to include the test cases in the docstring and then run all the tests at once using the **doctest** module (more on what a module is and how to use it in the next section). Using **doctest** is a way to free your code of unnecessary clutter (such as print statements) and thus make it more readable.\n",
    "\n",
    "When writing the docstring, you need to include both the function call with the test data (using ***>>>***, as in a console) and the expected output: "
   ]
  },
  {
   "cell_type": "code",
   "execution_count": 32,
   "metadata": {
    "collapsed": false
   },
   "outputs": [],
   "source": [
    "def reverse_order(ls):\n",
    "    \"\"\"\n",
    "    Takes a list and returns it in reverse order\n",
    "    \n",
    "    >>> reverse_order([-2, 0, 2])\n",
    "    [2, 0, -2]\n",
    "    \n",
    "    >>> reverse_order('Matthias')\n",
    "    'aihttaM'\n",
    "    \n",
    "    \"\"\"\n",
    "    return ls[::-1]"
   ]
  },
  {
   "cell_type": "markdown",
   "metadata": {},
   "source": [
    "Next, we import the **doctest** module and run its **testmod()** function:"
   ]
  },
  {
   "cell_type": "code",
   "execution_count": 33,
   "metadata": {
    "collapsed": false
   },
   "outputs": [
    {
     "name": "stdout",
     "output_type": "stream",
     "text": [
      "**********************************************************************\n",
      "File \"__main__\", line 8, in __main__.reverse_order\n",
      "Failed example:\n",
      "    reverse_order('Matthias')\n",
      "Expected:\n",
      "    'aihttaM'\n",
      "Got:\n",
      "    'saihttaM'\n",
      "**********************************************************************\n",
      "1 items had failures:\n",
      "   1 of   2 in __main__.reverse_order\n",
      "***Test Failed*** 1 failures.\n"
     ]
    },
    {
     "data": {
      "text/plain": [
       "TestResults(failed=1, attempted=2)"
      ]
     },
     "execution_count": 33,
     "metadata": {},
     "output_type": "execute_result"
    }
   ],
   "source": [
    "import doctest\n",
    "doctest.testmod()"
   ]
  },
  {
   "cell_type": "markdown",
   "metadata": {},
   "source": [
    "If all tests delivered the expected results, you will get a one-line message. If one or more tests failed, you will get a report containing information on the expected and actual function output.\n",
    "\n",
    "One word of warning: when using **doctest** in the Jupyter environment, as above, running **testmod()** will check on the last function you have defined, which can create some confusion if you do the test in a different cell than the function definition. Typically, if you define functions in separate modules, you can include the call to **doctest** in there and then run them automatically (more on this below). "
   ]
  },
  {
   "cell_type": "markdown",
   "metadata": {},
   "source": [
    "## Importing Modules and Packages\n",
    "\n",
    "So far, we have used data types and functions which are part of the core language and which you can use without any additional code. In addition to this core functionalities, the Python standard library also contains *modules*. Modules are basically files that contain additional functions and definitions. In order to use the functions provided by a module, you need to **import** it. We have done this already at the beginning of this tutorial when we imported the module **webbrowser** in order to open a webpage, and in the previous section when we used the **doctest** module. As another example, the following cell imports a module called *random*, which you can use, among other things, to draw a random number from a uniform distribution. Importing the whole module makes all functions available for use in your program. In this case, the name of the function - e.g. *uniform* - must be preceded by the name of the module, i.e. *module_name.function_name*."
   ]
  },
  {
   "cell_type": "code",
   "execution_count": 34,
   "metadata": {
    "collapsed": false
   },
   "outputs": [
    {
     "name": "stdout",
     "output_type": "stream",
     "text": [
      "0.46429433357183514\n",
      "0.8139462669477247\n",
      "-2.060021085048888\n",
      "1\n"
     ]
    }
   ],
   "source": [
    "import random   # import module\n",
    "\n",
    "print(random.random()) # draws a random number from a uniform distribution between 0 and 1\n",
    "print(random.uniform(0,1)) # draws a random number from a uniform distribution between 0 and 1\n",
    "print(random.uniform(-5,5)) # draws a random number from a uniform distribution between -5 and 5\n",
    "print(random.randrange(0, 11))  # draws a random integer from 0 to 10 (i.e. excluding the given endpoint)"
   ]
  },
  {
   "cell_type": "markdown",
   "metadata": {},
   "source": [
    "Alternatively, you can import individual functions from a module. Then, calling the name of the function is sufficient. However, I would avoid this syntax for the most part since it may cause potential conflicts with respect to the variable or function names. "
   ]
  },
  {
   "cell_type": "code",
   "execution_count": 35,
   "metadata": {
    "collapsed": false
   },
   "outputs": [
    {
     "name": "stdout",
     "output_type": "stream",
     "text": [
      "0.27169598480660495\n"
     ]
    }
   ],
   "source": [
    "from random import uniform   # import module\n",
    "\n",
    "print(uniform(0,1)) # draws a random number from a uniform distribution between 0 and 1"
   ]
  },
  {
   "cell_type": "markdown",
   "metadata": {},
   "source": [
    "The problem set contains examples for other useful modules that are part of the standard library, such as **math** and **time**.\n",
    "\n",
    "In addition to the functions and modules contained in the standard library, there is a large number of *packages* or *external libraries*. Those are usually written and maintained by external developers and consist of one or more modules. If you have installed the Anaconda distribution of Python, many packages are automatically included, which means you just need to import them. If you have only the core package installed or if you want to use a package that is not part of Anaconda, you will need to download and install it first. "
   ]
  },
  {
   "cell_type": "markdown",
   "metadata": {
    "collapsed": true
   },
   "source": [
    "## Writing and importing  your own modules\n",
    "\n",
    "Python allows you to define your own modules and import them in the same way as modules from the core language or from other developers. As a simple example, we put the functions that were defined above in an external file called \"firstmodule.py\". The file can be written in each text editor (and even directly in the Jupyter environment) and has to be saved with the ending \".py\". Writing your own modules is another way of enhancing the readability of your code and makes sense in particular for functions that you use in several programs.\n",
    "\n",
    "You import the module without the \".py\" ending:"
   ]
  },
  {
   "cell_type": "code",
   "execution_count": 36,
   "metadata": {
    "collapsed": false
   },
   "outputs": [
    {
     "data": {
      "text/plain": [
       "13"
      ]
     },
     "execution_count": 36,
     "metadata": {},
     "output_type": "execute_result"
    }
   ],
   "source": [
    "import firstmodule\n",
    "firstmodule.sum_squared(2,3)"
   ]
  },
  {
   "cell_type": "markdown",
   "metadata": {},
   "source": [
    "As an aside, note that for modules with long names or that you use very often, you can import them using an abbreviation, as in the example below. We will see this on a regular basis for frequently used modules such as **numpy** or **pandas** later on."
   ]
  },
  {
   "cell_type": "code",
   "execution_count": 37,
   "metadata": {
    "collapsed": false
   },
   "outputs": [
    {
     "name": "stdout",
     "output_type": "stream",
     "text": [
      "Valar Morghulis!\n"
     ]
    }
   ],
   "source": [
    "import firstmodule as fm\n",
    "fm.all_men_must_die()"
   ]
  },
  {
   "cell_type": "markdown",
   "metadata": {},
   "source": [
    "#### Reloading modules\n",
    "\n",
    "As modules can change during their development, they must be updated in the current working environment. We can achieve this using the **reload** module: "
   ]
  },
  {
   "cell_type": "code",
   "execution_count": 38,
   "metadata": {
    "collapsed": true
   },
   "outputs": [],
   "source": [
    "from importlib import reload"
   ]
  },
  {
   "cell_type": "code",
   "execution_count": 39,
   "metadata": {
    "collapsed": true
   },
   "outputs": [],
   "source": [
    "# Alternatively there is a so-called magic function that enables automatic reloading/updating of modules:\n",
    "# %load_ext autoreload\n",
    "# %autoreload 2"
   ]
  },
  {
   "cell_type": "markdown",
   "metadata": {},
   "source": [
    "After changing the module, we reload it in the following way, to make the changes active:"
   ]
  },
  {
   "cell_type": "code",
   "execution_count": 40,
   "metadata": {
    "collapsed": false
   },
   "outputs": [
    {
     "data": {
      "text/plain": [
       "<module 'firstmodule' from '/Users/Alex1/Dropbox/PythonTeaching/firstmodule.py'>"
      ]
     },
     "execution_count": 40,
     "metadata": {},
     "output_type": "execute_result"
    }
   ],
   "source": [
    "reload(fm)"
   ]
  },
  {
   "cell_type": "markdown",
   "metadata": {},
   "source": [
    "#### Running vs. importing a module\n",
    "\n",
    "There is a subtle, but important difference between importing a module as above, and running it as you would a normal Python script. Consider the module **secondmodule.py** containing the function **same_start_and_end** that checks whether an array starts and ends with the same value and returns a boolean. \n",
    "\n",
    "Running the file has the same effect as defining this function (and all others if they were more) in our Jupyter notebook, as we have done several times above. In more technical terms, it adds the function **same_start_and_end** to Python's *namespace* (which is essentially a directory of all modules, functions and variables that were either defined by us or are built-in).  "
   ]
  },
  {
   "cell_type": "code",
   "execution_count": 41,
   "metadata": {
    "collapsed": false
   },
   "outputs": [
    {
     "name": "stdout",
     "output_type": "stream",
     "text": [
      "**********************************************************************\n",
      "File \"/Users/Alex1/Dropbox/PythonTeaching/secondmodule.py\", line 12, in __main__.same_start_and_end\n",
      "Failed example:\n",
      "    same_start_and_end(s)\n",
      "Expected:\n",
      "    True\n",
      "Got:\n",
      "    False\n",
      "**********************************************************************\n",
      "1 items had failures:\n",
      "   1 of   4 in __main__.same_start_and_end\n",
      "***Test Failed*** 1 failures.\n"
     ]
    }
   ],
   "source": [
    "%run secondmodule.py\n",
    "## ignore the output below for the moment!"
   ]
  },
  {
   "cell_type": "markdown",
   "metadata": {},
   "source": [
    "Importing the function adds only the name of the module to Python's namespace (here **sm**)."
   ]
  },
  {
   "cell_type": "code",
   "execution_count": 42,
   "metadata": {
    "collapsed": true
   },
   "outputs": [],
   "source": [
    "import secondmodule as sm"
   ]
  },
  {
   "cell_type": "markdown",
   "metadata": {},
   "source": [
    "The difference between running and importing a module is also important in a related context. Suppose you have a module that does not only include functions, but also other content. A typical example would be some test calls to the functions in the module, for example using **doctest**. We don't want to see these calls every time we import the module. There is a neat way to achieve this, exploiting the way Python stores functions and variables. The file **secondmodule.py** contains the following lines at the end:"
   ]
  },
  {
   "cell_type": "code",
   "execution_count": 43,
   "metadata": {
    "collapsed": true
   },
   "outputs": [],
   "source": [
    "# if __name__ == '__main__':\n",
    "#     import doctest\n",
    "#     doctest.testmod()"
   ]
  },
  {
   "cell_type": "markdown",
   "metadata": {},
   "source": [
    "The conditional statement **if __name__ == '__main__':** is a way to tell Python to execute the code block below *only if the module is run, but not if it is imported*. That's why above we get a test report when running **secondmodule.py** (note that one of the test cases is misspecified), but not when importing it.  \n",
    "\n",
    "Hence, running a module is useful in development, when writing the functions for the first time or when adding new test cases. Once we have ensured the functions work properly, we do not need to test them any more, and hence import the module.  "
   ]
  },
  {
   "cell_type": "code",
   "execution_count": 44,
   "metadata": {
    "collapsed": false
   },
   "outputs": [
    {
     "data": {
      "application/json": {
       "cell": {
        "!": "OSMagics",
        "HTML": "Other",
        "SVG": "Other",
        "bash": "Other",
        "capture": "ExecutionMagics",
        "debug": "ExecutionMagics",
        "file": "Other",
        "html": "DisplayMagics",
        "javascript": "DisplayMagics",
        "js": "DisplayMagics",
        "latex": "DisplayMagics",
        "perl": "Other",
        "prun": "ExecutionMagics",
        "pypy": "Other",
        "python": "Other",
        "python2": "Other",
        "python3": "Other",
        "ruby": "Other",
        "script": "ScriptMagics",
        "sh": "Other",
        "svg": "DisplayMagics",
        "sx": "OSMagics",
        "system": "OSMagics",
        "time": "ExecutionMagics",
        "timeit": "ExecutionMagics",
        "writefile": "OSMagics"
       },
       "line": {
        "alias": "OSMagics",
        "alias_magic": "BasicMagics",
        "autocall": "AutoMagics",
        "automagic": "AutoMagics",
        "autosave": "KernelMagics",
        "bookmark": "OSMagics",
        "cat": "Other",
        "cd": "OSMagics",
        "clear": "KernelMagics",
        "colors": "BasicMagics",
        "config": "ConfigMagics",
        "connect_info": "KernelMagics",
        "cp": "Other",
        "debug": "ExecutionMagics",
        "dhist": "OSMagics",
        "dirs": "OSMagics",
        "doctest_mode": "BasicMagics",
        "ed": "Other",
        "edit": "KernelMagics",
        "env": "OSMagics",
        "gui": "BasicMagics",
        "hist": "Other",
        "history": "HistoryMagics",
        "killbgscripts": "ScriptMagics",
        "ldir": "Other",
        "less": "KernelMagics",
        "lf": "Other",
        "lk": "Other",
        "ll": "Other",
        "load": "CodeMagics",
        "load_ext": "ExtensionMagics",
        "loadpy": "CodeMagics",
        "logoff": "LoggingMagics",
        "logon": "LoggingMagics",
        "logstart": "LoggingMagics",
        "logstate": "LoggingMagics",
        "logstop": "LoggingMagics",
        "ls": "Other",
        "lsmagic": "BasicMagics",
        "lx": "Other",
        "macro": "ExecutionMagics",
        "magic": "BasicMagics",
        "man": "KernelMagics",
        "matplotlib": "PylabMagics",
        "mkdir": "Other",
        "more": "KernelMagics",
        "mv": "Other",
        "notebook": "BasicMagics",
        "page": "BasicMagics",
        "pastebin": "CodeMagics",
        "pdb": "ExecutionMagics",
        "pdef": "NamespaceMagics",
        "pdoc": "NamespaceMagics",
        "pfile": "NamespaceMagics",
        "pinfo": "NamespaceMagics",
        "pinfo2": "NamespaceMagics",
        "popd": "OSMagics",
        "pprint": "BasicMagics",
        "precision": "BasicMagics",
        "profile": "BasicMagics",
        "prun": "ExecutionMagics",
        "psearch": "NamespaceMagics",
        "psource": "NamespaceMagics",
        "pushd": "OSMagics",
        "pwd": "OSMagics",
        "pycat": "OSMagics",
        "pylab": "PylabMagics",
        "qtconsole": "KernelMagics",
        "quickref": "BasicMagics",
        "recall": "HistoryMagics",
        "rehashx": "OSMagics",
        "reload_ext": "ExtensionMagics",
        "rep": "Other",
        "rerun": "HistoryMagics",
        "reset": "NamespaceMagics",
        "reset_selective": "NamespaceMagics",
        "rm": "Other",
        "rmdir": "Other",
        "run": "ExecutionMagics",
        "save": "CodeMagics",
        "sc": "OSMagics",
        "set_env": "OSMagics",
        "store": "StoreMagics",
        "sx": "OSMagics",
        "system": "OSMagics",
        "tb": "ExecutionMagics",
        "time": "ExecutionMagics",
        "timeit": "ExecutionMagics",
        "unalias": "OSMagics",
        "unload_ext": "ExtensionMagics",
        "who": "NamespaceMagics",
        "who_ls": "NamespaceMagics",
        "whos": "NamespaceMagics",
        "xdel": "NamespaceMagics",
        "xmode": "BasicMagics"
       }
      },
      "text/plain": [
       "Available line magics:\n",
       "%alias  %alias_magic  %autocall  %automagic  %autosave  %bookmark  %cat  %cd  %clear  %colors  %config  %connect_info  %cp  %debug  %dhist  %dirs  %doctest_mode  %ed  %edit  %env  %gui  %hist  %history  %killbgscripts  %ldir  %less  %lf  %lk  %ll  %load  %load_ext  %loadpy  %logoff  %logon  %logstart  %logstate  %logstop  %ls  %lsmagic  %lx  %macro  %magic  %man  %matplotlib  %mkdir  %more  %mv  %notebook  %page  %pastebin  %pdb  %pdef  %pdoc  %pfile  %pinfo  %pinfo2  %popd  %pprint  %precision  %profile  %prun  %psearch  %psource  %pushd  %pwd  %pycat  %pylab  %qtconsole  %quickref  %recall  %rehashx  %reload_ext  %rep  %rerun  %reset  %reset_selective  %rm  %rmdir  %run  %save  %sc  %set_env  %store  %sx  %system  %tb  %time  %timeit  %unalias  %unload_ext  %who  %who_ls  %whos  %xdel  %xmode\n",
       "\n",
       "Available cell magics:\n",
       "%%!  %%HTML  %%SVG  %%bash  %%capture  %%debug  %%file  %%html  %%javascript  %%js  %%latex  %%perl  %%prun  %%pypy  %%python  %%python2  %%python3  %%ruby  %%script  %%sh  %%svg  %%sx  %%system  %%time  %%timeit  %%writefile\n",
       "\n",
       "Automagic is ON, % prefix IS NOT needed for line magics."
      ]
     },
     "execution_count": 44,
     "metadata": {},
     "output_type": "execute_result"
    }
   ],
   "source": [
    "%lsmagic"
   ]
  }
 ],
 "metadata": {
  "anaconda-cloud": {},
  "kernelspec": {
   "display_name": "Python 3",
   "language": "python",
   "name": "python3"
  },
  "language_info": {
   "codemirror_mode": {
    "name": "ipython",
    "version": 3
   },
   "file_extension": ".py",
   "mimetype": "text/x-python",
   "name": "python",
   "nbconvert_exporter": "python",
   "pygments_lexer": "ipython3",
   "version": "3.5.2"
  }
 },
 "nbformat": 4,
 "nbformat_minor": 0
}
