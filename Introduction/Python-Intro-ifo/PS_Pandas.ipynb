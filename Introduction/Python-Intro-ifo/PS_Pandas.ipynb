{
 "cells": [
  {
   "cell_type": "markdown",
   "metadata": {},
   "source": [
    "# Introduction to Python - Data Analysis with Pandas \n",
    "\n",
    "## Problem Set"
   ]
  },
  {
   "cell_type": "code",
   "execution_count": 1,
   "metadata": {
    "collapsed": false
   },
   "outputs": [
    {
     "name": "stdout",
     "output_type": "stream",
     "text": [
      "Last update: 2017-06-01 09:40:29.314868\n"
     ]
    }
   ],
   "source": [
    "# Author: Matthias Huber (huber@ifo.de), Alex Schmitt (schmitt@ifo.de)\n",
    "\n",
    "import datetime\n",
    "print('Last update: ' + str(datetime.datetime.today()))"
   ]
  },
  {
   "cell_type": "markdown",
   "metadata": {},
   "source": [
    "## Question 1\n",
    "\n",
    "Run the following cell from the lecture to load the data set on Bundesliga champions into a Pandas Series."
   ]
  },
  {
   "cell_type": "code",
   "execution_count": 2,
   "metadata": {
    "collapsed": false
   },
   "outputs": [
    {
     "data": {
      "text/plain": [
       "1964                1. FC Köln\n",
       "1965             Werder Bremen\n",
       "1966          TSV 1860 München\n",
       "1967    Eintracht Braunschweig\n",
       "1968            1. FC Nürnberg\n",
       "Name: Club, dtype: object"
      ]
     },
     "execution_count": 2,
     "metadata": {},
     "output_type": "execute_result"
    }
   ],
   "source": [
    "import pandas as pd\n",
    "import numpy as np\n",
    "import matplotlib.pyplot as plt\n",
    "%matplotlib inline\n",
    "import seaborn\n",
    "\n",
    "Df = pd.read_csv('data/champions.csv')\n",
    "ts = Df['Club']\n",
    "\n",
    "## check series\n",
    "ts.head()"
   ]
  },
  {
   "cell_type": "markdown",
   "metadata": {},
   "source": [
    "(a) How many clubs became champion at least once? How often was Bayern Munich champion?\n",
    "\n",
    "(b) Use a Pandas command to see the first year in the data set. \n",
    "\n",
    "(c) Write a function that takes the data set and a year as arguments and prints the champion in this particular year. Which club won the championship in 1998? \n",
    "\n",
    "(d) Print out all clubs that were champions more than three times.\n",
    "\n",
    "(e) Write a function that takes a series and returns the club that has won the second-most championships since 1964. Hint: Useful for this question are the **value_counts** and **argmax** methods, and logical arrays.\n",
    "\n",
    "(f) Generate a bar chart with all champions since 1963/64, analogous to the one in the lecture. \n",
    "\n",
    "Bonus challenge: Answer question (f) *without using Pandas' plot method*. Compare the lecture notebook for help. You will need to find a way to get a list of all clubs in the data set, with each club appearing only once."
   ]
  },
  {
   "cell_type": "code",
   "execution_count": null,
   "metadata": {
    "collapsed": true
   },
   "outputs": [],
   "source": []
  },
  {
   "cell_type": "markdown",
   "metadata": {},
   "source": [
    "## Question 2\n",
    "\n",
    "Run the cell below which imports the data set on Bundesliga players and performs the same operations as in the lecture, in order to make last names the indices."
   ]
  },
  {
   "cell_type": "code",
   "execution_count": 3,
   "metadata": {
    "collapsed": false
   },
   "outputs": [
    {
     "data": {
      "text/html": [
       "<div>\n",
       "<table border=\"1\" class=\"dataframe\">\n",
       "  <thead>\n",
       "    <tr style=\"text-align: right;\">\n",
       "      <th></th>\n",
       "      <th>position</th>\n",
       "      <th>value</th>\n",
       "      <th>valuemax</th>\n",
       "      <th>age</th>\n",
       "      <th>goals</th>\n",
       "      <th>assists</th>\n",
       "      <th>yellow</th>\n",
       "      <th>red</th>\n",
       "      <th>shotspergame</th>\n",
       "      <th>passsuccess</th>\n",
       "      <th>aerialswon</th>\n",
       "      <th>rating</th>\n",
       "      <th>positioncode</th>\n",
       "      <th>first_name</th>\n",
       "    </tr>\n",
       "    <tr>\n",
       "      <th>name</th>\n",
       "      <th></th>\n",
       "      <th></th>\n",
       "      <th></th>\n",
       "      <th></th>\n",
       "      <th></th>\n",
       "      <th></th>\n",
       "      <th></th>\n",
       "      <th></th>\n",
       "      <th></th>\n",
       "      <th></th>\n",
       "      <th></th>\n",
       "      <th></th>\n",
       "      <th></th>\n",
       "      <th></th>\n",
       "    </tr>\n",
       "  </thead>\n",
       "  <tbody>\n",
       "    <tr>\n",
       "      <th>Lewandowski</th>\n",
       "      <td>striker</td>\n",
       "      <td>80.0</td>\n",
       "      <td>80.0</td>\n",
       "      <td>28</td>\n",
       "      <td>30</td>\n",
       "      <td>4</td>\n",
       "      <td>5</td>\n",
       "      <td>0</td>\n",
       "      <td>4.2</td>\n",
       "      <td>75.0</td>\n",
       "      <td>1.8</td>\n",
       "      <td>7.71</td>\n",
       "      <td>3</td>\n",
       "      <td>Robert</td>\n",
       "    </tr>\n",
       "    <tr>\n",
       "      <th>Aubameyang</th>\n",
       "      <td>striker</td>\n",
       "      <td>65.0</td>\n",
       "      <td>65.0</td>\n",
       "      <td>27</td>\n",
       "      <td>29</td>\n",
       "      <td>2</td>\n",
       "      <td>3</td>\n",
       "      <td>0</td>\n",
       "      <td>3.6</td>\n",
       "      <td>70.3</td>\n",
       "      <td>1.3</td>\n",
       "      <td>7.40</td>\n",
       "      <td>3</td>\n",
       "      <td>Pierre-Emerick</td>\n",
       "    </tr>\n",
       "    <tr>\n",
       "      <th>Mueller</th>\n",
       "      <td>striker</td>\n",
       "      <td>60.0</td>\n",
       "      <td>75.0</td>\n",
       "      <td>27</td>\n",
       "      <td>5</td>\n",
       "      <td>12</td>\n",
       "      <td>0</td>\n",
       "      <td>0</td>\n",
       "      <td>2.2</td>\n",
       "      <td>76.2</td>\n",
       "      <td>1.8</td>\n",
       "      <td>7.30</td>\n",
       "      <td>3</td>\n",
       "      <td>Thomas</td>\n",
       "    </tr>\n",
       "    <tr>\n",
       "      <th>Reus</th>\n",
       "      <td>striker</td>\n",
       "      <td>40.0</td>\n",
       "      <td>50.0</td>\n",
       "      <td>27</td>\n",
       "      <td>5</td>\n",
       "      <td>4</td>\n",
       "      <td>1</td>\n",
       "      <td>1</td>\n",
       "      <td>2.3</td>\n",
       "      <td>74.6</td>\n",
       "      <td>0.4</td>\n",
       "      <td>7.03</td>\n",
       "      <td>3</td>\n",
       "      <td>Marco</td>\n",
       "    </tr>\n",
       "    <tr>\n",
       "      <th>Costa</th>\n",
       "      <td>striker</td>\n",
       "      <td>30.0</td>\n",
       "      <td>35.0</td>\n",
       "      <td>26</td>\n",
       "      <td>4</td>\n",
       "      <td>3</td>\n",
       "      <td>2</td>\n",
       "      <td>0</td>\n",
       "      <td>1.9</td>\n",
       "      <td>80.2</td>\n",
       "      <td>0.1</td>\n",
       "      <td>7.17</td>\n",
       "      <td>3</td>\n",
       "      <td>Douglas</td>\n",
       "    </tr>\n",
       "  </tbody>\n",
       "</table>\n",
       "</div>"
      ],
      "text/plain": [
       "            position  value  valuemax  age  goals  assists  yellow  red  \\\n",
       "name                                                                      \n",
       "Lewandowski  striker   80.0      80.0   28     30        4       5    0   \n",
       "Aubameyang   striker   65.0      65.0   27     29        2       3    0   \n",
       "Mueller      striker   60.0      75.0   27      5       12       0    0   \n",
       "Reus         striker   40.0      50.0   27      5        4       1    1   \n",
       "Costa        striker   30.0      35.0   26      4        3       2    0   \n",
       "\n",
       "             shotspergame  passsuccess  aerialswon  rating  positioncode  \\\n",
       "name                                                                       \n",
       "Lewandowski           4.2         75.0         1.8    7.71             3   \n",
       "Aubameyang            3.6         70.3         1.3    7.40             3   \n",
       "Mueller               2.2         76.2         1.8    7.30             3   \n",
       "Reus                  2.3         74.6         0.4    7.03             3   \n",
       "Costa                 1.9         80.2         0.1    7.17             3   \n",
       "\n",
       "                 first_name  \n",
       "name                         \n",
       "Lewandowski          Robert  \n",
       "Aubameyang   Pierre-Emerick  \n",
       "Mueller              Thomas  \n",
       "Reus                  Marco  \n",
       "Costa               Douglas  "
      ]
     },
     "execution_count": 3,
     "metadata": {},
     "output_type": "execute_result"
    }
   ],
   "source": [
    "import pandas as pd\n",
    "import numpy as np\n",
    "import matplotlib.pyplot as plt\n",
    "%matplotlib inline\n",
    "import seaborn\n",
    "\n",
    "df = pd.read_csv('data/BundesligaData.csv', sep = ';')\n",
    "\n",
    "def reverse_name(name):\n",
    "    L = name.split(\" \")\n",
    "    try:\n",
    "        S = L[1] + \" \" + L[0]\n",
    "    except:\n",
    "        S = L[0]\n",
    "    \n",
    "    return S\n",
    "\n",
    "df['name'] = df['name'].apply(reverse_name)\n",
    "names = df['name'].str.split(expand=True)\n",
    "# replace column 'name'\n",
    "df['name'] = names[0]\n",
    "## add column 'first name'\n",
    "df['first_name'] = names[1]\n",
    "## make name the index\n",
    "df.set_index('name', drop = True, inplace = True)\n",
    "## check dataframe\n",
    "df.head()\n"
   ]
  },
  {
   "cell_type": "markdown",
   "metadata": {},
   "source": [
    "(a) Who got the most scorer points in the 2016/17 season, and how many points did he get? A scorer point is awarded for both a goal and an assist.\n",
    "\n",
    "(b) Are there any players in the data set that are younger than 25 and have scored more than 10 goals?\n",
    "\n",
    "(c) At which positions do the players with the most red cards, the most yellow cards, and the most aerials won play?\n",
    "\n",
    "(d) For the first five players, update the **'goals'** column with the the number of goals they scored on the matchday 34, namely {'Lewandowski' : 0, 'Aubameyang': 2, 'Mueller': 0, Costa': 0, 'Reus': 1}.\n",
    "\n",
    "(e) At what age do players on average have the highest value? At what age the highest rating? Use the **groupby** and the **apply** method. \n",
    "\n",
    "(f) Write a function **standardize** that takes a series or dataframe column and standardizes its data, i.e. transforms each value by removing the mean and by dividing by the standard deviation:\n",
    "\\begin{equation}\n",
    "    \\tilde{x}_i = \\frac{x_i - mean(x)}{std(x)}\n",
    "\\end{equation}\n",
    "Use the **apply** to standardize the dataframe. Keep in mind that **apply** only works if all columns have the right data type; use **drop** to get rid of those column that don't.\n"
   ]
  },
  {
   "cell_type": "code",
   "execution_count": null,
   "metadata": {
    "collapsed": true
   },
   "outputs": [],
   "source": []
  },
  {
   "cell_type": "markdown",
   "metadata": {},
   "source": [
    "## Question 3\n",
    "\n",
    "The dataset used in this question comes from baseball, which may be a less-than exciting sport, but also one that generates a lot of data and is therefore very popular among (North American) data scientists. The file 'baseball_stats.csv' contains information on more than 18,000 players that have played in the US baseball league MLB at some point. The data includes the name, height and weight of a player, moreover its \"handedness\" (whether he bats with his left or right hand or both), his batting average (the percentage of at-bats in which he recorded a hit) and the number of home runs.\n",
    "\n",
    "(a) Import the Pandas package and read the data in a Pandas dataframe. Use the **info** or the **head** method to make sure the data has been read in properly. \n",
    "\n",
    "(b) Find the player with the most homeruns in the history of the MLB. \n",
    "\n",
    "(c) How many players were recorded to be \"switch hitters\", i.e. to bat both left-handed or right-handed? Who has scored the most homeruns among this group?\n",
    "\n",
    "(d) How often does an MLB player hit the ball on average? Using the **describe** method, you can see that the mean batting average is about 0.17. However, this includes a lot of players with an average of 0. Compute the mean batting average among those players who have actually hit something, i.e. with an average *greater than zero*.\n",
    "\n",
    "(e) A popular question among baseball fans and analysts is whether there is a inherent difference in the batting performance between left- or right-handed batters. We can use a t-test to check the hypothesis that both groups come from the same population, i.e. that there is no systematic difference and all observed difference is due to sampling. Use the **ttest_ind** function in Scipy's **scipy.stats** module to compute a t-statistic under the null hypothesis\n",
    "\\begin{equation}\n",
    "    \\text{avg}_{LH} - \\text{avg}_{RH} = 0.\n",
    "\\end{equation}\n",
    "What can you conclude?\n"
   ]
  },
  {
   "cell_type": "code",
   "execution_count": null,
   "metadata": {
    "collapsed": true
   },
   "outputs": [],
   "source": []
  },
  {
   "cell_type": "markdown",
   "metadata": {},
   "source": [
    "## Question 4\n",
    "In this question we will use data from the Worldbank. There is a nice package called *wbdata*, which allows you to conveniently download all kinds of data from the Worldbank's databases to a Pandas dataframe. We will give you some instructions on how to use it, but also refer to http://wbdata.readthedocs.io/en/latest/ for a more detailed description of the package. To use *wbdata*, you first have to install the package by running *pip install wbdata* in a command window. You can then import it with **import wbdata**:"
   ]
  },
  {
   "cell_type": "code",
   "execution_count": 4,
   "metadata": {
    "collapsed": false
   },
   "outputs": [],
   "source": [
    "import wbdata\n",
    "import pandas as pd\n",
    "import numpy as np\n",
    "import matplotlib.pyplot as plt\n",
    "import statsmodels.api as sm\n",
    "%matplotlib inline"
   ]
  },
  {
   "cell_type": "markdown",
   "metadata": {},
   "source": [
    "(a) In order to download data into a data frame using *wbdata*, we run the following function:\n",
    "**df = wbdata.get_dataframe(indicators, country = countries)**\n",
    "\n",
    "**countries** can be a single country or a list of countries. You need to use the usual country abbreviations here, e.g. **\"DEU\"** for Germany or **\"GBR\"** for United Kingdom. If you don't know a particular country code, you can run \n",
    "**wbdata.search_countries()** with the country name as an input:"
   ]
  },
  {
   "cell_type": "code",
   "execution_count": 5,
   "metadata": {
    "collapsed": false
   },
   "outputs": [
    {
     "name": "stdout",
     "output_type": "stream",
     "text": [
      "DEU\tGermany\n"
     ]
    }
   ],
   "source": [
    "wbdata.search_countries(\"Germany\")"
   ]
  },
  {
   "cell_type": "markdown",
   "metadata": {},
   "source": [
    "Note that the country argument is optional. Omitting it, i.e. running **df = wbdata.get_dataframe(indicators)**, will download data for all countries in the data set. Here, we will restrict ourselves to one \"country\", the world. Hence, we set **countries = \"WLD\"**. \n",
    "\n",
    "As an aside, if you download data for a list of countries or all countries, the resulting dataframe will have multiple row indices (a so-called *Multiindex* dataframe). We haven't talked about these in the lecture, so you might have to do some googling to get an idea how to work with them. As long as we use only one country when downloading data, this is not an issue.     \n",
    "\n",
    "**indicators** is a dictionary that contains the data series you want to download (the keys) and the column names you want to give them (the values in the dictionary). For example, for downloading GDP, you can use: ** indicators = {''NY.GDP.MKTP.KD'': 'gdp'}**. We will give you the relevant names for solving the exercises below, but you can also browse the data base yourself. To list all available topics, use **wbdata.get_source()**. There is also a search function that allows you to search for specific data: **wbdata.search_indicators(\"Population\")**\n",
    "\n",
    "For this exercise, we download data on GPD (**'NY.GDP.MKTP.KD'**), \"gross capital formation\" (**'NE.GDI.TOTL.KD'**), CO2 emissions (**'EN.ATM.GHGT.KT.CE'**) and population (**'SP.POP.TOTL'**) into a dataframe. To avoid missing values, we will use data from 1972 to 2012 in our analysis. The following code block will get you started:"
   ]
  },
  {
   "cell_type": "code",
   "execution_count": 6,
   "metadata": {
    "collapsed": false
   },
   "outputs": [],
   "source": [
    "indicators = {'NY.GDP.MKTP.KD':'gdp','NE.GDI.TOTL.KD':'gcf','EN.ATM.GHGT.KT.CE':'co2','SP.POP.TOTL':'pop'}\n",
    "df = wbdata.get_dataframe(indicators, country = 'WLD')\n",
    "start_year, end_year = '1972', '2012'\n",
    "df = df.loc[start_year : end_year : -1] ## use data between start and end year and reverse order"
   ]
  },
  {
   "cell_type": "markdown",
   "metadata": {},
   "source": [
    "As a last step, convert your data to \"nicer\" units. GDP and GCF are given in USD, convert them to trillion USD. Emissions are given in kilotons (kt), convert them to gigatons (Gt). Finally, convert populations to billions. "
   ]
  },
  {
   "cell_type": "markdown",
   "metadata": {},
   "source": [
    "(b) The data set does not contain a time series for the stock of physical capital. We will use the data on gross \n",
    "capital formation (**'gcf'**) and what is called the *perpetual inventory method* to impute a time series for capital. \n",
    "The perpetual inventory method uses the familiar law of motion for the capital stock:\n",
    "\\begin{equation}\n",
    "    K_{t+1} = (1 - \\delta) K_t + I_t,\n",
    "\\end{equation}\n",
    "where $I_t$ stands for investment. We have data for $I_t$ (gross capital formation) and can set a reasonable value for $\\delta$, say 0.08. Given an initial value for the capital stock $K_0$ (where 0 denotes our first year, i.e. 1972) we can compute the capital stock recursively. Of course, we don't have a direct observation for $K_0$. There is a way to approximate the initial capital stock, but let's skip this here for the sake of brevity. For the global economy, use $K_0 = 66.2$. \n",
    "\n",
    "Write a function that computes the evolution of the physical capital stock using the equation above and data on gross capital formation."
   ]
  },
  {
   "cell_type": "code",
   "execution_count": null,
   "metadata": {
    "collapsed": true
   },
   "outputs": [],
   "source": []
  },
  {
   "cell_type": "markdown",
   "metadata": {},
   "source": [
    "(c) Visualize the relationship between global GDP and global CO2 emissions by plotting their evolution over time in one graph. "
   ]
  },
  {
   "cell_type": "code",
   "execution_count": null,
   "metadata": {
    "collapsed": true
   },
   "outputs": [],
   "source": []
  },
  {
   "cell_type": "markdown",
   "metadata": {},
   "source": [
    "(d) Finally, we are going to run some simple growth regressions. Assume global production can be represented by a Cobb-Douglas function using capital and labor (here proxied by population):\n",
    "\\begin{equation}\n",
    "    Y_t = A_t K_t^\\alpha L_t^{1 - \\alpha}.\n",
    "\\end{equation}\n",
    "Assume total factor productivity $A_t$ grows with a constant rate: $A_t = A_0 \\exp(g t)$. Taking logs gives:\n",
    "\\begin{equation}\n",
    "    \\ln Y_t = \\ln A_0 + g t + \\alpha \\ln K_t + (1 - \\alpha) \\ln L_t.\n",
    "\\end{equation}\n",
    "Since we are interested in estimating the coefficient $\\alpha$, it makes sense to rearrange the terms in the following way:\n",
    "\\begin{equation}\n",
    "    \\ln (Y_t / L_t) = \\ln A_0 + g t + \\alpha \\ln (K_t / L_t).\n",
    "\\end{equation}\n",
    "This is our regression equation: we regress the log of GDP per capita on the log of per-capita input of capital, as well as a time indicator and a constant. \n",
    "\n",
    "Use the statsmodels package to run this regression with the data downloaded above. Then, run a second regression where you also include CO2 emissions as an additional factor of production. The production function in this case is given by:\n",
    "\\begin{equation}\n",
    "    Y_t = A_t K_t^\\alpha E_t^{\\gamma} L_t^{1 - \\alpha - \\gamma},\n",
    "\\end{equation}\n",
    "and hence the regression equation reads:\n",
    "\\begin{equation}\n",
    "    \\ln (Y_t / L_t) = \\ln A_0 + g t + \\alpha \\ln (K_t / L_t) + \\gamma \\ln (E_t \\ L_t).\n",
    "\\end{equation}"
   ]
  },
  {
   "cell_type": "code",
   "execution_count": null,
   "metadata": {
    "collapsed": true
   },
   "outputs": [],
   "source": []
  }
 ],
 "metadata": {
  "anaconda-cloud": {},
  "kernelspec": {
   "display_name": "Python 3",
   "language": "python",
   "name": "python3"
  },
  "language_info": {
   "codemirror_mode": {
    "name": "ipython",
    "version": 3
   },
   "file_extension": ".py",
   "mimetype": "text/x-python",
   "name": "python",
   "nbconvert_exporter": "python",
   "pygments_lexer": "ipython3",
   "version": "3.6.0"
  }
 },
 "nbformat": 4,
 "nbformat_minor": 0
}
