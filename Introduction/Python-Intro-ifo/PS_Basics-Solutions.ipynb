{
 "cells": [
  {
   "cell_type": "markdown",
   "metadata": {},
   "source": [
    "# Introduction to Python - Basics\n",
    "\n",
    "## Problem Set - Solutions"
   ]
  },
  {
   "cell_type": "code",
   "execution_count": 6,
   "metadata": {
    "collapsed": false
   },
   "outputs": [
    {
     "name": "stdout",
     "output_type": "stream",
     "text": [
      "Last update: 2017-04-19 20:04:28.409448\n"
     ]
    }
   ],
   "source": [
    "# Author: Alex Schmitt (schmitt@ifo.de)\n",
    "\n",
    "import datetime\n",
    "print('Last update: ' + str(datetime.datetime.today()))"
   ]
  },
  {
   "cell_type": "markdown",
   "metadata": {},
   "source": [
    "## Question 1\n",
    "\n",
    "Write a program which prompts the user for a Celsius temperature using the **input()** function. Convert the temperature to Fahrenheit and print out the converted temperature.\n",
    "\n",
    "Hint: \n",
    "\\begin{equation}\n",
    "    T_{F} = 1.8 \\cdot T_C + 32 \n",
    "\\end{equation}\n"
   ]
  },
  {
   "cell_type": "code",
   "execution_count": 1,
   "metadata": {
    "collapsed": false
   },
   "outputs": [
    {
     "name": "stdout",
     "output_type": "stream",
     "text": [
      "Enter Temperature in degree Celsius:20\n",
      "20 degree Celsius corresponds to 68.0 degree Fahrenheit.\n"
     ]
    }
   ],
   "source": [
    "T_C = input(\"Enter Temperature in degree Celsius:\")\n",
    "T_F = 1.8 * float(T_C) + 32\n",
    "print(\"{} degree Celsius corresponds to {} degree Fahrenheit.\".format(T_C, T_F))"
   ]
  },
  {
   "cell_type": "markdown",
   "metadata": {},
   "source": [
    "## Question 2\n",
    "\n",
    "Write a program to prompt the user for hours worked and rate per hour to compute gross pay. Pay the hourly rate for the hours up to 40 and 1.5 times the hourly rate for all hours worked *above 40 hours*. Use 45 hours and a rate of 10.50 per hour to test the program (the pay should be 498.75). You should use **input()** to read a string and **float()** to convert the string to a number. Do not worry about error checking the user input - assume the user types numbers properly. (Source: Coursera, Programming for Everybody, Week 5)"
   ]
  },
  {
   "cell_type": "code",
   "execution_count": 2,
   "metadata": {
    "collapsed": false
   },
   "outputs": [
    {
     "name": "stdout",
     "output_type": "stream",
     "text": [
      "Enter Hours:45\n",
      "Enter Rate:10.5\n",
      "498.75\n"
     ]
    }
   ],
   "source": [
    "hrs = input(\"Enter Hours:\")\n",
    "h = float(hrs)\n",
    "rate = input(\"Enter Rate:\")\n",
    "w = float(rate)\n",
    "\n",
    "if h <= 40:\n",
    "    sal = w * h\n",
    "else:\n",
    "    sal = w * 40 + 1.5 * w * (h - 40)\n",
    "    \n",
    "print(sal)   "
   ]
  },
  {
   "cell_type": "markdown",
   "metadata": {},
   "source": [
    "## Question 3\n",
    "\n",
    "Given **pairs = ((2, 5), (4, 2), (9, 8), (12, 10))**, count the number of pairs (a, b) such that both a and b are even. \n",
    "\n",
    "Hint: For this question, we can use the *modulo* operation **%** for integers. In general, **x % y** divides x by y and returns the *remainder*. For example, **4 % 2** returns 0, since there is no remainder (this is true for any *even* number x when typing **x % 2**). In contrast, **7 % 2** returns 1 since 7 = 3 x 2 **+ 1**. In fact, for any *odd* integer x, **x % 2** returns 1.\n",
    "\n",
    "(Source: lectures.quantecon.org, Python Essentials, Exercise 1)"
   ]
  },
  {
   "cell_type": "code",
   "execution_count": 1,
   "metadata": {
    "collapsed": false
   },
   "outputs": [
    {
     "name": "stdout",
     "output_type": "stream",
     "text": [
      "There are 2 all-even pairs\n"
     ]
    }
   ],
   "source": [
    "pairs = ((2, 5), (4, 2), (9, 8), (12, 10))\n",
    "\n",
    "count = 0\n",
    "for pair in pairs:\n",
    "    if (pair[0] % 2 == 0) and (pair[1] % 2 == 0):\n",
    "        count += 1\n",
    "\n",
    "## alternative: list comprehension\n",
    "# sum([x % 2 == 0 and y % 2 == 0 for x, y in pairs])\n",
    "        \n",
    "print('There are {} all-even pairs.'.format(count))        "
   ]
  },
  {
   "cell_type": "markdown",
   "metadata": {},
   "source": [
    "## Question 4\n",
    "\n",
    "Given two numeric lists or tuples **x_vals** and **y_vals** of equal length, compute their inner product using **zip()**. (Source: lectures.quantecon.org, Python Essentials, Exercise 1)"
   ]
  },
  {
   "cell_type": "code",
   "execution_count": 3,
   "metadata": {
    "collapsed": false
   },
   "outputs": [
    {
     "name": "stdout",
     "output_type": "stream",
     "text": [
      "32\n"
     ]
    }
   ],
   "source": [
    "x_vals = [1,2,3]\n",
    "y_vals = (4,5,6)\n",
    "\n",
    "inner = 0\n",
    "for x,y in zip(x_vals, y_vals):\n",
    "    inner += x * y\n",
    "\n",
    "## alternative: list comprehension\n",
    "# sum([x * y for x, y in zip(x_vals, y_vals)])\n",
    "    \n",
    "print(inner)    "
   ]
  },
  {
   "cell_type": "markdown",
   "metadata": {},
   "source": [
    "## Question 5\n",
    "\n",
    "Write a program that takes an integer and returns the sum of its digits. For example, inputting **12345** should return 15 (as an integer or float).\n",
    "\n",
    "Hint: One way of computing the digit sum makes use of the *modulo* operation **%**, as seen above. What is useful to note for this question is that, for example, **12345 % 10** would return 5. In addition, what may be useful here is a **while** loop.   \n",
    "\n",
    "An alternative way would be to make use of the **str()** and **int()** functions. "
   ]
  },
  {
   "cell_type": "code",
   "execution_count": 2,
   "metadata": {
    "collapsed": false
   },
   "outputs": [
    {
     "name": "stdout",
     "output_type": "stream",
     "text": [
      "15.0\n",
      "15\n"
     ]
    }
   ],
   "source": [
    "# Approach 1: use modulo operation\n",
    "x = 12345\n",
    "# initialize variable 'total' as zero\n",
    "total = 0\n",
    "# start a while loop: loop runs as long as x is positive\n",
    "while x > 0:\n",
    "    # using modulo 10 gives you the LAST digit for any number, e.g. 12345 % 10 = 5\n",
    "    dig = x % 10\n",
    "    # add this digit to total\n",
    "    total = total + dig\n",
    "    \n",
    "    # update x: (1) subtract the last digit and (2) divide by 10\n",
    "    # e.g. (12345 - 5)/10 = 1234 -> continue loop with x = 1234\n",
    "    x = (x - dig)/10\n",
    "\n",
    "print(total)\n",
    "\n",
    "# Approach 2: use strings\n",
    "x = 12345\n",
    "# convert x to a string: s ='12345'\n",
    "s = str(x)\n",
    "# initialize empty list\n",
    "lst = []\n",
    "# loop through s (possible since it behaves like an array) and add element to lst, converted to int\n",
    "for i in s:\n",
    "    lst.append(int(i))\n",
    "# sum over lst and print\n",
    "print(sum(lst))"
   ]
  },
  {
   "cell_type": "markdown",
   "metadata": {},
   "source": [
    "## Question 6\n",
    "\n",
    "Write a program to prompt for a score between 0.0 and 1.0. If the score is out of range, print an error. If the score is between 0.0 and 1.0, print a grade using the following table:\n",
    "Score Grade\n",
    "- $>= 0.9 $: A\n",
    "- $>= 0.8 $: B\n",
    "- $>= 0.7 $: C\n",
    "- $>= 0.6 $: D\n",
    "- $< 0.6$ F\n",
    "\n",
    "If the user enters a value out of range, print a suitable error message and exit. For the test, enter a score of 0.85.\n",
    "(Source: Coursera, Programming for Everybody, Week 5)"
   ]
  },
  {
   "cell_type": "code",
   "execution_count": 3,
   "metadata": {
    "collapsed": false
   },
   "outputs": [
    {
     "name": "stdout",
     "output_type": "stream",
     "text": [
      "Enter Score: 0.85\n",
      "B\n"
     ]
    }
   ],
   "source": [
    "score = float(input(\"Enter Score: \"))\n",
    "\n",
    "assert 0.0 <= score <= 1.0, \"Please enter a value between 0 and 1.\"\n",
    "\n",
    "if score < 0.6:\n",
    "    print('F')\n",
    "elif score < 0.7:\n",
    "    print('D')\n",
    "elif score < 0.8:\n",
    "    print('C') \n",
    "elif score < 0.9:\n",
    "    print('B')\n",
    "else:\n",
    "    print('A')    "
   ]
  },
  {
   "cell_type": "markdown",
   "metadata": {},
   "source": [
    "## Question 7\n",
    "\n",
    "Compute the median value in a list of integers or floats. If the list has an even number of elements, let the median value be the average value of the two median elements. For example, **lst = [7,1,3]** has a median value of 3, while **lst = [7,1,3,2]** has a median value of 2.5.\n",
    "\n",
    "Hint 1: The built-in function **sorted** used on lists may prove useful here.\n",
    "\n",
    "Hint 2: Note that using the built-in function **int()** on a floating point number *rounds down*:"
   ]
  },
  {
   "cell_type": "code",
   "execution_count": 21,
   "metadata": {
    "collapsed": false
   },
   "outputs": [
    {
     "name": "stdout",
     "output_type": "stream",
     "text": [
      "1\n",
      "3\n"
     ]
    }
   ],
   "source": [
    "print(int(1.5))\n",
    "print(int(3.99))"
   ]
  },
  {
   "cell_type": "code",
   "execution_count": 22,
   "metadata": {
    "collapsed": false
   },
   "outputs": [
    {
     "name": "stdout",
     "output_type": "stream",
     "text": [
      "The median of [7, 1, 3] is 3.\n"
     ]
    }
   ],
   "source": [
    "lst = [7,1,3]\n",
    "lst_orig = lst\n",
    "lst = sorted(lst)\n",
    "# case 1: even -> compute average of two median elements\n",
    "if len(lst) % 2 == 0:\n",
    "    # find index of the larger of the two median elements\n",
    "    index = int(0.5 * len(lst))\n",
    "    med = 0.5 * (lst[index-1] + lst[index])\n",
    "# case 2: odd -> find index of the median element\n",
    "else:\n",
    "    index = int(0.5 * len(lst))\n",
    "    med = lst[index]\n",
    "\n",
    "\n",
    "print(\"The median of {} is {}.\".format(lst_orig, med))"
   ]
  },
  {
   "cell_type": "markdown",
   "metadata": {},
   "source": [
    "## Question 8 (advanced)\n",
    "\n",
    "Write a program that repeatedly prompts a user for integer numbers until the user enters 'done'. Once 'done' is entered, print out the largest and smallest of the numbers. If the user enters anything other than a valid number catch it with a **try/except** and put out an appropriate message and ignore the number. If no valid number has been entered, print out a corresponding statement. (Source: Coursera, Programming for Everybody, Week 7)"
   ]
  },
  {
   "cell_type": "code",
   "execution_count": 7,
   "metadata": {
    "collapsed": false
   },
   "outputs": [
    {
     "name": "stdout",
     "output_type": "stream",
     "text": [
      "Enter a number: done\n",
      "No valid number entered!\n"
     ]
    }
   ],
   "source": [
    "# Approach 1: storing largest and smalles\n",
    "largest = 0\n",
    "smallest = 0\n",
    "first_entry = True\n",
    "\n",
    "while True:\n",
    "    num = input(\"Enter a number: \")\n",
    "    \n",
    "    try: \n",
    "        if first_entry:\n",
    "            largest = int(num)\n",
    "            smallest = int(num)\n",
    "            first_entry = False\n",
    "               \n",
    "        if int(num) > largest:\n",
    "            largest = int(num)\n",
    "            \n",
    "        elif int(num) < smallest :\n",
    "            smallest = int(num)    \n",
    "    except:\n",
    "        if num == \"done\" : break\n",
    "        else:\n",
    "            print(\"Invalid input\")\n",
    "            continue\n",
    "\n",
    "if not first_entry:    \n",
    "    print(\"The maximum number entered is\", largest)\n",
    "    print(\"The minimum number entered is\", smallest)\n",
    "else:\n",
    "    print(\"No valid number entered!\")"
   ]
  },
  {
   "cell_type": "code",
   "execution_count": 6,
   "metadata": {
    "collapsed": false
   },
   "outputs": [
    {
     "name": "stdout",
     "output_type": "stream",
     "text": [
      "Enter a number: done\n",
      "No valid number entered!\n"
     ]
    }
   ],
   "source": [
    "## Approach 2 (recommended): using a list\n",
    "\n",
    "# initialize list\n",
    "lst = []\n",
    "\n",
    "while True:\n",
    "    num = input(\"Enter a number: \")\n",
    "    \n",
    "    try: \n",
    "        lst.append(int(num))\n",
    "    \n",
    "    except:\n",
    "        if num == \"done\" : break\n",
    "        else:\n",
    "            print(\"Invalid input\")\n",
    "            continue\n",
    "    \n",
    "if len(lst) > 0:    \n",
    "    print(\"The maximum number entered is\", max(lst))\n",
    "    print(\"The minimum number entered is\", min(lst))\n",
    "else:\n",
    "    print(\"No valid number entered!\")    "
   ]
  }
 ],
 "metadata": {
  "anaconda-cloud": {},
  "kernelspec": {
   "display_name": "Python 3",
   "language": "python",
   "name": "python3"
  },
  "language_info": {
   "codemirror_mode": {
    "name": "ipython",
    "version": 3
   },
   "file_extension": ".py",
   "mimetype": "text/x-python",
   "name": "python",
   "nbconvert_exporter": "python",
   "pygments_lexer": "ipython3",
   "version": "3.5.3"
  }
 },
 "nbformat": 4,
 "nbformat_minor": 0
}
