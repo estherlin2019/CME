{
 "cells": [
  {
   "cell_type": "markdown",
   "metadata": {},
   "source": [
    "# Introduction to Python - Strings\n",
    "\n",
    "## Problem Set"
   ]
  },
  {
   "cell_type": "code",
   "execution_count": 1,
   "metadata": {
    "collapsed": false
   },
   "outputs": [
    {
     "name": "stdout",
     "output_type": "stream",
     "text": [
      "Last update: 2017-05-03 10:41:50.406893\n"
     ]
    }
   ],
   "source": [
    "# Author: Alex Schmitt (schmitt@ifo.de)\n",
    "\n",
    "import datetime\n",
    "print('Last update: ' + str(datetime.datetime.today()))"
   ]
  },
  {
   "cell_type": "markdown",
   "metadata": {},
   "source": [
    "## Question 1\n",
    "\n",
    "Write a function **date_and_time()** that does not take any arguments and that prints the current date and time to the screen like this: \n",
    "\n",
    "Date: 2.5.2017\n",
    "\n",
    "Time: 14:30:09\n",
    "\n",
    "There are different ways to do this. One way involves the module **datetime** in the Python standard library and its **datetime** object type with the methods **now()** or **today()** (see the first cell in this notebook!). Use the standard library documentation to find out more. \n",
    "\n",
    "- Hint 1: An object created by datetime.datetime.now() has certain properties that can be accessed almost like methods (but without parentheses!), as seen below. Use the standard library documentation or the **dir()** functions to find out which properties are useful here.\n",
    " "
   ]
  },
  {
   "cell_type": "code",
   "execution_count": 2,
   "metadata": {
    "collapsed": false
   },
   "outputs": [
    {
     "data": {
      "text/plain": [
       "2017"
      ]
     },
     "execution_count": 2,
     "metadata": {},
     "output_type": "execute_result"
    }
   ],
   "source": [
    "import datetime\n",
    "A = datetime.datetime.now()\n",
    "A.year"
   ]
  },
  {
   "cell_type": "markdown",
   "metadata": {},
   "source": [
    "- Hint 2: When printing the information obtained from datetime.datetime.now(), you may run into the problem that certain zeros are missing. Conditional statements may be a way to solve this."
   ]
  },
  {
   "cell_type": "code",
   "execution_count": null,
   "metadata": {
    "collapsed": true
   },
   "outputs": [],
   "source": []
  },
  {
   "cell_type": "markdown",
   "metadata": {},
   "source": [
    "## Question 2\n",
    "\n",
    "(a) Write a function **reverse** that takes a string as an argument and returns it in reverse order. Use a boolean as a second argument that determines whether the returned string starts with a capital letter. For example, **reverse('Tyrion', True)** should return **Noiryt**, while **reverse('Tyrion', False)** should return **noiryt**. Use a doctest to check these examples. \n",
    "\n",
    "(b) Use your **reverse** function to write a function **is_palindrome** that takes a string and checks if the string is a palindrome, returning **True** if it is. Think of a couple of test cases and test them using doctest.\n",
    "As a challenge, try to implement the function in a way that it makes the smallest possible number of comparisons or evaluations. \n",
    "\n"
   ]
  },
  {
   "cell_type": "code",
   "execution_count": null,
   "metadata": {
    "collapsed": true
   },
   "outputs": [],
   "source": []
  },
  {
   "cell_type": "markdown",
   "metadata": {},
   "source": [
    "## Question 3\n",
    "\n",
    "Write a function **scrabble_score()** that takes a word (string) and computes the score you would get in the game Scrabble. Each letter in the alphabet is assigned a value: \n",
    "a - 1,\n",
    "b - 3,\n",
    "c - 3,\n",
    "d - 2,\n",
    "e - 1,\n",
    "f - 4,\n",
    "g - 2,\n",
    "h - 4,\n",
    "i - 1,\n",
    "j - 8,\n",
    "k - 5,\n",
    "l - 1,\n",
    "m - 3,\n",
    "n - 1,\n",
    "o - 1,\n",
    "p - 3,\n",
    "q - 10,\n",
    "r - 1,\n",
    "s - 1,\n",
    "t - 1,\n",
    "u - 1,\n",
    "v - 4,\n",
    "w - 4,\n",
    "x - 8,\n",
    "y - 4,\n",
    "z - 10\n",
    "\n",
    "For example, **scrabble_score(\"Arya\")** returns the score 7.\n",
    "\n",
    "Hint: A dictionary can be very useful here. "
   ]
  },
  {
   "cell_type": "code",
   "execution_count": null,
   "metadata": {
    "collapsed": true
   },
   "outputs": [],
   "source": []
  },
  {
   "cell_type": "markdown",
   "metadata": {},
   "source": [
    "## Question 4\n",
    "\n",
    "Suppose we have a text file **numbers.txt** containing the following lines:\n",
    "\n",
    "*prices\n",
    "3\n",
    "8\n",
    "\n",
    "7\n",
    "21*\n",
    "\n",
    "Using **try/except**, write a program to read in the contents of the file and sum the numbers, ignoring lines without numbers. (Source: quantecon.org, More Language Features, Exercise 3)"
   ]
  },
  {
   "cell_type": "code",
   "execution_count": null,
   "metadata": {
    "collapsed": true
   },
   "outputs": [],
   "source": []
  },
  {
   "cell_type": "markdown",
   "metadata": {},
   "source": [
    "## Question 5\n",
    "\n",
    "Recall that in question 8 of PS 1, we wrote a program that prompted the user to enter integers or floats and then computed the sum of these numbers. Here, rather than finding the sum, we modify the program to make it write the entries to a text file called **test.txt**. The other features of the program should be the same as before: if the user enters a string that cannot be converted to a number, it is ignored. If the user enters the string **'done'**, the program stops. \n",
    "\n",
    "Hint: You can still use the same **try/except** structure as before. However, make sure that the program doesn't write all entries (i.e. including non-numerical strings) to the text file. Using type conversion functions repeatedly may help here.\n"
   ]
  },
  {
   "cell_type": "code",
   "execution_count": null,
   "metadata": {
    "collapsed": true
   },
   "outputs": [],
   "source": []
  },
  {
   "cell_type": "markdown",
   "metadata": {},
   "source": [
    "## Question 6\n",
    "\n",
    "The file **ifo.txt** contains ifo's presentation from the home page. \n",
    "\n",
    "(a) Open the text in Python. Store the whole text as a string. How many characters does it contain?\n",
    "\n",
    "(b) Open the text again, but this time store it as a list of lines. How many lines does it contain? How many characters does the first line contain?\n",
    "\n",
    "(c) How often does the text contain the string 'ifo'? How often the string 'Ifo'? \n",
    "\n",
    "(d) How often does the text contain the last name of our president ('Fuest')? In which line does it appear for the first time?\n",
    "\n",
    "(e) The text contains several numbers (mainly years). Use a regular expression to parse the text and compute the sum of all these number. If you want a particular challenge, you can write the solution to this question in one line. \n"
   ]
  },
  {
   "cell_type": "code",
   "execution_count": null,
   "metadata": {
    "collapsed": true
   },
   "outputs": [],
   "source": []
  },
  {
   "cell_type": "markdown",
   "metadata": {},
   "source": [
    "## Question 7: Battleship\n",
    "\n",
    "This question serves as a review for the material covered in the course so far. You will implement a very simple version of the game *Battleships* (*Schiffe versenken!*) which lets the user try to find the computer's single ship. Along the way, you will write functions and import packages, and use lists, strings, loops and conditional expressions. Note that this is by no means an efficient implementation - the learning experience is more important. \n",
    "\n",
    "(a) The first step is defining the board. We will use **print**-statements to simulate a rectangular board, where 'O's mark tiles (i.e. spots in the ocean) which have not been uncovered yet, and 'X' denote tiles which have been checked for the ship. Initially, all tiles consists of 'O's.\n",
    "\n",
    "Write a function **generate_board** that takes two argument, **x_b** and **y_b** and returns a list of list, i.e. a list with **y_b** elements, each of which a list with **x_b** 'O's. In other words, **x_b** corresponds to the number of rows and **y_b** to the number of columns. The function **print_board** provided below should take such a list of list generated by your function and print the board. Test it with a few different input combinations.\n",
    "\n",
    "(b) Next, we write a function **random_pos** to determine the random position of the ship. Import the **random** package and use the function **randint** in a function that takes **x_b** and **y_b** as inputs and returns a tuple where the first element corresponds to the row and the second element to the column of the ship.\n",
    "\n",
    "(c) Finally, write a function **run_game** that contains the main logic of the game. It takes three arguments,  **x_b**, **y_b** and **max_turn**. The first thing it is supposed to do is to use **generate_board** to define the board (as in question (a)) and to use **random_pos** to determine the position of the computer's ship (as in question (b)). \n",
    "\n",
    "Then, it runs a loop with **max_turn** iterations. In each iteration of the loop, it does the following:\n",
    "- print the current turn (starting at 1 and increasing by 1 in every iteration)\n",
    "- prompt the user to enter a tile (i.e. a row and a column) to check for the ship\n",
    "- if the tile equals the position of the ship, print a corresponding statement to the screen and stop the loop\n",
    "- if the tile does not equal the position of the ship, there are three cases, which should be indicated by suitable **print** statements:\n",
    "(1) the entered tile is outside of the board\n",
    "(2) the entered tile has already been checked\n",
    "(3) the entered tile has not been checked; in this case, replace the \"O\" on the board by an \"X\"\n",
    "No matter which case applies, print the board.\n",
    "- if the last turn has been reached, print a corresponding statement \n",
    "\n",
    "Hint: When writing the code, you can also include a **print** statement that indicates the position of the ship. This makes it easier to test if detecting the ship works properly.\n",
    "\n",
    "(d) Choose some values for **x_b**, **y_b** and **max_turn** and run the game.\n"
   ]
  },
  {
   "cell_type": "code",
   "execution_count": 3,
   "metadata": {
    "collapsed": true
   },
   "outputs": [],
   "source": [
    "## question (a)\n",
    "\n",
    "def print_board(board):\n",
    "    for row in board:\n",
    "        print(\" \".join(row)) "
   ]
  },
  {
   "cell_type": "code",
   "execution_count": null,
   "metadata": {
    "collapsed": true
   },
   "outputs": [],
   "source": []
  }
 ],
 "metadata": {
  "kernelspec": {
   "display_name": "Python 3",
   "language": "python",
   "name": "python3"
  },
  "language_info": {
   "codemirror_mode": {
    "name": "ipython",
    "version": 3
   },
   "file_extension": ".py",
   "mimetype": "text/x-python",
   "name": "python",
   "nbconvert_exporter": "python",
   "pygments_lexer": "ipython3",
   "version": "3.5.3"
  }
 },
 "nbformat": 4,
 "nbformat_minor": 0
}
