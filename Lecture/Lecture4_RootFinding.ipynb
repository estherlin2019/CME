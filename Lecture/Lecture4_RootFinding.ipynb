{
 "cells": [
  {
   "cell_type": "markdown",
   "metadata": {
    "slideshow": {
     "slide_type": "slide"
    }
   },
   "source": [
    "# Computational Methods in Economics\n",
    "\n",
    "## Lecture 4 - Root Finding"
   ]
  },
  {
   "cell_type": "code",
   "execution_count": 1,
   "metadata": {
    "collapsed": false,
    "slideshow": {
     "slide_type": "skip"
    }
   },
   "outputs": [
    {
     "name": "stdout",
     "output_type": "stream",
     "text": [
      "Last update: 2017-11-20 13:47:15.415443\n"
     ]
    }
   ],
   "source": [
    "# Author: Alex Schmitt (schmitt@ifo.de)\n",
    "\n",
    "import datetime\n",
    "print('Last update: ' + str(datetime.datetime.today()))"
   ]
  },
  {
   "cell_type": "markdown",
   "metadata": {
    "slideshow": {
     "slide_type": "skip"
    }
   },
   "source": [
    "## Preliminaries\n",
    "\n",
    "#### Import Modules"
   ]
  },
  {
   "cell_type": "code",
   "execution_count": 2,
   "metadata": {
    "collapsed": true,
    "slideshow": {
     "slide_type": "skip"
    }
   },
   "outputs": [],
   "source": [
    "import numpy as np\n",
    "\n",
    "import matplotlib.pyplot as plt\n",
    "%matplotlib inline\n",
    "import seaborn\n",
    "\n",
    "import scipy.optimize\n",
    "\n",
    "# import sys\n",
    "from importlib import reload"
   ]
  },
  {
   "cell_type": "markdown",
   "metadata": {
    "slideshow": {
     "slide_type": "slide"
    }
   },
   "source": [
    "## This Lecture\n",
    "\n",
    "- [Introduction](#introduction)\n",
    "- [Bisection](#bisection)\n",
    "- [Function Iteration](#funiter)\n",
    "- [Newton's Method](#newton)\n",
    "- [Numerical Differentiation](#numdiff)\n",
    "- [Quasi-Newton Methods](#quasi)\n",
    "- [Convergence](#convergence)\n",
    "- [The Scipy Package](#scipy)"
   ]
  },
  {
   "cell_type": "markdown",
   "metadata": {
    "slideshow": {
     "slide_type": "skip"
    }
   },
   "source": [
    "--------------------------------------------------------------------------------------------------------------------------------\n",
    "<a id = \"introduction\"></a>"
   ]
  },
  {
   "cell_type": "markdown",
   "metadata": {
    "slideshow": {
     "slide_type": "slide"
    }
   },
   "source": [
    "## Introduction\n",
    "\n",
    "A function $f(x)$ has a *root* (also called a *zero*) at $x^*$ if $f(x^*) = 0$. Two cases are relevant:\n",
    "\n",
    "- $f$ can be a univariate scalar/real-valued function $f: \\mathbb{R}\\ \\rightarrow \\mathbb{R}$, i.e. both input and output are scalars, or both its range and its domain have a dimension of 1\n",
    "- $f$ can be a vector-valued function $\\mathbf{f}: \\mathbb{R}^n\\ \\rightarrow \\mathbb{R}^n$, i.e. both its range and its domain have a dimension greater than 1. In this case, finding the roots of a vector-valued function is equivalent to *solving a system of nonlinear equations*. \n",
    "\n",
    "The intermediate case of a multivariate scalar function $f: \\mathbb{R}^n\\ \\rightarrow \\mathbb{R}$ - its inputs are vectors, hence its domain has a dimension greater than 1 - is going to be important in the next lecture. \n",
    "\n",
    "Finding the root(s) of a function is one of the most common computational problems in economics, often applied when looking for an equilibrium. In other words, an equilibrium is usually defined by a set of equations, as illustrated by the following example.\n"
   ]
  },
  {
   "cell_type": "markdown",
   "metadata": {
    "slideshow": {
     "slide_type": "slide"
    }
   },
   "source": [
    "### Example: Neoclassical Growth Model\n",
    "\n",
    "We have seen the standard NGM already in the first lecture. Recall:\n",
    "\n",
    "- Utility function:\n",
    "\n",
    "\\begin{equation}\n",
    "    u(c, h) = \\frac{c^{1-\\nu}}{1-\\nu} - B \\frac{h^{1+\\eta}}{1+\\eta}\n",
    "\\end{equation}\n",
    "\n",
    "with $c$ denoting consumption and $h$ labor supply.\n",
    "\n",
    "- Production function:\n",
    "\n",
    "\\begin{equation}\n",
    "    f(k, h) = A k^\\alpha h^{1-\\alpha}\n",
    "\\end{equation}\n",
    "with $k$ denoting the capital stock, and $A$ the productivity level.\n",
    "\n",
    "- Resource Constraint:\n",
    "\n",
    "\\begin{equation}\n",
    "    k_{t+1} + c_t = f(k_t, h_t) + (1 - \\delta) k_t = A k_t^\\alpha h_t^{1-\\alpha} + (1 - \\delta) k_t\n",
    "\\end{equation}\n",
    "\n",
    "- Planner's Problem:\n",
    "\n",
    "\\begin{equation}\n",
    "    \\max_{\\left\\{c_t, k_{t+1}, h_t\\right\\}} \\sum^\\infty_{t = 0} \\beta^t u(c_t, h_t) \n",
    "\\end{equation}\n",
    "s.t. the resource constraint."
   ]
  },
  {
   "cell_type": "markdown",
   "metadata": {
    "slideshow": {
     "slide_type": "slide"
    }
   },
   "source": [
    "#### First-order conditions\n",
    "\n",
    "(1) Euler equation\n",
    "\n",
    "\\begin{equation}\n",
    "    c^{-\\nu} = \\beta \\left[ (c')^{-\\nu} (f_k(k', h') + 1 - \\delta) \\right]    \n",
    "\\end{equation}\n",
    "\n",
    "(2) intratemporal optimality condition\n",
    "\n",
    "\\begin{equation}\n",
    "    B h^{\\eta} = c^{-\\nu} f_h(k, h)  \n",
    "\\end{equation}\n",
    "\n",
    "where I have used the notation $c = c_t$ and $c' = c_{t+1}$ (and analogous for $k$ and $h$) for brevity. "
   ]
  },
  {
   "cell_type": "markdown",
   "metadata": {
    "slideshow": {
     "slide_type": "slide"
    }
   },
   "source": [
    "#### Steady State\n",
    "\n",
    "In an equilibrium, the two first-order conditions, combined with the resource constraint, must hold in every period. We will get to how to solve for the full dynamic allocation later in this course. For now, let's consider the *steady state*, where all variables are constant over time, i.e. $c_t = c_{t+1} = c_s$ and so on. The Euler equation then can be simplied to:\n",
    "\n",
    "\\begin{equation}\n",
    "    1 = \\beta \\left[f_k(k_s, h_s) + 1 - \\delta \\right]    \n",
    "\\end{equation}\n",
    "\n",
    "For the intratemporal optimality condition, use the resource constraint to substitute for consumption:\n",
    "\n",
    "\\begin{equation}\n",
    "    B h_s^{\\eta} = \\left[ f(k_s, h_s) - \\delta k_s \\right]^{-\\nu} f_h(k_s, h_s)  \n",
    "\\end{equation}\n"
   ]
  },
  {
   "cell_type": "markdown",
   "metadata": {
    "slideshow": {
     "slide_type": "slide"
    }
   },
   "source": [
    "This is a nonlinear system of two equations, with two unknown variables, $k_s$ and $h_s$, which can be solved using the methods introduced below. We can define a vector-valued function $\\mathbf{S}$ with\n",
    "\n",
    "\\begin{equation}\n",
    "   \\mathbf{S}(k, h) = \n",
    "    \\left[\n",
    "    \\begin{array}{c}\n",
    "        \\beta \\left[f_k(k, h) + 1 - \\delta \\right]  - 1 \\\\\n",
    "        \\left[ f(k, h) - \\delta k \\right]^{-\\nu} f_h(k, h) - B h^{\\eta}\n",
    "    \\end{array}\n",
    "    \\right]\n",
    "\\end{equation}\n",
    "\n",
    "Finding the steady state of the model then requires finding a root of function $\\mathbf{S}$, i.e. a vector $(k_s, h_s)$ such that \n",
    "\n",
    "\\begin{equation}\n",
    "   \\mathbf{S}(k_s, h_s) = \n",
    "    \\left[\n",
    "    \\begin{array}{c}\n",
    "        0 \\\\\n",
    "        0\n",
    "    \\end{array}\n",
    "    \\right]\n",
    "\\end{equation}"
   ]
  },
  {
   "cell_type": "markdown",
   "metadata": {
    "slideshow": {
     "slide_type": "slide"
    }
   },
   "source": [
    "### Some Definitions\n",
    "\n",
    "\n",
    "- For a multivariate real-valued function $f: \\mathbb{R}^n\\ \\rightarrow \\mathbb{R}$, the vector consisting of the first derivatives is called the *gradient* (vector):\n",
    "\n",
    "\\begin{equation}\n",
    " \\nabla f(\\mathbf{x}) = \\left[\n",
    "\\begin{matrix}\n",
    " \\partial f/ \\partial x_1 \\\\\n",
    " \\vdots \\\\\n",
    "  \\partial f/ \\partial x_n \n",
    "\\end{matrix}  \\right]\n",
    "\\end{equation}\n",
    "\n",
    "where $\\mathbf{x}$ is an n-by-1 vector.\n",
    "\n",
    "- For a vector-valued function $\\mathbf{f}: \\mathbb{R}^n\\ \\rightarrow \\mathbb{R}^n$, the *Jacobian* (i.e., the matrix of the first derivatives), is defined as \n",
    "\n",
    "\\begin{equation}\n",
    " J(\\mathbf{x}) = \\left[\n",
    "\\begin{matrix}\n",
    " \\partial f_1/ \\partial x_1 & ... & \\partial f_1/ \\partial x_n \\\\\n",
    " \\vdots & \\ddots & \\vdots \\\\\n",
    "  \\partial f_n/ \\partial x_1 & ... & \\partial f_n/ \\partial x_n \n",
    "\\end{matrix}  \\right]\n",
    "\\end{equation}\n",
    "\n",
    "Using the gradient notation, we can also write this as\n",
    "\n",
    "\\begin{equation}\n",
    " J(\\mathbf{x}) = \\left[\n",
    "\\begin{matrix}\n",
    "  \\nabla f_1(\\mathbf{x})^T \\\\\n",
    " \\vdots  \\\\\n",
    "  \\nabla f_n(\\mathbf{x})^T\n",
    "\\end{matrix}  \\right]\n",
    "\\end{equation}\n"
   ]
  },
  {
   "cell_type": "markdown",
   "metadata": {
    "slideshow": {
     "slide_type": "slide"
    }
   },
   "source": [
    "### Taylor Series and Taylor's Formula\n",
    "\n",
    "For a univariate function $f$ that is $n$ times continuously differentiable, a *Taylor series* or *Taylor approximation* around $x_0$ is given by:\n",
    "\n",
    "\\begin{equation}\n",
    "    f(x) \\approx f(x_0) + f'(x_0) (x - x_0) + \\frac{1}{2} f''(x_0) (x - x_0)^2 + ... + \\frac{1}{n!} f^{(n)}(x_0) (x - x_0)^n \n",
    "\\end{equation}\n",
    "\n",
    "Closely related to this is *Taylor's Theorem*: if $f$ is, for example, twice continuously differentiable in an interval that contains $x$ and $x_0$, then \n",
    "\n",
    "\\begin{equation}\n",
    "    f(x) = f(x_0) + f'(x_0) (x - x_0) + \\frac{1}{2} f''(c) (x - x_0)^2 \n",
    "\\end{equation}\n",
    "\n",
    "for some number $c$ between $x$ and $x_0$."
   ]
  },
  {
   "cell_type": "markdown",
   "metadata": {
    "slideshow": {
     "slide_type": "slide"
    }
   },
   "source": [
    "For a multivariate function $f: \\mathbb{R}^n\\ \\rightarrow \\mathbb{R}$, we can state Taylor's Theorem in the following way: if $f$ is twice continuously differentiable and $p \\in \\mathbb{R}^n$, we have that\n",
    "\n",
    "\\begin{equation}\n",
    "    f(\\mathbf{x}_0 + \\mathbf{p}) = f(\\mathbf{x}_0) + \\nabla f(\\mathbf{x}_0)^{T} \\mathbf{p} + \\frac{1}{2} \\mathbf{p}^T \\nabla^2 f(\\mathbf{x}_0 + t\\mathbf{p}) \\mathbf{p} \n",
    "\\end{equation}\n",
    "\n",
    "for some $t \\in (0,1)$."
   ]
  },
  {
   "cell_type": "markdown",
   "metadata": {
    "slideshow": {
     "slide_type": "skip"
    }
   },
   "source": [
    "--------------------------------------------------------------------------------------------------------------------------------\n",
    "<a id = 'bisection'></a>"
   ]
  },
  {
   "cell_type": "markdown",
   "metadata": {
    "slideshow": {
     "slide_type": "slide"
    }
   },
   "source": [
    "## Bisection\n",
    "\n",
    "The simplest way to compute the root of a continuous univariate real-valued function is the *bisection method*. While simple, bisection captures two important features of most root-finding and optimization methods: it is a *local* method and it is based on an *iterative procedure*.\n",
    "\n",
    "The key idea behind the bisection method is based on the *Intermediate Value Theorem*: if $f$ is continuous and defined on the interval $[a,b]$, and if $f(a)$ and $f(b)$ are distinct values, then $f$ must assume all values in between. Since we are interested in where $f$ assumes the value 0, we need $f(a)$ and $f(b)$ to have *different signs*."
   ]
  },
  {
   "cell_type": "code",
   "execution_count": 3,
   "metadata": {
    "collapsed": true,
    "slideshow": {
     "slide_type": "skip"
    }
   },
   "outputs": [],
   "source": [
    "## cp. figure\n",
    "#\n",
    "#\n",
    "#\n",
    "#\n",
    "#\n",
    "#\n",
    "#\n",
    "#\n",
    "#\n",
    "#\n",
    "#\n",
    "#\n",
    "#\n",
    "#"
   ]
  },
  {
   "cell_type": "markdown",
   "metadata": {
    "slideshow": {
     "slide_type": "slide"
    }
   },
   "source": [
    "The bisection method implements the following \"pseudo-code\":\n",
    "\n",
    "(i) Start with two distinct values $a$ and $b$, $a < b$, such that $f(a)$ and $f(b)$ are defined and have different signs, i.e. $f(a) \\cdot f(b) < 0$. Moreover, specify a \"tolerance level\" $tol$ which should be a very small number, e.g. 1e-8.\n",
    "\n",
    "(ii) Compute the midpoint between $a$ and $b$, $x = \\frac{a + b}{2}$. \n",
    "\n",
    "(iii) If $f(x)$ has the same sign as $f(a)$, replace the left endpoint of the interval with $x$, i.e. $a = x$.\n",
    "\n",
    "(iv) If $f(x)$ has the same sign as $f(b)$, replace the right endpoint of the interval with $x$, i.e. $b = x$.\n",
    "\n",
    "(v) Check the *stopping rule*: if the absolute value of $f(x)$ is less than the tolerance level, $|f(x)| < tol$, stop and report the solution at $x$. If not, go back to (ii) and repeat."
   ]
  },
  {
   "cell_type": "markdown",
   "metadata": {
    "slideshow": {
     "slide_type": "slide"
    }
   },
   "source": [
    "Note the following:\n",
    "\n",
    "- Bisection is an *iterative procedure*: at the beginning of each iteration step, the interval $[a,b]$ contains a root of $f$. The interval is then divided (\"bisected\") into two subintervals of equal length. One of the two subintervals must contain the root, and hence have endpoints of different signs. This subinterval is taken as the interval $[a,b]$ used for the next iteration. This process continues until the function value of the midpoint $x$ of the current interval is sufficiently close to 0.  \n",
    "\n",
    "- Moreover, bisection is a *local* method: it will not give you all the roots of a function, but only one of the roots (in case there are multiple roots) between $a$ and $b$. A corollary of this is that the outcome of bisection (and of local methods in general) is sensitive to the starting point chosen by the user, here the values for $a$ and $b$.\n",
    "\n",
    "- The bisection method is robust in the sense that it will find a root in a known number of iterations, assuming the initial choices for $a$ and $b$ lead to different signs for $f(a)$ and $f(b)$. The obvious downside of bisection is that it only works for univariate functions. Moreover, it is usually slower than the other methods discussed below. "
   ]
  },
  {
   "cell_type": "markdown",
   "metadata": {
    "slideshow": {
     "slide_type": "slide"
    }
   },
   "source": [
    "In this week's problem set, you will be asked to code up the bisection method. Of course, most programming languages already have in-built implementations (e.g. in SciPy: **scipy.optimize.bisect**, as discussed below), so writing your own function may seem a bit redundant, but will help you to get used to the inner workings of many of the algorithms used in scientific computing."
   ]
  },
  {
   "cell_type": "markdown",
   "metadata": {
    "slideshow": {
     "slide_type": "skip"
    }
   },
   "source": [
    "--------------------------------------------------------------------------------------------------------------------------------\n",
    "<a id = 'funiter'></a>"
   ]
  },
  {
   "cell_type": "markdown",
   "metadata": {
    "slideshow": {
     "slide_type": "slide"
    }
   },
   "source": [
    "## Function Iteration\n",
    "\n",
    "We have started to talk about iterative methods at the end of last lecture. To recap, the basic idea of iterative methods is to generate a sequence of approximations to the object of interest, e.g. the solution to linear or nonlinear system of equations, following an iteration rule: \n",
    "\n",
    "\\begin{equation}\n",
    "    x^{(k+1)} = g( x^{(k)} ),\n",
    "\\end{equation}\n",
    "\n",
    "where $k$ is an indicator counting the number of iterations. Hence, in words, the value for $x$ in the $k+1$-iteration is obtained by applying function $g$ on the value for $x$ in the $k$-iteration. Ideally, these approximations become more and more precise with an increasing number of iterations. Recall that iterative methods, in contrast to direct methods, do not yield an exact solution.\n",
    "\n",
    "\n",
    "When finding the root of a function $f$ or solving for a system of nonlinear equations, the functional form of $g$ is simply\n",
    "\n",
    "\\begin{equation}\n",
    "    g( x ) = x - f(x).\n",
    "\\end{equation}\n",
    "\n",
    "This is intuitive: at the root $ x = x^* $, we have $f(x^*) = 0$ and hence $g (x^*) = x^*$. In other words, $x^*$ is a *fixed point*."
   ]
  },
  {
   "cell_type": "markdown",
   "metadata": {
    "slideshow": {
     "slide_type": "slide"
    }
   },
   "source": [
    "The following piece of code implements function iteration. As a simple workhorse example, consider the function\n",
    "\n",
    "\\begin{equation}\n",
    "    f(x) = 4 \\ln(x) - 4,\n",
    "\\end{equation}\n",
    "\n",
    "which has a root at $x = e^1 = 2.718282$. For illustration, we print the current guess for $x^{(k)}$ for each iteration. As we can see,  $x^{(k)}$ converges to $x^*$ as the number of iterations increases."
   ]
  },
  {
   "cell_type": "code",
   "execution_count": 4,
   "metadata": {
    "collapsed": true,
    "slideshow": {
     "slide_type": "fragment"
    }
   },
   "outputs": [],
   "source": [
    "def fun(x):\n",
    "    return 4*np.log(x) - 4\n",
    "\n",
    "def g(x):\n",
    "    return x - fun(x)"
   ]
  },
  {
   "cell_type": "code",
   "execution_count": 5,
   "metadata": {
    "collapsed": false,
    "slideshow": {
     "slide_type": "slide"
    }
   },
   "outputs": [
    {
     "name": "stdout",
     "output_type": "stream",
     "text": [
      "2.45482255552\n",
      "2.86260463623\n",
      "2.65567694682\n",
      "2.74887857583\n",
      "2.70410642422\n",
      "2.72502036232\n",
      "2.71511676033\n",
      "2.7197769279\n",
      "2.71757746733\n",
      "2.71861408156\n",
      "2.7181251951\n",
      "2.71835569051\n",
      "2.71824700267\n",
      "2.71829824977\n",
      "2.71827408559\n",
      "2.71828547937\n",
      "2.71828010699\n",
      "2.71828264016\n",
      "2.71828144573\n",
      "2.71828200892\n",
      "2.71828174337\n",
      "2.71828186858\n",
      "2.71828180954\n",
      "2.71828183738\n",
      "2.71828182425\n",
      "Number of iterations = 25\n"
     ]
    }
   ],
   "source": [
    "tol = 1e-8\n",
    "x = 4\n",
    "it = 0\n",
    "lst = []\n",
    "while abs((x - g(x))) > tol:\n",
    "    it += 1\n",
    "    x = g(x)\n",
    "    lst.append(x)\n",
    "    print(x)\n",
    "    \n",
    "\n",
    "print(\"Number of iterations = {}\".format(it) )"
   ]
  },
  {
   "cell_type": "markdown",
   "metadata": {
    "slideshow": {
     "slide_type": "slide"
    }
   },
   "source": [
    "We can Python's matplotlib package to illustrate how function iteration works."
   ]
  },
  {
   "cell_type": "code",
   "execution_count": 6,
   "metadata": {
    "collapsed": false,
    "slideshow": {
     "slide_type": "fragment"
    }
   },
   "outputs": [
    {
     "data": {
      "text/plain": [
       "<matplotlib.text.Text at 0x3993db7470>"
      ]
     },
     "execution_count": 6,
     "metadata": {},
     "output_type": "execute_result"
    },
    {
     "data": {
      "image/png": "[encoded data removed]",
      "text/plain": [
       "<matplotlib.figure.Figure at 0x399397c3c8>"
      ]
     },
     "metadata": {},
     "output_type": "display_data"
    }
   ],
   "source": [
    "x = np.linspace(0.9, 3, 100)\n",
    "fig, ax = plt.subplots(2,1, sharex = True)\n",
    "# ax[0].ylabel($$f(x)$$)\n",
    "ax[0].plot(x, fun(x))\n",
    "ax[0].hlines(0, 0.9, 3)\n",
    "ax[1].plot(x, g(x))\n",
    "ax[1].plot(x, x, '--')\n",
    "ax[1].set_xlabel('$x$')\n",
    "ax[0].set_ylabel('$f(x)$')\n",
    "ax[1].set_ylabel('$g(x)$')"
   ]
  },
  {
   "cell_type": "markdown",
   "metadata": {
    "slideshow": {
     "slide_type": "skip"
    }
   },
   "source": [
    "--------------------------------------------------------------------------------------------------------------------------------\n",
    "<a id = 'newton'></a>"
   ]
  },
  {
   "cell_type": "markdown",
   "metadata": {
    "slideshow": {
     "slide_type": "slide"
    }
   },
   "source": [
    "## Newton's Method\n",
    "\n",
    "Most algorithms used in practice to find the roots of a nonlinear system of equations are based on Newton's method. As function iteration, it is an iterative method. However, it uses additional information, namely about the derivative(s) of $f$."
   ]
  },
  {
   "cell_type": "markdown",
   "metadata": {
    "slideshow": {
     "slide_type": "slide"
    }
   },
   "source": [
    "#### Univariate Function\n",
    "\n",
    "Let us start with the case of a univariate function $f$. Recall that we want to find a root $x^*$ of the function $f$, i.e. where $f(x^*) = 0$. Start with an initial guess for $x^*$, denoted by $x_0$. We can approximate $f$ with a first-order Taylor approximation around $x_0$:\n",
    "\n",
    "\\begin{equation}\n",
    "    f(x) \\approx f(x_0) + (x - x_0) f'(x_0)\n",
    "\\end{equation}\n",
    "\n",
    "Setting $f(x) = 0$ - our target value - and solving this expression for $x$ gives us the \"best guess\" for $x^*$ given the initial guess and the properties of the function (i.e. its value and derivative) at $x_0$:\n",
    "\\begin{equation}\n",
    " x_1 \\approx x_0 - \\frac{f(x_0)}{f'(x_0)}\n",
    "\\end{equation}"
   ]
  },
  {
   "cell_type": "markdown",
   "metadata": {
    "slideshow": {
     "slide_type": "slide"
    }
   },
   "source": [
    "\n",
    "Iterating on this step, we can again generate a sequence $x^{(1)}, x^{(2)}, ..., x^{(n)}$; hence the iteration rule is given by:\n",
    "\n",
    "\\begin{equation}\n",
    " x^{(k+1)} = x^{(k)} - \\frac{f(x^{(k)})}{f'(x^{(k)})}\n",
    "\\end{equation}\n",
    "\n",
    "In other words, the functional form of $g$ is now\n",
    "\\begin{equation}\n",
    "    g( x ) = x - \\frac{f(x)}{f'(x)}.\n",
    "\\end{equation}"
   ]
  },
  {
   "cell_type": "markdown",
   "metadata": {
    "slideshow": {
     "slide_type": "slide"
    }
   },
   "source": [
    "The key idea of Newton's method is *successive linerarization*: a nonlinear problem is replaced with a sequence of linear problems whose solutions converge to the solution of a nonlinear problem. This is illustrated by the following figure."
   ]
  },
  {
   "cell_type": "code",
   "execution_count": 7,
   "metadata": {
    "collapsed": true,
    "slideshow": {
     "slide_type": "skip"
    }
   },
   "outputs": [],
   "source": [
    "## cp. figure in class\n",
    "#\n",
    "#\n",
    "#\n",
    "#\n",
    "#\n",
    "#\n",
    "#\n",
    "#\n",
    "#\n",
    "#\n",
    "#\n",
    "#\n",
    "#\n",
    "#\n",
    "#\n",
    "#\n",
    "#\n",
    "#\n",
    "#"
   ]
  },
  {
   "cell_type": "markdown",
   "metadata": {
    "slideshow": {
     "slide_type": "slide"
    }
   },
   "source": [
    "Comparing to simple function iteration above, we have one additional term, the derivative of $f$ at $x^{(k)}$. Hence, we use more information on the properties of the function than above. More precisely, we put a weight on the distance between the old guess $x^{(k)}$ and the new guess $x^{(k+1)}$. With function iteration, the distance was given by $f(x^{(k)})$, while in Newton's method, it is $f(x^{(k)})/f'(x^{(k)})$. It is intuitive why this is an improvement:\n",
    "- if the absolute value of $f'(x^{(k)})$ is small, this means the function is relatively flat at $x^{(k)}$; in this case, it is likely that the current guess $x^{(k)}$ is still far from the root, and hence the jump to the next guess should be large\n",
    "- if the absolute value of $f'(x^{(k)})$ is large, the function is relatively steep, making it more likely that we are close to  the root; hence the jump to the next guess should be small"
   ]
  },
  {
   "cell_type": "markdown",
   "metadata": {
    "slideshow": {
     "slide_type": "slide"
    }
   },
   "source": [
    "Newton's method implements the following pseudo-code:\n",
    "\n",
    "(i) Specify tolerance levels $tol1$ and $tol2$ and choose a starting guess $x^{(0)}$.\n",
    "\n",
    "(ii) Compute the next iterate as \n",
    "\n",
    "\\begin{equation}\n",
    " x^{(k+1)} = x^{(k)} - \\frac{f(x^{(k)})}{f'(x^{(k)})}\n",
    "\\end{equation}\n",
    "\n",
    "(iii) Check the stopping rule: if $|x^{(k+1)}- x^{(k)}| < tol1$, stop. If not, go back to (ii).\n",
    "\n",
    "(iv) If $|f(x^{(k+1)})| < tol2$, report $x^{(k+1)}$ as the solution. Otherwise, report failure. "
   ]
  },
  {
   "cell_type": "markdown",
   "metadata": {
    "slideshow": {
     "slide_type": "slide"
    }
   },
   "source": [
    "The following code implements Newton's method. As before, the current guess for $x$ is printed in every iteration. Unsurprisingly given the intuition above, Newton's method needs considerably fewer iterations than simple function iteration."
   ]
  },
  {
   "cell_type": "code",
   "execution_count": 8,
   "metadata": {
    "collapsed": false,
    "slideshow": {
     "slide_type": "fragment"
    }
   },
   "outputs": [],
   "source": [
    "def fd(x):\n",
    "    return 4/x\n",
    "\n",
    "def g_newton(fun, fun_d, x):\n",
    "    \"\"\"\n",
    "    Implements the iteration rule for Newton's method. \n",
    "    \"\"\"\n",
    "    f, fd = fun(x), fun_d(x)\n",
    "    return x - f * fd**(-1)\n",
    "\n",
    "def my_newton(fun, fun_d, x, tol1 = 1e-8, tol2 = 1e-8):\n",
    "    \"\"\"\n",
    "    Implements Newton's method. \n",
    "    \"\"\"\n",
    "    eps = 1\n",
    "    it = 0\n",
    "    \n",
    "    while eps > tol1:\n",
    "        it += 1\n",
    "        x_new = g_newton(fun, fun_d, x)\n",
    "        eps = abs(x - x_new)\n",
    "        x = x_new\n",
    "        print(x_new)\n",
    "    \n",
    "    print(\"Number of iterations = {}\".format(it) )\n",
    "    \n",
    "    if abs(fun(x)) < tol2: \n",
    "        return x\n",
    "    else:\n",
    "        print(\"No solution found!\")\n",
    "        \n"
   ]
  },
  {
   "cell_type": "code",
   "execution_count": 9,
   "metadata": {
    "collapsed": false,
    "slideshow": {
     "slide_type": "slide"
    }
   },
   "outputs": [
    {
     "name": "stdout",
     "output_type": "stream",
     "text": [
      "2.0\n",
      "2.61370563888\n",
      "2.71624392636\n",
      "2.71828106436\n",
      "2.71828182846\n",
      "2.71828182846\n",
      "Number of iterations = 6\n"
     ]
    }
   ],
   "source": [
    "x_root = my_newton(fun, fd, 1)"
   ]
  },
  {
   "cell_type": "markdown",
   "metadata": {
    "slideshow": {
     "slide_type": "fragment"
    }
   },
   "source": [
    "The stopping criteria should not be set too loosely. For some functions, a higher $tol1$ does not impact the solution from Newton's method: "
   ]
  },
  {
   "cell_type": "code",
   "execution_count": 10,
   "metadata": {
    "collapsed": false,
    "slideshow": {
     "slide_type": "fragment"
    }
   },
   "outputs": [
    {
     "name": "stdout",
     "output_type": "stream",
     "text": [
      "2.0\n",
      "2.61370563888\n",
      "2.71624392636\n",
      "2.71828106436\n",
      "2.71828182846\n",
      "Number of iterations = 5\n"
     ]
    }
   ],
   "source": [
    "x_root = my_newton(fun, fd, 1, tol1 = 1e-4)"
   ]
  },
  {
   "cell_type": "markdown",
   "metadata": {
    "slideshow": {
     "slide_type": "slide"
    }
   },
   "source": [
    "For other functions, however, setting $tol1$ too high can result in finding a \"root\" quite far away from zero. This is true for functions that are quite flat around its root. For these functions, we also see very slow convergence. Note that in the example below, $f(x) = x^6$, a small $tol2$ does not compensate for a rather high $tol1$. "
   ]
  },
  {
   "cell_type": "code",
   "execution_count": 11,
   "metadata": {
    "collapsed": false,
    "slideshow": {
     "slide_type": "fragment"
    }
   },
   "outputs": [
    {
     "name": "stdout",
     "output_type": "stream",
     "text": [
      "0.8333333333333334\n",
      "0.6944444444444444\n",
      "0.5787037037037037\n",
      "0.48225308641975306\n",
      "0.4018775720164609\n",
      "0.3348979766803841\n",
      "0.2790816472336535\n",
      "0.2325680393613779\n",
      "0.19380669946781492\n",
      "0.16150558288984576\n",
      "0.13458798574153813\n",
      "0.11215665478461512\n",
      "0.09346387898717926\n",
      "0.07788656582264938\n",
      "0.06490547151887449\n",
      "0.05408789293239541\n",
      "0.04507324411032951\n",
      "0.03756103675860792\n",
      "0.031300863965506596\n",
      "0.02608405330458883\n",
      "0.021736711087157357\n",
      "0.018113925905964463\n",
      "0.015094938254970386\n",
      "0.01257911521247532\n",
      "0.010482596010396101\n",
      "0.008735496675330084\n",
      "0.00727958056277507\n",
      "0.006066317135645892\n",
      "0.00505526427970491\n",
      "0.004212720233087425\n",
      "0.0035106001942395207\n",
      "0.002925500161866267\n",
      "0.0024379168015552224\n",
      "0.002031597334629352\n",
      "0.0016929977788577933\n",
      "0.0014108314823814943\n",
      "0.0011756929019845785\n",
      "0.0009797440849871487\n",
      "0.0008164534041559572\n",
      "0.0006803778367966309\n",
      "0.0005669815306638591\n",
      "0.00047248460888654926\n",
      "Number of iterations = 42\n",
      "1.1125665436700811e-20\n"
     ]
    }
   ],
   "source": [
    "def fun2(x):\n",
    "    return x**6\n",
    "def fd2(x):\n",
    "    return 6 * x**(5)\n",
    "\n",
    "x_root = my_newton(fun2, fd2, 1, tol1 = 1e-4, tol2 = 1e-10)\n",
    "print(fun2(x_root))"
   ]
  },
  {
   "cell_type": "markdown",
   "metadata": {
    "slideshow": {
     "slide_type": "slide"
    }
   },
   "source": [
    "#### Multivariate Case\n",
    "\n",
    "The logic from the univariate case translates to a vector-valued function $\\mathbf{f}: \\mathbb{R}^n\\ \\rightarrow \\mathbb{R}^n$.  Recall that its Jacobian is defined as:\n",
    "\n",
    "\\begin{equation}\n",
    " J(\\mathbf{x}) = \\left[\n",
    "\\begin{matrix}\n",
    " \\partial f_1/ \\partial x_1 & ... & \\partial f_1/ \\partial x_n \\\\\n",
    " \\vdots & \\ddots & \\vdots \\\\\n",
    "  \\partial f_n/ \\partial x_1 & ... & \\partial f_n/ \\partial x_n \n",
    "\\end{matrix}  \\right]\n",
    "\\end{equation}\n",
    "\n",
    "Start with a first-order Taylor approximation around $\\mathbf{x}_0$:\n",
    "\n",
    "\\begin{equation}\n",
    " 0 = \\mathbf{f}(\\mathbf{x}) \\approx \\mathbf{f}(\\mathbf{x}_0) + J(\\mathbf{x}) (\\mathbf{x} - \\mathbf{x}_0)\n",
    "\\end{equation}\n",
    "\n",
    "As a side note, to see that a Taylor approximation works also in the case of vector-valued functions, note that we can apply it element-wise, i.e. \n",
    "\n",
    "\\begin{equation}\n",
    " f_j(\\mathbf{x}) \\approx f_j(\\mathbf{x}_0) + f_j(\\mathbf{x})^T (\\mathbf{x} - \\mathbf{x}_0)\n",
    "\\end{equation}\n",
    "\n",
    "and recall from above that\n",
    "\n",
    "\\begin{equation}\n",
    " J(\\mathbf{x}) = \\left[\n",
    "\\begin{matrix}\n",
    "  \\nabla f_1(\\mathbf{x})^T \\\\\n",
    " \\vdots  \\\\\n",
    "  \\nabla f_n(\\mathbf{x})^T\n",
    "\\end{matrix}  \\right]\n",
    "\\end{equation}\n",
    "\n",
    "\n",
    "\n"
   ]
  },
  {
   "cell_type": "markdown",
   "metadata": {
    "slideshow": {
     "slide_type": "slide"
    }
   },
   "source": [
    "Hence,\n",
    "\\begin{equation}\n",
    " \\mathbf{x} \\approx \\mathbf{x}_0 - J^{-1}(\\mathbf{x}_0) f(\\mathbf{x}_0)\n",
    "\\end{equation}\n",
    "\n",
    "The key idea is to use this relation iteratively, i.e. generate a sequence $\\mathbf{x}^{(1)}, \\mathbf{x}^{(2)}, ..., \\mathbf{x}^{(m)}$ where\n",
    "\n",
    "\\begin{equation}\n",
    " \\mathbf{x}_{k+1} \\approx \\mathbf{x}_{k} - J^{-1}(\\mathbf{x}_{k}) f(\\mathbf{x}_{k})\n",
    "\\end{equation}"
   ]
  },
  {
   "cell_type": "markdown",
   "metadata": {
    "slideshow": {
     "slide_type": "slide"
    }
   },
   "source": [
    "As an example, consider the function\n",
    "\n",
    "\\begin{equation}\n",
    " f(\\mathbf{x}) = \\left[\n",
    "\\begin{matrix}\n",
    " x_2^2 - 1 \\\\\n",
    "  \\sin{x_1} - x_2\n",
    "\\end{matrix}  \\right]\n",
    "\\end{equation}\n",
    "\n",
    "To apply Newton's method, start by coding up the function and its Jacobian:"
   ]
  },
  {
   "cell_type": "code",
   "execution_count": 12,
   "metadata": {
    "collapsed": false,
    "slideshow": {
     "slide_type": "fragment"
    }
   },
   "outputs": [],
   "source": [
    "def foc(x):\n",
    "    \"\"\"\n",
    "    Implements a system of equation in two unknowns, here f(x) = [x2**2 - 1; sin(x1) - x2]\n",
    "    \"\"\"\n",
    "    return np.array( (x[1]**2 - 1 , np.sin(x[0]) - x[1] ) )\n",
    "\n",
    "\n",
    "def foc_J(x):\n",
    "    \"\"\"\n",
    "    Implements the Jacobian system of equation in two unknowns above\n",
    "    \"\"\"\n",
    "    f_00 = 0\n",
    "    f_01 = 2 * x[1]\n",
    "    f_10 = np.cos(x[0])\n",
    "    f_11 = -1\n",
    "    \n",
    "    return np.array([[f_00, f_01], [f_10, f_11]])   "
   ]
  },
  {
   "cell_type": "code",
   "execution_count": 13,
   "metadata": {
    "collapsed": false,
    "slideshow": {
     "slide_type": "slide"
    }
   },
   "outputs": [
    {
     "name": "stdout",
     "output_type": "stream",
     "text": [
      "Number of iterations = 24\n",
      "[ 1.57079633  1.        ]\n"
     ]
    }
   ],
   "source": [
    "def my_newton_mult(fun, fun_d, x,  tol = 1e-8):\n",
    "    \"\"\"\n",
    "    Implements Newton's method for a vector-valued function\n",
    "    \"\"\"    \n",
    "    eps = 1\n",
    "    it = 0\n",
    "    while eps > tol:\n",
    "        it += 1\n",
    "        f, J = fun(x), fun_d(x)\n",
    "        x_new = x - np.linalg.inv(J) @ f\n",
    "        eps = np.linalg.norm(x - x_new)\n",
    "        x = x_new\n",
    "    \n",
    "    print(\"Number of iterations = {}\".format(it) )\n",
    "    \n",
    "    return x\n",
    "        \n",
    "x_init = [1.5,0.9]\n",
    "x = my_newton_mult(foc, foc_J, x_init)\n",
    "print(x)"
   ]
  },
  {
   "cell_type": "code",
   "execution_count": 14,
   "metadata": {
    "collapsed": false,
    "slideshow": {
     "slide_type": "fragment"
    }
   },
   "outputs": [
    {
     "name": "stdout",
     "output_type": "stream",
     "text": [
      "Number of iterations = 27\n",
      "[ 4.71238897 -1.        ]\n"
     ]
    }
   ],
   "source": [
    "x_init = [3,-0.8]\n",
    "x = my_newton_mult(foc, foc_J, x_init)\n",
    "print(x)"
   ]
  },
  {
   "cell_type": "markdown",
   "metadata": {
    "slideshow": {
     "slide_type": "slide"
    }
   },
   "source": [
    "As bisection, Newton's method is a local method, i.e. does not necessarily find the global optimum. In the case of multiple solutions, like in the example above, it converges to one solution - which one depends on the starting point.\n",
    "\n",
    "Moreover, it is not guaranteed that the iterates in Newton's method converge, in particular for \"erratic\" functions with high derivatives that change sign frequently. In such cases, Newton's method converges only for initial starting values that are sufficiently close to a root $\\mathbf{x}^*$ (always assuming that the Jacobian $J$ is invertible and well-conditioned at  $\\mathbf{x}^*$).\n",
    "\n",
    "We can modify Newton's algorithm as outlined above to increase the likelihood of convergence, by incorporating *backstepping*. Intuitively, if the sequence of iterates $\\mathbf{x}^{(k)}$ \"goes in the wrong direction\" - that is, if the distance to the root gets larger instead of smaller as $k$ increases - we decrease the size of the \"step\" to the next iterate."
   ]
  },
  {
   "cell_type": "code",
   "execution_count": 15,
   "metadata": {
    "collapsed": true,
    "slideshow": {
     "slide_type": "skip"
    }
   },
   "outputs": [],
   "source": [
    "## cp. classroom notes\n",
    "#\n",
    "#\n",
    "#\n",
    "#\n",
    "#\n",
    "#\n",
    "#\n",
    "#\n",
    "#\n",
    "#\n",
    "#\n",
    "#\n",
    "#\n",
    "#\n",
    "#\n",
    "#\n",
    "#\n",
    "#\n",
    "#\n",
    "#\n",
    "#\n",
    "#\n",
    "#"
   ]
  },
  {
   "cell_type": "markdown",
   "metadata": {
    "slideshow": {
     "slide_type": "slide"
    }
   },
   "source": [
    "If $J$ is ill-conditioned at  $\\mathbf{x}^*$, it can lead to inaccurately computed updates $\\mathbf{x}^{(k)}$, which may prevent Newton's method from converging. As outlined in the last lecture, ill-conditioning can stem from units of measurement that vary vastly in their order of magnitude. Rescaling variables so that their values have comparable orders of magnitudes may be a remedy here (and is a good idea in general)."
   ]
  },
  {
   "cell_type": "markdown",
   "metadata": {
    "slideshow": {
     "slide_type": "skip"
    }
   },
   "source": [
    "--------------------------------------------------------------------------------------------------------------------------------\n",
    "<a id = \"numdiff\"></a>"
   ]
  },
  {
   "cell_type": "markdown",
   "metadata": {
    "slideshow": {
     "slide_type": "slide"
    }
   },
   "source": [
    "## Numerical Differentiation\n",
    "\n",
    "Before moving on, it is useful to look at *numerical differentiation*: instead of working with precise derivatives of a function, we can use numerical approximations for these derivatives. This is very useful in particular when the function is complicated, and hence its precise derivatives are hard to obtain.  \n",
    "\n",
    "Numerical derivatives are based on *finite differences*. In the one-dimensional case, we have \n",
    "\n",
    "\\begin{equation}\n",
    "    \\frac{\\partial f}{\\partial x} \\approx \\frac{f(x + \\epsilon) - f(x)}{\\epsilon}\n",
    "\\end{equation}\n",
    "\n",
    "where $\\epsilon$ is small. In other words, the first derivative at $x$ is approximated by the response to a small perturbation of $x$. Note that the approximation above is called the *forward-difference* or *one-sided-difference*. Similarly, the *central-difference* is given by:\n",
    "\n",
    "\\begin{equation}\n",
    "    \\frac{\\partial f}{\\partial x} \\approx \\frac{f(x + \\epsilon)- f(x - \\epsilon)}{2 \\epsilon}\n",
    "\\end{equation}\n",
    "\n",
    "Both expression are intuitive to derive graphically."
   ]
  },
  {
   "cell_type": "code",
   "execution_count": 16,
   "metadata": {
    "collapsed": true,
    "slideshow": {
     "slide_type": "skip"
    }
   },
   "outputs": [],
   "source": [
    "## cp. figure in class\n",
    "#\n",
    "#\n",
    "#\n",
    "#\n",
    "#\n",
    "#\n",
    "#\n",
    "#\n",
    "#\n",
    "#\n",
    "#\n",
    "#\n",
    "#\n",
    "#\n",
    "#\n",
    "#\n",
    "#\n",
    "#\n",
    "#\n",
    "#"
   ]
  },
  {
   "cell_type": "markdown",
   "metadata": {
    "slideshow": {
     "slide_type": "slide"
    }
   },
   "source": [
    "Formally, finite differencing is based on Taylor's Theorem, as shown below for a multivariate function $f: \\mathbb{R}^n\\ \\rightarrow \\mathbb{R}$. In this case, we can write the forward-difference formula as:\n",
    "\\begin{equation}\n",
    "    \\frac{\\partial f}{\\partial x_i} \\approx \\frac{f(x + \\epsilon e_i) - f(x)}{\\epsilon},\n",
    "\\end{equation}\n",
    "where $e_i$ is the corresponding canonical vector."
   ]
  },
  {
   "cell_type": "code",
   "execution_count": 17,
   "metadata": {
    "collapsed": true,
    "slideshow": {
     "slide_type": "skip"
    }
   },
   "outputs": [],
   "source": [
    "## cp. classroom notes: finite difference and Taylor's Theorem\n",
    "#\n",
    "#\n",
    "#\n",
    "#\n",
    "#\n",
    "#\n",
    "#\n",
    "#\n",
    "#\n",
    "#\n",
    "#\n",
    "#\n",
    "#\n",
    "#\n",
    "#\n",
    "#\n",
    "#\n",
    "#\n",
    "#\n",
    "#\n",
    "#\n",
    "#\n",
    "#\n",
    "#\n",
    "#\n",
    "#"
   ]
  },
  {
   "cell_type": "markdown",
   "metadata": {
    "slideshow": {
     "slide_type": "slide"
    }
   },
   "source": [
    "What value should be chosen for $\\epsilon$? A good rule of thumb is the square root of machine epsilon:\n",
    "\n",
    "\\begin{equation}\n",
    "    \\epsilon = \\sqrt{\\epsilon_{DP}} \\approx 10^{-8}\n",
    "\\end{equation}"
   ]
  },
  {
   "cell_type": "markdown",
   "metadata": {
    "slideshow": {
     "slide_type": "slide"
    }
   },
   "source": [
    "For a vector-valued function, a similar derivation gives:\n",
    "\n",
    "\n",
    "\\begin{equation}\n",
    "     J(\\mathbf{x}) \\mathbf{p} \\approx \\frac{\\mathbf{f}(\\mathbf{x}_0 + \\epsilon \\mathbf{p}) - \\mathbf{f}(\\mathbf{x}_0)}{\\epsilon}\n",
    "\\end{equation}\n",
    "\n",
    "Note that this expression does not give us an approximation for the full Jacobian, but rather for the product $J(\\mathbf{x}) \\mathbf{p}$. It requires two function evaluations; it can be shown that a complete approximation of the Jacobian would require $n + 1$ function evaluations for a function of dimension $n$.\n"
   ]
  },
  {
   "cell_type": "markdown",
   "metadata": {
    "slideshow": {
     "slide_type": "slide"
    }
   },
   "source": [
    "#### In Python\n",
    "\n",
    "Numerical differentation is helpful when using Newton's method, as outlined above. One common problem with Newton's method are programming errors when coding the Jacobian, in particular for complicated functions. An easy check is to compare the analytic Jacobian with its finite-difference counterpart. Python has a package **statsmodels** that includes a routine for numerical differentation of a vector-valued function, as illustrated by the following example: "
   ]
  },
  {
   "cell_type": "code",
   "execution_count": 18,
   "metadata": {
    "collapsed": false,
    "slideshow": {
     "slide_type": "fragment"
    }
   },
   "outputs": [
    {
     "data": {
      "text/plain": [
       "array([[  0.00000000e+00,  -2.00000000e+00],\n",
       "       [ -1.08160913e-08,  -1.00000000e+00]])"
      ]
     },
     "execution_count": 18,
     "metadata": {},
     "output_type": "execute_result"
    }
   ],
   "source": [
    "foc_J(x)"
   ]
  },
  {
   "cell_type": "code",
   "execution_count": 19,
   "metadata": {
    "collapsed": false,
    "slideshow": {
     "slide_type": "fragment"
    }
   },
   "outputs": [
    {
     "data": {
      "text/plain": [
       "array([[  0.00000000e+00,  -1.99999999e+00],\n",
       "       [  2.37159347e-08,  -1.00000000e+00]])"
      ]
     },
     "execution_count": 19,
     "metadata": {},
     "output_type": "execute_result"
    }
   ],
   "source": [
    "import statsmodels.api as sm\n",
    "\n",
    "sm.tools.numdiff.approx_fprime(x, foc)"
   ]
  },
  {
   "cell_type": "markdown",
   "metadata": {
    "slideshow": {
     "slide_type": "slide"
    }
   },
   "source": [
    "As a side note, the Scipy package (discussed in more detail below) has a function of the same name, **scipy.optimize.approx_fprime**. In contrast to the **statsmodels** version, this works only for univariate and multivariate scalar functions; in the multivariate case, this computes the gradient. "
   ]
  },
  {
   "cell_type": "code",
   "execution_count": 20,
   "metadata": {
    "collapsed": false,
    "slideshow": {
     "slide_type": "fragment"
    }
   },
   "outputs": [
    {
     "data": {
      "text/plain": [
       "1.1428571428571428"
      ]
     },
     "execution_count": 20,
     "metadata": {},
     "output_type": "execute_result"
    }
   ],
   "source": [
    "## precise derivative of the example function below\n",
    "fd(3.5)"
   ]
  },
  {
   "cell_type": "code",
   "execution_count": 21,
   "metadata": {
    "collapsed": false,
    "slideshow": {
     "slide_type": "fragment"
    }
   },
   "outputs": [
    {
     "data": {
      "text/plain": [
       "array([ 1.1428571])"
      ]
     },
     "execution_count": 21,
     "metadata": {},
     "output_type": "execute_result"
    }
   ],
   "source": [
    "## numerical derivative\n",
    "scipy.optimize.approx_fprime([3.5], fun, [1e-8])"
   ]
  },
  {
   "cell_type": "markdown",
   "metadata": {
    "slideshow": {
     "slide_type": "skip"
    }
   },
   "source": [
    "--------------------------------------------------------------------------------------------------------------------------------\n",
    "<a id = 'quasi'></a>"
   ]
  },
  {
   "cell_type": "markdown",
   "metadata": {
    "slideshow": {
     "slide_type": "slide"
    }
   },
   "source": [
    "## Quasi-Newton Methods\n",
    "\n",
    "There is an obvious cost of using Newton's method as outlined above: we need to provide the analytical derivative of a univariate scalar function or the Jacobian of a vector-valued function, respectively. While this may be not a big deal for simple functions as in the examples above, for more complicated problems, this step may involve a large cost in terms of time for computing the derivatives and for coding them up. Moreover, as mentioned above, coding up complicated derivatives increases the risk of programming errors.\n",
    "\n",
    "Hence, in practice we often rely on \"derivative-free\" or *Quasi-Newton* methods. In a nutshell, their basic idea is the same as in Newton method's - successive linearization - but instead of using the precise derivatives of a function, we approximate them numerically. A drawback is that we have to provide an initial guess for the function's derivative or Jacobian."
   ]
  },
  {
   "cell_type": "markdown",
   "metadata": {
    "slideshow": {
     "slide_type": "slide"
    }
   },
   "source": [
    "#### Univariate Functions: Secant Method\n",
    "\n",
    "In the one-dimensional case, an obvious idea would be to obtain the derivative in Newton's method by numerical differentation:\n",
    "\n",
    "\\begin{equation}\n",
    "    f'(x^{(k)}) \\approx \\frac{f(x^{(k)} + \\epsilon) - f(x^{(k)})}{\\epsilon}\n",
    "\\end{equation}\n",
    "\n",
    "While this would work, in practice we use the *secant method*, where the finite-difference approximation of $f'(x)$ is constructed from the function values at the current and the previous iterate:\n",
    "\n",
    "\\begin{equation}\n",
    "    f'(x^{(k)}) \\approx \\frac{f(x^{(k)}) - f(x^{(k - 1)})}{x^{(k)} - x^{(k-1)}} \\equiv (f')^{(k)}\n",
    "\\end{equation}\n",
    "\n",
    "The main advantage is that this reduces the number of function evaluations: since $f(x^{(k - 1)})$ was evaluated anyway when updating the guess for $x$, it is easy to store and use for the update of $f'(x)$. In the first expression, we would have to *additionally* evaluate $f(x^{(k)} + \\epsilon)$ in every iteration. Note that the computational cost may not be large for simple function, but can be substantial for more complicated functions."
   ]
  },
  {
   "cell_type": "code",
   "execution_count": 22,
   "metadata": {
    "collapsed": true,
    "slideshow": {
     "slide_type": "skip"
    }
   },
   "outputs": [],
   "source": [
    "## cp. classroom notes\n",
    "#\n",
    "#\n",
    "#\n",
    "#\n",
    "#\n",
    "#\n",
    "#\n",
    "#\n",
    "#\n",
    "#\n",
    "#\n",
    "#\n",
    "#\n",
    "#"
   ]
  },
  {
   "cell_type": "markdown",
   "metadata": {
    "slideshow": {
     "slide_type": "slide"
    }
   },
   "source": [
    "Note that the secant method generates not only a sequence $x^{(k)}$, but also a sequence $(f')^{(k)}$ of approxiations of the derivative. In general, while $x^{(k)}$ converge to the root of the the function, $(f')^{(k)}$ does *not* converge to the derivative of $f$ at the root. "
   ]
  },
  {
   "cell_type": "markdown",
   "metadata": {
    "collapsed": false,
    "slideshow": {
     "slide_type": "fragment"
    }
   },
   "source": [
    "In this week's problem set, you are asked to to implement this function numerically. Intuitively, the secant method requires more iterations and hence more function evaluations than Newton's method due to the approximation of the derivative. For more complex functions, however, this doesn't necessarily translate into a longer running time, as the secant method does not require to evaluate the function's derivative."
   ]
  },
  {
   "cell_type": "markdown",
   "metadata": {
    "slideshow": {
     "slide_type": "slide"
    }
   },
   "source": [
    "#### Multivariate Functions: Broyden's Method\n",
    "\n",
    "The cost of computing exact analytical derivatives increases quadratically in the number of dimensions. Hence, in practice, we usually rely on the multidimensional equivalent to the secant method, *Broyden's Method*. \n",
    "\n",
    "Recall from above that we can approximate the Jacobian of a vector-valued function with\n",
    "\n",
    "\\begin{equation}\n",
    "     J(\\mathbf{x}) \\mathbf{p} \\approx \\frac{\\mathbf{f}(\\mathbf{x}_0 + \\epsilon \\mathbf{p}) - \\mathbf{f}(\\mathbf{x}_0)}{\\epsilon}\n",
    "\\end{equation}\n",
    "\n",
    "\n",
    "Analogous to the one-dimensional case, we will work with an approximation $A$ where $\\epsilon = 1$. Setting $\\mathbf{x}_1 = \\mathbf{x}_0 + \\mathbf{p}$, define $A$ such that\n",
    "\n",
    "\\begin{equation}\n",
    " A \\mathbf{p} = \\mathbf{f}(\\mathbf{x}_1) - \\mathbf{f}(\\mathbf{x}_0).\n",
    "\\end{equation}\n",
    "\n",
    "In other words, a numerical approximation $A$ of the Jacobian should satisfy the *secant condition*."
   ]
  },
  {
   "cell_type": "code",
   "execution_count": 23,
   "metadata": {
    "collapsed": true,
    "slideshow": {
     "slide_type": "skip"
    }
   },
   "outputs": [],
   "source": [
    "## cp. classroom notes\n",
    "#\n",
    "#\n",
    "#\n",
    "#\n",
    "#\n",
    "#\n",
    "#\n",
    "#\n",
    "#\n",
    "#\n",
    "#\n",
    "#\n",
    "#\n",
    "#\n",
    "#\n",
    "#\n",
    "#\n",
    "#\n",
    "#\n",
    "#\n",
    "#\n",
    "#\n",
    "#\n",
    "#\n",
    "#\n",
    "#\n",
    "#\n",
    "#\n",
    "#\n",
    "#\n"
   ]
  },
  {
   "cell_type": "markdown",
   "metadata": {
    "slideshow": {
     "slide_type": "skip"
    }
   },
   "source": [
    "--------------------------------------------------------------------------------------------------------------------------------\n",
    "<a id = 'convergence'></a>"
   ]
  },
  {
   "cell_type": "markdown",
   "metadata": {
    "slideshow": {
     "slide_type": "slide"
    }
   },
   "source": [
    "## Convergence\n",
    "\n",
    "All of the methods above were iterative, i.e. generating sequences $x^{(k)}$ (hopefully) converging to the root of the function. Importanly, a sequence of iterates $x^{(k)}$ converges to $x^*$ at a rate of order $p$ if there is a constant $C$ such that\n",
    "\n",
    "\\begin{equation}\n",
    "    || x^{(k+1)} - x^* || \\le C || x^{(k)} - x^* ||^p\n",
    "\\end{equation}\n",
    "\n",
    "for sufficiently large $k$. We can determine $C$ and $p$ for the different methods above:\n",
    "\n",
    "- Bisection converges with $C = 0.5$ and $p = 1$, and hence at a *linear rate*\n",
    "\n",
    "- Function iteration converges also at a linear rate, with $C$ equal to $f'(x^*)$\n",
    "\n",
    "- The secant/Broyden's method converges at a *superlinear rate*, with $1 < p \\approx 1.62 < 2$\n",
    "\n",
    "- Newton's method converges at a *quadratic rate* of $p = 2$\n",
    "\n",
    "Compare the example in M&F, section 3.6."
   ]
  },
  {
   "cell_type": "markdown",
   "metadata": {
    "slideshow": {
     "slide_type": "slide"
    }
   },
   "source": [
    "## Summary: What method to pick?\n",
    "\n",
    "- Newton's method has the fastest rate of convergence, but can require a lot of \"developmental\" effort; it should be used for nonlinear equations of small dimensions, when the derivatives are not too hard to find and to code and when a equation is to be solved many times\n",
    "\n",
    "- The secant/Broyden's method has a smaller rate of convergence (but still more than linear) and requires less programming time; it should be used when the derivatives are expensive to compute and code, and the equation is not solved too often\n",
    "\n",
    "- In the univariate case, the bisection method is the most robust; for highly irregular functions, it can be used in combination with Newton's method, to find a close initial guess"
   ]
  },
  {
   "cell_type": "markdown",
   "metadata": {
    "slideshow": {
     "slide_type": "skip"
    }
   },
   "source": [
    "--------------------------------------------------------------------------------------------------------------------------------\n",
    "<a id = 'scipy'></a>"
   ]
  },
  {
   "cell_type": "markdown",
   "metadata": {
    "slideshow": {
     "slide_type": "slide"
    }
   },
   "source": [
    "## The Scipy Package\n",
    "\n",
    "Modern programming languages have built-in implementations of the algorithms outlined above. In Python, we mainly rely on the **Scipy** package, which comes with the Anaconda distribution. For rootfinding and numerical optimization (in the next lecture), we use Scipy's subpackage **scipy.optimize**, which we first need to import: "
   ]
  },
  {
   "cell_type": "code",
   "execution_count": 24,
   "metadata": {
    "collapsed": true,
    "slideshow": {
     "slide_type": "fragment"
    }
   },
   "outputs": [],
   "source": [
    "import scipy.optimize"
   ]
  },
  {
   "cell_type": "markdown",
   "metadata": {
    "slideshow": {
     "slide_type": "slide"
    }
   },
   "source": [
    "### One dimension\n",
    "\n",
    "For the univariate case, consider again the function \n",
    "\n",
    "\\begin{equation}\n",
    "    f(x) = 4 \\ln(x) - 4\n",
    "\\end{equation}\n",
    "\n",
    "We define the function and use the **bisect()** function, an implementation of the bisection method outlined above:"
   ]
  },
  {
   "cell_type": "code",
   "execution_count": 25,
   "metadata": {
    "collapsed": false,
    "slideshow": {
     "slide_type": "fragment"
    }
   },
   "outputs": [
    {
     "name": "stdout",
     "output_type": "stream",
     "text": [
      "2.718281828459567\n"
     ]
    }
   ],
   "source": [
    "def fun(x):\n",
    "    return 4*np.log(x) - 4\n",
    "\n",
    "print(scipy.optimize.bisect(fun,1,4))"
   ]
  },
  {
   "cell_type": "markdown",
   "metadata": {
    "slideshow": {
     "slide_type": "fragment"
    }
   },
   "source": [
    "**bisect(fun,a,b)** takes three arguments: the function **fun** (which can be built-in or user-written), and an upper and lower initial guess for the root. In other words, you tell the algorithm to look for a root in the interval $[a,b]$. The important thing to remember here is that $f(a)$ and $f(b)$ must have different signs - if they do not, you will get an error message (in this case, change $a$ or $b$ and try again).  "
   ]
  },
  {
   "cell_type": "markdown",
   "metadata": {
    "slideshow": {
     "slide_type": "slide"
    }
   },
   "source": [
    "In the example above, solving for the root using Python is not really necessary. The real advantage of numerical root finding is in situations where finding a solution to $f(x) = 0$ analytically is not feasible. Consider, for example,\n",
    "\n",
    "\\begin{equation}\n",
    "    f(x) = \\sin(4 (x - 1/4)) + x + x^{20} - 1\n",
    "\\end{equation}\n",
    "\n",
    "We can Matplotlib to plot the function:"
   ]
  },
  {
   "cell_type": "code",
   "execution_count": 26,
   "metadata": {
    "collapsed": false,
    "slideshow": {
     "slide_type": "fragment"
    }
   },
   "outputs": [
    {
     "data": {
      "text/plain": [
       "[<matplotlib.lines.Line2D at 0x39956612b0>]"
      ]
     },
     "execution_count": 26,
     "metadata": {},
     "output_type": "execute_result"
    },
    {
     "data": {
      "image/png": "[encoded data removed]",
      "text/plain": [
       "<matplotlib.figure.Figure at 0x3995661da0>"
      ]
     },
     "metadata": {},
     "output_type": "display_data"
    }
   ],
   "source": [
    "def fun(x):\n",
    "    return np.sin(4 * (x - 0.25)) + x + x**20 - 1\n",
    "\n",
    "fig, ax = plt.subplots()\n",
    "x = np.linspace(0.3, 1, 50)\n",
    "ax.plot(x, fun(x))"
   ]
  },
  {
   "cell_type": "markdown",
   "metadata": {
    "slideshow": {
     "slide_type": "slide"
    }
   },
   "source": [
    "Finding a root via the bisection method is straightforward:"
   ]
  },
  {
   "cell_type": "code",
   "execution_count": 27,
   "metadata": {
    "collapsed": false,
    "slideshow": {
     "slide_type": "fragment"
    }
   },
   "outputs": [
    {
     "name": "stdout",
     "output_type": "stream",
     "text": [
      "0.4082935042806639\n"
     ]
    }
   ],
   "source": [
    "print(scipy.optimize.bisect(fun,0,2))"
   ]
  },
  {
   "cell_type": "markdown",
   "metadata": {
    "slideshow": {
     "slide_type": "fragment"
    }
   },
   "source": [
    "The Scipy function **newton(fun, x, fprime = None)** implements both Newton's method (if the derivate of the function is given as **fprime**)  and the secant method for univariate rootfinding:"
   ]
  },
  {
   "cell_type": "code",
   "execution_count": 28,
   "metadata": {
    "collapsed": false,
    "slideshow": {
     "slide_type": "fragment"
    }
   },
   "outputs": [
    {
     "data": {
      "text/plain": [
       "0.408293504279367"
      ]
     },
     "execution_count": 28,
     "metadata": {},
     "output_type": "execute_result"
    }
   ],
   "source": [
    "def fun_d(x):\n",
    "    return np.cos(4 * (x - 0.25)) * 4 + 1 + 20 * x**19\n",
    "\n",
    "scipy.optimize.newton(fun,0.6, fun_d)"
   ]
  },
  {
   "cell_type": "code",
   "execution_count": 29,
   "metadata": {
    "collapsed": false,
    "slideshow": {
     "slide_type": "fragment"
    }
   },
   "outputs": [
    {
     "data": {
      "text/plain": [
       "0.40829350427936667"
      ]
     },
     "execution_count": 29,
     "metadata": {},
     "output_type": "execute_result"
    }
   ],
   "source": [
    "scipy.optimize.newton(fun,0.6)"
   ]
  },
  {
   "cell_type": "markdown",
   "metadata": {
    "slideshow": {
     "slide_type": "slide"
    }
   },
   "source": [
    "We can use Jupyter's **%timeit** magic to compare the running time of each of the three methods:"
   ]
  },
  {
   "cell_type": "code",
   "execution_count": 30,
   "metadata": {
    "collapsed": false,
    "slideshow": {
     "slide_type": "fragment"
    }
   },
   "outputs": [
    {
     "name": "stdout",
     "output_type": "stream",
     "text": [
      "1 loop, best of 3: 308 µs per loop\n"
     ]
    }
   ],
   "source": [
    "%timeit -n1 scipy.optimize.bisect(fun,0,2)"
   ]
  },
  {
   "cell_type": "code",
   "execution_count": 31,
   "metadata": {
    "collapsed": false,
    "slideshow": {
     "slide_type": "fragment"
    }
   },
   "outputs": [
    {
     "name": "stdout",
     "output_type": "stream",
     "text": [
      "1 loop, best of 3: 97.1 µs per loop\n"
     ]
    }
   ],
   "source": [
    "%timeit -n1 scipy.optimize.newton(fun,0.6)"
   ]
  },
  {
   "cell_type": "code",
   "execution_count": 32,
   "metadata": {
    "collapsed": false,
    "slideshow": {
     "slide_type": "fragment"
    }
   },
   "outputs": [
    {
     "name": "stdout",
     "output_type": "stream",
     "text": [
      "1 loop, best of 3: 111 µs per loop\n"
     ]
    }
   ],
   "source": [
    "%timeit -n1 scipy.optimize.newton(fun,0.6, fun_d)"
   ]
  },
  {
   "cell_type": "markdown",
   "metadata": {
    "slideshow": {
     "slide_type": "slide"
    }
   },
   "source": [
    "For comparison, our implementation of Newton's method above takes about the same running time:"
   ]
  },
  {
   "cell_type": "code",
   "execution_count": 33,
   "metadata": {
    "collapsed": false,
    "slideshow": {
     "slide_type": "fragment"
    }
   },
   "outputs": [
    {
     "data": {
      "text/plain": [
       "0.40829350427936706"
      ]
     },
     "execution_count": 33,
     "metadata": {},
     "output_type": "execute_result"
    }
   ],
   "source": [
    "def my_newton(fun, fun_d, x, tol1 = 1e-8, tol2 = 1e-8):\n",
    "    \n",
    "    eps = 1\n",
    "    it = 0\n",
    "    maxit = 100\n",
    "    \n",
    "    while eps > tol1 and it < maxit:\n",
    "        it += 1\n",
    "        x_new = g_newton(fun, fun_d, x)\n",
    "        eps = abs(x - x_new)\n",
    "        x = x_new\n",
    "    \n",
    "    if abs(fun(x)) < tol2: \n",
    "        return x\n",
    "    else:\n",
    "        print(\"No solution found!\")\n",
    "        \n",
    "\n",
    "my_newton(fun, fun_d, 0.99)"
   ]
  },
  {
   "cell_type": "code",
   "execution_count": 34,
   "metadata": {
    "collapsed": false,
    "slideshow": {
     "slide_type": "fragment"
    }
   },
   "outputs": [
    {
     "name": "stdout",
     "output_type": "stream",
     "text": [
      "1 loop, best of 3: 120 µs per loop\n"
     ]
    }
   ],
   "source": [
    "%timeit -n1 my_newton(fun, fun_d, 0.6)"
   ]
  },
  {
   "cell_type": "markdown",
   "metadata": {
    "slideshow": {
     "slide_type": "slide"
    }
   },
   "source": [
    "### Multiple Dimensions: NGM Revisited\n",
    "\n",
    "As an example for a multidimensional system of nonlinear equation, let's go back to our NGM model. Recall that a steady state is given by $(k_s, h_s)$ such that\n",
    "\n",
    "\\begin{equation}\n",
    "    \\left[\n",
    "    \\begin{array}{c}\n",
    "        S_1 \\\\\n",
    "        S_2\n",
    "    \\end{array}\n",
    "    \\right] =    \n",
    "    \\left[\n",
    "    \\begin{array}{c}\n",
    "        \\beta \\left[f_k(k_s, h_s) + 1 - \\delta \\right]  - 1 \\\\\n",
    "        \\left[ f(k_s, h_s) - \\delta k \\right]^{-\\nu} f_h(k_s, h_s) - B h_s^{\\eta}\n",
    "    \\end{array}\n",
    "    \\right] = \n",
    "    \\left[\n",
    "    \\begin{array}{c}\n",
    "        0 \\\\\n",
    "        0\n",
    "    \\end{array}\n",
    "    \\right]\n",
    "\\end{equation}\n",
    "\n",
    "To solve this system numerically, we first need to assign values to the model parameters. "
   ]
  },
  {
   "cell_type": "markdown",
   "metadata": {
    "slideshow": {
     "slide_type": "slide"
    }
   },
   "source": [
    "#### Parameters"
   ]
  },
  {
   "cell_type": "code",
   "execution_count": 35,
   "metadata": {
    "collapsed": true,
    "slideshow": {
     "slide_type": "fragment"
    }
   },
   "outputs": [],
   "source": [
    "## utility\n",
    "beta = 0.8      # discount factor\n",
    "nu = 2       # risk-aversion coefficient for consumption\n",
    "eta = 1         # elasticity parameter for labor supply\n",
    "eps = 1e-6      # lower bound of consumption and labor supply\n",
    "## production\n",
    "alpha = 0.25\n",
    "delta = 0\n",
    "## derived\n",
    "# A = (1 - beta * (1 - delta))/(alpha*beta) # normalization parameter for production function => steady state k = 1\n",
    "# B = (1 - alpha) * A * (A - delta)**nu      # parameter for utility function\n",
    "B = 0.8\n",
    "A = 1.1"
   ]
  },
  {
   "cell_type": "markdown",
   "metadata": {
    "slideshow": {
     "slide_type": "slide"
    }
   },
   "source": [
    "#### Functions\n",
    "\n",
    "Next, it will be useful to define some auxiliary functions that implement the Cobb-Douglas production function, as well as its first and second derivatives."
   ]
  },
  {
   "cell_type": "code",
   "execution_count": 36,
   "metadata": {
    "collapsed": true,
    "slideshow": {
     "slide_type": "fragment"
    }
   },
   "outputs": [],
   "source": [
    "def cobb_douglas(x, alpha, A):\n",
    "    \"\"\"\n",
    "    Evaluates the Cobb-Douglas function with coefficient alpha and shift parameter A, for two inputs (x)\n",
    "    \"\"\"\n",
    "    return A * x[0]**alpha * x[1]**(1 - alpha)\n",
    "\n",
    "def cd_diff(x, alpha, A):\n",
    "    \"\"\"\n",
    "    Evaluates the first derivatives (returned as a tuple) of the Cobb-Douglas function with coefficient alpha and shift parameter A, for two inputs (x)\n",
    "    \"\"\"\n",
    "    return (A * alpha * cobb_douglas(x, alpha, A) / x[0], \n",
    "            A * (1 - alpha) * cobb_douglas(x, alpha, A) / x[1])\n",
    "\n",
    "def cd_diff2(x, alpha, A):\n",
    "    \"\"\"\n",
    "    Evaluates the second derivative (returned as a tuple, with the cross derivative as the last element) of the Cobb-Douglas function with coefficient alpha and shift parameter A, for two inputs (x)\n",
    "    \"\"\"\n",
    "    return (A * alpha * (alpha - 1) * cobb_douglas(x, alpha, A) / x[0]**2, \n",
    "            A * (1 - alpha) * (-alpha) * cobb_douglas(x, alpha, A) / x[1]**2,\n",
    "            A * alpha * (1 - alpha) * cobb_douglas(x, alpha, A) / (x[0] * x[1]) )\n"
   ]
  },
  {
   "cell_type": "markdown",
   "metadata": {
    "slideshow": {
     "slide_type": "slide"
    }
   },
   "source": [
    "Finally, we can code up the system of nonlinear equations $S$ as a Numpy array.\n"
   ]
  },
  {
   "cell_type": "code",
   "execution_count": 37,
   "metadata": {
    "collapsed": false,
    "slideshow": {
     "slide_type": "fragment"
    }
   },
   "outputs": [],
   "source": [
    "def steady(x):\n",
    "    \"\"\"\n",
    "    Returns the vector-valued function consisting of the steady-state conditions \n",
    "    \"\"\"\n",
    "    y = np.zeros(2)\n",
    "    mp = cd_diff(x, alpha, A)\n",
    "    \n",
    "    y[0] = beta * (mp[0] + 1 - delta) - 1\n",
    "    y[1] = (cobb_douglas(x, alpha, A) - delta * x[0])**(-nu) * mp[1] - B * x[1]**eta\n",
    "    \n",
    "    return y\n",
    "\n"
   ]
  },
  {
   "cell_type": "markdown",
   "metadata": {
    "slideshow": {
     "slide_type": "slide"
    }
   },
   "source": [
    "For Newton's method, we also need to provide the Jacobian, i.e.\n",
    "\n",
    "\\begin{equation}\n",
    " J(k, h) = \\left[\n",
    "\\begin{matrix}\n",
    " \\partial S_1/ \\partial k &  \\partial S_1/ \\partial h \\\\\n",
    "  \\partial S_2/ \\partial k &  \\partial S_2 / \\partial h \n",
    "\\end{matrix}  \\right]\n",
    "\\end{equation}"
   ]
  },
  {
   "cell_type": "code",
   "execution_count": 38,
   "metadata": {
    "collapsed": true,
    "slideshow": {
     "slide_type": "fragment"
    }
   },
   "outputs": [],
   "source": [
    "def steady_jac(x):\n",
    "    \"\"\"\n",
    "    Returns the Jacobian of the vector-valued function consisting of the steady-state conditions \n",
    "    \"\"\"\n",
    "    J = np.zeros((2,2))\n",
    "    mp = cd_diff(x, alpha, A)\n",
    "    mp2 = cd_diff2(x, alpha, A)\n",
    "    \n",
    "    Q = cobb_douglas(x, alpha, A) - delta * x[0]\n",
    "    \n",
    "    J[0,0] = beta * mp2[0] \n",
    "    J[0,1] = beta * mp2[2]\n",
    "    J[1,1] = -nu * Q**(-nu-1) * mp[1]**2 + Q**(-nu) * mp2[1] - B * eta * x[1]**(eta - 1)\n",
    "    J[1,0] = -nu * Q**(-nu-1) * mp[1] * (mp[0] - delta) + Q**(-nu) * mp2[2] \n",
    "    \n",
    "    return J"
   ]
  },
  {
   "cell_type": "markdown",
   "metadata": {
    "slideshow": {
     "slide_type": "slide"
    }
   },
   "source": [
    "#### Solve for the steady state\n",
    "\n",
    "Start by using our implementation of Newton's method written above. We also need to provide an initial guess $x_0$:"
   ]
  },
  {
   "cell_type": "code",
   "execution_count": 39,
   "metadata": {
    "collapsed": false,
    "slideshow": {
     "slide_type": "fragment"
    }
   },
   "outputs": [
    {
     "name": "stdout",
     "output_type": "stream",
     "text": [
      "Number of iterations = 10\n"
     ]
    },
    {
     "data": {
      "text/plain": [
       "array([ 1.23548993,  0.95820563])"
      ]
     },
     "execution_count": 39,
     "metadata": {},
     "output_type": "execute_result"
    }
   ],
   "source": [
    "x0 = np.array([0.5, 0.5])\n",
    "my_newton_mult(steady, steady_jac, x0)"
   ]
  },
  {
   "cell_type": "markdown",
   "metadata": {
    "slideshow": {
     "slide_type": "slide"
    }
   },
   "source": [
    "Next, we use Scipy's **optimize.broyden1** function, an implementation of Broyden's method outlined above. As it is derivative-free, we do not have to provide the Jacobian: "
   ]
  },
  {
   "cell_type": "code",
   "execution_count": 40,
   "metadata": {
    "collapsed": false,
    "slideshow": {
     "slide_type": "fragment"
    }
   },
   "outputs": [
    {
     "name": "stdout",
     "output_type": "stream",
     "text": [
      "[ 1.23548994  0.95820563]\n"
     ]
    }
   ],
   "source": [
    "res = scipy.optimize.broyden1(steady, x0, f_tol = 1e-8)\n",
    "print(res)"
   ]
  },
  {
   "cell_type": "markdown",
   "metadata": {
    "slideshow": {
     "slide_type": "slide"
    }
   },
   "source": [
    "Note that alternatively, you can also call Scipy's **optimize.root** function, which is essentially a \"wrapper\" around different algorithms for solving nonlinear systems of equations, not only Broyden's method. I usually use the **root** function since it provides a more informative output, in particular on function values and number of iterations."
   ]
  },
  {
   "cell_type": "code",
   "execution_count": 41,
   "metadata": {
    "collapsed": false,
    "slideshow": {
     "slide_type": "fragment"
    }
   },
   "outputs": [
    {
     "name": "stdout",
     "output_type": "stream",
     "text": [
      "     fun: array([  7.35234096e-12,  -1.00914832e-11])\n",
      " message: 'A solution was found at the specified tolerance.'\n",
      "     nit: 20\n",
      "  status: 1\n",
      " success: True\n",
      "       x: array([ 1.23548993,  0.95820563])\n"
     ]
    }
   ],
   "source": [
    "res = scipy.optimize.root(steady, x0,  tol = 1e-8, method = \"broyden1\")\n",
    "print(res)"
   ]
  },
  {
   "cell_type": "markdown",
   "metadata": {
    "slideshow": {
     "slide_type": "fragment"
    }
   },
   "source": [
    "As expected, Broyden's method takes more iterations to solve the system than Newton's method."
   ]
  }
 ],
 "metadata": {
  "celltoolbar": "Slideshow",
  "kernelspec": {
   "display_name": "Python 3",
   "language": "python",
   "name": "python3"
  },
  "language_info": {
   "codemirror_mode": {
    "name": "ipython",
    "version": 3
   },
   "file_extension": ".py",
   "mimetype": "text/x-python",
   "name": "python",
   "nbconvert_exporter": "python",
   "pygments_lexer": "ipython3",
   "version": "3.6.0"
  }
 },
 "nbformat": 4,
 "nbformat_minor": 0
}
