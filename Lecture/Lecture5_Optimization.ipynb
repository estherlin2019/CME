{
 "cells": [
  {
   "cell_type": "markdown",
   "metadata": {
    "slideshow": {
     "slide_type": "slide"
    }
   },
   "source": [
    "# Computational Methods in Economics\n",
    "\n",
    "## Lecture 5 - Numerical Optimization"
   ]
  },
  {
   "cell_type": "code",
   "execution_count": 1,
   "metadata": {
    "slideshow": {
     "slide_type": "skip"
    }
   },
   "outputs": [
    {
     "name": "stdout",
     "output_type": "stream",
     "text": [
      "Last update: 2017-12-06 07:57:43.230234\n"
     ]
    }
   ],
   "source": [
    "# Author: Alex Schmitt (schmitt@ifo.de)\n",
    "\n",
    "import datetime\n",
    "print('Last update: ' + str(datetime.datetime.today()))"
   ]
  },
  {
   "cell_type": "markdown",
   "metadata": {
    "slideshow": {
     "slide_type": "skip"
    }
   },
   "source": [
    "### Preliminaries\n",
    "\n",
    "#### Import Modules"
   ]
  },
  {
   "cell_type": "code",
   "execution_count": 2,
   "metadata": {
    "slideshow": {
     "slide_type": "skip"
    }
   },
   "outputs": [],
   "source": [
    "import numpy as np\n",
    "\n",
    "import matplotlib.pyplot as plt\n",
    "%matplotlib inline\n",
    "import seaborn\n",
    "\n",
    "import scipy.optimize\n",
    "\n",
    "import statsmodels.api as sm"
   ]
  },
  {
   "cell_type": "markdown",
   "metadata": {
    "slideshow": {
     "slide_type": "slide"
    }
   },
   "source": [
    "## This Lecture\n",
    "\n",
    "- [Introduction](#introduction)\n",
    "- [Golden Search](#golden)\n",
    "- [Nelder-Mead (Simplex)](#Nelder-Mead)\n",
    "- [Overview: Line Search](#overview)\n",
    "- [The Newton-Raphson Method](#newton)\n",
    "- [Gradient Descent](#gradient)\n",
    "- [Quasi-Newton Methods: BFGS](#quasi)\n",
    "- [Example: Solving the NGM](#NGM)"
   ]
  },
  {
   "cell_type": "markdown",
   "metadata": {
    "slideshow": {
     "slide_type": "skip"
    }
   },
   "source": [
    "--------------------------------------------------------------------------------------------------------------------------------\n",
    "<a id = 'introduction'></a>"
   ]
  },
  {
   "cell_type": "markdown",
   "metadata": {
    "slideshow": {
     "slide_type": "slide"
    }
   },
   "source": [
    "## Introduction\n",
    "\n",
    "Optimization (minimization or maximization) is at the heart of almost all economic models, which makes numerical algorithms for optimization an essential part of an economist's computational toolbox. Before talking about these algorithms in detail, we start with a short refresher on the theory behind optimization."
   ]
  },
  {
   "cell_type": "markdown",
   "metadata": {
    "slideshow": {
     "slide_type": "slide"
    }
   },
   "source": [
    "### Review: Unconstrained Optimization\n",
    "\n",
    "Unconstrained optimization entails *minimizing* an (scalar) *objective function* $f: \\mathbb{R}^n \\rightarrow \\mathbb{R}$:\n",
    "\n",
    "\\begin{equation}\n",
    "    \\min_{x} f(x)\n",
    "\\end{equation}\n",
    "\n",
    "with\n",
    "\\begin{equation}\n",
    "    x \\in \\mathbb{R}^n\n",
    "\\end{equation}\n",
    "and $f$ being a smooth function.\n",
    "\n",
    "Note that we frame the problem here in terms of minimization, mainly because that's how the Scipy implementations that we will see do it. *Maximizing* a function is equivalent to minimizing its negative."
   ]
  },
  {
   "cell_type": "markdown",
   "metadata": {
    "slideshow": {
     "slide_type": "slide"
    }
   },
   "source": [
    "Usually, we want to find a *global* minimum and hence a *global minimizer* of $f$. Formally, a global minimizer for the problem above is a point $x^*$ if $f(x^*) \\le f(x)$ for all $x$ in the relevant domain. \n",
    "\n",
    "However, most algorithms developed for numerical optimization (and in fact all algorithms discussed in this class) aim to find a local optimum, and hence a *local minimizer*. A local minimizer is a point $x^*$ if there is a neighborhood $\\mathcal{N}$ of $x^*$ such that $f(x^*) \\le f(x)$ for all $x$ in $\\mathcal{N}$. For a *strict* or *strong* local minimizer, the inequality is strict. If $x^*$ is the only local minimizer in $\\mathcal{N}$, it is also called an *isolated* minimizer. All isolated local minimizers are strict, however strict minimizers are not always isolated."
   ]
  },
  {
   "cell_type": "markdown",
   "metadata": {
    "slideshow": {
     "slide_type": "slide"
    }
   },
   "source": [
    "Why do the methods below focus on local minimizers? The more points an algorithm has to \"visit\" (i.e. evaluate the function), the more computer time and/or storage it needs, which we aim to keep as small as possible. To find a global minimizer, we would need to sample points over the whole relevant domain of $f$. However, note if we know that a function is *convex*, a local minimizer is also a global minimizer. "
   ]
  },
  {
   "cell_type": "markdown",
   "metadata": {
    "slideshow": {
     "slide_type": "slide"
    }
   },
   "source": [
    "How do we recognize a local minimum? We rely on the following necessary and sufficient conditions (that you have probably used in almost every economics class you've ever taken):\n",
    "- If $x^*$ is a local minimizer of $f$ and $f$ is continuously differentiable in an open neighborhood around $x^*$, then the *gradient* $\\nabla f(x^*)$ is zero. For a univariate function, $f'(x^*) = 0$.\n",
    "- If $x^*$ is a local minimizer and $\\nabla^2 f$ exists and is continuous in an open neighborhood around $x^*$, then $\\nabla f(x^*) = 0$ and $\\nabla^2 f(x^*)$ is positive semidefinite.\n",
    "- Suppose that $\\nabla^2 f$ is continuous in an open neighborhood around $x^*$ and that $\\nabla f(x^*) = 0$ and $\\nabla^2 f(x^*)$ is positive semidefinite. Then $x^*$ is a strict local minimizer of $f$."
   ]
  },
  {
   "cell_type": "markdown",
   "metadata": {
    "slideshow": {
     "slide_type": "slide"
    }
   },
   "source": [
    "Recall that a square matrix $A$ of order $n$ is *positive definite* if there is a positive scalar such that\n",
    "\n",
    "\\begin{equation}\n",
    "    x^T A x \\ge \\alpha x^T x \\quad \\text{for all} \\quad x \\in \\mathbb{R}^n\n",
    "\\end{equation}\n",
    "\n",
    "It is *positive semidefinite* if \n",
    "\n",
    "\\begin{equation}\n",
    "    x^T A x \\ge 0 \\quad\\text{for all} \\quad x \\in \\mathbb{R}^n\n",
    "\\end{equation}\n",
    "\n",
    "For a univariate function, a positive semidefinite Hessian just means that the second derivative of the function is positive. "
   ]
  },
  {
   "cell_type": "markdown",
   "metadata": {
    "slideshow": {
     "slide_type": "skip"
    }
   },
   "source": [
    "--------------------------------------------------------------------------------------------------------------------------------\n",
    "<a id = 'golden'></a>"
   ]
  },
  {
   "cell_type": "markdown",
   "metadata": {
    "slideshow": {
     "slide_type": "slide"
    }
   },
   "source": [
    "## Golden Search\n",
    "\n",
    "Similar to root finding, for performing numerical optimization we have both derivative-free methods as well as algorithms that either rely on analytical derivatives provided by the user or approximate the derivatives numerically. First, we look at an important method for maximizing a *univariate* function without using derivates, namely *golden (section) search*.\n",
    "\n",
    "Conceptually, golden search is similar to bisection: we bracket the minimum $x^*$ by the interval $[a, b]$ and then sequentially reduce the length of the interval. One important difference to bisection is that we need to evaluate the function at *two* points inside the bracket, rather than one as in the case of bisection.  "
   ]
  },
  {
   "cell_type": "markdown",
   "metadata": {
    "slideshow": {
     "slide_type": "slide"
    }
   },
   "source": [
    "![gs.png](attachment:gs.png)"
   ]
  },
  {
   "cell_type": "code",
   "execution_count": 3,
   "metadata": {
    "slideshow": {
     "slide_type": "skip"
    }
   },
   "outputs": [],
   "source": [
    "## cp. figure in class\n",
    "#\n",
    "#\n",
    "#\n",
    "#\n",
    "#\n",
    "#\n",
    "#\n",
    "#\n",
    "#\n",
    "#\n",
    "#\n",
    "#\n",
    "#\n",
    "#\n",
    "#\n",
    "#\n",
    "#\n",
    "#\n",
    "#\n",
    "#\n",
    "#\n",
    "#\n",
    "#\n",
    "#\n",
    "#\n",
    "#\n",
    "#\n",
    "#\n",
    "#\n",
    "#"
   ]
  },
  {
   "cell_type": "markdown",
   "metadata": {
    "slideshow": {
     "slide_type": "slide"
    }
   },
   "source": [
    "The obvious question is then how to choose the *search points* $c$ and $d$ inside the bracket. Golden search prescribes the following rule:\n",
    "\n",
    "\\begin{align}\n",
    "    c &= a + r (b - a) \\\\\n",
    "    d &= b - r (b - a)\n",
    "\\end{align}\n",
    "\n",
    "where\n",
    "\n",
    "\\begin{equation}\n",
    "    r = \\frac{3 - \\sqrt{5}}{2} \\approx 0.382...\n",
    "\\end{equation}    \n",
    "\n",
    "This satisfies two criteria:\n",
    "\n",
    "- The new interval always has the same length, independent on whether the upper or lower bound is replaced:\n",
    "\n",
    "\\begin{equation}\n",
    "       b - c = d - a = (1 - r)(b - a) \n",
    "\\end{equation}   "
   ]
  },
  {
   "cell_type": "markdown",
   "metadata": {
    "slideshow": {
     "slide_type": "slide"
    }
   },
   "source": [
    "- For every refinement after the first, one of the search points equals the search point from the previous refinement that was not used as a new bound; in other words,\n",
    "\n",
    "    1. if $f(c) < f(d)$, the new interval is $[a, d]$; for the next refinement, $d' = c$\n",
    "    2. if $f(c) > f(d)$, the new interval is $[c, b]$; for the next refinement, $c' = d$\n",
    "\n",
    "This has the advantage that only one function evaluation is performed per iteration; e.g. in the first case, we need to evaluate $f(c')$, but we already have evaluated $f(d') = f(c)$ for the previous refinement. "
   ]
  },
  {
   "cell_type": "markdown",
   "metadata": {
    "slideshow": {
     "slide_type": "slide"
    }
   },
   "source": [
    "In Python, golden section search for minimizing a univariate function is implemented in **scipy.optimize.golden**. Below, we apply it on the function $f(x) = - \\exp(-x) \\sin(x)$:"
   ]
  },
  {
   "cell_type": "code",
   "execution_count": 4,
   "metadata": {
    "slideshow": {
     "slide_type": "fragment"
    }
   },
   "outputs": [
    {
     "data": {
      "text/plain": [
       "[<matplotlib.lines.Line2D at 0xbd68e03780>]"
      ]
     },
     "execution_count": 4,
     "metadata": {},
     "output_type": "execute_result"
    },
    {
     "data": {
      "image/png": "[encoded data removed]",
      "text/plain": [
       "<matplotlib.figure.Figure at 0xbd68a287b8>"
      ]
     },
     "metadata": {},
     "output_type": "display_data"
    }
   ],
   "source": [
    "f = lambda x: -np.exp(-x) * np.sin(x)\n",
    "x = np.linspace(0, 10, 100)\n",
    "plt.plot(x, f(x))"
   ]
  },
  {
   "cell_type": "code",
   "execution_count": 5,
   "metadata": {
    "slideshow": {
     "slide_type": "fragment"
    }
   },
   "outputs": [
    {
     "data": {
      "text/plain": [
       "0.7853981651501754"
      ]
     },
     "execution_count": 5,
     "metadata": {},
     "output_type": "execute_result"
    }
   ],
   "source": [
    "scipy.optimize.golden(f, brack = (0, 2))"
   ]
  },
  {
   "cell_type": "markdown",
   "metadata": {
    "slideshow": {
     "slide_type": "slide"
    }
   },
   "source": [
    "We will not use golden search very often, for the simple reason that we usually optimize over functions with more than one variable. However, golden search is useful in the case of univariate functions with derivatives that are irregular or computationally costly to evaluate."
   ]
  },
  {
   "cell_type": "markdown",
   "metadata": {
    "slideshow": {
     "slide_type": "skip"
    }
   },
   "source": [
    "--------------------------------------------------------------------------------------------------------------------------------\n",
    "<a id = 'Nelder-Mead'></a>"
   ]
  },
  {
   "cell_type": "markdown",
   "metadata": {
    "slideshow": {
     "slide_type": "slide"
    }
   },
   "source": [
    "## Nelder-Mead (Simplex)\n",
    "\n",
    "Compare http://www.benfrederickson.com/numerical-optimization/ for a visualization."
   ]
  },
  {
   "cell_type": "markdown",
   "metadata": {
    "slideshow": {
     "slide_type": "slide"
    }
   },
   "source": [
    "#### Example: \"Banana\" function\n",
    "\n",
    "The *Rosenbrock function* (also called *Rosenbrock's banana function*) is often used to test the performance of optimization algorithms. In its simplest form with two variables, it looks like the following:\n",
    "\n",
    "\\begin{equation}\n",
    "    f(x, y) = (a - x)^2 + b (y - x^2)^2\n",
    "\\end{equation}\n",
    "\n",
    "Its global minimum is at $(a, a^2)$. Below, we set $a = 1$ and $b = 100$."
   ]
  },
  {
   "cell_type": "code",
   "execution_count": 6,
   "metadata": {
    "slideshow": {
     "slide_type": "fragment"
    }
   },
   "outputs": [],
   "source": [
    "def banana(x, y):\n",
    "    return (1 - x)**2 + 100 * (y - x**2)**2"
   ]
  },
  {
   "cell_type": "markdown",
   "metadata": {
    "slideshow": {
     "slide_type": "slide"
    }
   },
   "source": [
    "Plotting the banana function with a contour plot shows the \"Rosenbrock valley\" that contains the smallest function values, including the minimum:"
   ]
  },
  {
   "cell_type": "code",
   "execution_count": 7,
   "metadata": {
    "slideshow": {
     "slide_type": "fragment"
    }
   },
   "outputs": [
    {
     "data": {
      "text/plain": [
       "<matplotlib.colorbar.Colorbar at 0xbd6a294438>"
      ]
     },
     "execution_count": 7,
     "metadata": {},
     "output_type": "execute_result"
    },
    {
     "data": {
      "image/png": "[encoded data removed]",
      "text/plain": [
       "<matplotlib.figure.Figure at 0xbd68e3fe80>"
      ]
     },
     "metadata": {},
     "output_type": "display_data"
    }
   ],
   "source": [
    "x = np.linspace(-0.5, 1.5, 50)\n",
    "y = np.linspace(-0.5, 1.5, 50)\n",
    "xx, yy = np.meshgrid(x, y)\n",
    "z = banana(xx, yy)\n",
    "\n",
    "## plot contour\n",
    "fig, ax = plt.subplots()\n",
    "CP = ax.contour(x, y, z, 300,  linewidths=2, cmap='cool')\n",
    "fig.colorbar(CP)"
   ]
  },
  {
   "cell_type": "markdown",
   "metadata": {
    "slideshow": {
     "slide_type": "slide"
    }
   },
   "source": [
    "Scipy has an implementation of the Rosenbrock function, including its gradient and Hessian, as **scipy.optimize.rosen**, **scipy.optimize.rosen_der** and **scipy.optimize.rosen_hess**, respectively. \n",
    "\n",
    "In order to solve it with Nelder-Mead, we can use Scipy's **minimize** function, which is a \"wrapper\" around several different methods (some of them also for constrained optimization). Compare the documentation here: https://docs.scipy.org/doc/scipy/reference/generated/scipy.optimize.minimize.html.\n",
    "\n",
    "The default arguments to be given to **minimize** are the name of the function, an initial guess and the name of the method."
   ]
  },
  {
   "cell_type": "code",
   "execution_count": 8,
   "metadata": {
    "slideshow": {
     "slide_type": "fragment"
    }
   },
   "outputs": [
    {
     "data": {
      "text/plain": [
       " final_simplex: (array([[ 0.99998287,  0.99996782],\n",
       "       [ 1.00002868,  1.00005929],\n",
       "       [ 0.99996631,  0.99992986]]), array([  7.23522566e-10,   1.19247963e-09,   1.89213626e-09]))\n",
       "           fun: 7.2352256587046537e-10\n",
       "       message: 'Optimization terminated successfully.'\n",
       "          nfev: 94\n",
       "           nit: 49\n",
       "        status: 0\n",
       "       success: True\n",
       "             x: array([ 0.99998287,  0.99996782])"
      ]
     },
     "execution_count": 8,
     "metadata": {},
     "output_type": "execute_result"
    }
   ],
   "source": [
    "scipy.optimize.minimize(scipy.optimize.rosen, [1.5, 2], method = 'Nelder-Mead')"
   ]
  },
  {
   "cell_type": "markdown",
   "metadata": {
    "slideshow": {
     "slide_type": "slide"
    }
   },
   "source": [
    "More generally, Rosenbrock's function can be defined for $N \\ge 2$ variables:\n",
    "\n",
    "\\begin{equation}\n",
    "f(\\mathbf{x}) = \\sum_{i=1}^{N-1} 100 (x_{i+1} - x_i^2 )^2 + (1-x_i)^2 \\quad \\mbox{where} \\quad \\mathbf{x} = [x_1, \\ldots, x_N] \\in \\mathbb{R}^N\n",
    "\\end{equation}\n",
    "\n",
    "When minimizing the function, we can indicate the dimension of $\\mathbf{x}$ by the length of the array serving as the initial guess: "
   ]
  },
  {
   "cell_type": "code",
   "execution_count": 9,
   "metadata": {
    "slideshow": {
     "slide_type": "fragment"
    }
   },
   "outputs": [
    {
     "data": {
      "text/plain": [
       " final_simplex: (array([[ 1.00000342,  1.00000518,  1.00001268,  1.0000237 ,  1.00004644],\n",
       "       [ 1.00000518,  1.00001424,  1.00002928,  1.00005383,  1.00010782],\n",
       "       [ 0.99999397,  0.99999598,  0.9999898 ,  0.9999779 ,  0.99995271],\n",
       "       [ 1.00000253,  1.00001166,  1.00002235,  1.0000485 ,  1.00010125],\n",
       "       [ 1.00000527,  1.00000843,  1.00001001,  1.00001619,  1.00003999],\n",
       "       [ 1.00000403,  1.000006  ,  1.00000274,  1.00000851,  1.00001169]]), array([  1.93938932e-09,   7.79562146e-09,   8.82573360e-09,\n",
       "         1.06950989e-08,   1.28607339e-08,   1.29121498e-08]))\n",
       "           fun: 1.9393893195016722e-09\n",
       "       message: 'Optimization terminated successfully.'\n",
       "          nfev: 653\n",
       "           nit: 407\n",
       "        status: 0\n",
       "       success: True\n",
       "             x: array([ 1.00000342,  1.00000518,  1.00001268,  1.0000237 ,  1.00004644])"
      ]
     },
     "execution_count": 9,
     "metadata": {},
     "output_type": "execute_result"
    }
   ],
   "source": [
    "scipy.optimize.minimize(scipy.optimize.rosen, [1.5, 2, 2, 2, 2], method = 'Nelder-Mead')"
   ]
  },
  {
   "cell_type": "markdown",
   "metadata": {
    "slideshow": {
     "slide_type": "slide"
    }
   },
   "source": [
    "Similar to golden search in the univariate case, use the Nelder-Mead algorithm only in cases where a single optimization is performed and evaluating the function and its derivatives is costly. Nelder-Mead is slow and unreliable, in particular for problems with more than two dimensions. In those cases, we are better off with using a variant of *line search*."
   ]
  },
  {
   "cell_type": "markdown",
   "metadata": {
    "slideshow": {
     "slide_type": "skip"
    }
   },
   "source": [
    "--------------------------------------------------------------------------------------------------------------------------------\n",
    "<a id = 'overview'></a>"
   ]
  },
  {
   "cell_type": "markdown",
   "metadata": {
    "slideshow": {
     "slide_type": "slide"
    }
   },
   "source": [
    "## Overview: Line Search\n",
    "\n",
    "*Line search methods* are one of the two fundamental approaches to (unconstrained) optimization (*trust region methods* being the other), and the one which we focus on in this course. \n",
    "\n",
    "Line search is an iterative procedure, generating a sequence of iterates $\\{ x^{(k)} \\}$ that are aimed to converge towards the minimum $x^*$. When moving from one iterate to the next, two variables are essential: the *search direction*, denoted by $p^{(k)}$, i.e. the direction in which to move from $x^{(k)}$, and the *distance* $\\alpha^{(k)}$, i.e. the length of the *step* $s^{(k)}$ from $x^{(k)}$ to $x^{(k+1)}$ along $p^{(k)}$."
   ]
  },
  {
   "cell_type": "markdown",
   "metadata": {
    "slideshow": {
     "slide_type": "slide"
    }
   },
   "source": [
    "On a general level, line search algorithms take the direction $p^{(k)}$ as given and then solve the following problem:\n",
    "\n",
    "\\begin{equation}\n",
    "    \\min_{\\alpha > 0} f(x^{(k)} + \\alpha p^{(k)})\n",
    "\\end{equation}\n",
    "\n",
    "and then set \n",
    "\n",
    "\\begin{equation}\n",
    "    x^{(k+1)} = x^{(k)} + s^{(k)} = x^{(k)} + \\alpha^{(k)} p^{(k)}\n",
    "\\end{equation}\n",
    "\n",
    "Different variants of line search methods differ in their choice of the search direction $p^{(k)}$ (and some also fix $\\alpha$), as we will see below. Before, we consider a simple economic application that will serve as a workhorse example for the rest of this lecture. \n"
   ]
  },
  {
   "cell_type": "markdown",
   "metadata": {
    "slideshow": {
     "slide_type": "slide"
    }
   },
   "source": [
    "### Example: Monopoly \n",
    "\n",
    "This example is taken from Judd (1998), p. 105 f. Suppose a firm produces two products, $Y$ and $Z$. The demand for them can be derived from the household's utility function\n",
    "\n",
    "\\begin{equation}\n",
    "U(Y, Z) = u(Y, Z) + M = (Y^\\alpha + Z^\\alpha)^{\\frac{\\eta}{\\alpha}},\n",
    "\\end{equation}\n",
    "\n",
    "where $M$ denotes expenditures on other goods. Solving the household problem, we get $p_j = u_j(Y, Z)$. If the firm acts a monopolist, it takes into account how prices depend on the supply of $Y$ and $Z$. Hence, its profit maximization problem can be written as:\n",
    "\n",
    "\\begin{equation}\n",
    "    \\max_{Y, Z} \\Pi(Y, Z) = u_Y(Y, Z) Y + u_Z(Y, Z) Z - c_y Y - c_z Z,\n",
    "\\end{equation}\n",
    "\n",
    "where we assume that the marginal cost of producing $Y$ and $Z$ are constant and given by $c_Y$ and $c_Z$, respectively."
   ]
  },
  {
   "cell_type": "markdown",
   "metadata": {
    "slideshow": {
     "slide_type": "slide"
    }
   },
   "source": [
    "The following piece of code determines the parameter values and defines the cost and utility functions, including a function computing the derivatives of $u$."
   ]
  },
  {
   "cell_type": "code",
   "execution_count": 10,
   "metadata": {
    "slideshow": {
     "slide_type": "fragment"
    }
   },
   "outputs": [],
   "source": [
    "### functions and parameters\n",
    "alpha = 0.98\n",
    "eta = 0.85\n",
    "\n",
    "cy = 0.62\n",
    "cz = 0.6\n",
    "\n",
    "Cy = lambda x : cy * x\n",
    "Cz = lambda x : cz * x\n",
    "\n",
    "def u(Y, Z):\n",
    "    return (Y**alpha + Z**alpha)**(eta/alpha)\n",
    "\n",
    "def ud(Y, Z):\n",
    "    return eta * (Y**alpha + Z**alpha)**(eta/alpha - 1) * Y**(alpha - 1)"
   ]
  },
  {
   "cell_type": "markdown",
   "metadata": {
    "slideshow": {
     "slide_type": "slide"
    }
   },
   "source": [
    "One issue when using unconstrained optimization for economic problems is that many variables are bound to be nonnegative. In the example here, $Y$ and $Z$ represent quantities of goods, and hence, by definition, cannot be negative. However, the algorithms presented below may \"visit\" negative values for these decision variables. A common \"trick\" to deal with this is to restate the problem in terms of $\\ln(Y) \\equiv y$ and $\\ln(Z) \\equiv z$. In this way, while $y$ and $z$ can take any values, $Y = \\exp(y)$ and $Z = \\exp(z)$ are guaranteed to be positive.\n",
    "\n",
    "Hence, the objective function can be coded up in the following way:"
   ]
  },
  {
   "cell_type": "code",
   "execution_count": 11,
   "metadata": {
    "slideshow": {
     "slide_type": "fragment"
    }
   },
   "outputs": [],
   "source": [
    "def obj(x):\n",
    "    \"\"\"\n",
    "    Implements the objective function (here profit) for the monopoly example: Y * ud(Y, Z) + Z * ud(Z, Y) - Cy(Y) - Cz(Z)\n",
    "    \"\"\"\n",
    "    Y = np.exp(x[0])\n",
    "    Z = np.exp(x[1])\n",
    "    \n",
    "    return - (Y * ud(Y, Z) + Z * ud(Z, Y) - Cy(Y) - Cz(Z))"
   ]
  },
  {
   "cell_type": "markdown",
   "metadata": {
    "slideshow": {
     "slide_type": "slide"
    }
   },
   "source": [
    "As mentioned above, different variants of the line search method differ among each other with respect to their choice of the step size and direction, and hence with respect to how to determine $s^{(k)} = \\alpha^{(k)} p^{(k)}$. Other than this, they all follow the same (by now well-known) iterative procedure that is implemented in the function **my_opt**."
   ]
  },
  {
   "cell_type": "code",
   "execution_count": 12,
   "metadata": {
    "slideshow": {
     "slide_type": "fragment"
    }
   },
   "outputs": [],
   "source": [
    "def my_opt(x, obj, step, maxit = 100, eps = 1e-8, delta = 1e-4):\n",
    "    \"\"\"\n",
    "    Implements the iterative procedure for all of the optimization algorithms considered below. Inputs are \n",
    "    -> x: initial guess for the minimizing vector\n",
    "    -> obj: objective, defined a function of x\n",
    "    -> step: a function implementing how the step from x(k) to x(k+1) is determined\n",
    "    \"\"\"\n",
    "    dist = 1\n",
    "    it = 0\n",
    "    \n",
    "    lx = []\n",
    "    while dist > eps and it < maxit:\n",
    "        lx.append(x)\n",
    "        it += 1\n",
    "    \n",
    "        s, alpha = step(x, obj)\n",
    "    \n",
    "        dist = np.linalg.norm(s) / (1 + np.linalg.norm(x))\n",
    "        print(it, dist, alpha)\n",
    "        x = x + s\n",
    "    \n",
    "    ## check for optimality\n",
    "    gr = sm.tools.numdiff.approx_fprime(x, obj)\n",
    "    if np.linalg.norm(gr) > delta * (1 + abs(obj(x))):\n",
    "        print('Solution does not appear an optimum!')\n",
    "    \n",
    "    return x, lx           "
   ]
  },
  {
   "cell_type": "markdown",
   "metadata": {
    "slideshow": {
     "slide_type": "slide"
    }
   },
   "source": [
    "Note the following:\n",
    "\n",
    "- **my_opt** takes an \"update rule\" (a function) **step** as an argument, which returns $s^{(k)}$, as well as $\\alpha^{(k)}$. The implementation of **step** depends on the specific algorithm, as outlined below.\n",
    "\n",
    "- As with rootfinding, we use a \"twofold\" convergence test: first we determine if the sequence has converged, and then we check whether we have achieved optimality (i.e. whether $\\nabla f( x^{(k)})$ is close to zero). For the first test, we use the relative distance between the current and the updated $x$  as a stopping criterion, which can be written as\n",
    "\n",
    "\\begin{equation}\n",
    "    \\frac{ || s^{(k)} || }{1 + || x^{(k)} ||} \\le \\epsilon \n",
    "\\end{equation}\n",
    "\n",
    "As before, a good rule of thumb for the value of $\\epsilon$ is the square root of machine epsilon.  "
   ]
  },
  {
   "cell_type": "markdown",
   "metadata": {
    "slideshow": {
     "slide_type": "slide"
    }
   },
   "source": [
    "- The optimality test checks whether $\\left| \\left |\\ \\nabla f( x^{(k)}) \\right| \\right| < \\delta(1 + \\left|\\ f(x^{(k)}) \\right|$. This test is typically passed for most objective functions that we encounter and hence \"optional\". Note that above we use a numerical approximation to the gradient. In this case, $\\delta$ should not be set too low.\n",
    "\n",
    "- For illustration, we print the iteration counter, the distance and the value for $\\alpha^{(k)}$ in every iteration. We also store the values for $x^{(k)}$ in a list **lx**. "
   ]
  },
  {
   "cell_type": "markdown",
   "metadata": {
    "slideshow": {
     "slide_type": "skip"
    }
   },
   "source": [
    "--------------------------------------------------------------------------------------------------------------------------------\n",
    "<a id = 'newton'></a>"
   ]
  },
  {
   "cell_type": "markdown",
   "metadata": {
    "slideshow": {
     "slide_type": "slide"
    }
   },
   "source": [
    "## Newton-Raphson\n",
    "\n",
    "Recall that in the context of root finding in the previous lecture, Newton's method used an iteration rule based on taking a first-order Taylor approximation of the function of interest and setting it to zero. Similarly, Newton's method in the context of optimization, also called the *Newton-Raphson method*, requires a second-order Taylor approximation to $f$, which is then minimized. \n",
    "\n",
    "Recall that for a multivariate function $f: \\mathbb{R}^n\\ \\rightarrow \\mathbb{R}$, a second-order Taylor approximation of $f(\\mathbf{x})$ around $x_0$ is given by:\n",
    "\n",
    "\\begin{equation}\n",
    "    f(\\mathbf{x}) \\approx f(\\mathbf{x}_0) + \\nabla f(\\mathbf{x}_0)^{T} (\\mathbf{x} - \\mathbf{x}_0) + \\frac{1}{2} (\\mathbf{x} - \\mathbf{x}_0)^T \\nabla^2 f(\\mathbf{x}_0) (\\mathbf{x} - \\mathbf{x}_0)\n",
    "\\end{equation}\n",
    "\n",
    "Minimizing $f$ implies taking the derivative with respect to $\\mathbf{x}$ and setting it equal to zero:\n",
    "\n",
    "\\begin{equation}\n",
    "    \\nabla f(\\mathbf{x}) \\approx \\nabla f(\\mathbf{x}_0) + \\nabla^2 f(\\mathbf{x}_0) (\\mathbf{x} - \\mathbf{x}_0) = 0\n",
    "\\end{equation}"
   ]
  },
  {
   "cell_type": "markdown",
   "metadata": {
    "collapsed": true,
    "slideshow": {
     "slide_type": "slide"
    }
   },
   "source": [
    "As in the case of root finding, we can derive an iteration rule by noting that\n",
    "\n",
    "\\begin{equation}\n",
    " \\mathbf{x} = \\mathbf{x}_0 - [\\nabla^2 f(\\mathbf{x}_0)]^{-1} \\nabla f(\\mathbf{x}_0)\n",
    "\\end{equation}\n",
    "\n",
    "For notational convenience, I define $H(\\mathbf{x}_0) = \\nabla^2 f(\\mathbf{x}_0)$ for the Hessian. For the following,  we implicitly assume here that $H(\\cdot)$ is positive definite (recall the necessary conditions for a minimum above). We will get back to this later. \n",
    "\n",
    "Hence, the key idea is to use this relation iteratively, i.e. generate a sequence $\\mathbf{x}^{(1)}, \\mathbf{x}^{(2)}, ..., \\mathbf{x}^{(m)}$ where\n",
    "\n",
    "\\begin{equation}\n",
    " \\mathbf{x}^{(k+1)} = \\mathbf{x}^{(k)} - H(\\mathbf{x}^{(k)}) ^{-1}\\nabla  f(\\mathbf{x}^{(k)}) = \\mathbf{x}^{(k)} + s^{(k)}\n",
    "\\end{equation}\n",
    "\n",
    "Recall that in the context of root finding, Newton's method relies on successive linearization, i.e. generates a sequence of points, each of which is a root to a linear local approximation to the function of interest. Similarly, at each iteration Newton-Raphson replaces the function $f$ with a *quadratic* local approximation based on $\\mathbf{x}^{(k)}$ and chooses the minimum of this approximation as the next point $\\mathbf{x}^{(k+1)}$."
   ]
  },
  {
   "cell_type": "markdown",
   "metadata": {
    "slideshow": {
     "slide_type": "slide"
    }
   },
   "source": [
    "The Newton-Raphson method implements the following pseudo-code:\n",
    "\n",
    "(i) Choose an initial guess $x^{(0)}$ and tolerance levels/stopping criteria $\\epsilon$ and $\\delta$. \n",
    "\n",
    "(ii) Compute the gradient $\\nabla  f(x^{(k)})$ and the Hessian $H(x^{(k)})$ at $x^{(k)}$ (using either analytical derivatives or numerical differentiation).\n",
    "\n",
    "(iii) Solve $H(x^{(k)})s^{(k)} = - \\nabla f(x^{(k)})$, and set $ x^{(k+1)} = x^{(k)} + s^{(k)} $.\n",
    "\n",
    "(iv) Check the stopping rule: if $\\left| \\left |\\ x^{(k+1)}- x^{(k)} \\right| \\right| < \\epsilon\\left(1 + \\left| \\left |\\ x^{(k)} \\right| \\right|\\right)$, stop. If not, go back to (ii).\n",
    "\n",
    "(v) Check for optimality: if $\\left| \\left |\\ \\nabla f( x^{(k)}) \\right| \\right| < \\delta(1 + \\left|\\ f(x^{(k)}) \\right|$, report $x^{(k)}$ as the solution. Otherwise, report failure."
   ]
  },
  {
   "cell_type": "markdown",
   "metadata": {
    "slideshow": {
     "slide_type": "slide"
    }
   },
   "source": [
    "In the context of root finding, we stated that Newton's method converges *quadratically*. The same is true for the Newton-Raphson method, as long as we are sufficiently close to the solution. This is summarized in the following theorem: Suppose that $f(x)$ is thrice continuously differentiable, minimized at $x^*$ and that $H(x^*)$ is non-singular. Then there is some $\\epsilon > 0$ such that if $\\left| \\left|\\ x^{(0)} - x^* \\right| \\right| < \\epsilon$, then the sequence $\\{ x^{(k)} \\}$ converges quadratically to $x^*$."
   ]
  },
  {
   "cell_type": "markdown",
   "metadata": {
    "slideshow": {
     "slide_type": "slide"
    }
   },
   "source": [
    "Below, we use the Newton-Raphson method to solve the monopoly example outlined above. Recall that we just have to provide a rule on how the step $s^{(k)}$ from $x^{(k)}$ to  $x^{(k+1)}$ is computed. This is implemented by the function **newton**. Note that instead of computing the gradient and the Hessian of the objective function analytically, we use the numerical approximations provided by statsmodels' **tools.numdiff** package, as shown in the previous lecture. "
   ]
  },
  {
   "cell_type": "code",
   "execution_count": 13,
   "metadata": {
    "slideshow": {
     "slide_type": "fragment"
    }
   },
   "outputs": [],
   "source": [
    "def newton(x, obj):\n",
    "    \"\"\"\n",
    "    Implements the Newton-Raphson update rule, using numerical differentiation\n",
    "    \"\"\"\n",
    "    gr = sm.tools.numdiff.approx_fprime(x, obj)\n",
    "    H = sm.tools.numdiff.approx_hess3(x, obj)\n",
    "    \n",
    "    return ( scipy.linalg.solve(H, -gr), 1 )"
   ]
  },
  {
   "cell_type": "markdown",
   "metadata": {
    "slideshow": {
     "slide_type": "slide"
    }
   },
   "source": [
    "Solving for the monopoly allocation then requires calling the function **my_opt** defined above, providing a starting value for $x$, the objective function and the function **newton** as the update rule."
   ]
  },
  {
   "cell_type": "code",
   "execution_count": 14,
   "metadata": {
    "slideshow": {
     "slide_type": "fragment"
    }
   },
   "outputs": [
    {
     "name": "stdout",
     "output_type": "stream",
     "text": [
      "1 0.235533360122 1\n",
      "2 0.223777180408 1\n",
      "3 0.177100606851 1\n",
      "4 0.174697873963 1\n",
      "5 0.099282939784 1\n",
      "6 0.0317292921423 1\n",
      "7 0.00309802766798 1\n",
      "8 3.02837502187e-05 1\n",
      "9 0.0 1\n",
      "Equilibrium quantities: [ 0.56975348  2.93569797]\n"
     ]
    }
   ],
   "source": [
    "x0 = np.array([1.5, 2])\n",
    "x, lx = my_opt(x0, obj, newton)\n",
    "## print equilibrium -> recall that the model is solved for log quantities!\n",
    "print(\"Equilibrium quantities: {}\".format(np.exp(x)))"
   ]
  },
  {
   "cell_type": "code",
   "execution_count": 15,
   "metadata": {
    "slideshow": {
     "slide_type": "fragment"
    }
   },
   "outputs": [
    {
     "name": "stdout",
     "output_type": "stream",
     "text": [
      "1 0.235533360122 1\n",
      "2 0.223777180408 1\n",
      "3 0.177100606851 1\n",
      "4 0.174697873963 1\n",
      "5 0.099282939784 1\n",
      "6 0.0317292921423 1\n",
      "7 0.00309802766798 1\n",
      "8 3.02837502187e-05 1\n",
      "9 0.0 1\n",
      "1 loop, best of 1: 24 ms per loop\n"
     ]
    }
   ],
   "source": [
    "%%timeit -n1 -r1\n",
    "my_opt(x0, obj, newton)"
   ]
  },
  {
   "cell_type": "markdown",
   "metadata": {
    "slideshow": {
     "slide_type": "slide"
    }
   },
   "source": [
    "To illustrate quadratic convergence, compare the distance from $x^{(k)}$ to $x^*$:"
   ]
  },
  {
   "cell_type": "code",
   "execution_count": 16,
   "metadata": {
    "slideshow": {
     "slide_type": "fragment"
    }
   },
   "outputs": [
    {
     "name": "stdout",
     "output_type": "stream",
     "text": [
      "[[ -2.06255150e+00  -9.23054767e-01]\n",
      " [ -1.45497919e+00  -3.65886535e-01]\n",
      " [ -9.77389529e-01   2.92808168e-03]\n",
      " [ -6.13433526e-01   1.15626512e-01]\n",
      " [ -2.78783937e-01   4.09823822e-02]\n",
      " [ -7.53160637e-02   9.26494234e-03]\n",
      " [ -6.87348081e-03   7.77553897e-04]\n",
      " [ -6.66382154e-05   7.66846341e-06]\n",
      " [  0.00000000e+00   0.00000000e+00]]\n"
     ]
    }
   ],
   "source": [
    "print(x - lx)"
   ]
  },
  {
   "cell_type": "markdown",
   "metadata": {
    "slideshow": {
     "slide_type": "slide"
    }
   },
   "source": [
    "We also apply our **newton** function to Rosenbrock's function described above. Recall that for $N = 5$, the Nelder-Mead simplex algorithm required about 400 iterations to get to a solution. We see that Newton-Raphson is consideraby faster:"
   ]
  },
  {
   "cell_type": "code",
   "execution_count": 17,
   "metadata": {
    "slideshow": {
     "slide_type": "fragment"
    }
   },
   "outputs": [
    {
     "name": "stdout",
     "output_type": "stream",
     "text": [
      "1 0.482154559456 1\n",
      "2 0.352957781849 1\n",
      "3 0.0167370383758 1\n",
      "4 0.864255670733 1\n",
      "5 0.596342662577 1\n",
      "6 0.0937877305753 1\n",
      "7 0.0121842608745 1\n",
      "8 0.040021567081 1\n",
      "9 0.00122491248685 1\n",
      "10 0.000949594708877 1\n",
      "11 5.41022869788e-07 1\n",
      "12 2.53024373024e-10 1\n",
      "Solution: [ 0.9999992   0.99999841  0.99999684  0.99999368  0.99998736]\n"
     ]
    }
   ],
   "source": [
    "x0 = np.array([1.5, 2, 2, 2, 2])\n",
    "x, lx = my_opt(x0, scipy.optimize.rosen, newton)\n",
    "print(\"Solution: {}\".format(x))"
   ]
  },
  {
   "cell_type": "markdown",
   "metadata": {
    "slideshow": {
     "slide_type": "slide"
    }
   },
   "source": [
    "Since Scipy has functions containing the (analytical) gradient and Hessian of the Rosenbrock function, we can use them to compare how well the numerical approximations to gradient and Hessian in our **newton** function perform. We do not see any qualitative difference."
   ]
  },
  {
   "cell_type": "code",
   "execution_count": 18,
   "metadata": {
    "slideshow": {
     "slide_type": "fragment"
    }
   },
   "outputs": [],
   "source": [
    "def newton_rb(x, obj):\n",
    "    \"\"\"\n",
    "    Implements the Newton-Raphson update rule for the Rosenbrock function\n",
    "    \"\"\"\n",
    "    gr = scipy.optimize.rosen_der(x)\n",
    "    H = scipy.optimize.rosen_hess(x)\n",
    "    \n",
    "    return ( scipy.linalg.solve(H, -gr), 1)"
   ]
  },
  {
   "cell_type": "code",
   "execution_count": 19,
   "metadata": {
    "slideshow": {
     "slide_type": "fragment"
    }
   },
   "outputs": [
    {
     "name": "stdout",
     "output_type": "stream",
     "text": [
      "1 0.48215462559 1\n",
      "2 0.352960528456 1\n",
      "3 0.0167383344887 1\n",
      "4 0.864266242079 1\n",
      "5 0.596357070951 1\n",
      "6 0.0937739113016 1\n",
      "7 0.0121883518258 1\n",
      "8 0.0400168897352 1\n",
      "9 0.00122585772846 1\n",
      "10 0.000949848347998 1\n",
      "11 5.4650938099e-07 1\n",
      "12 2.6124211875e-10 1\n",
      "Solution: [ 1.  1.  1.  1.  1.]\n"
     ]
    }
   ],
   "source": [
    "x, lx = my_opt(x0, scipy.optimize.rosen, newton_rb)\n",
    "print(\"Solution: {}\".format(x))"
   ]
  },
  {
   "cell_type": "markdown",
   "metadata": {
    "slideshow": {
     "slide_type": "slide"
    }
   },
   "source": [
    "#### Newton-Raphson with Line Search\n",
    "\n",
    "Note that the Newton-Raphson algorithm is a special case of line search methods, where the step size $\\alpha$ is fixed at 1, and the search direction is given by \n",
    "\n",
    "\\begin{equation}\n",
    "  p^{(k)} = s^{(k)} = - H(x^{(k)}) ^{-1}\\nabla  f(x^{(k)})\n",
    "\\end{equation}\n",
    "\n",
    "A variant of the Newton-Raphson method adjusts $\\alpha$ (Newton-Raphson with line search). Recall from above that the idea of line search methods was to find $\\alpha^*$ that minimizes the function value for a given search direction $p^{(k)}$:\n",
    "\n",
    "\\begin{equation}\n",
    "    \\min_{\\alpha > 0} \\phi(\\alpha) = f(x^{(k)} + \\alpha p^{(k)})\n",
    "\\end{equation}\n",
    "\n",
    "and then set \n",
    "\n",
    "\\begin{equation}\n",
    "    x^{(k+1)} = x^{(k)} + s^{(k)} = x^{(k)} + \\alpha^* p^{(k)}\n",
    "\\end{equation}\n",
    "\n",
    "This is a minimization problem in one dimension: $\\phi$ is a univariate function in $\\alpha$. Hence, we could use an algorithm to minimize a univariate function, e.g. golden search. The following piece of code modifies the **newton** function above: after computing the search direction $p^{(k)}$, it uses golden search to minimize $\\phi$; it then returns the step as $\\alpha^* p^{(k)}$."
   ]
  },
  {
   "cell_type": "markdown",
   "metadata": {
    "slideshow": {
     "slide_type": "slide"
    }
   },
   "source": [
    "The following piece of code adds golden search to the implementation of the Newton-Raphson update rule used above."
   ]
  },
  {
   "cell_type": "code",
   "execution_count": 20,
   "metadata": {
    "slideshow": {
     "slide_type": "fragment"
    }
   },
   "outputs": [],
   "source": [
    "def newton_gs(x, obj):\n",
    "    \"\"\"\n",
    "    Implements the Newton-Raphson update rule with golden search\n",
    "    \"\"\"\n",
    "    ## determine p\n",
    "    gr = sm.tools.numdiff.approx_fprime(x, obj)\n",
    "    H = sm.tools.numdiff.approx_hess3(x, obj)\n",
    "    \n",
    "    p = scipy.linalg.solve(H, -gr)\n",
    "    \n",
    "    ## determine alpha\n",
    "    #bracket = (0.5, 1, 3)\n",
    "    phi = lambda alpha : obj(x + alpha * p)\n",
    "    alpha = scipy.optimize.golden(phi)\n",
    "\n",
    "    return ( alpha * p, alpha ) "
   ]
  },
  {
   "cell_type": "code",
   "execution_count": 21,
   "metadata": {
    "slideshow": {
     "slide_type": "slide"
    }
   },
   "outputs": [
    {
     "name": "stdout",
     "output_type": "stream",
     "text": [
      "1 0.507833070401 2.15609827049\n",
      "2 0.261536197448 0.7909094183811063\n",
      "3 0.146731838263 1.3739201270685646\n",
      "4 0.022789504921 0.9658500533512775\n",
      "5 0.000383203091107 0.9897710984411763\n",
      "6 6.3228005021e-07 0.8835344277523718\n",
      "7 1.96186058696e-06 -0.7001394230093124\n",
      "8 1.41737395914e-08 -0.03444185353721777\n",
      "9 2.53142398248e-17 4.86592324376771e-12\n",
      "Equilibrium quantities: [ 0.5697563   2.93569584]\n"
     ]
    }
   ],
   "source": [
    "x0 = np.array([1.5, 2])\n",
    "x, lx = my_opt(x0, obj, newton_gs)\n",
    "print(\"Equilibrium quantities: {}\".format(np.exp(x)))"
   ]
  },
  {
   "cell_type": "code",
   "execution_count": 22,
   "metadata": {
    "slideshow": {
     "slide_type": "fragment"
    }
   },
   "outputs": [
    {
     "name": "stdout",
     "output_type": "stream",
     "text": [
      "1 0.507833070401 2.15609827049\n",
      "2 0.261536197448 0.7909094183811063\n",
      "3 0.146731838263 1.3739201270685646\n",
      "4 0.022789504921 0.9658500533512775\n",
      "5 0.000383203091107 0.9897710984411763\n",
      "6 6.3228005021e-07 0.8835344277523718\n",
      "7 1.96186058696e-06 -0.7001394230093124\n",
      "8 1.41737395914e-08 -0.03444185353721777\n",
      "9 2.53142398248e-17 4.86592324376771e-12\n",
      "1 loop, best of 1: 48.7 ms per loop\n"
     ]
    }
   ],
   "source": [
    "%%timeit -n1 -r1\n",
    "my_opt(x0, obj, newton_gs)"
   ]
  },
  {
   "cell_type": "markdown",
   "metadata": {
    "slideshow": {
     "slide_type": "slide"
    }
   },
   "source": [
    "As we can see, this takes the same number of iterations as the original Newton-Raphson method. One issue with adjusting $\\alpha$ is that convergence can be slower: recall that Newton-Raphson guaranteed quadratic convergence once $x^{(k)}$ is sufficiently close the solution $x^*$. This is not true for Newton-Raphson with line search. One way around is to use line search initially, but then go to Newton-Raphson once $\\alpha^{(k)}$ is close to unity. "
   ]
  },
  {
   "cell_type": "markdown",
   "metadata": {
    "slideshow": {
     "slide_type": "slide"
    }
   },
   "source": [
    "Below, we modify **my_opt** in order to allow it to use two different update rules **step1** and **step2**, which are Newton-Raphson with and without line search, respectively. It switches once **alpha** is in the interval $(0.95, 1.05)$. "
   ]
  },
  {
   "cell_type": "code",
   "execution_count": 23,
   "metadata": {
    "slideshow": {
     "slide_type": "fragment"
    }
   },
   "outputs": [],
   "source": [
    "def my_opt_ls(x, obj, step1, step2, kappa = 0.05, maxit = 100,  eps = 1e-8, delta = 1e-4):\n",
    "    \"\"\"\n",
    "    Implements the iterative procedure for an optimization algorithm with line search considered below . Inputs are \n",
    "    -> x: initial guess for the minimizing vector\n",
    "    -> obj: objective, defined a function of x\n",
    "    -> step: a function implementing how the step from x(k) to x(k+1) is determined\n",
    "    \"\"\"\n",
    "    dist = 1\n",
    "    it = 0\n",
    "    \n",
    "    close = False\n",
    "    while dist > eps and it < maxit:\n",
    "        it += 1\n",
    "        \n",
    "        if not close:\n",
    "            s, alpha = step1(x, obj)\n",
    "            if abs(alpha - 1) < kappa:\n",
    "                close = True\n",
    "        else:\n",
    "            s, alpha = step2(x, obj)\n",
    "    \n",
    "        dist = np.linalg.norm(s) / (1 + np.linalg.norm(x))\n",
    "        print(it, dist, alpha)\n",
    "        x = x + s\n",
    "    \n",
    "    ## check for optimality\n",
    "    gr = sm.tools.numdiff.approx_fprime(x, obj)\n",
    "    if np.linalg.norm(gr) > delta * (1 + abs(obj(x))):\n",
    "        print('Solution does not appear an optimum!')\n",
    "    \n",
    "    return x           "
   ]
  },
  {
   "cell_type": "code",
   "execution_count": 24,
   "metadata": {
    "slideshow": {
     "slide_type": "slide"
    }
   },
   "outputs": [
    {
     "name": "stdout",
     "output_type": "stream",
     "text": [
      "1 0.507833070401 2.15609827049\n",
      "2 0.261536197448 0.7909094183811063\n",
      "3 0.146731838263 1.3739201270685646\n",
      "4 0.022789504921 0.9658500533512775\n",
      "5 0.000387163346869 1\n",
      "6 0.0 1\n",
      "Equilibrium quantities: [ 0.56974868  2.93570232]\n"
     ]
    }
   ],
   "source": [
    "x0 = np.array([1.5, 2])\n",
    "x = my_opt_ls(x0, obj, newton_gs, newton)\n",
    "print(\"Equilibrium quantities: {}\".format(np.exp(x)))"
   ]
  },
  {
   "cell_type": "markdown",
   "metadata": {
    "slideshow": {
     "slide_type": "slide"
    }
   },
   "source": [
    "As we can see, combining the two methods reduces the number of iterations. However, it should be noted that this not always the case; compare for example Rosenbrock's function."
   ]
  },
  {
   "cell_type": "code",
   "execution_count": 25,
   "metadata": {
    "slideshow": {
     "slide_type": "fragment"
    }
   },
   "outputs": [
    {
     "name": "stdout",
     "output_type": "stream",
     "text": [
      "1 0.590955063043 1.2256548267631269\n",
      "2 0.0965472071173 1.1175674258660662\n",
      "3 0.0638446981937 1\n",
      "4 0.243925234326 1\n",
      "5 0.00965366478584 1\n",
      "6 0.413571095015 1\n",
      "7 0.100286917997 1\n",
      "8 0.0379894756744 1\n",
      "9 0.00083059409854 1\n",
      "10 0.000624883090381 1\n",
      "11 1.71488379384e-07 1\n",
      "12 3.55501710858e-11 1\n",
      "Solution: [ 0.9999992   0.99999841  0.99999684  0.99999368  0.99998736]\n"
     ]
    }
   ],
   "source": [
    "x0 = np.array([1.5, 2, 2, 2, 2])\n",
    "x = my_opt_ls(x0, scipy.optimize.rosen, newton_gs, newton, kappa = 0.15)\n",
    "print(\"Solution: {}\".format(x))"
   ]
  },
  {
   "cell_type": "markdown",
   "metadata": {
    "slideshow": {
     "slide_type": "slide"
    }
   },
   "source": [
    "Importantly, many algorithms used in practice use some variant of line search; however, this is usually not done with an algorithm like golden search, which is computationally costly and slow. Instead, there are other methods to find the optimal $\\alpha$, e.g. Armijo search with backtracking (cp. M&F p. 70). In the interest of time, we will not go into further detail at this point. The important takeaway here is the general idea of line search method rather than their precise implementation. "
   ]
  },
  {
   "cell_type": "markdown",
   "metadata": {
    "slideshow": {
     "slide_type": "skip"
    }
   },
   "source": [
    "--------------------------------------------------------------------------------------------------------------------------------\n",
    "<a id = 'gradient'></a>"
   ]
  },
  {
   "cell_type": "markdown",
   "metadata": {
    "slideshow": {
     "slide_type": "slide"
    }
   },
   "source": [
    "## Quasi-Newton Methods: Gradient Descent\n",
    "\n",
    "*Gradient descent* or *steepest descent* is another variant of a line search method. It is simpler than Newton-Raphson, as it takes only the gradient as the search direction:\n",
    "\n",
    "\\begin{equation}\n",
    "  p^{(k)} = - \\nabla  f(x^{(k)})\n",
    "\\end{equation}\n",
    "\n",
    "and then looks for the optimal $\\alpha^{(k)}$, for example by using Armijo search and backtracking. \n",
    "\n",
    "In some sense, gradient descent is a *Quasi-Newton method*, where the Hessian in the update rule is approximated by the identity matrix. "
   ]
  },
  {
   "cell_type": "markdown",
   "metadata": {
    "slideshow": {
     "slide_type": "slide"
    }
   },
   "source": [
    "A simple version with a fixed $\\alpha$ is implemented by the **steep** function below:"
   ]
  },
  {
   "cell_type": "code",
   "execution_count": 26,
   "metadata": {
    "slideshow": {
     "slide_type": "fragment"
    }
   },
   "outputs": [],
   "source": [
    "def steep(x, obj):\n",
    "    \n",
    "    gr = sm.tools.numdiff.approx_fprime(x, obj)\n",
    "    p = -gr\n",
    "    \n",
    "    alpha = 1\n",
    "    \n",
    "    return (alpha * p , alpha)"
   ]
  },
  {
   "cell_type": "code",
   "execution_count": 27,
   "metadata": {
    "slideshow": {
     "slide_type": "slide"
    }
   },
   "outputs": [
    {
     "name": "stdout",
     "output_type": "stream",
     "text": [
      "1 0.251535120899 1\n",
      "2 0.0914732915571 1\n",
      "3 0.0625206709581 1\n",
      "4 0.0465249487904 1\n",
      "5 0.036194249394 1\n",
      "6 0.0289996763991 1\n",
      "7 0.023773750364 1\n",
      "8 0.0198841092675 1\n",
      "9 0.0169484814557 1\n",
      "10 0.0147161438341 1\n",
      "Solution does not appear an optimum!\n",
      "Equilibrium quantities: [ 1.4620173   2.25979331]\n"
     ]
    }
   ],
   "source": [
    "x0 = np.array([1.5, 2])\n",
    "x, lx = my_opt(x0, obj, steep, maxit = 10)\n",
    "print(\"Equilibrium quantities: {}\".format(np.exp(x)))"
   ]
  },
  {
   "cell_type": "markdown",
   "metadata": {
    "slideshow": {
     "slide_type": "slide"
    }
   },
   "source": [
    "Gradient descent is very intuitive: in order to minimize, we move in the direction of a local minimum. The main problem of gradient descent is that convergence is very slow, in particular for more complex functions. The example above shows that we are still far away from the equilibrium in our monopoly example after 15 iterations - with Newton-Raphson, we had found the optimum after less than 10 iterations.\n",
    "\n",
    "The Rosenbrock function is another good example: even when using an optimal $\\alpha$ in every iteration, it can take thousands of iterations to get to the minimum. While gradient descent gets down to the Rosenbrock valley very quickly, it then makes very slow progress towards to the minimum (compare http://www.benfrederickson.com/numerical-optimization/ for a visualization)."
   ]
  },
  {
   "cell_type": "markdown",
   "metadata": {
    "slideshow": {
     "slide_type": "slide"
    }
   },
   "source": [
    "In this course, given that our objective functions typically display a high degree of non-linearity, we will not use gradient descent. However, gradient descent is popular in applications where the objective is more regular (say, quadratic) and hence the gradient is linear. The obvious example is regression analysis, where gradient descent can be used as an alternative to the standard OLS approach. Related to that, gradient descent is very important and heavily used in the context of machine learning, where you usually have a very large number of observations and explanatory variables/features. "
   ]
  },
  {
   "cell_type": "markdown",
   "metadata": {
    "slideshow": {
     "slide_type": "skip"
    }
   },
   "source": [
    "--------------------------------------------------------------------------------------------------------------------------------\n",
    "<a id = 'quasi'></a>"
   ]
  },
  {
   "cell_type": "markdown",
   "metadata": {
    "slideshow": {
     "slide_type": "slide"
    }
   },
   "source": [
    "## Quasi-Newton Methods: BGFS\n",
    "\n",
    "Using the Newton-Raphson method requires computing the gradient and the Hessian of the function $f$ in every iteration in order to pin down the search direction. While we can save on the \"developmental effort\" of deriving those analytically and coding them up by using numerical approximations, obtaining the Hessian requires computing and storing $n^2$ elements either way. As the Jacobian in the context of root finding, there are computationally less costly ways to approximate the Hessian when performing numerical optimization.\n",
    "\n",
    "Moreover, using an approximate Hessian fixes another issue mentioned above: when using the Newton-Raphson method, there is no guarantee that the successive Hessians are positive definite; hence it could generate sequences along which $f$ is *increasing*. Quasi-Newton methods require that an approximate to the Hessian is positive semidefinite. \n",
    "\n",
    "Here, we focus on the *BFGS (Broyden-Fletcher-Goldfarb-Shano) method*, which is considered one of the most effective Quasi-Newton updating rules. Similar to Broyden's method in the context of root finding, it has a superlinear rate of convergence, and hence converges slower than Newton-Raphson. However, it is often faster than Newton-Raphson, since it does not need to evaluate the Hessian."
   ]
  },
  {
   "cell_type": "markdown",
   "metadata": {
    "slideshow": {
     "slide_type": "slide"
    }
   },
   "source": [
    "We saw above that the Newton-Raphson method has the following iteration rule:\n",
    "\n",
    "\\begin{equation}\n",
    " x^{(k+1)} = x^{(k)} - H(x^{(k)})^{-1}\\nabla  f(x^{(k)}) = x^{(k)} + s^{(k)}\n",
    "\\end{equation}\n",
    "\n",
    "Recall in the context of root finding, Broyden's method approximates the Jacobian with a matrix $A^{(k+1)}$ that is required to satisfy the secant condition:\n",
    "\n",
    "\\begin{equation}\n",
    " A^{(k+1)} p^{(k)} = f(x^{(k+1)}) - f(x^{(k)}).\n",
    "\\end{equation}\n",
    "\n",
    "Similarly, in numerical optimization, Quasi-Newton methods approximate the Hessian with a matrix $\\tilde{B}^{(k+1)}$ that satisfies the *Quasi-Newton condition*:\n",
    "\n",
    "\\begin{equation}\n",
    "    \\tilde{B}^{(k+1)} s^{(k)} = \\nabla f(x^{(k+1)}) - \\nabla f(x^{(k)})\n",
    "\\end{equation}\n",
    "\n",
    "Since the Newton-Raphson iteration rule uses the *inverse* of the Hessian, the BFGS method approximates $H^{-1}$ rather than $H$, with matrix $B^{(k+1)}$ that satisfies\n",
    "\n",
    "\\begin{equation}\n",
    "     s^{(k)} = B^{(k+1)} \\left[\\ \\nabla f(x^{(k+1)}) - \\nabla f(x^{(k)}) \\right]\n",
    "\\end{equation}"
   ]
  },
  {
   "cell_type": "markdown",
   "metadata": {
    "slideshow": {
     "slide_type": "slide"
    }
   },
   "source": [
    "As in the case of root finding, this condition by itself does not determine a unique $B^{(k+1)}$. Instead, the BFGS method chooses a matrix that solves the following problem:\n",
    "\n",
    "\\begin{equation}\n",
    " B^{(k+1)} \\in \\arg \\min_{B :\\ B \\left[\\ \\nabla f(x^{(k+1)}) - \\nabla f(x^{(k)}) \\right] = s^{(k)}} || B - B^{(k)} ||\n",
    "\\end{equation}\n",
    "\n",
    "subject to $B = B^T$. In other words, the BFGS update rule chooses a matrix $B^{(k+1)}$ that minimizes the distance to $B^{(k)}$ among all *symmetric* matrices that satisfy the Quasi-Newton condition. Note that this minimization problem does not explicitly require the updated Hessian approximation to be positive definite. However, it can be shown that $B^{(k+1)}$ is positive definite whenever $B^{(k)}$ is positive definite. \n",
    "\n",
    "The solution to this problem is given by the BFGS update rule used in the following."
   ]
  },
  {
   "cell_type": "markdown",
   "metadata": {
    "slideshow": {
     "slide_type": "slide"
    }
   },
   "source": [
    "The BFGS method implements the following pseudo-code:\n",
    "\n",
    "(i) Choose an initial guess $x^{(0)}$, an initial guess for the approximate Hessian $B^{(0)}$, and tolerance levels/stopping criteria $\\epsilon$ and $\\delta$. \n",
    "\n",
    "(ii) Compute the search direction as $p^{(k)} = - B^{(k)} \\nabla  f(x^{(k)})$.\n",
    "\n",
    "(iii) Solve $ \\alpha^{(k)} = \\arg \\min_{\\alpha} f(x^{(k)} + \\alpha p^{(k)}) $.\n",
    "\n",
    "(iv) Set $ x^{(k+1)} = x^{(k)} + \\alpha^{(k)} p^{(k)}$.\n",
    "\n",
    "(v) Update $B^{(k)}$: with  $s^{(k)} = x^{(k+ 1)} - x^{(k)}$ and $y^{(k)} = \\nabla f(x^{(k+ 1)}) - \\nabla f(x^{(k)})$,\n",
    "\n",
    "\n",
    "\\begin{equation}\n",
    " B^{(k+1)} = \\left(I - \\frac{ s^{(k)} ( y^{(k)} )^T  }{ (y^{(k)} )^T  s^{(k)} } \\right) B^{(k)} \\left(I - \\frac{ y^{(k)} ( s^{(k)} )^T  }{ (y^{(k)} )^T  s^{(k)} } \\right)+  \\frac{ s^{(k)} ( s^{(k)} )^T  }{ ( y^{(k)} )^T  s^{(k)} }\n",
    "\\end{equation}\n",
    "\n",
    "\n",
    "(vi) Check the stopping rule: if $\\left| \\left |\\ x^{(k+1)}- x^{(k)} \\right| \\right| < \\epsilon\\left(1 + \\left| \\left |\\ x^{(k)} \\right| \\right|\\right)$, stop. If not, go back to (ii).\n",
    "\n",
    "(vii) Check for optimality: if $\\left| \\left |\\ \\nabla f( x^{(k)}) \\right| \\right| < \\delta(1 + \\left|\\ f(x^{(k)}) \\right|$, report $x^{(k)}$ as the solution. Otherwise, report failure.\n"
   ]
  },
  {
   "cell_type": "markdown",
   "metadata": {
    "slideshow": {
     "slide_type": "slide"
    }
   },
   "source": [
    "Note that for the initial approximation $B^{(0)}$, it is common to either approximate the Hessian using finite differences (e.g. via **sm.tools.numdiff.approx_hess3** in Scipy) or simply use the identity matrix. In this case, the initial guess for the Hessian is the same as the constant guess in gradient descent. "
   ]
  },
  {
   "cell_type": "markdown",
   "metadata": {
    "slideshow": {
     "slide_type": "slide"
    }
   },
   "source": [
    "In Scipy, BFGS can be called using the **minimize** wrapper function seen above, with **'BFGS'** as the method argument. As before, we need to provide the objective function as well as an initial guess **x0**. \n"
   ]
  },
  {
   "cell_type": "code",
   "execution_count": 28,
   "metadata": {
    "slideshow": {
     "slide_type": "fragment"
    }
   },
   "outputs": [
    {
     "name": "stdout",
     "output_type": "stream",
     "text": [
      "      fun: -0.3731764299865199\n",
      " hess_inv: array([[ 105.38207513,  -18.63413558],\n",
      "       [ -18.63413558,    7.66430881]])\n",
      "      jac: array([ -6.85453415e-07,  -8.19563866e-07])\n",
      "  message: 'Optimization terminated successfully.'\n",
      "     nfev: 72\n",
      "      nit: 17\n",
      "     njev: 18\n",
      "   status: 0\n",
      "  success: True\n",
      "        x: array([-0.56261299,  1.07695231])\n",
      "Equilibrium quantities: [ 0.56971845  2.93571873]\n"
     ]
    }
   ],
   "source": [
    "x0 = np.array([1.5, 2])\n",
    "res = scipy.optimize.minimize(obj, x0, method = 'BFGS')\n",
    "print(res)\n",
    "print(\"Equilibrium quantities: {}\".format( np.exp(res.x) ))"
   ]
  },
  {
   "cell_type": "markdown",
   "metadata": {
    "slideshow": {
     "slide_type": "slide"
    }
   },
   "source": [
    "Using **minimize** with BFGS also gives access to some additional settings in the dictionary **options**, given to the function as an argument. The general usage of **scipy.optimize.minimize** with BFGS looks like the following:\n",
    "\n",
    "**scipy.optimize.minimize(fun, x0, args=(), method='BFGS', jac=None, tol=None, options={'disp': False, 'gtol': 1e-05, 'eps': 1.4901161193847656e-08, 'maxiter': None, 'norm': inf})**\n",
    "\n",
    "If we set **disp** to **True**, we have a nicer print out compared to above. **gtol** allows us to specify the stopping criteria."
   ]
  },
  {
   "cell_type": "code",
   "execution_count": 29,
   "metadata": {
    "slideshow": {
     "slide_type": "fragment"
    }
   },
   "outputs": [
    {
     "name": "stdout",
     "output_type": "stream",
     "text": [
      "Optimization terminated successfully.\n",
      "         Current function value: -0.373176\n",
      "         Iterations: 17\n",
      "         Function evaluations: 72\n",
      "         Gradient evaluations: 18\n",
      "Equilibrium quantities: [ 0.56971845  2.93571873]\n"
     ]
    }
   ],
   "source": [
    "x0 = np.array([1.5, 2])\n",
    "res = scipy.optimize.minimize(obj, x0, method = 'BFGS', options={'gtol': 1e-6, 'disp': True})\n",
    "print(\"Equilibrium quantities: {}\".format( np.exp(res.x) ))"
   ]
  },
  {
   "cell_type": "markdown",
   "metadata": {
    "slideshow": {
     "slide_type": "slide"
    }
   },
   "source": [
    "Recall that while BFGS approximates the Hessian, it is assumed to use the precise gradient of the objective function $f$. Above, we did not provide the gradient; hence, the Scipy implementation of BFGS approximates the gradient via numerical differentiation, using **eps** above for the step size. With the optional argument **jac**, we can also give the algorithm a function that returns the analytical gradient. Consider Rosenbrock's function, where Scipy provides a function for the gradient:"
   ]
  },
  {
   "cell_type": "code",
   "execution_count": 30,
   "metadata": {
    "slideshow": {
     "slide_type": "fragment"
    }
   },
   "outputs": [
    {
     "name": "stdout",
     "output_type": "stream",
     "text": [
      "Optimization terminated successfully.\n",
      "         Current function value: 0.000000\n",
      "         Iterations: 26\n",
      "         Function evaluations: 31\n",
      "         Gradient evaluations: 31\n",
      "Solution: [ 1.  1.  1.  1.  1.]\n"
     ]
    }
   ],
   "source": [
    "x0 = [1.3, 0.7, 0.8, 1.9, 1.2]\n",
    "res = scipy.optimize.minimize(scipy.optimize.rosen, x0, method = 'BFGS', jac = scipy.optimize.rosen_der, options={'gtol': 1e-6, 'disp': True})\n",
    "print(\"Solution: {}\".format(res.x))"
   ]
  },
  {
   "cell_type": "markdown",
   "metadata": {
    "slideshow": {
     "slide_type": "skip"
    }
   },
   "source": [
    "--------------------------------------------------------------------------------------------------------------------------------\n",
    "<a id = 'NGM'></a>"
   ]
  },
  {
   "cell_type": "markdown",
   "metadata": {
    "slideshow": {
     "slide_type": "slide"
    }
   },
   "source": [
    "## Example: Solving the Neoclassical Growth Model \n",
    "\n",
    "As an application of unconstrained optimization over many variables, let's go back the neoclassical growth model. As a reminder, here a concise description of the model: \n",
    "\n",
    "- Utility function:\n",
    "\n",
    "\\begin{equation}\n",
    "    u(c, h) = \\frac{c^{1-\\nu}}{1-\\nu} - B \\frac{h^{1+\\eta}}{1+\\eta}\n",
    "\\end{equation}\n",
    "\n",
    "with $c$ denoting consumption and $h$ labor supply.\n",
    "\n",
    "- Production function:\n",
    "\n",
    "\\begin{equation}\n",
    "    f(k, h) = A k^\\alpha h^{1-\\alpha}\n",
    "\\end{equation}\n",
    "with $k$ denoting the capital stock, and $A$ the productivity level.\n",
    "\n",
    "- Resource Constraint:\n",
    "\n",
    "\\begin{equation}\n",
    "    k_{t+1} + c_t = f(k_t, h_t) + (1 - \\delta) k_t = A k_t^\\alpha h_t^{1-\\alpha} + (1 - \\delta) k_t\n",
    "\\end{equation}\n",
    "\n",
    "- Planner's Problem:\n",
    "\n",
    "\\begin{equation}\n",
    "    \\max_{\\left\\{c_t, k_{t+1}, h_t\\right\\}} \\sum^\\infty_{t = 0} \\beta^t u(c_t, h_t) \n",
    "\\end{equation}\n",
    "s.t. the resource constraint.\n"
   ]
  },
  {
   "cell_type": "markdown",
   "metadata": {
    "slideshow": {
     "slide_type": "slide"
    }
   },
   "source": [
    "One obvious issue when trying to solve this model using finite-dimensional optimization is that the version of the model above has an infinite time horizon, and hence infinitely many variables (two per period). There are usually two workarounds: either you solve the model with a finite time horizon $T$ - that is, the economy ends after $T$ periods - but make $T$ large. In this case, we would hope that the economy reaches its steady long before $T$ and hence we can disregard the last few periods. Alternatively, we can include a \"continuation value\", i.e. impose some conditions on what happens after period $T$. \n",
    "\n",
    "In any case, in the simple deterministic NGM with time horizon $T$, we have $2T$ choice variables: in each period, the solution needs to specify a $k_{t+1}$ and a $h_t$.  \n"
   ]
  },
  {
   "cell_type": "markdown",
   "metadata": {
    "slideshow": {
     "slide_type": "slide"
    }
   },
   "source": [
    "#### Parameters"
   ]
  },
  {
   "cell_type": "code",
   "execution_count": 31,
   "metadata": {
    "slideshow": {
     "slide_type": "fragment"
    }
   },
   "outputs": [],
   "source": [
    "## utility\n",
    "beta = 0.8      # discount factor\n",
    "nu = 2       # risk-aversion coefficient for consumption\n",
    "eta = 1         # elasticity parameter for labor supply\n",
    "eps = 1e-6      # lower bound of consumption and labor supply\n",
    "## production\n",
    "alpha = 0.25\n",
    "delta = 0.1\n",
    "## derived\n",
    "A = (1 - beta * (1 - delta))/(alpha*beta) # normalization parameter for production function => steady state k = 1\n",
    "B = (1 - alpha) * A * (A - delta)**nu      # parameter for utility function\n",
    "## initial capital stock\n",
    "k0 = 0.8"
   ]
  },
  {
   "cell_type": "markdown",
   "metadata": {
    "slideshow": {
     "slide_type": "slide"
    }
   },
   "source": [
    "#### Compute steady state (from last lecture)"
   ]
  },
  {
   "cell_type": "code",
   "execution_count": 32,
   "metadata": {
    "slideshow": {
     "slide_type": "fragment"
    }
   },
   "outputs": [
    {
     "name": "stdout",
     "output_type": "stream",
     "text": [
      "True\n",
      "0.704815636211 0.704815636211\n"
     ]
    }
   ],
   "source": [
    "def cd(x, alpha, A):\n",
    "    \"\"\"\n",
    "    Evaluates the Cobb-Douglas function with coefficient alpha and shift parameter A, for two inputs (x)\n",
    "    \"\"\"\n",
    "    return A * x[0]**alpha * x[1]**(1 - alpha)\n",
    "\n",
    "def cd_diff(x, alpha, A):\n",
    "    \"\"\"\n",
    "    Evaluates the first derivatives (returned as a tuple) of the Cobb-Douglas function with coefficient alpha and shift parameter A, for two inputs (x)\n",
    "    \"\"\"\n",
    "    return (alpha * cd(x, alpha, A) / x[0], (1 - alpha) * cd(x, alpha, A) / x[1])\n",
    "\n",
    "def steady(x):\n",
    "    \"\"\"\n",
    "    Returns the vector-valued function consisting of the steady-state conditions \n",
    "    \"\"\"\n",
    "    y = np.zeros(2)\n",
    "    mp = cd_diff(x, alpha, A)\n",
    "    \n",
    "    y[0] = beta * (mp[0] + 1 - delta) - 1\n",
    "    y[1] = (cd(x, alpha, A) - delta * x[0])**(-nu) * mp[1] - B * x[1]**eta\n",
    "    \n",
    "    return y\n",
    "\n",
    "## solve for steady state\n",
    "x0 = np.array([1, 1])\n",
    "res = scipy.optimize.root(steady, x0,  tol = 1e-8, method = \"broyden1\")\n",
    "kss, hss = res.x \n",
    "\n",
    "print(res.success)\n",
    "print(kss, hss)\n"
   ]
  },
  {
   "cell_type": "markdown",
   "metadata": {
    "slideshow": {
     "slide_type": "slide"
    }
   },
   "source": [
    "#### Define Functions"
   ]
  },
  {
   "cell_type": "code",
   "execution_count": 33,
   "metadata": {
    "slideshow": {
     "slide_type": "fragment"
    }
   },
   "outputs": [],
   "source": [
    "def cd(x, y):\n",
    "    \"\"\"\n",
    "    Evaluates the Cobb-Douglas function with coefficient alpha and shift parameter A, for two inputs (x)\n",
    "    \"\"\"\n",
    "    return A * x**alpha * y**(1 - alpha)\n",
    "\n",
    "def u(c, h):\n",
    "    \"\"\"\n",
    "    Utility function\n",
    "    \"\"\"\n",
    "    return c**(1 - nu)/(1 - nu) - B * h**(1 + eta)/(1 + eta)\n",
    "\n",
    "def objective(x):\n",
    "    \"\"\"\n",
    "    Objective function: lifetime utility\n",
    "    \"\"\"\n",
    "    kp = np.exp( x[:int(len(x)/2)] )\n",
    "    h = np.exp( x[int(len(x)/2):] )\n",
    "\n",
    "    k = np.insert(kp[:T-1], 0, k0)\n",
    "    \n",
    "    return - ( beta**(np.array(range(T))) @ u( cd(k, h) + (1 - delta) * k - kp, h) \n",
    "              + (beta**T/(1 - beta)) *  u( cd(kp[-1], h[-1]) - delta * kp[-1], h[-1]) )"
   ]
  },
  {
   "cell_type": "markdown",
   "metadata": {
    "slideshow": {
     "slide_type": "slide"
    }
   },
   "source": [
    "#### Solve model and plot decision variables over time"
   ]
  },
  {
   "cell_type": "code",
   "execution_count": 34,
   "metadata": {
    "slideshow": {
     "slide_type": "fragment"
    }
   },
   "outputs": [
    {
     "name": "stdout",
     "output_type": "stream",
     "text": [
      "Optimization terminated successfully.\n",
      "True\n"
     ]
    }
   ],
   "source": [
    "T = 30\n",
    "\n",
    "## set initial guess    \n",
    "x0 = np.concatenate([np.log( kss ) * np.ones(T), np.log( hss ) * np.ones(T)])\n",
    "\n",
    "## solve model\n",
    "res = scipy.optimize.minimize(objective, x0, method = 'BFGS', tol = 1e-6)\n",
    "print(res.message)\n",
    "print(res.success)\n",
    "x = res.x\n",
    "kp2 = np.exp( x[:int(len(x)/2)] )\n",
    "h2 =  np.exp( x[int(len(x)/2):] )"
   ]
  },
  {
   "cell_type": "code",
   "execution_count": 35,
   "metadata": {
    "slideshow": {
     "slide_type": "slide"
    }
   },
   "outputs": [
    {
     "data": {
      "text/plain": [
       "<matplotlib.collections.LineCollection at 0xbd6b201940>"
      ]
     },
     "execution_count": 35,
     "metadata": {},
     "output_type": "execute_result"
    },
    {
     "data": {
      "image/png": "[encoded data removed]",
      "text/plain": [
       "<matplotlib.figure.Figure at 0xbd69ecf588>"
      ]
     },
     "metadata": {},
     "output_type": "display_data"
    }
   ],
   "source": [
    "fig, ax = plt.subplots(2,1)\n",
    "ax[0].plot(kp2)\n",
    "ax[1].plot(h2)\n",
    "ax[0].hlines(kss, 0, T)\n",
    "ax[1].hlines(hss, 0, T)"
   ]
  }
 ],
 "metadata": {
  "kernelspec": {
   "display_name": "Python 3",
   "language": "python",
   "name": "python3"
  },
  "language_info": {
   "codemirror_mode": {
    "name": "ipython",
    "version": 3
   },
   "file_extension": ".py",
   "mimetype": "text/x-python",
   "name": "python",
   "nbconvert_exporter": "python",
   "pygments_lexer": "ipython3",
   "version": "3.6.0"
  }
 },
 "nbformat": 4,
 "nbformat_minor": 1
}
