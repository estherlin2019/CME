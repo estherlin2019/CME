{
 "cells": [
  {
   "cell_type": "markdown",
   "metadata": {},
   "source": [
    "# Computational Methods in Economics\n",
    "\n",
    "## Exam Question"
   ]
  },
  {
   "cell_type": "markdown",
   "metadata": {},
   "source": [
    "*NOTE*: Please submit the answer to this question as a Jupyter notebook named **CME_*lastname*.ipynb** to schmitt@ifo.de by Wednesday, February 7, 4:00 pm"
   ]
  },
  {
   "cell_type": "code",
   "execution_count": 1,
   "metadata": {},
   "outputs": [],
   "source": [
    "import numpy as np\n",
    "import scipy.optimize\n",
    "\n",
    "import matplotlib.pyplot as plt\n",
    "%matplotlib inline\n",
    "import seaborn\n",
    "\n",
    "import numpy as np\n",
    "import scipy.optimize\n",
    "import scipy.linalg\n",
    "\n",
    "import funapprox_cme as fa"
   ]
  },
  {
   "cell_type": "markdown",
   "metadata": {},
   "source": [
    "Consider a version of the NGM in which the production function contains energy $m_t$ as a third production factor, in addition to capital and labor. Using energy causes emissions of a pollutant and hence a *pollution externality*: it contributes to a stock of the pollutant which negatively affects utility.\n",
    "\n",
    "Formally, per-period utility is given by:\n",
    "\n",
    "\\begin{equation}\n",
    "    u(c_t, h_t) = \\frac{c_t^{1-\\nu}}{1-\\nu} - B \\frac{h_t^{1+\\eta}}{1+\\eta} - 0.5 \\rho s_t^2\n",
    "\\end{equation}\n",
    "\n",
    "where $s_t$ denotes the pollution stock. $\\rho$ is a parameter that captures the degree of the disutility caused by  pollution.\n",
    "\n",
    "\n",
    "$s_t$ evolves according to the following law of motion:\n",
    "\n",
    "\\begin{equation}\n",
    "    s_{t + 1} = \\phi s_t + m_t\n",
    "\\end{equation}\n",
    "\n",
    "In other words, a share $(1 - \\phi)$ of the current pollution stock depreciates every period. The remaining share, together with the current energy use/emissions $m_t$, makes up the pollution stock in the subsequent period.\n",
    "\n",
    "\n",
    "Output is given by\n",
    "\n",
    "\\begin{equation}\n",
    "    y_t = f(k_t, h_{t}, m_t) = A k_t^\\alpha m_t^\\gamma h_{t}^{1-\\alpha-\\gamma}\n",
    "\\end{equation}\n",
    "\n",
    "\n",
    "The planner's problem reads\n",
    "\n",
    "\\begin{equation}\n",
    "    \\max_{\\left\\{c_t, h_t, k_{t+1}, s_{t+1}, m_t \\right\\}} \\sum^\\infty_{t = 0} \\beta^t \\left[\\frac{c_t^{1-\\nu}}{1-\\nu} - B \\frac{h_t^{1+\\eta}}{1+\\eta} - 0.5 \\rho s_t^2 \\right]\n",
    "\\end{equation}\n",
    "\n",
    "s.t. the resource constraint and the law of motion for $s_t$:\n",
    "\n",
    "\\begin{equation}\n",
    "    k_{t+1} + c_t = f(k_t, h_t, m_t) + (1 - \\delta) k_t \n",
    "\\end{equation}\n",
    "\\begin{equation}\n",
    "    s_{t + 1} = \\phi s_t + m_t\n",
    "\\end{equation}\n",
    "\n",
    "Note that the only cost of using energy is the disutility, i.e. there is no cost of energy use in terms of output or labor. As a side note, this model is not well-suited for representing climate change, but rather a more short-term production externality, e.g. air pollution.\n",
    "\n",
    "Use the dynamic programming algorithm from the lecture to solve the model for the parameter values given below. Derive approximations to the policy functions and simulate the economy for $T = 30$. Compare the resulting time series to their corresponding steady state values."
   ]
  },
  {
   "cell_type": "code",
   "execution_count": 2,
   "metadata": {},
   "outputs": [],
   "source": [
    "## utility\n",
    "beta = 0.9      # discount factor\n",
    "nu = 2       # risk-aversion coefficient for consumption\n",
    "eta = 1         # elasticity parameter for labor supply\n",
    "\n",
    "## production\n",
    "alpha = 0.25\n",
    "gamma = 0.05\n",
    "delta = 0.1\n",
    "A = 1\n",
    "B = 1\n",
    "\n",
    "## externality\n",
    "rho = 0.1\n",
    "phi = 0.5\n",
    "\n",
    "## initial values\n",
    "k0 = 0.4\n",
    "s0 = 0.01"
   ]
  },
  {
   "cell_type": "code",
   "execution_count": null,
   "metadata": {},
   "outputs": [],
   "source": []
  }
 ],
 "metadata": {
  "kernelspec": {
   "display_name": "Python 3",
   "language": "python",
   "name": "python3"
  },
  "language_info": {
   "codemirror_mode": {
    "name": "ipython",
    "version": 3
   },
   "file_extension": ".py",
   "mimetype": "text/x-python",
   "name": "python",
   "nbconvert_exporter": "python",
   "pygments_lexer": "ipython3",
   "version": "3.6.0"
  }
 },
 "nbformat": 4,
 "nbformat_minor": 2
}
